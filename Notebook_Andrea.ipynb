{
 "cells": [
  {
   "cell_type": "code",
   "execution_count": 1,
   "metadata": {},
   "outputs": [],
   "source": [
    "from scipy.sparse import *\n",
    "import numpy as np\n",
    "import pandas as pd\n",
    "import sys\n",
    "import math\n",
    "import recsys.recommenders as recommenders\n",
    "import recsys.utility as utils\n",
    "import recsys.builders as builders\n",
    "import imp\n",
    "import functools"
   ]
  },
  {
   "cell_type": "code",
   "execution_count": null,
   "metadata": {},
   "outputs": [],
   "source": [
    "utils = imp.reload(utils)\n",
    "builders = imp.reload(builders)\n",
    "recommenders = imp.reload(recommenders)"
   ]
  },
  {
   "cell_type": "code",
   "execution_count": 2,
   "metadata": {},
   "outputs": [
    {
     "name": "stdout",
     "output_type": "stream",
     "text": [
      "CPU times: user 1min 27s, sys: 538 ms, total: 1min 28s\n",
      "Wall time: 1min 28s\n"
     ]
    }
   ],
   "source": [
    "%%time\n",
    "dataset = utils.Dataset.load()\n",
    "dataset.split_holdout(test_size=1, min_playlist_tracks=13)\n",
    "dataset.normalize()\n",
    "dataset.build_urm()"
   ]
  },
  {
   "cell_type": "code",
   "execution_count": null,
   "metadata": {
    "collapsed": true
   },
   "outputs": [],
   "source": []
  },
  {
   "cell_type": "code",
   "execution_count": null,
   "metadata": {
    "collapsed": true
   },
   "outputs": [],
   "source": []
  },
  {
   "cell_type": "code",
   "execution_count": null,
   "metadata": {
    "collapsed": true
   },
   "outputs": [],
   "source": []
  },
  {
   "cell_type": "code",
   "execution_count": 3,
   "metadata": {
    "collapsed": true
   },
   "outputs": [],
   "source": [
    "def sum_reducer(x):\n",
    "    return functools.reduce(lambda a,b: a + b, x)"
   ]
  },
  {
   "cell_type": "markdown",
   "metadata": {},
   "source": [
    "# Compute predictions"
   ]
  },
  {
   "cell_type": "code",
   "execution_count": null,
   "metadata": {
    "collapsed": true
   },
   "outputs": [],
   "source": [
    "dataset = utils.Dataset.load()\n",
    "dataset.normalize()\n",
    "dataset.build_urm()"
   ]
  },
  {
   "cell_type": "code",
   "execution_count": 4,
   "metadata": {
    "collapsed": true
   },
   "outputs": [],
   "source": [
    "POW_urm_builder = builders.URMBuilder(norm=\"pow\", pow_base=500, pow_exp=0.15)\n",
    "\n",
    "TTM_dot_rec = recommenders.SimilarityRecommender('TTM_dot', 'TTM_dot', POW_urm_builder)\n",
    "TTM_cosine_rec = recommenders.SimilarityRecommender('TTM_cosine', 'TTM_cosine', POW_urm_builder)\n",
    "TTM_UUM_cosine_rec = recommenders.SimilarityRecommender('TTM_UUM_cosine', 'TTM_UUM_cosine', POW_urm_builder)\n",
    "SYM_ARTIST_rec = recommenders.SimilarityRecommender('SYM_ARTIST', 'SYM_ARTIST', POW_urm_builder)\n",
    "SYM_ALBUM_rec = recommenders.SimilarityRecommender('SYM_ALBUM', 'SYM_ALBUM', POW_urm_builder)\n",
    "SYM_OWNER_rec = recommenders.SimilarityRecommender('SYM_OWNER', 'SYM_OWNER', POW_urm_builder)\n",
    "BPR_rec = recommenders.BPRRecommender(name='bpr', urm_builder=POW_urm_builder)"
   ]
  },
  {
   "cell_type": "code",
   "execution_count": 5,
   "metadata": {
    "collapsed": true
   },
   "outputs": [],
   "source": [
    "recoms = [TTM_dot_rec, TTM_cosine_rec, TTM_UUM_cosine_rec, SYM_ARTIST_rec, SYM_ALBUM_rec, SYM_OWNER_rec, BPR_rec]"
   ]
  },
  {
   "cell_type": "code",
   "execution_count": 6,
   "metadata": {},
   "outputs": [
    {
     "name": "stdout",
     "output_type": "stream",
     "text": [
      "10000\n",
      "20000\n",
      "30000\n",
      "40000\n",
      "50000\n",
      "60000\n",
      "70000\n",
      "80000\n",
      "90000\n",
      "100000\n",
      "10000\n",
      "20000\n",
      "30000\n",
      "40000\n",
      "50000\n",
      "60000\n",
      "70000\n",
      "80000\n",
      "90000\n",
      "100000\n",
      "10000\n",
      "20000\n",
      "30000\n",
      "40000\n",
      "50000\n",
      "60000\n",
      "10000\n",
      "20000\n",
      "30000\n",
      "40000\n",
      "50000\n",
      "60000\n",
      "10000\n",
      "20000\n",
      "30000\n",
      "40000\n",
      "50000\n",
      "60000\n",
      "70000\n",
      "80000\n",
      "90000\n",
      "100000\n",
      "10000\n",
      "20000\n",
      "30000\n",
      "40000\n",
      "50000\n",
      "60000\n",
      "70000\n",
      "80000\n",
      "90000\n",
      "100000\n",
      "Preparing for compute_similarity\n",
      "Calling compute_similarity\n",
      "Calling BPRSLIM\n",
      "Loading similarity\n"
     ]
    }
   ],
   "source": [
    "for r in recoms:\n",
    "    r.fit(dataset)"
   ]
  },
  {
   "cell_type": "markdown",
   "metadata": {},
   "source": [
    "# Try ensemble with BPR"
   ]
  },
  {
   "cell_type": "code",
   "execution_count": 7,
   "metadata": {},
   "outputs": [
    {
     "name": "stdout",
     "output_type": "stream",
     "text": [
      "Computing predictions for TTM_dot\n",
      "TTM_dot: 0-1000 --> 0.06718000000000014\n",
      "TTM_dot: 1000-2000 --> 0.06191333333333339\n",
      "TTM_dot: 2000-3000 --> 0.060122222222222084\n",
      "TTM_dot: 3000-4000 --> 0.05906999999999971\n",
      "TTM_dot: 4000-5000 --> 0.05964533333333312\n",
      "TTM_dot: 5000-6000 --> 0.06070444444444438\n",
      "TTM_dot: 6000-6658 --> 0.06142485230800042\n",
      "Computing predictions for TTM_cosine\n",
      "TTM_cosine: 0-1000 --> 0.06833666666666684\n",
      "TTM_cosine: 1000-2000 --> 0.06280166666666669\n",
      "TTM_cosine: 2000-3000 --> 0.06059666666666641\n",
      "TTM_cosine: 3000-4000 --> 0.06056333333333292\n",
      "TTM_cosine: 4000-5000 --> 0.06062999999999986\n",
      "TTM_cosine: 5000-6000 --> 0.06159333333333334\n",
      "TTM_cosine: 6000-6658 --> 0.06204415740462613\n",
      "Computing predictions for TTM_UUM_cosine\n",
      "TTM_UUM_cosine: 0-1000 --> 0.0634133333333335\n",
      "TTM_UUM_cosine: 1000-2000 --> 0.0587716666666667\n",
      "TTM_UUM_cosine: 2000-3000 --> 0.05789666666666645\n",
      "TTM_UUM_cosine: 3000-4000 --> 0.05797083333333295\n",
      "TTM_UUM_cosine: 4000-5000 --> 0.058906666666666295\n",
      "TTM_UUM_cosine: 5000-6000 --> 0.0606099999999998\n",
      "TTM_UUM_cosine: 6000-6658 --> 0.0609377190347451\n",
      "Computing predictions for SYM_ARTIST\n",
      "SYM_ARTIST: 0-1000 --> 0.06153333333333344\n",
      "SYM_ARTIST: 1000-2000 --> 0.05679000000000005\n",
      "SYM_ARTIST: 2000-3000 --> 0.057316666666666405\n",
      "SYM_ARTIST: 3000-4000 --> 0.05868041666666625\n",
      "SYM_ARTIST: 4000-5000 --> 0.059040999999999656\n",
      "SYM_ARTIST: 5000-6000 --> 0.05973138888888882\n",
      "SYM_ARTIST: 6000-6658 --> 0.05996971062381096\n",
      "Computing predictions for SYM_ALBUM\n",
      "SYM_ALBUM: 0-1000 --> 0.06662916666666674\n",
      "SYM_ALBUM: 1000-2000 --> 0.06355194444444447\n",
      "SYM_ALBUM: 2000-3000 --> 0.06066453703703678\n",
      "SYM_ALBUM: 3000-4000 --> 0.06256194444444402\n",
      "SYM_ALBUM: 4000-5000 --> 0.06204966666666639\n",
      "SYM_ALBUM: 5000-6000 --> 0.06316453703703691\n",
      "SYM_ALBUM: 6000-6658 --> 0.0628025182737558\n",
      "Computing predictions for SYM_OWNER\n",
      "SYM_OWNER: 0-1000 --> 0.04558000000000006\n",
      "SYM_OWNER: 1000-2000 --> 0.04262666666666675\n",
      "SYM_OWNER: 2000-3000 --> 0.04326111111111107\n",
      "SYM_OWNER: 3000-4000 --> 0.043211666666666475\n",
      "SYM_OWNER: 4000-5000 --> 0.04470866666666632\n",
      "SYM_OWNER: 5000-6000 --> 0.04555777777777743\n",
      "SYM_OWNER: 6000-6658 --> 0.045959747671973326\n",
      "Computing predictions for bpr\n",
      "bpr: 0-1000 --> 0.04876666666666669\n",
      "bpr: 1000-2000 --> 0.0458616666666667\n",
      "bpr: 2000-3000 --> 0.04477999999999998\n",
      "bpr: 3000-4000 --> 0.04468333333333315\n",
      "bpr: 4000-5000 --> 0.04485066666666631\n",
      "bpr: 5000-6000 --> 0.04625722222222187\n",
      "bpr: 6000-6658 --> 0.045996795834584714\n",
      "ensemble: 0-1000 --> 0.08844666666666678\n",
      "ensemble: 1000-2000 --> 0.08179833333333314\n",
      "ensemble: 2000-3000 --> 0.08126555555555509\n",
      "ensemble: 3000-4000 --> 0.08095083333333318\n",
      "ensemble: 4000-5000 --> 0.0811426666666667\n",
      "ensemble: 5000-6000 --> 0.08234222222222232\n",
      "ensemble: 6000-6658 --> 0.08264243516571583\n"
     ]
    },
    {
     "data": {
      "text/plain": [
       "0.08264243516571583"
      ]
     },
     "execution_count": 7,
     "metadata": {},
     "output_type": "execute_result"
    }
   ],
   "source": [
    "ens_rec = recommenders.EnsembleRecommender('ensemble', recommenders=recoms, reducer=sum_reducer)\n",
    "ens_rec.fit(dataset)\n",
    "ens_rec.evaluate()"
   ]
  },
  {
   "cell_type": "markdown",
   "metadata": {},
   "source": [
    "# Try ensemble without BPR"
   ]
  },
  {
   "cell_type": "code",
   "execution_count": 8,
   "metadata": {},
   "outputs": [
    {
     "name": "stdout",
     "output_type": "stream",
     "text": [
      "Using cached predictions for TTM_dot\n",
      "Using cached predictions for TTM_cosine\n",
      "Using cached predictions for TTM_UUM_cosine\n",
      "Using cached predictions for SYM_ARTIST\n",
      "Using cached predictions for SYM_ALBUM\n",
      "Using cached predictions for SYM_OWNER\n",
      "ens2: 0-1000 --> 0.0893800000000001\n",
      "ens2: 1000-2000 --> 0.08263666666666644\n",
      "ens2: 2000-3000 --> 0.08259222222222178\n",
      "ens2: 3000-4000 --> 0.0825324999999998\n",
      "ens2: 4000-5000 --> 0.08320400000000003\n",
      "ens2: 5000-6000 --> 0.08380666666666682\n",
      "ens2: 6000-6658 --> 0.08403374386702757\n"
     ]
    },
    {
     "data": {
      "text/plain": [
       "0.08403374386702757"
      ]
     },
     "execution_count": 8,
     "metadata": {},
     "output_type": "execute_result"
    }
   ],
   "source": [
    "ens2 = recommenders.EnsembleRecommender(name=\"ens2\", recommenders=[TTM_dot_rec, TTM_cosine_rec, TTM_UUM_cosine_rec, SYM_ARTIST_rec, SYM_ALBUM_rec, SYM_OWNER_rec], reducer=sum_reducer)\n",
    "ens2.fit(dataset)\n",
    "ens2.evaluate()\n"
   ]
  },
  {
   "cell_type": "code",
   "execution_count": null,
   "metadata": {
    "collapsed": true
   },
   "outputs": [],
   "source": []
  },
  {
   "cell_type": "code",
   "execution_count": null,
   "metadata": {
    "collapsed": true
   },
   "outputs": [],
   "source": []
  },
  {
   "cell_type": "code",
   "execution_count": null,
   "metadata": {
    "collapsed": true
   },
   "outputs": [],
   "source": []
  },
  {
   "cell_type": "code",
   "execution_count": null,
   "metadata": {
    "collapsed": true
   },
   "outputs": [],
   "source": [
    "predictions_df = utils.from_prediction_matrix_to_dataframe(ens_rec.predictions, dataset, keep_best=5, map_tracks=True)\n",
    "predictions_df['playlist_id'] = predictions_df['playlist_id_tmp']\n",
    "predictions_df = predictions_df.drop(\"playlist_id_tmp\", axis=1)"
   ]
  },
  {
   "cell_type": "code",
   "execution_count": null,
   "metadata": {},
   "outputs": [],
   "source": [
    "predictions_df['track_ids'] = predictions_df['track_ids'].apply(lambda x : ' '.join(map(str, x)))\n",
    "predictions_df.to_csv('results_ensemble_andrea.csv', index=False)"
   ]
  },
  {
   "cell_type": "code",
   "execution_count": null,
   "metadata": {
    "collapsed": true
   },
   "outputs": [],
   "source": []
  }
 ],
 "metadata": {
  "kernelspec": {
   "display_name": "Python 3",
   "language": "python",
   "name": "python3"
  },
  "language_info": {
   "codemirror_mode": {
    "name": "ipython",
    "version": 3
   },
   "file_extension": ".py",
   "mimetype": "text/x-python",
   "name": "python",
   "nbconvert_exporter": "python",
   "pygments_lexer": "ipython3",
   "version": "3.5.3"
  }
 },
 "nbformat": 4,
 "nbformat_minor": 2
}
