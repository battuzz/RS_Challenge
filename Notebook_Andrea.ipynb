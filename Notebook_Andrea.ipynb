{
 "cells": [
  {
   "cell_type": "code",
   "execution_count": 1,
   "metadata": {
    "collapsed": true
   },
   "outputs": [],
   "source": [
    "from scipy.sparse import *\n",
    "import numpy as np\n",
    "import pandas as pd\n",
    "import sys\n",
    "import math\n",
    "import recsys.recommenders as recommenders\n",
    "import recsys.utility as utils\n",
    "import recsys.builders as builders\n",
    "import imp\n",
    "import functools"
   ]
  },
  {
   "cell_type": "code",
   "execution_count": 2,
   "metadata": {
    "collapsed": true
   },
   "outputs": [],
   "source": [
    "utils = imp.reload(utils)\n",
    "builders = imp.reload(builders)\n",
    "recommenders = imp.reload(recommenders)"
   ]
  },
  {
   "cell_type": "code",
   "execution_count": 3,
   "metadata": {},
   "outputs": [
    {
     "name": "stdout",
     "output_type": "stream",
     "text": [
      "CPU times: user 1min 25s, sys: 535 ms, total: 1min 26s\n",
      "Wall time: 1min 26s\n"
     ]
    }
   ],
   "source": [
    "%%time\n",
    "dataset = utils.Dataset.load()\n",
    "dataset.split_holdout(test_size=1, min_playlist_tracks=13)\n",
    "dataset.normalize()\n",
    "dataset.build_urm()"
   ]
  },
  {
   "cell_type": "code",
   "execution_count": 4,
   "metadata": {
    "collapsed": true
   },
   "outputs": [],
   "source": [
    "class WeightedAverage(object):\n",
    "    def __init__(self, weights):\n",
    "        self.weights = weights\n",
    "    def __call__(self, predictions):\n",
    "        res = csr_matrix(predictions[0].shape)\n",
    "        \n",
    "        for w,p in zip(self.weights, predictions):\n",
    "            res += w*p\n",
    "        \n",
    "        return res"
   ]
  },
  {
   "cell_type": "code",
   "execution_count": 5,
   "metadata": {
    "collapsed": true
   },
   "outputs": [],
   "source": [
    "class WeightedAverageExp(object):\n",
    "    def __init__(self, weights, exp_weights):\n",
    "        self.weights = weights\n",
    "        self.exp_weights = exp_weights\n",
    "        \n",
    "    def __call__(self, predictions):\n",
    "        res = csr_matrix(predictions[0].shape)\n",
    "        \n",
    "        for w,p,e in zip(self.weights, predictions, self.exp_weights):\n",
    "            p_copy = p.copy()\n",
    "            p_copy.data = np.power(p_copy.data, e)\n",
    "            res += w*p_copy\n",
    "        \n",
    "        return res"
   ]
  },
  {
   "cell_type": "code",
   "execution_count": 6,
   "metadata": {
    "collapsed": true
   },
   "outputs": [],
   "source": [
    "def sum_reducer(x):\n",
    "    return functools.reduce(lambda a,b: a + b, x)"
   ]
  },
  {
   "cell_type": "markdown",
   "metadata": {},
   "source": [
    "# Compute predictions"
   ]
  },
  {
   "cell_type": "code",
   "execution_count": 7,
   "metadata": {
    "collapsed": true
   },
   "outputs": [],
   "source": [
    "dataset = utils.Dataset.load()\n",
    "dataset.split_holdout(test_size=1, min_playlist_tracks=13)\n",
    "dataset.normalize()\n",
    "dataset.build_urm()"
   ]
  },
  {
   "cell_type": "code",
   "execution_count": 8,
   "metadata": {
    "collapsed": true
   },
   "outputs": [],
   "source": [
    "POW_urm_builder = builders.URMBuilder(norm=\"pow\", pow_base=500, pow_exp=0.15)\n",
    "\n",
    "TTM_dot_rec = recommenders.SimilarityRecommender('TTM_dot', 'TTM_dot', POW_urm_builder)\n",
    "TTM_cosine_rec = recommenders.SimilarityRecommender('TTM_cosine', 'TTM_cosine', POW_urm_builder)\n",
    "TTM_UUM_cosine_rec = recommenders.SimilarityRecommender('TTM_UUM_cosine', 'TTM_UUM_cosine', POW_urm_builder)\n",
    "SYM_ARTIST_rec = recommenders.SimilarityRecommender('SYM_ARTIST', 'SYM_ARTIST', POW_urm_builder)\n",
    "SYM_ALBUM_rec = recommenders.SimilarityRecommender('SYM_ALBUM', 'SYM_ALBUM', POW_urm_builder)\n",
    "SYM_OWNER_rec = recommenders.SimilarityRecommender('SYM_OWNER', 'SYM_OWNER', POW_urm_builder)\n",
    "BPR_rec = recommenders.BPRRecommender(name='bpr', urm_builder=POW_urm_builder)"
   ]
  },
  {
   "cell_type": "code",
   "execution_count": 9,
   "metadata": {
    "collapsed": true
   },
   "outputs": [],
   "source": [
    "recoms = [TTM_dot_rec, TTM_cosine_rec, TTM_UUM_cosine_rec, SYM_ARTIST_rec, SYM_ALBUM_rec, SYM_OWNER_rec]"
   ]
  },
  {
   "cell_type": "code",
   "execution_count": 10,
   "metadata": {},
   "outputs": [
    {
     "name": "stdout",
     "output_type": "stream",
     "text": [
      "10000\n",
      "20000\n",
      "30000\n",
      "40000\n",
      "50000\n",
      "60000\n",
      "70000\n",
      "80000\n",
      "90000\n",
      "100000\n",
      "10000\n",
      "20000\n",
      "30000\n",
      "40000\n",
      "50000\n",
      "60000\n",
      "70000\n",
      "80000\n",
      "90000\n",
      "100000\n",
      "10000\n",
      "20000\n",
      "30000\n",
      "40000\n",
      "50000\n",
      "60000\n",
      "10000\n",
      "20000\n",
      "30000\n",
      "40000\n",
      "50000\n",
      "60000\n",
      "10000\n",
      "20000\n",
      "30000\n",
      "40000\n",
      "50000\n",
      "60000\n",
      "70000\n",
      "80000\n",
      "90000\n",
      "100000\n",
      "10000\n",
      "20000\n",
      "30000\n",
      "40000\n",
      "50000\n",
      "60000\n",
      "70000\n",
      "80000\n",
      "90000\n",
      "100000\n"
     ]
    }
   ],
   "source": [
    "for r in recoms:\n",
    "    r.fit(dataset)"
   ]
  },
  {
   "cell_type": "markdown",
   "metadata": {},
   "source": [
    "# Try ensemble with BPR"
   ]
  },
  {
   "cell_type": "code",
   "execution_count": 11,
   "metadata": {},
   "outputs": [
    {
     "name": "stdout",
     "output_type": "stream",
     "text": [
      "TTM_dot: 0-1000 --> 0.05978000000000015\n",
      "TTM_dot: 1000-2000 --> 0.06058333333333336\n",
      "TTM_dot: 2000-3000 --> 0.06037777777777753\n",
      "TTM_dot: 3000-4000 --> 0.06004083333333293\n",
      "TTM_dot: 4000-5000 --> 0.06030933333333308\n",
      "TTM_dot: 5000-6000 --> 0.05939055555555548\n",
      "TTM_dot: 6000-6658 --> 0.06012766596575551\n",
      "TTM_cosine: 0-1000 --> 0.06089666666666679\n",
      "TTM_cosine: 1000-2000 --> 0.061430000000000075\n",
      "TTM_cosine: 2000-3000 --> 0.0616311111111109\n",
      "TTM_cosine: 3000-4000 --> 0.061075833333332955\n",
      "TTM_cosine: 4000-5000 --> 0.06152533333333314\n",
      "TTM_cosine: 5000-6000 --> 0.06063666666666659\n",
      "TTM_cosine: 6000-6658 --> 0.06110343446480425\n",
      "TTM_UUM_cosine: 0-1000 --> 0.06227666666666679\n",
      "TTM_UUM_cosine: 1000-2000 --> 0.06058166666666674\n",
      "TTM_UUM_cosine: 2000-3000 --> 0.05974999999999973\n",
      "TTM_UUM_cosine: 3000-4000 --> 0.06073249999999957\n",
      "TTM_UUM_cosine: 4000-5000 --> 0.06057133333333306\n",
      "TTM_UUM_cosine: 5000-6000 --> 0.05961888888888877\n",
      "TTM_UUM_cosine: 6000-6658 --> 0.06034995494142381\n",
      "SYM_ARTIST: 0-1000 --> 0.05632333333333344\n",
      "SYM_ARTIST: 1000-2000 --> 0.061910833333333345\n",
      "SYM_ARTIST: 2000-3000 --> 0.0606127777777775\n",
      "SYM_ARTIST: 3000-4000 --> 0.058657083333332964\n",
      "SYM_ARTIST: 4000-5000 --> 0.059639999999999735\n",
      "SYM_ARTIST: 5000-6000 --> 0.059202916666666494\n",
      "SYM_ARTIST: 6000-6658 --> 0.05938607689996984\n",
      "SYM_ALBUM: 0-1000 --> 0.0666386111111112\n",
      "SYM_ALBUM: 1000-2000 --> 0.06622472222222214\n",
      "SYM_ALBUM: 2000-3000 --> 0.06304768518518487\n",
      "SYM_ALBUM: 3000-4000 --> 0.06355777777777738\n",
      "SYM_ALBUM: 4000-5000 --> 0.06480927777777747\n",
      "SYM_ALBUM: 5000-6000 --> 0.06345953703703693\n",
      "SYM_ALBUM: 6000-6658 --> 0.06422157137612225\n",
      "SYM_OWNER: 0-1000 --> 0.0469200000000001\n",
      "SYM_OWNER: 1000-2000 --> 0.046153333333333414\n",
      "SYM_OWNER: 2000-3000 --> 0.046388888888888875\n",
      "SYM_OWNER: 3000-4000 --> 0.04719166666666645\n",
      "SYM_OWNER: 4000-5000 --> 0.04643933333333299\n",
      "SYM_OWNER: 5000-6000 --> 0.04550999999999967\n",
      "SYM_OWNER: 6000-6658 --> 0.045590767998397695\n"
     ]
    }
   ],
   "source": [
    "recoms = [recommenders.SimilarityRecommender(name=r.name, similarity=r.similarity, urm_builder=r.urm_builder) for r in recoms]\n",
    "for r in recoms:\n",
    "    r.fit(dataset)\n",
    "    r.evaluate()"
   ]
  },
  {
   "cell_type": "code",
   "execution_count": 12,
   "metadata": {},
   "outputs": [
    {
     "name": "stdout",
     "output_type": "stream",
     "text": [
      "Using cached predictions for TTM_dot\n",
      "Using cached predictions for TTM_cosine\n",
      "Using cached predictions for TTM_UUM_cosine\n",
      "Using cached predictions for SYM_ARTIST\n",
      "Using cached predictions for SYM_ALBUM\n",
      "Using cached predictions for SYM_OWNER\n",
      "ensemble: 0-1000 --> 0.08757000000000006\n",
      "ensemble: 1000-2000 --> 0.08715333333333314\n",
      "ensemble: 2000-3000 --> 0.08458222222222171\n",
      "ensemble: 3000-4000 --> 0.08369749999999997\n",
      "ensemble: 4000-5000 --> 0.08357600000000015\n",
      "ensemble: 5000-6000 --> 0.08253722222222248\n",
      "ensemble: 6000-6658 --> 0.08314859317112282\n"
     ]
    },
    {
     "data": {
      "text/plain": [
       "0.08314859317112282"
      ]
     },
     "execution_count": 12,
     "metadata": {},
     "output_type": "execute_result"
    }
   ],
   "source": [
    "ens_rec = recommenders.EnsembleRecommender('ensemble', recommenders=recoms, reducer=sum_reducer)\n",
    "ens_rec.fit(dataset)\n",
    "ens_rec.evaluate()"
   ]
  },
  {
   "cell_type": "code",
   "execution_count": 13,
   "metadata": {},
   "outputs": [
    {
     "name": "stdout",
     "output_type": "stream",
     "text": [
      "Using cached predictions for TTM_dot\n",
      "Using cached predictions for TTM_cosine\n",
      "Using cached predictions for TTM_UUM_cosine\n",
      "Using cached predictions for SYM_ARTIST\n",
      "Using cached predictions for SYM_ALBUM\n",
      "Using cached predictions for SYM_OWNER\n",
      "ensemble: 0-1000 --> 0.08709666666666668\n",
      "ensemble: 1000-2000 --> 0.0872099999999997\n",
      "ensemble: 2000-3000 --> 0.08450555555555501\n",
      "ensemble: 3000-4000 --> 0.08363999999999999\n",
      "ensemble: 4000-5000 --> 0.08367266666666688\n",
      "ensemble: 5000-6000 --> 0.0826838888888892\n",
      "ensemble: 6000-6658 --> 0.08316962050665913\n"
     ]
    },
    {
     "data": {
      "text/plain": [
       "0.08316962050665913"
      ]
     },
     "execution_count": 13,
     "metadata": {},
     "output_type": "execute_result"
    }
   ],
   "source": [
    "ens_rec = recommenders.EnsembleRecommender('ensemble', recommenders=recoms, reducer=WeightedAverage([1, 1, 1, 1.45, 1.2, 1]))\n",
    "ens_rec.fit(dataset)\n",
    "ens_rec.evaluate()"
   ]
  },
  {
   "cell_type": "code",
   "execution_count": 14,
   "metadata": {},
   "outputs": [
    {
     "name": "stdout",
     "output_type": "stream",
     "text": [
      "Using cached predictions for TTM_dot\n",
      "Using cached predictions for TTM_cosine\n",
      "Using cached predictions for TTM_UUM_cosine\n",
      "Using cached predictions for SYM_ARTIST\n",
      "Using cached predictions for SYM_ALBUM\n",
      "Using cached predictions for SYM_OWNER\n",
      "ensemble: 0-1000 --> 0.08705000000000003\n",
      "ensemble: 1000-2000 --> 0.08703833333333304\n",
      "ensemble: 2000-3000 --> 0.0844044444444439\n",
      "ensemble: 3000-4000 --> 0.08354249999999995\n",
      "ensemble: 4000-5000 --> 0.08353200000000016\n",
      "ensemble: 5000-6000 --> 0.08258722222222245\n",
      "ensemble: 6000-6658 --> 0.08306398317813189\n"
     ]
    },
    {
     "data": {
      "text/plain": [
       "0.08306398317813189"
      ]
     },
     "execution_count": 14,
     "metadata": {},
     "output_type": "execute_result"
    }
   ],
   "source": [
    "ens_rec = recommenders.EnsembleRecommender('ensemble', recommenders=recoms, reducer=WeightedAverage([1.1, 1, 1, 1.45, 1.2, 1]))\n",
    "ens_rec.fit(dataset)\n",
    "ens_rec.evaluate()"
   ]
  },
  {
   "cell_type": "code",
   "execution_count": 15,
   "metadata": {},
   "outputs": [
    {
     "name": "stdout",
     "output_type": "stream",
     "text": [
      "Using cached predictions for TTM_dot\n",
      "Using cached predictions for TTM_cosine\n",
      "Using cached predictions for TTM_UUM_cosine\n",
      "Using cached predictions for SYM_ARTIST\n",
      "Using cached predictions for SYM_ALBUM\n",
      "Using cached predictions for SYM_OWNER\n",
      "ensemble: 0-1000 --> 0.08745333333333336\n",
      "ensemble: 1000-2000 --> 0.08698499999999973\n",
      "ensemble: 2000-3000 --> 0.08437999999999951\n",
      "ensemble: 3000-4000 --> 0.08366333333333333\n",
      "ensemble: 4000-5000 --> 0.08359200000000017\n",
      "ensemble: 5000-6000 --> 0.08273888888888913\n",
      "ensemble: 6000-6658 --> 0.0832221888454995\n"
     ]
    },
    {
     "data": {
      "text/plain": [
       "0.0832221888454995"
      ]
     },
     "execution_count": 15,
     "metadata": {},
     "output_type": "execute_result"
    }
   ],
   "source": [
    "ens_rec = recommenders.EnsembleRecommender('ensemble', recommenders=recoms, reducer=WeightedAverage([1.1, 1, 1, 1.45, 1.2, 1.2]))\n",
    "ens_rec.fit(dataset)\n",
    "ens_rec.evaluate()"
   ]
  },
  {
   "cell_type": "code",
   "execution_count": 16,
   "metadata": {},
   "outputs": [
    {
     "name": "stdout",
     "output_type": "stream",
     "text": [
      "Using cached predictions for TTM_dot\n",
      "Using cached predictions for TTM_cosine\n",
      "Using cached predictions for TTM_UUM_cosine\n",
      "Using cached predictions for SYM_ARTIST\n",
      "Using cached predictions for SYM_ALBUM\n",
      "Using cached predictions for SYM_OWNER\n",
      "ensemble: 0-1000 --> 0.08762666666666669\n",
      "ensemble: 1000-2000 --> 0.08713999999999973\n",
      "ensemble: 2000-3000 --> 0.08452888888888838\n",
      "ensemble: 3000-4000 --> 0.08362166666666661\n",
      "ensemble: 4000-5000 --> 0.08352666666666678\n",
      "ensemble: 5000-6000 --> 0.08267000000000022\n",
      "ensemble: 6000-6658 --> 0.08321868428957682\n"
     ]
    },
    {
     "data": {
      "text/plain": [
       "0.08321868428957682"
      ]
     },
     "execution_count": 16,
     "metadata": {},
     "output_type": "execute_result"
    }
   ],
   "source": [
    "ens_rec = recommenders.EnsembleRecommender('ensemble', recommenders=recoms, reducer=WeightedAverage([1.1, 1, 1.1, 1.45, 1.2, 1.2]))\n",
    "ens_rec.fit(dataset)\n",
    "ens_rec.evaluate()"
   ]
  },
  {
   "cell_type": "code",
   "execution_count": 17,
   "metadata": {},
   "outputs": [
    {
     "name": "stdout",
     "output_type": "stream",
     "text": [
      "Using cached predictions for TTM_dot\n",
      "Using cached predictions for TTM_cosine\n",
      "Using cached predictions for TTM_UUM_cosine\n",
      "Using cached predictions for SYM_ARTIST\n",
      "Using cached predictions for SYM_ALBUM\n",
      "Using cached predictions for SYM_OWNER\n",
      "ensemble: 0-1000 --> 0.0877566666666667\n",
      "ensemble: 1000-2000 --> 0.08732499999999974\n",
      "ensemble: 2000-3000 --> 0.08452666666666614\n",
      "ensemble: 3000-4000 --> 0.08376583333333325\n",
      "ensemble: 4000-5000 --> 0.08362666666666677\n",
      "ensemble: 5000-6000 --> 0.08278333333333353\n",
      "ensemble: 6000-6658 --> 0.08330629818764433\n"
     ]
    },
    {
     "data": {
      "text/plain": [
       "0.08330629818764433"
      ]
     },
     "execution_count": 17,
     "metadata": {},
     "output_type": "execute_result"
    }
   ],
   "source": [
    "ens_rec = recommenders.EnsembleRecommender('ensemble', recommenders=recoms, reducer=WeightedAverage([1.1, 1, 1.1, 1.45, 1.2, 1.3]))\n",
    "ens_rec.fit(dataset)\n",
    "ens_rec.evaluate()"
   ]
  },
  {
   "cell_type": "code",
   "execution_count": null,
   "metadata": {
    "collapsed": true
   },
   "outputs": [],
   "source": []
  },
  {
   "cell_type": "code",
   "execution_count": null,
   "metadata": {
    "collapsed": true
   },
   "outputs": [],
   "source": []
  },
  {
   "cell_type": "markdown",
   "metadata": {},
   "source": [
    "# Evaluate prediction"
   ]
  },
  {
   "cell_type": "code",
   "execution_count": 18,
   "metadata": {
    "collapsed": true
   },
   "outputs": [],
   "source": [
    "dataset = utils.Dataset.load()\n",
    "dataset.normalize()\n",
    "dataset.build_urm()"
   ]
  },
  {
   "cell_type": "code",
   "execution_count": 19,
   "metadata": {
    "collapsed": true
   },
   "outputs": [],
   "source": [
    "POW_urm_builder = builders.URMBuilder(norm=\"pow\", pow_base=500, pow_exp=0.15)\n",
    "\n",
    "TTM_dot_rec = recommenders.SimilarityRecommender('TTM_dot', 'TTM_dot', POW_urm_builder)\n",
    "TTM_cosine_rec = recommenders.SimilarityRecommender('TTM_cosine', 'TTM_cosine', POW_urm_builder)\n",
    "TTM_UUM_cosine_rec = recommenders.SimilarityRecommender('TTM_UUM_cosine', 'TTM_UUM_cosine', POW_urm_builder)\n",
    "SYM_ARTIST_rec = recommenders.SimilarityRecommender('SYM_ARTIST', 'SYM_ARTIST', POW_urm_builder)\n",
    "SYM_ALBUM_rec = recommenders.SimilarityRecommender('SYM_ALBUM', 'SYM_ALBUM', POW_urm_builder)\n",
    "SYM_OWNER_rec = recommenders.SimilarityRecommender('SYM_OWNER', 'SYM_OWNER', POW_urm_builder)\n",
    "BPR_rec = recommenders.BPRRecommender(name='bpr', urm_builder=POW_urm_builder)"
   ]
  },
  {
   "cell_type": "code",
   "execution_count": 20,
   "metadata": {
    "collapsed": true
   },
   "outputs": [],
   "source": [
    "recoms = [TTM_dot_rec, TTM_cosine_rec, TTM_UUM_cosine_rec, SYM_ARTIST_rec, SYM_ALBUM_rec, SYM_OWNER_rec]"
   ]
  },
  {
   "cell_type": "code",
   "execution_count": 21,
   "metadata": {},
   "outputs": [
    {
     "name": "stdout",
     "output_type": "stream",
     "text": [
      "Evaluating TTM_dot\n",
      "10000\n",
      "20000\n",
      "30000\n",
      "40000\n",
      "50000\n",
      "60000\n",
      "70000\n",
      "80000\n",
      "90000\n",
      "100000\n",
      "Evaluating TTM_cosine\n",
      "10000\n",
      "20000\n",
      "30000\n",
      "40000\n",
      "50000\n",
      "60000\n",
      "70000\n",
      "80000\n",
      "90000\n",
      "100000\n",
      "Evaluating TTM_UUM_cosine\n",
      "10000\n",
      "20000\n",
      "30000\n",
      "40000\n",
      "50000\n",
      "60000\n",
      "10000\n",
      "20000\n",
      "30000\n",
      "40000\n",
      "50000\n",
      "60000\n",
      "10000\n",
      "20000\n",
      "30000\n",
      "40000\n",
      "50000\n",
      "60000\n",
      "70000\n",
      "80000\n",
      "90000\n",
      "100000\n",
      "Evaluating SYM_ARTIST\n",
      "Evaluating SYM_ALBUM\n",
      "Evaluating SYM_OWNER\n",
      "10000\n",
      "20000\n",
      "30000\n",
      "40000\n",
      "50000\n",
      "60000\n",
      "70000\n",
      "80000\n",
      "90000\n",
      "100000\n"
     ]
    }
   ],
   "source": [
    "for r in recoms:\n",
    "    print(\"Evaluating {}\".format(r))\n",
    "    r.fit(dataset)\n",
    "    r.evaluate()"
   ]
  },
  {
   "cell_type": "code",
   "execution_count": 22,
   "metadata": {},
   "outputs": [
    {
     "name": "stdout",
     "output_type": "stream",
     "text": [
      "Using cached predictions for TTM_dot\n",
      "Using cached predictions for TTM_cosine\n",
      "Using cached predictions for TTM_UUM_cosine\n",
      "Using cached predictions for SYM_ARTIST\n",
      "Using cached predictions for SYM_ALBUM\n",
      "Using cached predictions for SYM_OWNER\n"
     ]
    },
    {
     "data": {
      "text/plain": [
       "0"
      ]
     },
     "execution_count": 22,
     "metadata": {},
     "output_type": "execute_result"
    }
   ],
   "source": [
    "ens_rec = recommenders.EnsembleRecommender('ensemble', recommenders=recoms, reducer=WeightedAverage([1.1, 1, 1.1, 1.45, 1.2, 1.3]))\n",
    "ens_rec.fit(dataset)\n",
    "ens_rec.evaluate()"
   ]
  },
  {
   "cell_type": "code",
   "execution_count": 23,
   "metadata": {
    "collapsed": true
   },
   "outputs": [],
   "source": [
    "predictions_df = utils.from_prediction_matrix_to_dataframe(ens_rec.predictions, dataset, keep_best=5, map_tracks=True)\n",
    "predictions_df['playlist_id'] = predictions_df['playlist_id_tmp']\n",
    "predictions_df = predictions_df.drop(\"playlist_id_tmp\", axis=1)"
   ]
  },
  {
   "cell_type": "code",
   "execution_count": 24,
   "metadata": {
    "collapsed": true
   },
   "outputs": [],
   "source": [
    "predictions_df['track_ids'] = predictions_df['track_ids'].apply(lambda x : ' '.join(map(str, x)))\n",
    "predictions_df.to_csv('results_ensemble_weights.csv', index=False)"
   ]
  },
  {
   "cell_type": "code",
   "execution_count": null,
   "metadata": {
    "collapsed": true
   },
   "outputs": [],
   "source": []
  },
  {
   "cell_type": "code",
   "execution_count": null,
   "metadata": {
    "collapsed": true
   },
   "outputs": [],
   "source": []
  },
  {
   "cell_type": "code",
   "execution_count": null,
   "metadata": {
    "collapsed": true
   },
   "outputs": [],
   "source": []
  },
  {
   "cell_type": "code",
   "execution_count": 25,
   "metadata": {},
   "outputs": [
    {
     "name": "stdout",
     "output_type": "stream",
     "text": [
      "Using cached predictions for TTM_dot\n",
      "Using cached predictions for TTM_cosine\n",
      "Using cached predictions for TTM_UUM_cosine\n",
      "Using cached predictions for SYM_ARTIST\n",
      "Using cached predictions for SYM_ALBUM\n",
      "Using cached predictions for SYM_OWNER\n"
     ]
    },
    {
     "data": {
      "text/plain": [
       "0"
      ]
     },
     "execution_count": 25,
     "metadata": {},
     "output_type": "execute_result"
    }
   ],
   "source": [
    "ens_rec = recommenders.EnsembleRecommender('ensemble', recommenders=recoms, reducer=sum_reducer)\n",
    "ens_rec.fit(dataset)\n",
    "ens_rec.evaluate()"
   ]
  },
  {
   "cell_type": "code",
   "execution_count": 26,
   "metadata": {
    "collapsed": true
   },
   "outputs": [],
   "source": [
    "def print_for_i(i):\n",
    "    for r in recoms:\n",
    "        print(sorted(r.predictions[i].data, reverse=True))"
   ]
  },
  {
   "cell_type": "code",
   "execution_count": 27,
   "metadata": {},
   "outputs": [
    {
     "name": "stdout",
     "output_type": "stream",
     "text": [
      "[0.2332192157917157, 0.22790387300613421, 0.21927361072975804, 0.2091130512585169, 0.20712127270612307, 0.20563427104850066, 0.20533685006761856, 0.20475238735629653, 0.18993287726518387, 0.18818062371479241]\n",
      "[0.24097923640337876, 0.23967643409975545, 0.22720524434344719, 0.22394366359819212, 0.20466120340784869, 0.20174736147050401, 0.18671282174117701, 0.17913586528714201, 0.17912229671264626, 0.17717357282257207]\n",
      "[0.38096959888356546, 0.35625324455408353, 0.33545580347330173, 0.32344543565266426, 0.28801785293184512, 0.25854596722820627, 0.24907810883323764, 0.24467956238604233, 0.23776085588632728, 0.23216644991869448]\n",
      "[0.66353023362773689, 0.66353023362773689, 0.66353023362773689, 0.48010475152853888, 0.48010475152853888, 0.48010475152853888, 0.3325437191614799, 0.24254892801598804, 0.24254892801598804, 0.24254892801598804]\n",
      "[0.53085684137188027, 0.53085684137188027, 0.34386284461346578, 0.33362469427615432, 0.33362469427615432, 0.3217459338059348, 0.31617646844439007, 0.27676671126680563, 0.26035874879608961, 0.26035874879608961]\n",
      "[0.48986949018765258, 0.41459115145230374, 0.41032773882904422, 0.38330517665135277, 0.37218689368530006, 0.34551653749990618, 0.34051892560381031, 0.32314694579360392, 0.32208496684823401, 0.30785804336707018]\n"
     ]
    }
   ],
   "source": [
    "print_for_i(4)"
   ]
  },
  {
   "cell_type": "code",
   "execution_count": null,
   "metadata": {
    "collapsed": true
   },
   "outputs": [],
   "source": []
  },
  {
   "cell_type": "code",
   "execution_count": null,
   "metadata": {
    "collapsed": true
   },
   "outputs": [],
   "source": []
  },
  {
   "cell_type": "code",
   "execution_count": 28,
   "metadata": {},
   "outputs": [
    {
     "name": "stdout",
     "output_type": "stream",
     "text": [
      "Using cached predictions for TTM_dot\n",
      "Using cached predictions for TTM_cosine\n",
      "Using cached predictions for TTM_UUM_cosine\n",
      "Using cached predictions for SYM_ARTIST\n",
      "Using cached predictions for SYM_ALBUM\n",
      "Using cached predictions for SYM_OWNER\n"
     ]
    },
    {
     "data": {
      "text/plain": [
       "0"
      ]
     },
     "execution_count": 28,
     "metadata": {},
     "output_type": "execute_result"
    }
   ],
   "source": [
    "ens_rec = recommenders.EnsembleRecommender('ensemble', recommenders=recoms, reducer=sum_reducer)\n",
    "ens_rec.fit(dataset)\n",
    "ens_rec.evaluate()"
   ]
  },
  {
   "cell_type": "code",
   "execution_count": null,
   "metadata": {
    "collapsed": true
   },
   "outputs": [],
   "source": []
  },
  {
   "cell_type": "code",
   "execution_count": null,
   "metadata": {
    "collapsed": true
   },
   "outputs": [],
   "source": []
  },
  {
   "cell_type": "code",
   "execution_count": null,
   "metadata": {
    "collapsed": true
   },
   "outputs": [],
   "source": []
  },
  {
   "cell_type": "code",
   "execution_count": null,
   "metadata": {
    "collapsed": true
   },
   "outputs": [],
   "source": []
  },
  {
   "cell_type": "code",
   "execution_count": null,
   "metadata": {
    "collapsed": true
   },
   "outputs": [],
   "source": []
  },
  {
   "cell_type": "code",
   "execution_count": null,
   "metadata": {
    "collapsed": true
   },
   "outputs": [],
   "source": []
  },
  {
   "cell_type": "code",
   "execution_count": null,
   "metadata": {
    "collapsed": true
   },
   "outputs": [],
   "source": []
  },
  {
   "cell_type": "code",
   "execution_count": null,
   "metadata": {
    "collapsed": true
   },
   "outputs": [],
   "source": []
  },
  {
   "cell_type": "markdown",
   "metadata": {},
   "source": [
    "# Try ensemble without BPR"
   ]
  },
  {
   "cell_type": "code",
   "execution_count": 29,
   "metadata": {},
   "outputs": [
    {
     "name": "stdout",
     "output_type": "stream",
     "text": [
      "Using cached predictions for TTM_dot\n",
      "Using cached predictions for TTM_cosine\n",
      "Using cached predictions for TTM_UUM_cosine\n",
      "Using cached predictions for SYM_ARTIST\n",
      "Using cached predictions for SYM_ALBUM\n",
      "Using cached predictions for SYM_OWNER\n"
     ]
    },
    {
     "data": {
      "text/plain": [
       "0"
      ]
     },
     "execution_count": 29,
     "metadata": {},
     "output_type": "execute_result"
    }
   ],
   "source": [
    "ens2 = recommenders.EnsembleRecommender(name=\"ens2\", recommenders=[TTM_dot_rec, TTM_cosine_rec, TTM_UUM_cosine_rec, SYM_ARTIST_rec, SYM_ALBUM_rec, SYM_OWNER_rec], reducer=sum_reducer)\n",
    "ens2.fit(dataset)\n",
    "ens2.evaluate()\n"
   ]
  },
  {
   "cell_type": "code",
   "execution_count": null,
   "metadata": {
    "collapsed": true
   },
   "outputs": [],
   "source": []
  },
  {
   "cell_type": "code",
   "execution_count": null,
   "metadata": {
    "collapsed": true
   },
   "outputs": [],
   "source": []
  },
  {
   "cell_type": "code",
   "execution_count": 30,
   "metadata": {
    "collapsed": true
   },
   "outputs": [],
   "source": [
    "recoms = [recommenders.SimilarityRecommender(name=r.name, similarity=r.similarity, urm_builder=r.urm_builder) for r in recoms]"
   ]
  },
  {
   "cell_type": "code",
   "execution_count": 31,
   "metadata": {
    "collapsed": true
   },
   "outputs": [],
   "source": [
    "for r in recoms:\n",
    "    r.fit(dataset)"
   ]
  },
  {
   "cell_type": "code",
   "execution_count": 32,
   "metadata": {},
   "outputs": [
    {
     "name": "stdout",
     "output_type": "stream",
     "text": [
      "Computing predictions for TTM_dot\n"
     ]
    },
    {
     "ename": "ValueError",
     "evalue": "row index 10024884 out of bounds",
     "output_type": "error",
     "traceback": [
      "\u001b[0;31m---------------------------------------------------------------------------\u001b[0m",
      "\u001b[0;31mValueError\u001b[0m                                Traceback (most recent call last)",
      "\u001b[0;32m<ipython-input-32-ecc495ebffd3>\u001b[0m in \u001b[0;36m<module>\u001b[0;34m()\u001b[0m\n\u001b[1;32m      1\u001b[0m \u001b[0mens3\u001b[0m \u001b[0;34m=\u001b[0m \u001b[0mrecommenders\u001b[0m\u001b[0;34m.\u001b[0m\u001b[0mEnsembleRecommender\u001b[0m\u001b[0;34m(\u001b[0m\u001b[0mname\u001b[0m\u001b[0;34m=\u001b[0m\u001b[0;34m\"ens3\"\u001b[0m\u001b[0;34m,\u001b[0m \u001b[0mrecommenders\u001b[0m\u001b[0;34m=\u001b[0m\u001b[0mrecoms\u001b[0m\u001b[0;34m[\u001b[0m\u001b[0;34m:\u001b[0m\u001b[0;34m-\u001b[0m\u001b[0;36m1\u001b[0m\u001b[0;34m]\u001b[0m\u001b[0;34m,\u001b[0m \u001b[0mreducer\u001b[0m\u001b[0;34m=\u001b[0m\u001b[0mWeightedAverage\u001b[0m\u001b[0;34m(\u001b[0m\u001b[0;34m[\u001b[0m\u001b[0;36m0.9568473700404467\u001b[0m\u001b[0;34m,\u001b[0m \u001b[0;36m0.5806196453661655\u001b[0m\u001b[0;34m,\u001b[0m \u001b[0;36m0.531052288397153\u001b[0m\u001b[0;34m,\u001b[0m \u001b[0;36m0.5829634486249624\u001b[0m\u001b[0;34m,\u001b[0m \u001b[0;36m1.8867463476832003\u001b[0m\u001b[0;34m,\u001b[0m \u001b[0;36m0.403196160018844\u001b[0m\u001b[0;34m]\u001b[0m\u001b[0;34m)\u001b[0m\u001b[0;34m)\u001b[0m\u001b[0;34m\u001b[0m\u001b[0m\n\u001b[1;32m      2\u001b[0m \u001b[0mens3\u001b[0m\u001b[0;34m.\u001b[0m\u001b[0mfit\u001b[0m\u001b[0;34m(\u001b[0m\u001b[0mdataset\u001b[0m\u001b[0;34m)\u001b[0m\u001b[0;34m\u001b[0m\u001b[0m\n\u001b[0;32m----> 3\u001b[0;31m \u001b[0mens3\u001b[0m\u001b[0;34m.\u001b[0m\u001b[0mevaluate\u001b[0m\u001b[0;34m(\u001b[0m\u001b[0;34m)\u001b[0m\u001b[0;34m\u001b[0m\u001b[0m\n\u001b[0m",
      "\u001b[0;32m/Users/andrea/Documents/workspace/RS_Challenge/recsys/recommenders.py\u001b[0m in \u001b[0;36mevaluate\u001b[0;34m(self)\u001b[0m\n\u001b[1;32m    326\u001b[0m             \u001b[0;32mif\u001b[0m \u001b[0;32mnot\u001b[0m \u001b[0mhasattr\u001b[0m\u001b[0;34m(\u001b[0m\u001b[0mpredictor\u001b[0m\u001b[0;34m,\u001b[0m \u001b[0;34m'predictions'\u001b[0m\u001b[0;34m)\u001b[0m\u001b[0;34m:\u001b[0m\u001b[0;34m\u001b[0m\u001b[0m\n\u001b[1;32m    327\u001b[0m                 \u001b[0mprint\u001b[0m\u001b[0;34m(\u001b[0m\u001b[0;34m\"Computing predictions for {}\"\u001b[0m\u001b[0;34m.\u001b[0m\u001b[0mformat\u001b[0m\u001b[0;34m(\u001b[0m\u001b[0mpredictor\u001b[0m\u001b[0;34m)\u001b[0m\u001b[0;34m)\u001b[0m\u001b[0;34m\u001b[0m\u001b[0m\n\u001b[0;32m--> 328\u001b[0;31m                 \u001b[0mpredictor\u001b[0m\u001b[0;34m.\u001b[0m\u001b[0mevaluate\u001b[0m\u001b[0;34m(\u001b[0m\u001b[0;34m)\u001b[0m\u001b[0;34m\u001b[0m\u001b[0m\n\u001b[0m\u001b[1;32m    329\u001b[0m             \u001b[0;32melse\u001b[0m\u001b[0;34m:\u001b[0m\u001b[0;34m\u001b[0m\u001b[0m\n\u001b[1;32m    330\u001b[0m                 \u001b[0mprint\u001b[0m\u001b[0;34m(\u001b[0m\u001b[0;34m\"Using cached predictions for {}\"\u001b[0m\u001b[0;34m.\u001b[0m\u001b[0mformat\u001b[0m\u001b[0;34m(\u001b[0m\u001b[0mpredictor\u001b[0m\u001b[0;34m)\u001b[0m\u001b[0;34m)\u001b[0m\u001b[0;34m\u001b[0m\u001b[0m\n",
      "\u001b[0;32m/Users/andrea/Documents/workspace/RS_Challenge/recsys/recommenders.py\u001b[0m in \u001b[0;36mevaluate\u001b[0;34m(self)\u001b[0m\n\u001b[1;32m     54\u001b[0m             \u001b[0mrow_end\u001b[0m \u001b[0;34m=\u001b[0m \u001b[0mrow_start\u001b[0m \u001b[0;34m+\u001b[0m \u001b[0mrow_group\u001b[0m \u001b[0;32mif\u001b[0m \u001b[0mrow_start\u001b[0m \u001b[0;34m+\u001b[0m \u001b[0mrow_group\u001b[0m \u001b[0;34m<=\u001b[0m \u001b[0mlen\u001b[0m\u001b[0;34m(\u001b[0m\u001b[0mself\u001b[0m\u001b[0;34m.\u001b[0m\u001b[0mdataset\u001b[0m\u001b[0;34m.\u001b[0m\u001b[0mtarget_playlists\u001b[0m\u001b[0;34m)\u001b[0m \u001b[0;32melse\u001b[0m \u001b[0mlen\u001b[0m\u001b[0;34m(\u001b[0m\u001b[0mself\u001b[0m\u001b[0;34m.\u001b[0m\u001b[0mdataset\u001b[0m\u001b[0;34m.\u001b[0m\u001b[0mtarget_playlists\u001b[0m\u001b[0;34m)\u001b[0m\u001b[0;34m\u001b[0m\u001b[0m\n\u001b[1;32m     55\u001b[0m \u001b[0;34m\u001b[0m\u001b[0m\n\u001b[0;32m---> 56\u001b[0;31m             \u001b[0msimil_urm\u001b[0m \u001b[0;34m=\u001b[0m \u001b[0mself\u001b[0m\u001b[0;34m.\u001b[0m\u001b[0mrecommend_group\u001b[0m\u001b[0;34m(\u001b[0m\u001b[0mrow_start\u001b[0m\u001b[0;34m,\u001b[0m \u001b[0mrow_end\u001b[0m\u001b[0;34m)\u001b[0m\u001b[0;34m\u001b[0m\u001b[0m\n\u001b[0m\u001b[1;32m     57\u001b[0m \u001b[0;34m\u001b[0m\u001b[0m\n\u001b[1;32m     58\u001b[0m             \u001b[0mself\u001b[0m\u001b[0;34m.\u001b[0m\u001b[0mpredictions\u001b[0m \u001b[0;34m=\u001b[0m \u001b[0mvstack\u001b[0m\u001b[0;34m(\u001b[0m\u001b[0;34m[\u001b[0m\u001b[0mself\u001b[0m\u001b[0;34m.\u001b[0m\u001b[0mpredictions\u001b[0m\u001b[0;34m,\u001b[0m \u001b[0msimil_urm\u001b[0m\u001b[0;34m]\u001b[0m\u001b[0;34m,\u001b[0m \u001b[0;34m'csr'\u001b[0m\u001b[0;34m)\u001b[0m\u001b[0;34m\u001b[0m\u001b[0m\n",
      "\u001b[0;32m/Users/andrea/Documents/workspace/RS_Challenge/recsys/recommenders.py\u001b[0m in \u001b[0;36mrecommend_group\u001b[0;34m(self, row_start, row_end, keep_best, compute_MAP)\u001b[0m\n\u001b[1;32m     94\u001b[0m \u001b[0;34m\u001b[0m\u001b[0m\n\u001b[1;32m     95\u001b[0m         \u001b[0;32mif\u001b[0m \u001b[0mhasattr\u001b[0m\u001b[0;34m(\u001b[0m\u001b[0mself\u001b[0m\u001b[0;34m,\u001b[0m \u001b[0;34m'urm'\u001b[0m\u001b[0;34m)\u001b[0m\u001b[0;34m:\u001b[0m\u001b[0;34m\u001b[0m\u001b[0m\n\u001b[0;32m---> 96\u001b[0;31m             \u001b[0mcomposed_URM\u001b[0m \u001b[0;34m=\u001b[0m \u001b[0mcsr_matrix\u001b[0m\u001b[0;34m(\u001b[0m\u001b[0mself\u001b[0m\u001b[0;34m.\u001b[0m\u001b[0murm\u001b[0m\u001b[0;34m[\u001b[0m\u001b[0mpl_group\u001b[0m\u001b[0;34m.\u001b[0m\u001b[0mplaylist_id\u001b[0m\u001b[0;34m,\u001b[0m \u001b[0;34m:\u001b[0m\u001b[0;34m]\u001b[0m\u001b[0;34m)\u001b[0m\u001b[0;34m\u001b[0m\u001b[0m\n\u001b[0m\u001b[1;32m     97\u001b[0m         \u001b[0;32melse\u001b[0m\u001b[0;34m:\u001b[0m\u001b[0;34m\u001b[0m\u001b[0m\n\u001b[1;32m     98\u001b[0m             \u001b[0mcomposed_URM\u001b[0m \u001b[0;34m=\u001b[0m \u001b[0mcsr_matrix\u001b[0m\u001b[0;34m(\u001b[0m\u001b[0mself\u001b[0m\u001b[0;34m.\u001b[0m\u001b[0mdataset\u001b[0m\u001b[0;34m.\u001b[0m\u001b[0murm\u001b[0m\u001b[0;34m[\u001b[0m\u001b[0mpl_group\u001b[0m\u001b[0;34m.\u001b[0m\u001b[0mplaylist_id\u001b[0m\u001b[0;34m,\u001b[0m \u001b[0;34m:\u001b[0m\u001b[0;34m]\u001b[0m\u001b[0;34m)\u001b[0m\u001b[0;34m\u001b[0m\u001b[0m\n",
      "\u001b[0;32m/Users/andrea/anaconda/envs/mlenv/lib/python3.5/site-packages/scipy/sparse/lil.py\u001b[0m in \u001b[0;36m__getitem__\u001b[0;34m(self, index)\u001b[0m\n\u001b[1;32m    287\u001b[0m \u001b[0;34m\u001b[0m\u001b[0m\n\u001b[1;32m    288\u001b[0m             \u001b[0;32mif\u001b[0m \u001b[0mi_shape\u001b[0m \u001b[0;32mis\u001b[0m \u001b[0;32mNone\u001b[0m \u001b[0;32mor\u001b[0m \u001b[0mlen\u001b[0m\u001b[0;34m(\u001b[0m\u001b[0mi_shape\u001b[0m\u001b[0;34m)\u001b[0m \u001b[0;34m==\u001b[0m \u001b[0;36m1\u001b[0m\u001b[0;34m:\u001b[0m\u001b[0;34m\u001b[0m\u001b[0m\n\u001b[0;32m--> 289\u001b[0;31m                 \u001b[0;32mreturn\u001b[0m \u001b[0mself\u001b[0m\u001b[0;34m.\u001b[0m\u001b[0m_get_row_ranges\u001b[0m\u001b[0;34m(\u001b[0m\u001b[0mi\u001b[0m\u001b[0;34m,\u001b[0m \u001b[0mj\u001b[0m\u001b[0;34m)\u001b[0m\u001b[0;34m\u001b[0m\u001b[0m\n\u001b[0m\u001b[1;32m    290\u001b[0m \u001b[0;34m\u001b[0m\u001b[0m\n\u001b[1;32m    291\u001b[0m         \u001b[0mi\u001b[0m\u001b[0;34m,\u001b[0m \u001b[0mj\u001b[0m \u001b[0;34m=\u001b[0m \u001b[0mself\u001b[0m\u001b[0;34m.\u001b[0m\u001b[0m_index_to_arrays\u001b[0m\u001b[0;34m(\u001b[0m\u001b[0mi\u001b[0m\u001b[0;34m,\u001b[0m \u001b[0mj\u001b[0m\u001b[0;34m)\u001b[0m\u001b[0;34m\u001b[0m\u001b[0m\n",
      "\u001b[0;32m/Users/andrea/anaconda/envs/mlenv/lib/python3.5/site-packages/scipy/sparse/lil.py\u001b[0m in \u001b[0;36m_get_row_ranges\u001b[0;34m(self, rows, col_slice)\u001b[0m\n\u001b[1;32m    327\u001b[0m                                          \u001b[0mnew\u001b[0m\u001b[0;34m.\u001b[0m\u001b[0mrows\u001b[0m\u001b[0;34m,\u001b[0m \u001b[0mnew\u001b[0m\u001b[0;34m.\u001b[0m\u001b[0mdata\u001b[0m\u001b[0;34m,\u001b[0m\u001b[0;34m\u001b[0m\u001b[0m\n\u001b[1;32m    328\u001b[0m                                          \u001b[0mrows\u001b[0m\u001b[0;34m,\u001b[0m\u001b[0;34m\u001b[0m\u001b[0m\n\u001b[0;32m--> 329\u001b[0;31m                                          j_start, j_stop, j_stride, nj)\n\u001b[0m\u001b[1;32m    330\u001b[0m \u001b[0;34m\u001b[0m\u001b[0m\n\u001b[1;32m    331\u001b[0m         \u001b[0;32mreturn\u001b[0m \u001b[0mnew\u001b[0m\u001b[0;34m\u001b[0m\u001b[0m\n",
      "\u001b[0;32mscipy/sparse/_csparsetools.pyx\u001b[0m in \u001b[0;36mscipy.sparse._csparsetools.lil_get_row_ranges (scipy/sparse/_csparsetools.c:11793)\u001b[0;34m()\u001b[0m\n",
      "\u001b[0;31mValueError\u001b[0m: row index 10024884 out of bounds"
     ]
    }
   ],
   "source": [
    "ens3 = recommenders.EnsembleRecommender(name=\"ens3\", recommenders=recoms[:-1], reducer=WeightedAverage([0.9568473700404467, 0.5806196453661655, 0.531052288397153, 0.5829634486249624, 1.8867463476832003, 0.403196160018844]))\n",
    "ens3.fit(dataset)\n",
    "ens3.evaluate()"
   ]
  },
  {
   "cell_type": "code",
   "execution_count": null,
   "metadata": {
    "collapsed": true
   },
   "outputs": [],
   "source": []
  },
  {
   "cell_type": "code",
   "execution_count": null,
   "metadata": {
    "collapsed": true
   },
   "outputs": [],
   "source": []
  },
  {
   "cell_type": "code",
   "execution_count": null,
   "metadata": {
    "collapsed": true
   },
   "outputs": [],
   "source": [
    "predictions_df = utils.from_prediction_matrix_to_dataframe(ens_rec.predictions, dataset, keep_best=5, map_tracks=True)\n",
    "predictions_df['playlist_id'] = predictions_df['playlist_id_tmp']\n",
    "predictions_df = predictions_df.drop(\"playlist_id_tmp\", axis=1)"
   ]
  },
  {
   "cell_type": "code",
   "execution_count": null,
   "metadata": {
    "collapsed": true
   },
   "outputs": [],
   "source": [
    "predictions_df['track_ids'] = predictions_df['track_ids'].apply(lambda x : ' '.join(map(str, x)))\n",
    "predictions_df.to_csv('results_ensemble_andrea.csv', index=False)"
   ]
  },
  {
   "cell_type": "code",
   "execution_count": null,
   "metadata": {
    "collapsed": true
   },
   "outputs": [],
   "source": []
  }
 ],
 "metadata": {
  "kernelspec": {
   "display_name": "Python 3",
   "language": "python",
   "name": "python3"
  },
  "language_info": {
   "codemirror_mode": {
    "name": "ipython",
    "version": 3
   },
   "file_extension": ".py",
   "mimetype": "text/x-python",
   "name": "python",
   "nbconvert_exporter": "python",
   "pygments_lexer": "ipython3",
   "version": "3.5.3"
  }
 },
 "nbformat": 4,
 "nbformat_minor": 2
}
