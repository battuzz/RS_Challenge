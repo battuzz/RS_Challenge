{
 "cells": [
  {
   "cell_type": "code",
   "execution_count": 1,
   "metadata": {
    "collapsed": true
   },
   "outputs": [],
   "source": [
    "from scipy.sparse import *\n",
    "import numpy as np\n",
    "import pandas as pd\n",
    "import sys\n",
    "import math\n",
    "\n",
    "from recsys.preprocess import *\n",
    "from recsys.utility import *"
   ]
  },
  {
   "cell_type": "code",
   "execution_count": 2,
   "metadata": {
    "collapsed": true
   },
   "outputs": [],
   "source": [
    "def load_things(location, has_test = True):\n",
    "    global train, test, playlists, tracks, target_tracks, target_playlists, tracks_in_playlist, tracks_target_only\n",
    "\n",
    "    train = pd.read_csv(os.path.join(location, 'train.csv'))\n",
    "    target_playlists = pd.read_csv(os.path.join(location, 'target_playlists.csv'))\n",
    "    target_tracks = pd.read_csv(os.path.join(location, 'target_tracks.csv'))\n",
    "\n",
    "    playlists = pd.read_csv('data/playlists_final.csv', delimiter='\\t')\n",
    "    tracks = pd.read_csv('data/tracks_final.csv', delimiter='\\t')\n",
    "\n",
    "    #tracks['tags'] = tracks['tags'].apply(lambda x: np.array(eval(x)))\n",
    "    tracks.index = tracks.track_id\n",
    "\n",
    "    tracks_in_playlist = get_playlist_track_list2(train)\n",
    "    tracks_target_only = tracks[tracks.track_id.isin(target_tracks.track_id)]\n",
    "    \n",
    "    if has_test:\n",
    "        test = pd.read_csv(os.path.join(location, 'test.csv'))"
   ]
  },
  {
   "cell_type": "code",
   "execution_count": 3,
   "metadata": {
    "collapsed": true
   },
   "outputs": [],
   "source": [
    "def load_similarity(location):\n",
    "    row = []\n",
    "    col = []\n",
    "    data = []\n",
    "    content = None\n",
    "    with open(os.path.join(location, 'similarity_bpr.txt'), 'r') as f:\n",
    "        content = f.readlines()\n",
    "\n",
    "    row = list(map(int, content[1].strip().split(' ')))\n",
    "    col = list(map(int, content[2].strip().split(' ')))\n",
    "    data = list(map(float, content[3].strip().split(' ')))\n",
    "\n",
    "    coo = coo_matrix((data, (row, col)), shape=(100000, 100000))\n",
    "    csr = coo.tocsr()\n",
    "\n",
    "    return csr"
   ]
  },
  {
   "cell_type": "code",
   "execution_count": 4,
   "metadata": {
    "collapsed": true
   },
   "outputs": [],
   "source": [
    "def from_num_to_id(df, row_num, column = 'track_id'):\n",
    "    \"\"\" df must have a 'track_id' column \"\"\"\n",
    "    return df.iloc[row_num][column]\n",
    "\n",
    "def from_id_to_num(df, tr_id, column='track_id'):\n",
    "    \"\"\" df must have a 'track_id' column \"\"\"\n",
    "    return np.where(df[column].values == tr_id)[0][0]"
   ]
  },
  {
   "cell_type": "code",
   "execution_count": 5,
   "metadata": {
    "collapsed": true
   },
   "outputs": [],
   "source": [
    "def build_id_to_num_map(df, column):\n",
    "    a = pd.Series(np.arange(len(df)))\n",
    "    a.index = df[column]\n",
    "    return a\n",
    "\n",
    "def build_num_to_id_map(df, column):\n",
    "    a = pd.Series(df[column])\n",
    "    a.index = np.arange(len(df))\n",
    "    return a"
   ]
  },
  {
   "cell_type": "code",
   "execution_count": 6,
   "metadata": {
    "collapsed": true
   },
   "outputs": [],
   "source": [
    "def load_URM():\n",
    "    tr_map = build_id_to_num_map(tracks, 'track_id')\n",
    "    pl_map = build_id_to_num_map(playlists, 'playlist_id')\n",
    "    \n",
    "    train_new = pd.DataFrame()\n",
    "    train_new['track_id'] = train['track_id'].apply(lambda x : tr_map[x])\n",
    "    train_new['playlist_id'] = train['playlist_id'].apply(lambda x : pl_map[x])\n",
    "    \n",
    "    rows = train_new['playlist_id'].values\n",
    "    cols = train_new['track_id'].values\n",
    "    values = np.ones(len(train_new))\n",
    "    \n",
    "    M = coo_matrix((values, (rows, cols)))\n",
    "    return M.tocsr()\n",
    "    "
   ]
  },
  {
   "cell_type": "code",
   "execution_count": null,
   "metadata": {
    "collapsed": true
   },
   "outputs": [],
   "source": []
  },
  {
   "cell_type": "markdown",
   "metadata": {},
   "source": [
    "# Set location of the folder with all data"
   ]
  },
  {
   "cell_type": "code",
   "execution_count": 7,
   "metadata": {
    "collapsed": true
   },
   "outputs": [],
   "source": [
    "location = 'test7/'"
   ]
  },
  {
   "cell_type": "code",
   "execution_count": 8,
   "metadata": {
    "collapsed": true
   },
   "outputs": [],
   "source": [
    "load_things(location, True)"
   ]
  },
  {
   "cell_type": "markdown",
   "metadata": {},
   "source": [
    "## Load URM"
   ]
  },
  {
   "cell_type": "code",
   "execution_count": 9,
   "metadata": {},
   "outputs": [
    {
     "name": "stdout",
     "output_type": "stream",
     "text": [
      "CPU times: user 18 s, sys: 116 ms, total: 18.1 s\n",
      "Wall time: 18.1 s\n"
     ]
    }
   ],
   "source": [
    "%%time\n",
    "M = load_URM()"
   ]
  },
  {
   "cell_type": "code",
   "execution_count": null,
   "metadata": {
    "collapsed": true
   },
   "outputs": [],
   "source": [
    "from implicit.nearest_neighbours import bm25_weight\n",
    "from implicit.nearest_neighbours import tfidf_weight"
   ]
  },
  {
   "cell_type": "code",
   "execution_count": null,
   "metadata": {
    "collapsed": true
   },
   "outputs": [],
   "source": [
    "M = bm25_weight(M)"
   ]
  },
  {
   "cell_type": "code",
   "execution_count": null,
   "metadata": {
    "collapsed": true
   },
   "outputs": [],
   "source": [
    "M = tfidf_weight(M)"
   ]
  },
  {
   "cell_type": "code",
   "execution_count": null,
   "metadata": {},
   "outputs": [],
   "source": [
    "M = M.tocsr()"
   ]
  },
  {
   "cell_type": "code",
   "execution_count": null,
   "metadata": {},
   "outputs": [],
   "source": [
    "M[0,:].data"
   ]
  },
  {
   "cell_type": "code",
   "execution_count": null,
   "metadata": {},
   "outputs": [],
   "source": [
    "M = M.tocsc()\n",
    "max_pl_length = M.sum(0).A.max()\n",
    "for i in range(M.shape[1]):\n",
    "    n_playlist = M.indptr[i+1] - M.indptr[i]\n",
    "    if n_playlist >= 1:\n",
    "        M.data[M.indptr[i]:M.indptr[i+1]] = np.repeat(math.sqrt((500) / (n_playlist)), n_playlist)\n",
    "    else:\n",
    "        print(\"argh\")\n",
    "        M.data[M.indptr[i]:M.indptr[i+1]] = np.repeat(math.sqrt((500) / (n_playlist+5)), n_playlist)"
   ]
  },
  {
   "cell_type": "markdown",
   "metadata": {},
   "source": [
    "## Prediction #1: dot product"
   ]
  },
  {
   "cell_type": "markdown",
   "metadata": {},
   "source": [
    "Best result so far: \n",
    "\n",
    "- 1.5 0.7 0 0 0.1 0 0.01   --> 0.0735\n",
    "- 1.5 0.7 0 0 0.1 0 0 --> 0.0710\n",
    "- 1 0.7 0.01 0 0.3 0 0 --> 0.0669\n",
    "- 1.4 0.7 0.01 0 0.3 0 0.5 --> 0.0659\n",
    "- 1.4 0.7 0.01 0 0.3 0.4 0.01 --> 0.0638\n",
    "- 1.5 0.7 0 0 0.1 0 0 --> 0.07108\n",
    "- 1.5 0.7 0 0 0.1 0 0.02 --> 0.07346\n",
    "- 1.5 0.7 0 0 0.1 0 0.1 --> 0.734\n",
    "- 1.7 0.7 0 0 0.1 0 0.5 --> 0.0585\n",
    "\n",
    "== dataset 2\n",
    "\n",
    "- 1.5 0.7 0.1 0 0.1 0 0.01 --> 0.07207\n",
    "\n",
    "(restoring tag idf)\n",
    "- 1.5 0.7 0.1 0 0.1 0 0.01 --> 0.0742\n",
    "- 1.5 0.7 0 0 0.3 0 0.01 --> 0.07166\n",
    "- 1.5 0.5 0.01 0.01 0.1 0 0.01 --> 0.07165\n",
    "\n",
    "== dataset 3\n",
    "- 1.5 0.7 0.1 0 0.1 0 0.01 --> 0.0722\n",
    "\n",
    "(using tag IDF log(100000/#tag_freq)\n",
    "\n",
    "== dataset 5\n",
    "- 1.5 0.7 0.1 0.1 0.1 0.1 0.1 --> 0.07548  (URM changed)\n",
    "- 1 0.7 0.1 0.1 0.1 0.1 0.1 --> 0.0739   (URM changed)\n",
    "- 1 0.7 0.1 0.1 0.1 0.1 0.1 --> 0.0715\n",
    "\n",
    "== dataset 7\n",
    "- 1.5 0.7 0.1 0.1 0.1 0.1 0.1 --> 0.0723\n",
    "- 1.5 0.7 0.1 0.1 0.1 0.1 0.1 --> 0.07467 (URM changed)\n",
    "- 1.5 0.7 0.1 0.1 0.1 0.1 0.1 --> 0.07585 (URM changed v.2)\n"
   ]
  },
  {
   "cell_type": "code",
   "execution_count": 14,
   "metadata": {},
   "outputs": [],
   "source": [
    "S = load_similarity(location)\n",
    "S2 = S.copy()\n",
    "S2 = S2.transpose().tocsr()"
   ]
  },
  {
   "cell_type": "code",
   "execution_count": 17,
   "metadata": {},
   "outputs": [],
   "source": [
    "pl2id_map = build_num_to_id_map(playlists, 'playlist_id')\n",
    "tr2id_map = build_num_to_id_map(tracks, 'track_id')\n",
    "pl2num_map = build_id_to_num_map(playlists, 'playlist_id')\n",
    "\n",
    "M = M.tocsr()\n",
    "predictions = {}\n",
    "for pl_id in target_playlists['playlist_id'].values:\n",
    "    pl_num = pl2num_map[pl_id]\n",
    "    r = M[pl_num,:].dot(S2)\n",
    "    idx = r.data.argsort()\n",
    "    ranking = np.flip(r.indices[idx], 0)\n",
    "    \n",
    "    count = 0\n",
    "    i = 0\n",
    "    pred = []\n",
    "    while count < 5 and i < len(ranking):\n",
    "        tr_id = tr2id_map[ranking[i]]\n",
    "        if tr_id not in tracks_in_playlist.loc[pl_id]['track_ids'] and tr_id in target_tracks['track_id'].values:\n",
    "            pred.append(tr_id)\n",
    "            count +=1\n",
    "        i+=1\n",
    "    i=0\n",
    "    if (len(pred) < 5):\n",
    "        print(\"aaaargh len < 5\")\n",
    "        print(\"{0}\".format(pl_num))\n",
    "    while len(pred) < 5 and i < len(ranking):\n",
    "        pred.append(tr2id_map[ranking[i]])\n",
    "        i+=1\n",
    "    while(len(pred) < 5):\n",
    "        pred.append(0)\n",
    "    predictions[pl_id] = np.array(pred)\n",
    "\n",
    "pred = pd.DataFrame()\n",
    "pred['playlist_id'] = predictions.keys()\n",
    "pred['track_ids'] = list(predictions.values())"
   ]
  },
  {
   "cell_type": "code",
   "execution_count": null,
   "metadata": {
    "collapsed": true
   },
   "outputs": [],
   "source": [
    "pl2id_map = build_num_to_id_map(playlists, 'playlist_id')\n",
    "tr2id_map = build_num_to_id_map(tracks, 'track_id')\n",
    "pl2num_map = build_id_to_num_map(playlists, 'playlist_id')\n",
    "\n",
    "M = M.tocsr()\n",
    "predictions = {}\n",
    "for pl_id in target_playlists['playlist_id'].values:\n",
    "    pl_num = pl2num_map[pl_id]\n",
    "    p1 = get_pred(M, S2, pl_num)\n",
    "    p2 = get_pred(M, S2, W_sparse[:,pl_num].argmax(), shrink=0.1)\n",
    "    \n",
    "    #print(\"{} {} {} {}\".format(p1[0], p2[0], np.intersect1d(p1[0], p2[0]), test[test['playlist_id'] == pl_id]['track_id'].values))\n",
    "    \n",
    "    predictions[pl_id] = blend([p1,p2])\n",
    "\n",
    "pred = pd.DataFrame()\n",
    "pred['playlist_id'] = predictions.keys()\n",
    "pred['track_ids'] = list(predictions.values())"
   ]
  },
  {
   "cell_type": "code",
   "execution_count": 18,
   "metadata": {},
   "outputs": [
    {
     "name": "stdout",
     "output_type": "stream",
     "text": [
      "0.023407608490743758\n"
     ]
    }
   ],
   "source": [
    "print(evaluate(test, pred))"
   ]
  },
  {
   "cell_type": "code",
   "execution_count": 13,
   "metadata": {},
   "outputs": [
    {
     "data": {
      "text/html": [
       "<div>\n",
       "<table border=\"1\" class=\"dataframe\">\n",
       "  <thead>\n",
       "    <tr style=\"text-align: right;\">\n",
       "      <th></th>\n",
       "      <th>playlist_id</th>\n",
       "      <th>track_ids</th>\n",
       "    </tr>\n",
       "  </thead>\n",
       "  <tbody>\n",
       "    <tr>\n",
       "      <th>0</th>\n",
       "      <td>4112384</td>\n",
       "      <td>[2902714, 1434261, 1187176, 1387554, 1205585]</td>\n",
       "    </tr>\n",
       "    <tr>\n",
       "      <th>1</th>\n",
       "      <td>8028161</td>\n",
       "      <td>[3033014, 65103, 3039869, 1585080, 1952328]</td>\n",
       "    </tr>\n",
       "    <tr>\n",
       "      <th>2</th>\n",
       "      <td>8536068</td>\n",
       "      <td>[3542379, 258341, 2427054, 2557632, 1805887]</td>\n",
       "    </tr>\n",
       "    <tr>\n",
       "      <th>3</th>\n",
       "      <td>2785288</td>\n",
       "      <td>[1762722, 3828446, 3668606, 2834644, 3166665]</td>\n",
       "    </tr>\n",
       "    <tr>\n",
       "      <th>4</th>\n",
       "      <td>1179658</td>\n",
       "      <td>[705903, 3436154, 3332967, 3075639, 1713721]</td>\n",
       "    </tr>\n",
       "    <tr>\n",
       "      <th>5</th>\n",
       "      <td>8511632</td>\n",
       "      <td>[2009159, 1077228, 2863395, 3718993, 1866341]</td>\n",
       "    </tr>\n",
       "    <tr>\n",
       "      <th>6</th>\n",
       "      <td>11173900</td>\n",
       "      <td>[612601, 1434491, 3866410, 2306694, 1272967]</td>\n",
       "    </tr>\n",
       "    <tr>\n",
       "      <th>7</th>\n",
       "      <td>4456463</td>\n",
       "      <td>[2398985, 1291070, 3081288, 1899264, 949534]</td>\n",
       "    </tr>\n",
       "    <tr>\n",
       "      <th>8</th>\n",
       "      <td>10682385</td>\n",
       "      <td>[1864599, 3498040, 187052, 325804, 2149194]</td>\n",
       "    </tr>\n",
       "    <tr>\n",
       "      <th>9</th>\n",
       "      <td>5849106</td>\n",
       "      <td>[570940, 2557632, 1563309, 1337470, 346924]</td>\n",
       "    </tr>\n",
       "    <tr>\n",
       "      <th>10</th>\n",
       "      <td>10862614</td>\n",
       "      <td>[470649, 3690587, 3067297, 732967, 2639886]</td>\n",
       "    </tr>\n",
       "    <tr>\n",
       "      <th>11</th>\n",
       "      <td>2977129</td>\n",
       "      <td>[185169, 1580480, 1066844, 1887389, 2101974]</td>\n",
       "    </tr>\n",
       "    <tr>\n",
       "      <th>12</th>\n",
       "      <td>11632665</td>\n",
       "      <td>[55683, 3030971, 1474611, 2386151, 166355]</td>\n",
       "    </tr>\n",
       "    <tr>\n",
       "      <th>13</th>\n",
       "      <td>655386</td>\n",
       "      <td>[1217853, 248396, 3550093, 1696824, 3534182]</td>\n",
       "    </tr>\n",
       "    <tr>\n",
       "      <th>14</th>\n",
       "      <td>10846235</td>\n",
       "      <td>[1106021, 2575852, 2802253, 2768124, 2721283]</td>\n",
       "    </tr>\n",
       "    <tr>\n",
       "      <th>15</th>\n",
       "      <td>10092572</td>\n",
       "      <td>[3242142, 654611, 1094523, 3764500, 2802723]</td>\n",
       "    </tr>\n",
       "    <tr>\n",
       "      <th>16</th>\n",
       "      <td>8962077</td>\n",
       "      <td>[3688192, 2212344, 194443, 2132272, 1668459]</td>\n",
       "    </tr>\n",
       "    <tr>\n",
       "      <th>17</th>\n",
       "      <td>98334</td>\n",
       "      <td>[946533, 2618210, 867949, 2754797, 2159342]</td>\n",
       "    </tr>\n",
       "    <tr>\n",
       "      <th>18</th>\n",
       "      <td>3760133</td>\n",
       "      <td>[2454612, 2762459, 1713531, 1363985, 3193037]</td>\n",
       "    </tr>\n",
       "    <tr>\n",
       "      <th>19</th>\n",
       "      <td>10076192</td>\n",
       "      <td>[2034732, 1967866, 1402419, 2330337, 1747853]</td>\n",
       "    </tr>\n",
       "    <tr>\n",
       "      <th>20</th>\n",
       "      <td>6160419</td>\n",
       "      <td>[2941119, 3131921, 1837209, 3014433, 2534397]</td>\n",
       "    </tr>\n",
       "    <tr>\n",
       "      <th>21</th>\n",
       "      <td>3227684</td>\n",
       "      <td>[1991941, 489605, 3448859, 2664944, 1750013]</td>\n",
       "    </tr>\n",
       "    <tr>\n",
       "      <th>22</th>\n",
       "      <td>8683558</td>\n",
       "      <td>[490893, 2740759, 3337414, 3240902, 1674879]</td>\n",
       "    </tr>\n",
       "    <tr>\n",
       "      <th>23</th>\n",
       "      <td>8454185</td>\n",
       "      <td>[2151537, 2008454, 2686375, 2720542, 3846663]</td>\n",
       "    </tr>\n",
       "    <tr>\n",
       "      <th>24</th>\n",
       "      <td>4587562</td>\n",
       "      <td>[2158999, 3408416, 166355, 2367829, 3748363]</td>\n",
       "    </tr>\n",
       "    <tr>\n",
       "      <th>25</th>\n",
       "      <td>3099448</td>\n",
       "      <td>[1153681, 726853, 1528756, 1678109, 3262995]</td>\n",
       "    </tr>\n",
       "    <tr>\n",
       "      <th>26</th>\n",
       "      <td>4784173</td>\n",
       "      <td>[2655442, 1434491, 2615917, 3044962, 2361623]</td>\n",
       "    </tr>\n",
       "    <tr>\n",
       "      <th>27</th>\n",
       "      <td>8945711</td>\n",
       "      <td>[293425, 482101, 2263840, 700544, 1827764]</td>\n",
       "    </tr>\n",
       "    <tr>\n",
       "      <th>28</th>\n",
       "      <td>7650518</td>\n",
       "      <td>[1818948, 3636918, 808385, 1234130, 1033312]</td>\n",
       "    </tr>\n",
       "    <tr>\n",
       "      <th>29</th>\n",
       "      <td>11534344</td>\n",
       "      <td>[652718, 2891993, 137846, 431351, 908409]</td>\n",
       "    </tr>\n",
       "    <tr>\n",
       "      <th>...</th>\n",
       "      <td>...</td>\n",
       "      <td>...</td>\n",
       "    </tr>\n",
       "    <tr>\n",
       "      <th>8811</th>\n",
       "      <td>10092492</td>\n",
       "      <td>[2640428, 3703412, 3169131, 291707, 3231943]</td>\n",
       "    </tr>\n",
       "    <tr>\n",
       "      <th>8812</th>\n",
       "      <td>753614</td>\n",
       "      <td>[3494089, 3075563, 2935718, 148993, 2366391]</td>\n",
       "    </tr>\n",
       "    <tr>\n",
       "      <th>8813</th>\n",
       "      <td>8863695</td>\n",
       "      <td>[3325349, 1558542, 3752712, 1730098, 2593261]</td>\n",
       "    </tr>\n",
       "    <tr>\n",
       "      <th>8814</th>\n",
       "      <td>196560</td>\n",
       "      <td>[3393016, 84525, 486659, 1201432, 1727658]</td>\n",
       "    </tr>\n",
       "    <tr>\n",
       "      <th>8815</th>\n",
       "      <td>4128721</td>\n",
       "      <td>[2607072, 3112921, 2269378, 3329227, 2172559]</td>\n",
       "    </tr>\n",
       "    <tr>\n",
       "      <th>8816</th>\n",
       "      <td>7192530</td>\n",
       "      <td>[1867366, 3422265, 2987483, 1915448, 223123]</td>\n",
       "    </tr>\n",
       "    <tr>\n",
       "      <th>8817</th>\n",
       "      <td>8671209</td>\n",
       "      <td>[1064541, 1470393, 1169238, 1998478, 2950046]</td>\n",
       "    </tr>\n",
       "    <tr>\n",
       "      <th>8818</th>\n",
       "      <td>4027905</td>\n",
       "      <td>[568472, 2844871, 2791360, 699499, 1957057]</td>\n",
       "    </tr>\n",
       "    <tr>\n",
       "      <th>8819</th>\n",
       "      <td>5062613</td>\n",
       "      <td>[1074308, 1449425, 134261, 3221840, 2136319]</td>\n",
       "    </tr>\n",
       "    <tr>\n",
       "      <th>8820</th>\n",
       "      <td>8396790</td>\n",
       "      <td>[3614148, 290849, 2102906, 2028674, 106861]</td>\n",
       "    </tr>\n",
       "    <tr>\n",
       "      <th>8821</th>\n",
       "      <td>8388061</td>\n",
       "      <td>[1259711, 3842344, 2764047, 2604245, 1373142]</td>\n",
       "    </tr>\n",
       "    <tr>\n",
       "      <th>8822</th>\n",
       "      <td>3899355</td>\n",
       "      <td>[683614, 726853, 346147, 2158999, 1691638]</td>\n",
       "    </tr>\n",
       "    <tr>\n",
       "      <th>8823</th>\n",
       "      <td>5144540</td>\n",
       "      <td>[3782494, 222673, 1870461, 2820187, 177421]</td>\n",
       "    </tr>\n",
       "    <tr>\n",
       "      <th>8824</th>\n",
       "      <td>40954</td>\n",
       "      <td>[1076524, 1231659, 1223506, 2367839, 3221680]</td>\n",
       "    </tr>\n",
       "    <tr>\n",
       "      <th>8825</th>\n",
       "      <td>2812581</td>\n",
       "      <td>[443309, 403076, 2933816, 3103039, 162922]</td>\n",
       "    </tr>\n",
       "    <tr>\n",
       "      <th>8826</th>\n",
       "      <td>6619104</td>\n",
       "      <td>[2821505, 127799, 2863185, 942373, 87482]</td>\n",
       "    </tr>\n",
       "    <tr>\n",
       "      <th>8827</th>\n",
       "      <td>4117840</td>\n",
       "      <td>[1153623, 1924475, 2429069, 1422957, 1847769]</td>\n",
       "    </tr>\n",
       "    <tr>\n",
       "      <th>8828</th>\n",
       "      <td>11599842</td>\n",
       "      <td>[3003358, 655322, 1082699, 2804256, 1193270]</td>\n",
       "    </tr>\n",
       "    <tr>\n",
       "      <th>8829</th>\n",
       "      <td>7700453</td>\n",
       "      <td>[1132321, 1905863, 3671801, 2895494, 1881438]</td>\n",
       "    </tr>\n",
       "    <tr>\n",
       "      <th>8830</th>\n",
       "      <td>4898792</td>\n",
       "      <td>[2982292, 694876, 71393, 3422090, 2456518]</td>\n",
       "    </tr>\n",
       "    <tr>\n",
       "      <th>8831</th>\n",
       "      <td>6638980</td>\n",
       "      <td>[2330306, 2825492, 3435028, 611284, 1893087]</td>\n",
       "    </tr>\n",
       "    <tr>\n",
       "      <th>8832</th>\n",
       "      <td>1359851</td>\n",
       "      <td>[500686, 495237, 375490, 335100, 331039]</td>\n",
       "    </tr>\n",
       "    <tr>\n",
       "      <th>8833</th>\n",
       "      <td>6665554</td>\n",
       "      <td>[99871, 1077228, 1193325, 2701880, 1672537]</td>\n",
       "    </tr>\n",
       "    <tr>\n",
       "      <th>8834</th>\n",
       "      <td>5141843</td>\n",
       "      <td>[3230459, 2009098, 2805489, 2799262, 2510179]</td>\n",
       "    </tr>\n",
       "    <tr>\n",
       "      <th>8835</th>\n",
       "      <td>4095990</td>\n",
       "      <td>[1906074, 2827871, 3726846, 2177506, 2229502]</td>\n",
       "    </tr>\n",
       "    <tr>\n",
       "      <th>8836</th>\n",
       "      <td>8415913</td>\n",
       "      <td>[3675716, 1235736, 3701808, 2610018, 3700757]</td>\n",
       "    </tr>\n",
       "    <tr>\n",
       "      <th>8837</th>\n",
       "      <td>5308410</td>\n",
       "      <td>[196032, 1064541, 2706890, 1532997, 958346]</td>\n",
       "    </tr>\n",
       "    <tr>\n",
       "      <th>8838</th>\n",
       "      <td>65535</td>\n",
       "      <td>[2858581, 522200, 2982267, 1832157, 1612770]</td>\n",
       "    </tr>\n",
       "    <tr>\n",
       "      <th>8839</th>\n",
       "      <td>753661</td>\n",
       "      <td>[792877, 2079541, 2621504, 1337094, 3313055]</td>\n",
       "    </tr>\n",
       "    <tr>\n",
       "      <th>8840</th>\n",
       "      <td>1736703</td>\n",
       "      <td>[1885468, 144247, 3557709, 2254773, 3731378]</td>\n",
       "    </tr>\n",
       "  </tbody>\n",
       "</table>\n",
       "<p>8841 rows × 2 columns</p>\n",
       "</div>"
      ],
      "text/plain": [
       "      playlist_id                                      track_ids\n",
       "0         4112384  [2902714, 1434261, 1187176, 1387554, 1205585]\n",
       "1         8028161    [3033014, 65103, 3039869, 1585080, 1952328]\n",
       "2         8536068   [3542379, 258341, 2427054, 2557632, 1805887]\n",
       "3         2785288  [1762722, 3828446, 3668606, 2834644, 3166665]\n",
       "4         1179658   [705903, 3436154, 3332967, 3075639, 1713721]\n",
       "5         8511632  [2009159, 1077228, 2863395, 3718993, 1866341]\n",
       "6        11173900   [612601, 1434491, 3866410, 2306694, 1272967]\n",
       "7         4456463   [2398985, 1291070, 3081288, 1899264, 949534]\n",
       "8        10682385    [1864599, 3498040, 187052, 325804, 2149194]\n",
       "9         5849106    [570940, 2557632, 1563309, 1337470, 346924]\n",
       "10       10862614    [470649, 3690587, 3067297, 732967, 2639886]\n",
       "11        2977129   [185169, 1580480, 1066844, 1887389, 2101974]\n",
       "12       11632665     [55683, 3030971, 1474611, 2386151, 166355]\n",
       "13         655386   [1217853, 248396, 3550093, 1696824, 3534182]\n",
       "14       10846235  [1106021, 2575852, 2802253, 2768124, 2721283]\n",
       "15       10092572   [3242142, 654611, 1094523, 3764500, 2802723]\n",
       "16        8962077   [3688192, 2212344, 194443, 2132272, 1668459]\n",
       "17          98334    [946533, 2618210, 867949, 2754797, 2159342]\n",
       "18        3760133  [2454612, 2762459, 1713531, 1363985, 3193037]\n",
       "19       10076192  [2034732, 1967866, 1402419, 2330337, 1747853]\n",
       "20        6160419  [2941119, 3131921, 1837209, 3014433, 2534397]\n",
       "21        3227684   [1991941, 489605, 3448859, 2664944, 1750013]\n",
       "22        8683558   [490893, 2740759, 3337414, 3240902, 1674879]\n",
       "23        8454185  [2151537, 2008454, 2686375, 2720542, 3846663]\n",
       "24        4587562   [2158999, 3408416, 166355, 2367829, 3748363]\n",
       "25        3099448   [1153681, 726853, 1528756, 1678109, 3262995]\n",
       "26        4784173  [2655442, 1434491, 2615917, 3044962, 2361623]\n",
       "27        8945711     [293425, 482101, 2263840, 700544, 1827764]\n",
       "28        7650518   [1818948, 3636918, 808385, 1234130, 1033312]\n",
       "29       11534344      [652718, 2891993, 137846, 431351, 908409]\n",
       "...           ...                                            ...\n",
       "8811     10092492   [2640428, 3703412, 3169131, 291707, 3231943]\n",
       "8812       753614   [3494089, 3075563, 2935718, 148993, 2366391]\n",
       "8813      8863695  [3325349, 1558542, 3752712, 1730098, 2593261]\n",
       "8814       196560     [3393016, 84525, 486659, 1201432, 1727658]\n",
       "8815      4128721  [2607072, 3112921, 2269378, 3329227, 2172559]\n",
       "8816      7192530   [1867366, 3422265, 2987483, 1915448, 223123]\n",
       "8817      8671209  [1064541, 1470393, 1169238, 1998478, 2950046]\n",
       "8818      4027905    [568472, 2844871, 2791360, 699499, 1957057]\n",
       "8819      5062613   [1074308, 1449425, 134261, 3221840, 2136319]\n",
       "8820      8396790    [3614148, 290849, 2102906, 2028674, 106861]\n",
       "8821      8388061  [1259711, 3842344, 2764047, 2604245, 1373142]\n",
       "8822      3899355     [683614, 726853, 346147, 2158999, 1691638]\n",
       "8823      5144540    [3782494, 222673, 1870461, 2820187, 177421]\n",
       "8824        40954  [1076524, 1231659, 1223506, 2367839, 3221680]\n",
       "8825      2812581     [443309, 403076, 2933816, 3103039, 162922]\n",
       "8826      6619104      [2821505, 127799, 2863185, 942373, 87482]\n",
       "8827      4117840  [1153623, 1924475, 2429069, 1422957, 1847769]\n",
       "8828     11599842   [3003358, 655322, 1082699, 2804256, 1193270]\n",
       "8829      7700453  [1132321, 1905863, 3671801, 2895494, 1881438]\n",
       "8830      4898792     [2982292, 694876, 71393, 3422090, 2456518]\n",
       "8831      6638980   [2330306, 2825492, 3435028, 611284, 1893087]\n",
       "8832      1359851       [500686, 495237, 375490, 335100, 331039]\n",
       "8833      6665554    [99871, 1077228, 1193325, 2701880, 1672537]\n",
       "8834      5141843  [3230459, 2009098, 2805489, 2799262, 2510179]\n",
       "8835      4095990  [1906074, 2827871, 3726846, 2177506, 2229502]\n",
       "8836      8415913  [3675716, 1235736, 3701808, 2610018, 3700757]\n",
       "8837      5308410    [196032, 1064541, 2706890, 1532997, 958346]\n",
       "8838        65535   [2858581, 522200, 2982267, 1832157, 1612770]\n",
       "8839       753661   [792877, 2079541, 2621504, 1337094, 3313055]\n",
       "8840      1736703   [1885468, 144247, 3557709, 2254773, 3731378]\n",
       "\n",
       "[8841 rows x 2 columns]"
      ]
     },
     "execution_count": 13,
     "metadata": {},
     "output_type": "execute_result"
    }
   ],
   "source": []
  },
  {
   "cell_type": "code",
   "execution_count": null,
   "metadata": {
    "collapsed": true
   },
   "outputs": [],
   "source": []
  },
  {
   "cell_type": "code",
   "execution_count": null,
   "metadata": {
    "collapsed": true
   },
   "outputs": [],
   "source": []
  },
  {
   "cell_type": "code",
   "execution_count": null,
   "metadata": {},
   "outputs": [],
   "source": [
    "print(evaluate(test, pred))"
   ]
  },
  {
   "cell_type": "code",
   "execution_count": null,
   "metadata": {},
   "outputs": [],
   "source": [
    "print(evaluate(test, pred))"
   ]
  },
  {
   "cell_type": "code",
   "execution_count": null,
   "metadata": {
    "collapsed": true
   },
   "outputs": [],
   "source": []
  },
  {
   "cell_type": "code",
   "execution_count": null,
   "metadata": {},
   "outputs": [],
   "source": [
    "print(evaluate(test, pred))"
   ]
  },
  {
   "cell_type": "code",
   "execution_count": null,
   "metadata": {},
   "outputs": [],
   "source": [
    "print(evaluate(test, pred))"
   ]
  },
  {
   "cell_type": "code",
   "execution_count": null,
   "metadata": {},
   "outputs": [],
   "source": [
    "print(evaluate(test, pred))"
   ]
  },
  {
   "cell_type": "code",
   "execution_count": null,
   "metadata": {
    "collapsed": true
   },
   "outputs": [],
   "source": []
  },
  {
   "cell_type": "code",
   "execution_count": null,
   "metadata": {},
   "outputs": [],
   "source": [
    "print(evaluate(test, pred))"
   ]
  },
  {
   "cell_type": "code",
   "execution_count": null,
   "metadata": {},
   "outputs": [],
   "source": [
    "print(evaluate(test, pred))"
   ]
  },
  {
   "cell_type": "code",
   "execution_count": null,
   "metadata": {
    "collapsed": true
   },
   "outputs": [],
   "source": [
    "def blend(predictions):\n",
    "    preds = predictions[0][0]\n",
    "    vals = predictions[0][1]\n",
    "    \n",
    "    for i,p in enumerate(predictions[1][0]):\n",
    "        if p in preds:\n",
    "            idx, = np.where(preds==p)[0]\n",
    "            vals[idx] *= (1 + 1/(i+1))**2\n",
    "    \n",
    "    preds = np.array(preds)\n",
    "    vals = np.array(vals)\n",
    "    \n",
    "    \n",
    "    idx = vals.argsort()\n",
    "    idx = np.flip(idx, 0)\n",
    "    return preds[idx[:5]]\n",
    "    \n",
    "    \n",
    "    "
   ]
  },
  {
   "cell_type": "code",
   "execution_count": null,
   "metadata": {
    "collapsed": true
   },
   "outputs": [],
   "source": [
    "def get_pred(URM, SIM, pl_num, shrink=1):\n",
    "    global tr2id_map, tracks_in_playlist\n",
    "    r = URM[pl_num,:].dot(SIM)\n",
    "    idx = r.data.argsort()\n",
    "    ranking = np.flip(r.indices[idx], 0)\n",
    "    \n",
    "    values = []\n",
    "    count = 0\n",
    "    i = 0\n",
    "    pred = []\n",
    "    while count < 10 and i < len(ranking):\n",
    "        tr_id = tr2id_map[ranking[i]]\n",
    "        if tr_id not in tracks_in_playlist.loc[pl_id]['track_ids']:\n",
    "            pred.append(tr_id)\n",
    "            values.append(r[:,ranking[i]].data[0])\n",
    "            count +=1\n",
    "        i+=1\n",
    "    i=0\n",
    "    if (len(pred) < 5):\n",
    "        print(\"aaaargh len < 5\")\n",
    "        print(\"{0}\".format(pl_num))\n",
    "    while len(pred) < 5 and i < len(ranking):\n",
    "        pred.append(tr2id_map[ranking[i]])\n",
    "        values.append(r[:,ranking[i]].data[0])\n",
    "        i+=1\n",
    "    while(len(pred) < 5):\n",
    "        pred.append(0)\n",
    "        values.append(0)\n",
    "    return (np.array(pred), np.array(values)*shrink)"
   ]
  },
  {
   "cell_type": "code",
   "execution_count": null,
   "metadata": {
    "collapsed": true
   },
   "outputs": [],
   "source": []
  },
  {
   "cell_type": "code",
   "execution_count": null,
   "metadata": {
    "collapsed": true
   },
   "outputs": [],
   "source": []
  },
  {
   "cell_type": "code",
   "execution_count": null,
   "metadata": {
    "collapsed": true
   },
   "outputs": [],
   "source": [
    "print(evaluate(test, pred))"
   ]
  },
  {
   "cell_type": "code",
   "execution_count": null,
   "metadata": {
    "collapsed": true
   },
   "outputs": [],
   "source": [
    "print(evaluate(test, pred))"
   ]
  },
  {
   "cell_type": "code",
   "execution_count": null,
   "metadata": {
    "collapsed": true
   },
   "outputs": [],
   "source": [
    "print(evaluate(test, pred))"
   ]
  },
  {
   "cell_type": "code",
   "execution_count": null,
   "metadata": {
    "collapsed": true,
    "scrolled": true
   },
   "outputs": [],
   "source": [
    "print(evaluate(test, pred))"
   ]
  },
  {
   "cell_type": "code",
   "execution_count": null,
   "metadata": {
    "collapsed": true
   },
   "outputs": [],
   "source": []
  },
  {
   "cell_type": "code",
   "execution_count": null,
   "metadata": {
    "collapsed": true
   },
   "outputs": [],
   "source": [
    "S2[S2>5] = 5"
   ]
  },
  {
   "cell_type": "code",
   "execution_count": null,
   "metadata": {
    "collapsed": true
   },
   "outputs": [],
   "source": [
    "len(pred)"
   ]
  },
  {
   "cell_type": "code",
   "execution_count": null,
   "metadata": {
    "collapsed": true
   },
   "outputs": [],
   "source": [
    "pred['track_ids'] = pred['track_ids'].apply(lambda x : ' '.join(map(str, x)))"
   ]
  },
  {
   "cell_type": "code",
   "execution_count": null,
   "metadata": {
    "collapsed": true
   },
   "outputs": [],
   "source": [
    "pred.to_csv(os.path.join(location,'results.csv'), index=False)"
   ]
  },
  {
   "cell_type": "markdown",
   "metadata": {},
   "source": [
    "## Prediction #2: min distance"
   ]
  },
  {
   "cell_type": "markdown",
   "metadata": {},
   "source": [
    "Best result so far: \n",
    "\n",
    "- 1.5 0.7 0 0 0.1 0 0.01 --> 0.06\n",
    "- 1.5 0.7 0 0 0.1 0 0 --> 0.0631\n",
    "- 1 0.7 0.01 0 0.3 0 0 --> 0.0628\n",
    "- 1.4 0.7 0.01 0 0.3 0 0.5 --> 0.0639\n",
    "- 1.4 0.7 0.01 0 0.3 0.4 0.01 --> 0.0589\n",
    "- 1.5 0.7 0 0 0.1 0 0 --> 0.06317\n",
    "- 1.5 0.7 0 0 0.1 0 0.02 --> 0.0644\n",
    "- 1.5 0.7 0 0 0.1 0 0.1 --> 0.6441\n",
    "- 1.7 0.7 0 0 0.1 0 0.5 --> 0.6509\n",
    "\n",
    "== dataset 2\n",
    "\n",
    "- 1.5 0.7 0.1 0 0.1 0 0.01 --> 0.0632\n",
    "\n",
    "(restoring tag idf)\n",
    "- 1.5 0.7 0.1 0 0.1 0 0.01 --> 0.06777\n",
    "- 1.5 0.7 0 0 0.3 0 0.01 --> 0.0677\n",
    "- 1.5 0.5 0.01 0.01 0.1 0 0.01 --> 0.06784\n",
    "\n",
    "(using tag IDF log(100000/#tag_freq)\n",
    "\n",
    "== dataset 5\n",
    "- 1.5 0.7 0.1 0.1 0.1 0.1 0.1 --> 0.0704"
   ]
  },
  {
   "cell_type": "code",
   "execution_count": null,
   "metadata": {
    "collapsed": true
   },
   "outputs": [],
   "source": [
    "S = load_similarity(location)\n",
    "S2 = S.copy()\n",
    "S2 = S2.transpose().tocsr()"
   ]
  },
  {
   "cell_type": "code",
   "execution_count": null,
   "metadata": {
    "collapsed": true
   },
   "outputs": [],
   "source": [
    "pl2id_map = build_num_to_id_map(playlists, 'playlist_id')\n",
    "tr2id_map = build_num_to_id_map(tracks, 'track_id')\n",
    "pl2num_map = build_id_to_num_map(playlists, 'playlist_id')\n",
    "\n",
    "M = M.tocsr()\n",
    "predictions = {}\n",
    "for pl_id in target_playlists['playlist_id'].values:\n",
    "    pl_num = pl2num_map[pl_id]\n",
    "    \n",
    "    tmp_a = M[pl_num,:].nonzero()[1]\n",
    "    tmp_c = S2[tmp_a,:]\n",
    "    tmp_b = tmp_c.data.argsort()\n",
    "    ranking = np.flip(tmp_c.indices[tmp_b], 0)\n",
    "    \n",
    "    count = 0\n",
    "    i = 0\n",
    "    pred = []\n",
    "    while count < 5 and i < len(ranking):\n",
    "        tr_id = tr2id_map[ranking[i]]\n",
    "        if tr_id not in tracks_in_playlist.loc[pl_id]['track_ids']:\n",
    "            pred.append(tr_id)\n",
    "            count +=1\n",
    "        i+=1\n",
    "    i=0\n",
    "    if (len(pred) < 5):\n",
    "        print(\"aaaargh len < 5\")\n",
    "        print(\"{0}\".format(pl_num))\n",
    "    while len(pred) < 5:\n",
    "        pred.append(0)\n",
    "        i+=1\n",
    "    predictions[pl_id] = np.array(pred)\n",
    "pred = pd.DataFrame()\n",
    "pred['playlist_id'] = predictions.keys()\n",
    "pred['track_ids'] = list(predictions.values())\n",
    "evaluate(test, pred)"
   ]
  },
  {
   "cell_type": "code",
   "execution_count": null,
   "metadata": {
    "collapsed": true
   },
   "outputs": [],
   "source": [
    "0.06932"
   ]
  },
  {
   "cell_type": "code",
   "execution_count": null,
   "metadata": {
    "collapsed": true
   },
   "outputs": [],
   "source": []
  },
  {
   "cell_type": "code",
   "execution_count": null,
   "metadata": {
    "collapsed": true
   },
   "outputs": [],
   "source": []
  },
  {
   "cell_type": "code",
   "execution_count": null,
   "metadata": {
    "collapsed": true
   },
   "outputs": [],
   "source": []
  },
  {
   "cell_type": "code",
   "execution_count": null,
   "metadata": {
    "collapsed": true
   },
   "outputs": [],
   "source": []
  },
  {
   "cell_type": "code",
   "execution_count": null,
   "metadata": {
    "collapsed": true
   },
   "outputs": [],
   "source": []
  },
  {
   "cell_type": "code",
   "execution_count": null,
   "metadata": {
    "collapsed": true
   },
   "outputs": [],
   "source": []
  },
  {
   "cell_type": "markdown",
   "metadata": {},
   "source": [
    "# Fabio part"
   ]
  },
  {
   "cell_type": "code",
   "execution_count": null,
   "metadata": {
    "collapsed": true
   },
   "outputs": [],
   "source": [
    "def reduce_train(train, to_keep=0.8):\n",
    "    # shuffle train index\n",
    "    train.drop(range(int(len(train)*to_keep))).head()\n",
    "    \n",
    "#train = reduce_train(train, to_keep=0.5)"
   ]
  },
  {
   "cell_type": "code",
   "execution_count": null,
   "metadata": {
    "collapsed": true
   },
   "outputs": [],
   "source": [
    "location = 'test1/'"
   ]
  },
  {
   "cell_type": "code",
   "execution_count": null,
   "metadata": {
    "collapsed": true
   },
   "outputs": [],
   "source": [
    "load_things(location, True)"
   ]
  },
  {
   "cell_type": "code",
   "execution_count": null,
   "metadata": {
    "collapsed": true
   },
   "outputs": [],
   "source": [
    "tracks_num = pd.DataFrame(tracks, copy=True)\n",
    "tracks_num['track_id_tmp'] = tracks['track_id']\n",
    "tracks_num['track_id'] = np.arange(len(tracks))\n",
    "\n",
    "playlists_num = pd.DataFrame(playlists, copy=True)\n",
    "playlists_num['playlist_id_tmp'] = playlists['playlist_id']\n",
    "playlists_num['playlist_id'] = np.arange(len(playlists))\n",
    "\n",
    "train_num = pd.DataFrame(train, copy=True)\n",
    "train_num['playlist_id_tmp'] = train['playlist_id']\n",
    "train_num['track_id_tmp'] = train['track_id']\n",
    "\n",
    "\n",
    "track_to_num = build_id_to_num_map(tracks, 'track_id')\n",
    "playlist_to_num = build_id_to_num_map(playlists, 'playlist_id')\n",
    "num_to_tracks = build_num_to_id_map(tracks, 'track_id')\n",
    "\n",
    "\n",
    "train_num['track_id'] = train['track_id'].apply(lambda x : track_to_num[x])\n",
    "train_num['playlist_id'] = train['playlist_id'].apply(lambda x : playlist_to_num[x])\n",
    "\n",
    "tracks_num.tags = tracks_num.tags.apply(lambda s: np.array(eval(s), dtype=int))\n",
    "playlists_num.title = playlists_num.title.apply(lambda s: np.array(eval(s), dtype=int))\n",
    "\n",
    "target_playlists_num = pd.DataFrame()\n",
    "target_playlists_num['playlist_id_tmp'] = target_playlists['playlist_id']\n",
    "target_playlists_num['playlist_id'] = target_playlists['playlist_id'].apply(lambda x : playlist_to_num[x])\n",
    "\n",
    "target_tracks_num = pd.DataFrame()\n",
    "target_tracks_num['track_id_tmp'] = target_tracks['track_id']\n",
    "target_tracks_num['track_id'] = target_tracks['track_id'].apply(lambda x : track_to_num[x])\n",
    "\n",
    "playlist_tracks = pd.DataFrame(train_num['playlist_id'].drop_duplicates())\n",
    "playlist_tracks.index = train_num['playlist_id'].unique()\n",
    "playlist_tracks['track_ids'] = train_num.groupby('playlist_id').apply(lambda x : x['track_id'].values)\n",
    "playlist_tracks = playlist_tracks.sort_values('playlist_id')\n",
    "\n",
    "track_playlists = pd.DataFrame(train_num['track_id'].drop_duplicates())\n",
    "track_playlists.index = train_num['track_id'].unique()\n",
    "track_playlists['playlist_ids'] = train_num.groupby('track_id').apply(lambda x : x['playlist_id'].values)\n",
    "track_playlists = track_playlists.sort_values('track_id')\n",
    "\n",
    "def transform_album_1(alb):\n",
    "    ar = eval(alb)\n",
    "    if len(ar) == 0 or (len(ar) > 0 and ar[0] == None):\n",
    "        ar = [-1]\n",
    "    return ar[0]\n",
    "\n",
    "def transform_album_2(alb):\n",
    "    global next_album_id\n",
    "    if alb == -1:\n",
    "        alb = next_album_id\n",
    "        next_album_id += 1\n",
    "    return alb\n",
    "    \n",
    "tracks_num.album = tracks_num.album.apply(lambda alb: transform_album_1(alb))\n",
    "\n",
    "last_album = tracks_num.album.max()\n",
    "next_album_id = last_album + 1\n",
    "\n",
    "tracks_num.album = tracks_num.album.apply(lambda alb: transform_album_2(alb))"
   ]
  },
  {
   "cell_type": "code",
   "execution_count": null,
   "metadata": {
    "collapsed": true
   },
   "outputs": [],
   "source": [
    "# User Rating Matrix URM\n",
    "def get_URM(tracks, playlists, playlist_tracks, track_playlists, normalized=False):\n",
    "    URM = lil_matrix((len(playlists), len(tracks)))\n",
    "    num_playlists = len(playlist_tracks)\n",
    "\n",
    "    i = 0\n",
    "    \n",
    "    for row in track_playlists.itertuples():\n",
    "        track_id = row.track_id\n",
    "        #row.playlist_ids.sort()\n",
    "        nq = len(row.playlist_ids)\n",
    "        for pl_id in row.playlist_ids:\n",
    "            URM[pl_id,track_id] = math.log((num_playlists - nq + 0.5)/(nq + 0.5)) if normalized else 1\n",
    "        if i % 10000 == 0:\n",
    "            print(i)\n",
    "        i += 1\n",
    "    \n",
    "    return URM"
   ]
  },
  {
   "cell_type": "code",
   "execution_count": null,
   "metadata": {
    "collapsed": true
   },
   "outputs": [],
   "source": []
  },
  {
   "cell_type": "code",
   "execution_count": null,
   "metadata": {
    "collapsed": true,
    "scrolled": true
   },
   "outputs": [],
   "source": [
    "%%time\n",
    "URM = get_URM(tracks_num, playlists_num, playlist_tracks, track_playlists, normalized=True)"
   ]
  },
  {
   "cell_type": "code",
   "execution_count": null,
   "metadata": {
    "collapsed": true
   },
   "outputs": [],
   "source": [
    "URM"
   ]
  },
  {
   "cell_type": "code",
   "execution_count": null,
   "metadata": {
    "collapsed": true
   },
   "outputs": [],
   "source": [
    "# Count distinct title tokens\n",
    "token_playlists = {}\n",
    "for row in playlists_num.itertuples():\n",
    "    for token in row.title:\n",
    "        if token in token_playlists:\n",
    "            token_playlists[token].append(row.playlist_id)\n",
    "        else:\n",
    "            token_playlists[token] = [row.playlist_id]"
   ]
  },
  {
   "cell_type": "code",
   "execution_count": null,
   "metadata": {
    "collapsed": true
   },
   "outputs": [],
   "source": [
    "# User Title Matrix UTM\n",
    "def get_UTM(playlists, token_playlists, normalized=False):\n",
    "    unique_tokens = list(token_playlists.keys())\n",
    "    UTM = lil_matrix((len(playlists), max(unique_tokens)+1))\n",
    "    \n",
    "    num_playlists = len(playlists)\n",
    "    i = 0\n",
    "    \n",
    "    for token,playlist_ids in token_playlists.items():\n",
    "        nq = len(playlist_ids)\n",
    "        for playlist_id in playlist_ids:\n",
    "            UTM[playlist_id,token] = math.log((num_playlists - nq + 0.5)/(nq + 0.5)) if normalized else 1\n",
    "        if i % 2000 == 0:\n",
    "            print(i)\n",
    "        i += 1\n",
    "    \n",
    "    return UTM"
   ]
  },
  {
   "cell_type": "code",
   "execution_count": null,
   "metadata": {
    "collapsed": true
   },
   "outputs": [],
   "source": [
    "UTM = get_UTM(playlists_num, token_playlists, normalized=True)"
   ]
  },
  {
   "cell_type": "code",
   "execution_count": null,
   "metadata": {
    "collapsed": true
   },
   "outputs": [],
   "source": [
    "UTM = UTM.tocsc()"
   ]
  },
  {
   "cell_type": "code",
   "execution_count": null,
   "metadata": {
    "collapsed": true
   },
   "outputs": [],
   "source": [
    "res = UTM.dot(UTM.transpose())"
   ]
  },
  {
   "cell_type": "code",
   "execution_count": null,
   "metadata": {
    "collapsed": true
   },
   "outputs": [],
   "source": [
    "res"
   ]
  },
  {
   "cell_type": "code",
   "execution_count": null,
   "metadata": {
    "collapsed": true
   },
   "outputs": [],
   "source": [
    "import scipy.sparse as sps\n",
    "def check_matrix(X, format='csc', dtype=np.float32):\n",
    "    if format == 'csc' and not isinstance(X, sps.csc_matrix):\n",
    "        return X.tocsc().astype(dtype)\n",
    "    elif format == 'csr' and not isinstance(X, sps.csr_matrix):\n",
    "        return X.tocsr().astype(dtype)\n",
    "    elif format == 'coo' and not isinstance(X, sps.coo_matrix):\n",
    "        return X.tocoo().astype(dtype)\n",
    "    elif format == 'dok' and not isinstance(X, sps.dok_matrix):\n",
    "        return X.todok().astype(dtype)\n",
    "    elif format == 'bsr' and not isinstance(X, sps.bsr_matrix):\n",
    "        return X.tobsr().astype(dtype)\n",
    "    elif format == 'dia' and not isinstance(X, sps.dia_matrix):\n",
    "        return X.todia().astype(dtype)\n",
    "    elif format == 'lil' and not isinstance(X, sps.lil_matrix):\n",
    "        return X.tolil().astype(dtype)\n",
    "    else:\n",
    "        return X.astype(dtype)"
   ]
  },
  {
   "cell_type": "code",
   "execution_count": null,
   "metadata": {
    "collapsed": true
   },
   "outputs": [],
   "source": [
    "import scipy\n",
    "\n",
    "class ISimilarity(object):\n",
    "    \"\"\"Abstract interface for the similarity metrics\"\"\"\n",
    "\n",
    "    def __init__(self, shrinkage=10):\n",
    "        self.shrinkage = shrinkage\n",
    "\n",
    "    def compute(self, X):\n",
    "        pass\n",
    "\n",
    "\n",
    "class Cosine(ISimilarity):\n",
    "    def compute(self, X):\n",
    "        # convert to csc matrix for faster column-wise operations\n",
    "        X = check_matrix(X, 'csc', dtype=np.float32)\n",
    "\n",
    "        # 1) normalize the columns in X\n",
    "        # compute the column-wise norm\n",
    "        # NOTE: this is slightly inefficient. We must copy X to compute the column norms.\n",
    "        # A faster solution is to  normalize the matrix inplace with a Cython function.\n",
    "        Xsq = X.copy()\n",
    "        Xsq.data **= 2\n",
    "        norm = np.sqrt(Xsq.sum(axis=0))\n",
    "        norm = np.asarray(norm).ravel()\n",
    "        norm += 1e-6\n",
    "        # compute the number of non-zeros in each column\n",
    "        # NOTE: this works only if X is instance of sparse.csc_matrix\n",
    "        col_nnz = np.diff(X.indptr)\n",
    "        # then normalize the values in each column\n",
    "        X.data /= np.repeat(norm, col_nnz)\n",
    "        print(\"Normalized\")\n",
    "\n",
    "        # 2) compute the cosine similarity using the dot-product\n",
    "        dist = X * X.T\n",
    "        print(\"Computed\")\n",
    "        \n",
    "        # zero out diagonal values\n",
    "        dist = dist - sps.dia_matrix((dist.diagonal()[scipy.newaxis, :], [0]), shape=dist.shape)\n",
    "        print(\"Removed diagonal\")\n",
    "        \n",
    "        # and apply the shrinkage\n",
    "        if self.shrinkage > 0:\n",
    "            dist = self.apply_shrinkage(X, dist)\n",
    "            print(\"Applied shrinkage\")    \n",
    "        \n",
    "        return dist\n",
    "\n",
    "    def apply_shrinkage(self, X, dist):\n",
    "        # create an \"indicator\" version of X (i.e. replace values in X with ones)\n",
    "        X_ind = X.copy()\n",
    "        X_ind.data = np.ones_like(X_ind.data)\n",
    "        # compute the co-rated counts\n",
    "        co_counts = X_ind * X_ind.T\n",
    "        # remove the diagonal\n",
    "        co_counts = co_counts - sps.dia_matrix((co_counts.diagonal()[scipy.newaxis, :], [0]), shape=co_counts.shape)\n",
    "        # compute the shrinkage factor as co_counts_ij / (co_counts_ij + shrinkage)\n",
    "        # then multiply dist with it\n",
    "        co_counts_shrink = co_counts.copy()\n",
    "        co_counts_shrink.data += self.shrinkage\n",
    "        co_counts.data /= co_counts_shrink.data\n",
    "        dist.data *= co_counts.data\n",
    "        return dist\n"
   ]
  },
  {
   "cell_type": "code",
   "execution_count": null,
   "metadata": {
    "collapsed": true
   },
   "outputs": [],
   "source": [
    "distance = Cosine()"
   ]
  },
  {
   "cell_type": "code",
   "execution_count": null,
   "metadata": {
    "collapsed": true
   },
   "outputs": [],
   "source": [
    "SIM = distance.compute(M)"
   ]
  },
  {
   "cell_type": "code",
   "execution_count": null,
   "metadata": {
    "collapsed": true
   },
   "outputs": [],
   "source": [
    "SIM"
   ]
  },
  {
   "cell_type": "code",
   "execution_count": null,
   "metadata": {
    "collapsed": true
   },
   "outputs": [],
   "source": [
    "k = 50\n",
    "SIM = check_matrix(SIM, 'csr')\n",
    "values, rows, cols = [], [], []\n",
    "nitems = SIM.shape[0]\n",
    "for i in range(nitems):\n",
    "    if (i % 10000 == 0):\n",
    "        print(\"Item %d of %d\" % (i, nitems))\n",
    "\n",
    "    this_item_weights = SIM[i,:].toarray()[0]\n",
    "    top_k_idx = np.argsort(this_item_weights) [-k:]\n",
    "\n",
    "    values.extend(this_item_weights[top_k_idx])\n",
    "    rows.extend(np.arange(nitems)[top_k_idx])\n",
    "    cols.extend(np.ones(k) * i)\n",
    "W_sparse = sps.csc_matrix((values, (rows, cols)), shape=(nitems, nitems), dtype=np.float32)"
   ]
  },
  {
   "cell_type": "code",
   "execution_count": null,
   "metadata": {
    "collapsed": true
   },
   "outputs": [],
   "source": [
    "WM = W_sparse.dot(M)"
   ]
  },
  {
   "cell_type": "code",
   "execution_count": null,
   "metadata": {
    "collapsed": true
   },
   "outputs": [],
   "source": [
    "WM.data"
   ]
  },
  {
   "cell_type": "code",
   "execution_count": null,
   "metadata": {
    "collapsed": true
   },
   "outputs": [],
   "source": [
    "W_sparse.max()"
   ]
  },
  {
   "cell_type": "code",
   "execution_count": null,
   "metadata": {
    "collapsed": true
   },
   "outputs": [],
   "source": [
    "WM.max(1)"
   ]
  },
  {
   "cell_type": "code",
   "execution_count": null,
   "metadata": {
    "collapsed": true
   },
   "outputs": [],
   "source": [
    "M.max(1)"
   ]
  },
  {
   "cell_type": "code",
   "execution_count": null,
   "metadata": {
    "collapsed": true
   },
   "outputs": [],
   "source": [
    "W_sparse"
   ]
  },
  {
   "cell_type": "code",
   "execution_count": null,
   "metadata": {
    "collapsed": true
   },
   "outputs": [],
   "source": [
    "W_sparse[:,1].max()"
   ]
  },
  {
   "cell_type": "code",
   "execution_count": null,
   "metadata": {
    "collapsed": true
   },
   "outputs": [],
   "source": []
  },
  {
   "cell_type": "code",
   "execution_count": null,
   "metadata": {
    "collapsed": true
   },
   "outputs": [],
   "source": [
    "M[0,:].data"
   ]
  },
  {
   "cell_type": "code",
   "execution_count": null,
   "metadata": {
    "collapsed": true
   },
   "outputs": [],
   "source": [
    "WM = WM + M"
   ]
  },
  {
   "cell_type": "code",
   "execution_count": null,
   "metadata": {
    "collapsed": true
   },
   "outputs": [],
   "source": [
    "M"
   ]
  },
  {
   "cell_type": "code",
   "execution_count": null,
   "metadata": {
    "collapsed": true
   },
   "outputs": [],
   "source": [
    "distance = Cosine(5)\n",
    "pl_weights = distance.compute(UTM)        "
   ]
  },
  {
   "cell_type": "code",
   "execution_count": null,
   "metadata": {
    "collapsed": true
   },
   "outputs": [],
   "source": [
    "pl_weights[3,:].data"
   ]
  },
  {
   "cell_type": "code",
   "execution_count": null,
   "metadata": {
    "collapsed": true
   },
   "outputs": [],
   "source": []
  },
  {
   "cell_type": "code",
   "execution_count": null,
   "metadata": {
    "collapsed": true
   },
   "outputs": [],
   "source": [
    "k = 5\n",
    "pl_weights = check_matrix(pl_weights, 'csr')\n",
    "values, rows, cols = [], [], []\n",
    "nitems = pl_weights.shape[0]\n",
    "for i in range(nitems):\n",
    "    if (i % 10000 == 0):\n",
    "        print(\"Item %d of %d\" % (i, nitems))\n",
    "\n",
    "    this_item_weights = pl_weights[i,:].toarray()[0]\n",
    "    top_k_idx = np.argsort(this_item_weights) [-k:]\n",
    "\n",
    "    values.extend(this_item_weights[top_k_idx])\n",
    "    rows.extend(np.arange(nitems)[top_k_idx])\n",
    "    cols.extend(np.ones(k) * i)\n",
    "W_sparse = sps.csc_matrix((values, (rows, cols)), shape=(nitems, nitems), dtype=np.float32)"
   ]
  },
  {
   "cell_type": "code",
   "execution_count": null,
   "metadata": {
    "collapsed": true
   },
   "outputs": [],
   "source": [
    "M.shape"
   ]
  },
  {
   "cell_type": "code",
   "execution_count": null,
   "metadata": {
    "collapsed": true
   },
   "outputs": [],
   "source": [
    "M2 = 1.0*URM>0"
   ]
  },
  {
   "cell_type": "code",
   "execution_count": null,
   "metadata": {
    "collapsed": true
   },
   "outputs": [],
   "source": [
    "M2 = M2.astype('float32')"
   ]
  },
  {
   "cell_type": "code",
   "execution_count": null,
   "metadata": {
    "collapsed": true
   },
   "outputs": [],
   "source": [
    "URM2 = W_sparse.dot(M2)"
   ]
  },
  {
   "cell_type": "code",
   "execution_count": null,
   "metadata": {
    "collapsed": true
   },
   "outputs": [],
   "source": [
    "k = 5\n",
    "URM2 = check_matrix(URM2, 'csr')\n",
    "values, rows, cols = [], [], []\n",
    "nitems = URM2.shape[0]\n",
    "for i in range(nitems):\n",
    "    if (i % 10000 == 0):\n",
    "        print(\"Item %d of %d\" % (i, nitems))\n",
    "\n",
    "    this_item_weights = URM2[i,:].toarray()[0]\n",
    "    top_k_idx = np.argsort(this_item_weights) [-k:]\n",
    "\n",
    "    values.extend(this_item_weights[top_k_idx])\n",
    "    rows.extend(np.arange(nitems)[top_k_idx])\n",
    "    cols.extend(np.ones(k) * i)\n",
    "URM2 = sps.csc_matrix((values, (rows, cols)), shape=(nitems, nitems), dtype=np.float32)"
   ]
  },
  {
   "cell_type": "code",
   "execution_count": null,
   "metadata": {
    "collapsed": true
   },
   "outputs": [],
   "source": []
  },
  {
   "cell_type": "code",
   "execution_count": null,
   "metadata": {
    "collapsed": true
   },
   "outputs": [],
   "source": [
    "URM3 = URM2 + M2"
   ]
  },
  {
   "cell_type": "code",
   "execution_count": null,
   "metadata": {
    "collapsed": true
   },
   "outputs": [],
   "source": [
    "URM3"
   ]
  },
  {
   "cell_type": "code",
   "execution_count": null,
   "metadata": {
    "collapsed": true
   },
   "outputs": [],
   "source": [
    "1007372 + 3439780"
   ]
  },
  {
   "cell_type": "code",
   "execution_count": null,
   "metadata": {
    "collapsed": true
   },
   "outputs": [],
   "source": [
    "M = URM3"
   ]
  },
  {
   "cell_type": "code",
   "execution_count": null,
   "metadata": {
    "collapsed": true
   },
   "outputs": [],
   "source": []
  },
  {
   "cell_type": "code",
   "execution_count": null,
   "metadata": {
    "collapsed": true
   },
   "outputs": [],
   "source": []
  },
  {
   "cell_type": "code",
   "execution_count": null,
   "metadata": {
    "collapsed": true
   },
   "outputs": [],
   "source": []
  },
  {
   "cell_type": "code",
   "execution_count": null,
   "metadata": {
    "collapsed": true
   },
   "outputs": [],
   "source": []
  },
  {
   "cell_type": "code",
   "execution_count": null,
   "metadata": {
    "collapsed": true
   },
   "outputs": [],
   "source": []
  },
  {
   "cell_type": "code",
   "execution_count": null,
   "metadata": {
    "collapsed": true
   },
   "outputs": [],
   "source": []
  },
  {
   "cell_type": "code",
   "execution_count": null,
   "metadata": {
    "collapsed": true
   },
   "outputs": [],
   "source": []
  },
  {
   "cell_type": "code",
   "execution_count": null,
   "metadata": {
    "collapsed": true
   },
   "outputs": [],
   "source": []
  },
  {
   "cell_type": "code",
   "execution_count": null,
   "metadata": {
    "collapsed": true
   },
   "outputs": [],
   "source": [
    "M2 = M.copy()"
   ]
  },
  {
   "cell_type": "code",
   "execution_count": null,
   "metadata": {
    "collapsed": true
   },
   "outputs": [],
   "source": [
    "M2 = M2.transpose().tocsr()"
   ]
  },
  {
   "cell_type": "code",
   "execution_count": null,
   "metadata": {
    "collapsed": true
   },
   "outputs": [],
   "source": [
    "dist = Cosine()"
   ]
  },
  {
   "cell_type": "code",
   "execution_count": null,
   "metadata": {
    "collapsed": true
   },
   "outputs": [],
   "source": [
    "S = dist.compute(M2)"
   ]
  },
  {
   "cell_type": "code",
   "execution_count": null,
   "metadata": {
    "collapsed": true
   },
   "outputs": [],
   "source": [
    "S2 = S.copy()"
   ]
  },
  {
   "cell_type": "code",
   "execution_count": null,
   "metadata": {
    "collapsed": true
   },
   "outputs": [],
   "source": [
    "S2"
   ]
  },
  {
   "cell_type": "code",
   "execution_count": null,
   "metadata": {
    "collapsed": true
   },
   "outputs": [],
   "source": [
    "%%time\n",
    "k = 100\n",
    "S2 = check_matrix(S2, 'csr')\n",
    "values, rows, cols = [], [], []\n",
    "nitems = S2.shape[0]\n",
    "for i in range(nitems):\n",
    "    if (i % 10000 == 0):\n",
    "        print(\"Item %d of %d\" % (i, nitems))\n",
    "\n",
    "    this_item_weights = S2[i,:].toarray()[0]\n",
    "    top_k_idx = np.argsort(this_item_weights) [-k:]\n",
    "\n",
    "    values.extend(this_item_weights[top_k_idx])\n",
    "    rows.extend(np.arange(nitems)[top_k_idx])\n",
    "    cols.extend(np.ones(k) * i)\n",
    "\n",
    "S2 = sps.csc_matrix((values, (rows, cols)), shape=(nitems, nitems), dtype=np.float32)"
   ]
  },
  {
   "cell_type": "code",
   "execution_count": null,
   "metadata": {
    "collapsed": true
   },
   "outputs": [],
   "source": [
    "t = pd.read_csv('data/train_final.csv', sep='\\t')"
   ]
  },
  {
   "cell_type": "code",
   "execution_count": null,
   "metadata": {
    "collapsed": true
   },
   "outputs": [],
   "source": []
  },
  {
   "cell_type": "code",
   "execution_count": null,
   "metadata": {
    "collapsed": true
   },
   "outputs": [],
   "source": []
  },
  {
   "cell_type": "code",
   "execution_count": null,
   "metadata": {
    "collapsed": true
   },
   "outputs": [],
   "source": []
  },
  {
   "cell_type": "code",
   "execution_count": null,
   "metadata": {
    "collapsed": true
   },
   "outputs": [],
   "source": []
  },
  {
   "cell_type": "code",
   "execution_count": null,
   "metadata": {
    "collapsed": true
   },
   "outputs": [],
   "source": []
  },
  {
   "cell_type": "code",
   "execution_count": null,
   "metadata": {
    "collapsed": true
   },
   "outputs": [],
   "source": [
    "ttracks = pd.read_csv('data/target_tracks.csv', sep='\\t')"
   ]
  },
  {
   "cell_type": "code",
   "execution_count": null,
   "metadata": {
    "collapsed": true
   },
   "outputs": [],
   "source": [
    "tracks = pd.read_csv('data/tracks_final.csv', sep='\\t')"
   ]
  },
  {
   "cell_type": "code",
   "execution_count": null,
   "metadata": {
    "collapsed": true
   },
   "outputs": [],
   "source": [
    "train = pd.read_csv('data/train_final.csv', sep='\\t')"
   ]
  },
  {
   "cell_type": "code",
   "execution_count": null,
   "metadata": {
    "collapsed": true
   },
   "outputs": [],
   "source": [
    "tracks['album_clear'] = tracks['album'].apply(clear_album)"
   ]
  },
  {
   "cell_type": "code",
   "execution_count": null,
   "metadata": {
    "collapsed": true
   },
   "outputs": [],
   "source": [
    "tracks['tags_clear'] = tracks['tags'].apply(lambda x : eval(x))"
   ]
  },
  {
   "cell_type": "code",
   "execution_count": null,
   "metadata": {
    "collapsed": true
   },
   "outputs": [],
   "source": [
    "tracks['tag_len'] = tracks['tags_clear'].apply(lambda x : len(x))"
   ]
  },
  {
   "cell_type": "code",
   "execution_count": null,
   "metadata": {
    "collapsed": true
   },
   "outputs": [],
   "source": []
  },
  {
   "cell_type": "code",
   "execution_count": null,
   "metadata": {
    "collapsed": true
   },
   "outputs": [],
   "source": [
    "track_playlist_table = train.groupby('track_id').apply(lambda x : x['playlist_id'].values)"
   ]
  },
  {
   "cell_type": "code",
   "execution_count": null,
   "metadata": {
    "collapsed": true
   },
   "outputs": [],
   "source": [
    "track_playlist_table = pd.DataFrame(track_playlist_table, columns=['playlist_ids'])\n",
    "track_playlist_table['track_id'] = track_playlist_table.index"
   ]
  },
  {
   "cell_type": "code",
   "execution_count": null,
   "metadata": {
    "collapsed": true
   },
   "outputs": [],
   "source": [
    "track_playlist_table['pl_len'] = track_playlist_table['playlist_ids'].apply(lambda x : len(x))"
   ]
  },
  {
   "cell_type": "code",
   "execution_count": null,
   "metadata": {
    "collapsed": true
   },
   "outputs": [],
   "source": [
    "track_playlist_table['pl_len'].describe()"
   ]
  },
  {
   "cell_type": "code",
   "execution_count": null,
   "metadata": {
    "collapsed": true
   },
   "outputs": [],
   "source": [
    "tracks['tag_len'].describe()"
   ]
  },
  {
   "cell_type": "code",
   "execution_count": null,
   "metadata": {
    "collapsed": true
   },
   "outputs": [],
   "source": [
    "sum(tracks['tag_len']== 0)"
   ]
  },
  {
   "cell_type": "code",
   "execution_count": null,
   "metadata": {
    "collapsed": true
   },
   "outputs": [],
   "source": []
  },
  {
   "cell_type": "code",
   "execution_count": null,
   "metadata": {
    "collapsed": true
   },
   "outputs": [],
   "source": [
    "sum(tracks['album_clear'].isnull())"
   ]
  },
  {
   "cell_type": "code",
   "execution_count": null,
   "metadata": {
    "collapsed": true
   },
   "outputs": [],
   "source": [
    "tttracks = tracks[tracks.track_id.isin(ttracks.track_id)].copy()"
   ]
  },
  {
   "cell_type": "code",
   "execution_count": null,
   "metadata": {
    "collapsed": true
   },
   "outputs": [],
   "source": [
    "sum(tttracks['tag_len'] == 0)"
   ]
  },
  {
   "cell_type": "code",
   "execution_count": null,
   "metadata": {
    "collapsed": true
   },
   "outputs": [],
   "source": [
    "758/32000"
   ]
  },
  {
   "cell_type": "code",
   "execution_count": null,
   "metadata": {
    "collapsed": true
   },
   "outputs": [],
   "source": [
    "2789/100000"
   ]
  },
  {
   "cell_type": "markdown",
   "metadata": {},
   "source": [
    "All target tracks has author\n",
    "\n",
    "8k over 32k tracks has null album, but this is ok according to general distribution (25% of tracks has no album)\n",
    "\n",
    "758 tracks has no tag, but this is normal according to distribution (2% of the tracks has empty tag list)\n",
    "all the tracks that has empty tag list also have empty duration and empty playcount"
   ]
  },
  {
   "cell_type": "code",
   "execution_count": null,
   "metadata": {
    "collapsed": true
   },
   "outputs": [],
   "source": [
    "def clear_album(album_string):\n",
    "    l = album_string[1:-1]\n",
    "    if l == '' or l == 'None':\n",
    "        return None\n",
    "    else:\n",
    "        return int(l)"
   ]
  },
  {
   "cell_type": "code",
   "execution_count": null,
   "metadata": {
    "collapsed": true
   },
   "outputs": [],
   "source": [
    "tttracks['album_clear'] = tttracks['album'].apply(clear_album)"
   ]
  },
  {
   "cell_type": "code",
   "execution_count": null,
   "metadata": {
    "collapsed": true
   },
   "outputs": [],
   "source": [
    "sum(tttracks['duration'] == -1)"
   ]
  },
  {
   "cell_type": "code",
   "execution_count": null,
   "metadata": {
    "collapsed": true
   },
   "outputs": [],
   "source": []
  },
  {
   "cell_type": "code",
   "execution_count": null,
   "metadata": {
    "collapsed": true
   },
   "outputs": [],
   "source": []
  },
  {
   "cell_type": "code",
   "execution_count": null,
   "metadata": {
    "collapsed": true
   },
   "outputs": [],
   "source": []
  },
  {
   "cell_type": "code",
   "execution_count": null,
   "metadata": {
    "collapsed": true
   },
   "outputs": [],
   "source": []
  },
  {
   "cell_type": "code",
   "execution_count": null,
   "metadata": {
    "collapsed": true
   },
   "outputs": [],
   "source": []
  },
  {
   "cell_type": "code",
   "execution_count": null,
   "metadata": {
    "collapsed": true
   },
   "outputs": [],
   "source": []
  },
  {
   "cell_type": "code",
   "execution_count": null,
   "metadata": {
    "collapsed": true
   },
   "outputs": [],
   "source": []
  },
  {
   "cell_type": "code",
   "execution_count": null,
   "metadata": {
    "collapsed": true
   },
   "outputs": [],
   "source": []
  },
  {
   "cell_type": "code",
   "execution_count": null,
   "metadata": {
    "collapsed": true
   },
   "outputs": [],
   "source": []
  },
  {
   "cell_type": "code",
   "execution_count": null,
   "metadata": {
    "collapsed": true
   },
   "outputs": [],
   "source": []
  },
  {
   "cell_type": "code",
   "execution_count": null,
   "metadata": {
    "collapsed": true
   },
   "outputs": [],
   "source": []
  },
  {
   "cell_type": "code",
   "execution_count": null,
   "metadata": {
    "collapsed": true
   },
   "outputs": [],
   "source": [
    "train_original = pd.read_csv('data/train_final.csv', sep='\\t')"
   ]
  },
  {
   "cell_type": "code",
   "execution_count": null,
   "metadata": {
    "collapsed": true
   },
   "outputs": [],
   "source": [
    "train, test, target_playlists, target_tracks = train_test_split(train, test_size = 0.4, min_playlist_tracks=10)"
   ]
  },
  {
   "cell_type": "code",
   "execution_count": null,
   "metadata": {
    "collapsed": true
   },
   "outputs": [],
   "source": [
    "import myslim"
   ]
  },
  {
   "cell_type": "code",
   "execution_count": null,
   "metadata": {
    "collapsed": true
   },
   "outputs": [],
   "source": [
    "M = load_URM()"
   ]
  },
  {
   "cell_type": "code",
   "execution_count": null,
   "metadata": {
    "collapsed": true
   },
   "outputs": [],
   "source": [
    "import implicit\n",
    "from implicit.nearest_neighbours import bm25_weight, tfidf_weight"
   ]
  },
  {
   "cell_type": "code",
   "execution_count": null,
   "metadata": {
    "collapsed": true
   },
   "outputs": [],
   "source": [
    "model = implicit.als.AlternatingLeastSquares(factors=1000, regularization=20, iterations=1)"
   ]
  },
  {
   "cell_type": "code",
   "execution_count": null,
   "metadata": {
    "collapsed": true
   },
   "outputs": [],
   "source": [
    "M2 = bm25_weight(M) * 5"
   ]
  },
  {
   "cell_type": "code",
   "execution_count": null,
   "metadata": {},
   "outputs": [],
   "source": [
    "%%time\n",
    "model.fit(M2)"
   ]
  },
  {
   "cell_type": "code",
   "execution_count": null,
   "metadata": {
    "collapsed": true
   },
   "outputs": [],
   "source": [
    "A = model.user_factors\n",
    "B = model.item_factors.transpose()"
   ]
  },
  {
   "cell_type": "code",
   "execution_count": null,
   "metadata": {
    "collapsed": true
   },
   "outputs": [],
   "source": []
  },
  {
   "cell_type": "code",
   "execution_count": null,
   "metadata": {},
   "outputs": [],
   "source": [
    "A"
   ]
  },
  {
   "cell_type": "code",
   "execution_count": null,
   "metadata": {
    "collapsed": true
   },
   "outputs": [],
   "source": [
    "pl2id_map = build_num_to_id_map(playlists, 'playlist_id')\n",
    "tr2id_map = build_num_to_id_map(tracks, 'track_id')\n",
    "pl2num_map = build_id_to_num_map(playlists, 'playlist_id')\n",
    "\n",
    "M = M.tocsr()\n",
    "predictions = {}\n",
    "for pl_id in target_playlists['playlist_id'].values:\n",
    "    pl_num = pl2num_map[pl_id]\n",
    "    r = A[pl_num,:].dot(B)\n",
    "    idx = r.argsort()\n",
    "    ranking = np.flip(idx, 0)\n",
    "    \n",
    "    count = 0\n",
    "    i = 0\n",
    "    pred = []\n",
    "    while count < 5 and i < len(ranking):\n",
    "        tr_id = tr2id_map[ranking[i]]\n",
    "        if tr_id not in tracks_in_playlist.loc[pl_id]['track_ids']:\n",
    "            pred.append(tr_id)\n",
    "            count +=1\n",
    "        i+=1\n",
    "    i=0\n",
    "    if (len(pred) < 5):\n",
    "        print(\"aaaargh len < 5\")\n",
    "        print(\"{0}\".format(pl_num))\n",
    "    while len(pred) < 5 and i < len(ranking):\n",
    "        pred.append(tr2id_map[ranking[i]])\n",
    "        i+=1\n",
    "    while(len(pred) < 5):\n",
    "        pred.append(0)\n",
    "    predictions[pl_id] = np.array(pred)\n",
    "\n",
    "pred = pd.DataFrame()\n",
    "pred['playlist_id'] = predictions.keys()\n",
    "pred['track_ids'] = list(predictions.values())"
   ]
  },
  {
   "cell_type": "code",
   "execution_count": null,
   "metadata": {},
   "outputs": [],
   "source": [
    "print(evaluate(test, pred))"
   ]
  },
  {
   "cell_type": "code",
   "execution_count": null,
   "metadata": {
    "collapsed": true
   },
   "outputs": [],
   "source": []
  }
 ],
 "metadata": {
  "kernelspec": {
   "display_name": "Python 3",
   "language": "python",
   "name": "python3"
  },
  "language_info": {
   "codemirror_mode": {
    "name": "ipython",
    "version": 3
   },
   "file_extension": ".py",
   "mimetype": "text/x-python",
   "name": "python",
   "nbconvert_exporter": "python",
   "pygments_lexer": "ipython3",
   "version": "3.5.3"
  }
 },
 "nbformat": 4,
 "nbformat_minor": 2
}
