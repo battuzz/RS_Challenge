{
 "cells": [
  {
   "cell_type": "code",
   "execution_count": 1,
   "metadata": {
    "collapsed": true
   },
   "outputs": [],
   "source": [
    "from scipy.sparse import *\n",
    "import numpy as np\n",
    "import pandas as pd\n",
    "import sys\n",
    "import math\n",
    "\n",
    "from recsys.preprocess import *\n",
    "from recsys.utility import *"
   ]
  },
  {
   "cell_type": "code",
   "execution_count": 2,
   "metadata": {
    "collapsed": true
   },
   "outputs": [],
   "source": [
    "def load_things(location, has_test = True):\n",
    "    global train, test, playlists, tracks, target_tracks, target_playlists, tracks_in_playlist, tracks_target_only\n",
    "\n",
    "    train = pd.read_csv(os.path.join(location, 'train.csv'))\n",
    "    target_playlists = pd.read_csv(os.path.join(location, 'target_playlists.csv'))\n",
    "    target_tracks = pd.read_csv(os.path.join(location, 'target_tracks.csv'))\n",
    "\n",
    "    playlists = pd.read_csv('data/playlists_final.csv', delimiter='\\t')\n",
    "    tracks = pd.read_csv('data/tracks_final.csv', delimiter='\\t')\n",
    "\n",
    "    tracks['tags'] = tracks['tags'].apply(lambda x: np.array(eval(x)))\n",
    "    tracks.index = tracks.track_id\n",
    "\n",
    "    tracks_in_playlist = get_playlist_track_list2(train)\n",
    "    tracks_target_only = tracks[tracks.track_id.isin(target_tracks.track_id)]\n",
    "    \n",
    "    if has_test:\n",
    "        test = pd.read_csv(os.path.join(location, 'test.csv'))"
   ]
  },
  {
   "cell_type": "code",
   "execution_count": 3,
   "metadata": {
    "collapsed": true
   },
   "outputs": [],
   "source": [
    "def load_similarity(location):\n",
    "    row = []\n",
    "    col = []\n",
    "    data = []\n",
    "    content = None\n",
    "    with open(os.path.join(location, 'similarity.txt'), 'r') as f:\n",
    "        content = f.readlines()\n",
    "\n",
    "    row = list(map(int, content[1].strip().split(' ')))\n",
    "    col = list(map(int, content[2].strip().split(' ')))\n",
    "    data = list(map(float, content[3].strip().split(' ')))\n",
    "\n",
    "    coo = coo_matrix((data, (row, col)))\n",
    "    csr = coo.tocsr()\n",
    "\n",
    "    return csr"
   ]
  },
  {
   "cell_type": "code",
   "execution_count": 4,
   "metadata": {
    "collapsed": true
   },
   "outputs": [],
   "source": [
    "def from_num_to_id(df, row_num, column = 'track_id'):\n",
    "    \"\"\" df must have a 'track_id' column \"\"\"\n",
    "    return df.iloc[row_num][column]\n",
    "\n",
    "def from_id_to_num(df, tr_id, column='track_id'):\n",
    "    \"\"\" df must have a 'track_id' column \"\"\"\n",
    "    return np.where(df[column].values == tr_id)[0][0]"
   ]
  },
  {
   "cell_type": "code",
   "execution_count": 5,
   "metadata": {
    "collapsed": true
   },
   "outputs": [],
   "source": [
    "def build_id_to_num_map(df, column):\n",
    "    a = pd.Series(np.arange(len(df)))\n",
    "    a.index = df[column]\n",
    "    return a\n",
    "\n",
    "def build_num_to_id_map(df, column):\n",
    "    a = pd.Series(df[column])\n",
    "    a.index = np.arange(len(df))\n",
    "    return a"
   ]
  },
  {
   "cell_type": "code",
   "execution_count": 6,
   "metadata": {},
   "outputs": [],
   "source": [
    "def load_URM():\n",
    "    tr_map = build_id_to_num_map(tracks, 'track_id')\n",
    "    pl_map = build_id_to_num_map(playlists, 'playlist_id')\n",
    "    \n",
    "    train_new = pd.DataFrame()\n",
    "    train_new['track_id'] = train['track_id'].apply(lambda x : tr_map[x])\n",
    "    train_new['playlist_id'] = train['playlist_id'].apply(lambda x : pl_map[x])\n",
    "    \n",
    "    rows = train_new['playlist_id'].values\n",
    "    cols = train_new['track_id'].values\n",
    "    values = np.ones(len(train_new))\n",
    "    \n",
    "    M = coo_matrix((values, (rows, cols)))\n",
    "    return M.tocsr()\n",
    "    "
   ]
  },
  {
   "cell_type": "code",
   "execution_count": null,
   "metadata": {
    "collapsed": true
   },
   "outputs": [],
   "source": []
  },
  {
   "cell_type": "code",
   "execution_count": null,
   "metadata": {
    "collapsed": true
   },
   "outputs": [],
   "source": []
  },
  {
   "cell_type": "code",
   "execution_count": null,
   "metadata": {
    "collapsed": true
   },
   "outputs": [],
   "source": []
  },
  {
   "cell_type": "markdown",
   "metadata": {},
   "source": [
    "# Set location of the folder with all data"
   ]
  },
  {
   "cell_type": "code",
   "execution_count": 7,
   "metadata": {
    "collapsed": true
   },
   "outputs": [],
   "source": [
    "location = 'submission2/'"
   ]
  },
  {
   "cell_type": "code",
   "execution_count": 9,
   "metadata": {},
   "outputs": [],
   "source": [
    "load_things(location, False)"
   ]
  },
  {
   "cell_type": "markdown",
   "metadata": {},
   "source": [
    "## Load URM"
   ]
  },
  {
   "cell_type": "code",
   "execution_count": 10,
   "metadata": {},
   "outputs": [
    {
     "name": "stdout",
     "output_type": "stream",
     "text": [
      "CPU times: user 19.2 s, sys: 127 ms, total: 19.3 s\n",
      "Wall time: 19.3 s\n"
     ]
    }
   ],
   "source": [
    "%%time\n",
    "M = load_URM()"
   ]
  },
  {
   "cell_type": "code",
   "execution_count": 11,
   "metadata": {
    "collapsed": true
   },
   "outputs": [],
   "source": [
    "M = M.tocsc()\n",
    "for i in range(M.shape[1]):\n",
    "    n_playlist = M.indptr[i+1] - M.indptr[i]\n",
    "    if n_playlist >= 1:\n",
    "        M.data[M.indptr[i]:M.indptr[i+1]] = np.repeat(math.log((M.shape[0]) / (n_playlist)), n_playlist)"
   ]
  },
  {
   "cell_type": "code",
   "execution_count": 11,
   "metadata": {},
   "outputs": [
    {
     "name": "stdout",
     "output_type": "stream",
     "text": [
      "argh\n"
     ]
    }
   ],
   "source": [
    "M = M.tocsc()\n",
    "max_pl_length = M.sum(0).A.max()\n",
    "for i in range(M.shape[1]):\n",
    "    n_playlist = M.indptr[i+1] - M.indptr[i]\n",
    "    if n_playlist >= 1:\n",
    "        M.data[M.indptr[i]:M.indptr[i+1]] = np.repeat(math.log((max_pl_length + 20) / (n_playlist)), n_playlist)\n",
    "    else:\n",
    "        print(\"argh\")\n",
    "        M.data[M.indptr[i]:M.indptr[i+1]] = np.repeat(math.log((max_pl_length + 20) / (n_playlist+5)), n_playlist)"
   ]
  },
  {
   "cell_type": "code",
   "execution_count": null,
   "metadata": {
    "collapsed": true
   },
   "outputs": [],
   "source": []
  },
  {
   "cell_type": "code",
   "execution_count": null,
   "metadata": {
    "collapsed": true
   },
   "outputs": [],
   "source": []
  },
  {
   "cell_type": "code",
   "execution_count": null,
   "metadata": {
    "collapsed": true
   },
   "outputs": [],
   "source": []
  },
  {
   "cell_type": "code",
   "execution_count": null,
   "metadata": {
    "collapsed": true
   },
   "outputs": [],
   "source": []
  },
  {
   "cell_type": "markdown",
   "metadata": {},
   "source": [
    "## Prediction #1: dot product"
   ]
  },
  {
   "cell_type": "markdown",
   "metadata": {},
   "source": [
    "Best result so far: \n",
    "\n",
    "- 1.5 0.7 0 0 0.1 0 0.01   --> 0.0735\n",
    "- 1.5 0.7 0 0 0.1 0 0 --> 0.0710\n",
    "- 1 0.7 0.01 0 0.3 0 0 --> 0.0669\n",
    "- 1.4 0.7 0.01 0 0.3 0 0.5 --> 0.0659\n",
    "- 1.4 0.7 0.01 0 0.3 0.4 0.01 --> 0.0638\n",
    "- 1.5 0.7 0 0 0.1 0 0 --> 0.07108\n",
    "- 1.5 0.7 0 0 0.1 0 0.02 --> 0.07346\n",
    "- 1.5 0.7 0 0 0.1 0 0.1 --> 0.734\n",
    "- 1.7 0.7 0 0 0.1 0 0.5 --> 0.0585\n",
    "\n",
    "== dataset 2\n",
    "\n",
    "- 1.5 0.7 0.1 0 0.1 0 0.01 --> 0.07207\n",
    "\n",
    "(restoring tag idf)\n",
    "- 1.5 0.7 0.1 0 0.1 0 0.01 --> 0.0742\n",
    "- 1.5 0.7 0 0 0.3 0 0.01 --> 0.07166\n",
    "- 1.5 0.5 0.01 0.01 0.1 0 0.01 --> 0.07165\n",
    "\n",
    "== dataset 3\n",
    "- 1.5 0.7 0.1 0 0.1 0 0.01 --> 0.0722\n",
    "\n",
    "(using tag IDF log(100000/#tag_freq)\n",
    "\n",
    "== dataset 5\n",
    "- 1.5 0.7 0.1 0.1 0.1 0.1 0.1 --> 0.07548  (URM changed)\n",
    "- 1 0.7 0.1 0.1 0.1 0.1 0.1 --> 0.0739   (URM changed)\n",
    "- 1 0.7 0.1 0.1 0.1 0.1 0.1 --> 0.0715\n",
    "\n",
    "== dataset 7\n",
    "- 1.5 0.7 0.1 0.1 0.1 0.1 0.1 --> 0.0723\n",
    "- 1.5 0.7 0.1 0.1 0.1 0.1 0.1 --> 0.07467 (URM changed)\n",
    "- 1.5 0.7 0.1 0.1 0.1 0.1 0.1 --> 0.07585 (URM changed v.2)\n"
   ]
  },
  {
   "cell_type": "code",
   "execution_count": 12,
   "metadata": {},
   "outputs": [],
   "source": [
    "S = load_similarity(location)\n",
    "pl2id_map = build_num_to_id_map(playlists, 'playlist_id')\n",
    "tr2id_map = build_num_to_id_map(tracks, 'track_id')\n",
    "pl2num_map = build_id_to_num_map(playlists, 'playlist_id')\n",
    "\n",
    "M = M.tocsr()\n",
    "predictions = {}\n",
    "for pl_id in target_playlists['playlist_id'].values:\n",
    "    pl_num = pl2num_map[pl_id]\n",
    "    r = M[pl_num,:].dot(S)\n",
    "    idx = r.data.argsort()\n",
    "    ranking = np.flip(r.indices[idx], 0)\n",
    "    \n",
    "    count = 0\n",
    "    i = 0\n",
    "    pred = []\n",
    "    while count < 5 and i < len(ranking):\n",
    "        tr_id = tr2id_map[ranking[i]]\n",
    "        if tr_id not in tracks_in_playlist.loc[pl_id]['track_ids']:\n",
    "            pred.append(tr_id)\n",
    "            count +=1\n",
    "        i+=1\n",
    "    i=0\n",
    "    if (len(pred) < 5):\n",
    "        print(\"aaaargh len < 5\")\n",
    "        print(\"{0}\".format(pl_num))\n",
    "    while len(pred) < 5 and i < len(ranking):\n",
    "        pred.append(tr2id_map[ranking[i]])\n",
    "        i+=1\n",
    "    predictions[pl_id] = np.array(pred)\n",
    "\n",
    "pred = pd.DataFrame()\n",
    "pred['playlist_id'] = predictions.keys()\n",
    "pred['track_ids'] = list(predictions.values())\n",
    "#evaluate(test, pred)"
   ]
  },
  {
   "cell_type": "code",
   "execution_count": 13,
   "metadata": {},
   "outputs": [
    {
     "data": {
      "text/plain": [
       "10000"
      ]
     },
     "execution_count": 13,
     "metadata": {},
     "output_type": "execute_result"
    }
   ],
   "source": [
    "len(pred)"
   ]
  },
  {
   "cell_type": "code",
   "execution_count": null,
   "metadata": {
    "collapsed": true
   },
   "outputs": [],
   "source": [
    "pred['track_ids'] = pred['track_ids'].apply(lambda x : ' '.join(map(str, x)))"
   ]
  },
  {
   "cell_type": "code",
   "execution_count": 16,
   "metadata": {
    "collapsed": true
   },
   "outputs": [],
   "source": [
    "pred.to_csv(os.path.join(location,'results.csv'), index=False)"
   ]
  },
  {
   "cell_type": "code",
   "execution_count": 17,
   "metadata": {},
   "outputs": [
    {
     "data": {
      "text/html": [
       "<div>\n",
       "<table border=\"1\" class=\"dataframe\">\n",
       "  <thead>\n",
       "    <tr style=\"text-align: right;\">\n",
       "      <th></th>\n",
       "      <th>playlist_id</th>\n",
       "      <th>track_ids</th>\n",
       "    </tr>\n",
       "  </thead>\n",
       "  <tbody>\n",
       "    <tr>\n",
       "      <th>0</th>\n",
       "      <td>10024884</td>\n",
       "      <td>2327471 2730084 2985464 3749918 1425053</td>\n",
       "    </tr>\n",
       "    <tr>\n",
       "      <th>1</th>\n",
       "      <td>10624787</td>\n",
       "      <td>2016284 3779369 381424 309262 3392560</td>\n",
       "    </tr>\n",
       "    <tr>\n",
       "      <th>2</th>\n",
       "      <td>4891851</td>\n",
       "      <td>1406862 1371741 1886350 2089117 166570</td>\n",
       "    </tr>\n",
       "    <tr>\n",
       "      <th>3</th>\n",
       "      <td>4267369</td>\n",
       "      <td>2504992 2575850 290643 2740798 3214480</td>\n",
       "    </tr>\n",
       "    <tr>\n",
       "      <th>4</th>\n",
       "      <td>65078</td>\n",
       "      <td>3138311 2225630 1210951 3341178 431268</td>\n",
       "    </tr>\n",
       "    <tr>\n",
       "      <th>5</th>\n",
       "      <td>10637124</td>\n",
       "      <td>2340644 2123901 414791 1120194 3559283</td>\n",
       "    </tr>\n",
       "    <tr>\n",
       "      <th>6</th>\n",
       "      <td>3223162</td>\n",
       "      <td>2787106 281865 303587 2296339 1510434</td>\n",
       "    </tr>\n",
       "    <tr>\n",
       "      <th>7</th>\n",
       "      <td>7541503</td>\n",
       "      <td>661053 2086779 585705 2889733 3219595</td>\n",
       "    </tr>\n",
       "    <tr>\n",
       "      <th>8</th>\n",
       "      <td>6189367</td>\n",
       "      <td>495158 1054050 276186 1195554 1675280</td>\n",
       "    </tr>\n",
       "    <tr>\n",
       "      <th>9</th>\n",
       "      <td>8459943</td>\n",
       "      <td>3129861 2955950 1070186 826298 1101374</td>\n",
       "    </tr>\n",
       "    <tr>\n",
       "      <th>10</th>\n",
       "      <td>10138804</td>\n",
       "      <td>3004728 42805 1155458 1767226 3583017</td>\n",
       "    </tr>\n",
       "    <tr>\n",
       "      <th>11</th>\n",
       "      <td>10562075</td>\n",
       "      <td>2371834 2560279 3159807 1260556 1881344</td>\n",
       "    </tr>\n",
       "    <tr>\n",
       "      <th>12</th>\n",
       "      <td>10184821</td>\n",
       "      <td>106861 1217213 170797 2950401 377629</td>\n",
       "    </tr>\n",
       "    <tr>\n",
       "      <th>13</th>\n",
       "      <td>4189678</td>\n",
       "      <td>2829202 2594670 3791664 376309 3261537</td>\n",
       "    </tr>\n",
       "    <tr>\n",
       "      <th>14</th>\n",
       "      <td>6299524</td>\n",
       "      <td>1527961 1692721 2969236 2730881 3688734</td>\n",
       "    </tr>\n",
       "    <tr>\n",
       "      <th>15</th>\n",
       "      <td>8515028</td>\n",
       "      <td>3203856 3711077 1959480 4486831 137945</td>\n",
       "    </tr>\n",
       "    <tr>\n",
       "      <th>16</th>\n",
       "      <td>10631638</td>\n",
       "      <td>2496468 360800 3068522 2931442 1646238</td>\n",
       "    </tr>\n",
       "    <tr>\n",
       "      <th>17</th>\n",
       "      <td>10947423</td>\n",
       "      <td>3743698 1702828 3664926 3726795 1170541</td>\n",
       "    </tr>\n",
       "    <tr>\n",
       "      <th>18</th>\n",
       "      <td>11295404</td>\n",
       "      <td>2840867 93919 3621084 1663866 3261304</td>\n",
       "    </tr>\n",
       "    <tr>\n",
       "      <th>19</th>\n",
       "      <td>3884714</td>\n",
       "      <td>1297735 1527919 1375351 1846977 3334539</td>\n",
       "    </tr>\n",
       "    <tr>\n",
       "      <th>20</th>\n",
       "      <td>10680851</td>\n",
       "      <td>1563133 495027 3349944 3056917 1911261</td>\n",
       "    </tr>\n",
       "    <tr>\n",
       "      <th>21</th>\n",
       "      <td>3228268</td>\n",
       "      <td>3173841 1896558 209196 3197875 1969864</td>\n",
       "    </tr>\n",
       "    <tr>\n",
       "      <th>22</th>\n",
       "      <td>7850055</td>\n",
       "      <td>3426348 1206974 3598647 1127506 143307</td>\n",
       "    </tr>\n",
       "    <tr>\n",
       "      <th>23</th>\n",
       "      <td>10864017</td>\n",
       "      <td>727440 475411 2522691 2158568 1804337</td>\n",
       "    </tr>\n",
       "    <tr>\n",
       "      <th>24</th>\n",
       "      <td>5660760</td>\n",
       "      <td>1321053 2110917 723257 4733003 3862221</td>\n",
       "    </tr>\n",
       "    <tr>\n",
       "      <th>25</th>\n",
       "      <td>4157419</td>\n",
       "      <td>1532492 3534170 2898395 3357942 451881</td>\n",
       "    </tr>\n",
       "    <tr>\n",
       "      <th>26</th>\n",
       "      <td>3304833</td>\n",
       "      <td>1130644 2423405 1246232 2297555 648467</td>\n",
       "    </tr>\n",
       "    <tr>\n",
       "      <th>27</th>\n",
       "      <td>1911645</td>\n",
       "      <td>3872219 911131 644831 3075374 1300825</td>\n",
       "    </tr>\n",
       "    <tr>\n",
       "      <th>28</th>\n",
       "      <td>4902536</td>\n",
       "      <td>2160491 1216683 3581227 3103440 2467218</td>\n",
       "    </tr>\n",
       "    <tr>\n",
       "      <th>29</th>\n",
       "      <td>1140304</td>\n",
       "      <td>3533742 3669444 258655 2585019 4437543</td>\n",
       "    </tr>\n",
       "    <tr>\n",
       "      <th>...</th>\n",
       "      <td>...</td>\n",
       "      <td>...</td>\n",
       "    </tr>\n",
       "    <tr>\n",
       "      <th>9970</th>\n",
       "      <td>11381473</td>\n",
       "      <td>2586600 854082 166355 2226095 637958</td>\n",
       "    </tr>\n",
       "    <tr>\n",
       "      <th>9971</th>\n",
       "      <td>3520121</td>\n",
       "      <td>363983 184737 3778293 1205292 1495432</td>\n",
       "    </tr>\n",
       "    <tr>\n",
       "      <th>9972</th>\n",
       "      <td>6612439</td>\n",
       "      <td>3669733 464546 1935970 899680 2792757</td>\n",
       "    </tr>\n",
       "    <tr>\n",
       "      <th>9973</th>\n",
       "      <td>6218231</td>\n",
       "      <td>2245140 3530649 2897028 128344 2158033</td>\n",
       "    </tr>\n",
       "    <tr>\n",
       "      <th>9974</th>\n",
       "      <td>8344678</td>\n",
       "      <td>3570539 3534697 193921 280934 3354374</td>\n",
       "    </tr>\n",
       "    <tr>\n",
       "      <th>9975</th>\n",
       "      <td>7470841</td>\n",
       "      <td>1058277 1657819 60000 1809419 3034532</td>\n",
       "    </tr>\n",
       "    <tr>\n",
       "      <th>9976</th>\n",
       "      <td>6423094</td>\n",
       "      <td>519961 3431460 342866 703393 3863551</td>\n",
       "    </tr>\n",
       "    <tr>\n",
       "      <th>9977</th>\n",
       "      <td>8139437</td>\n",
       "      <td>840796 3515015 1108653 731135 2785990</td>\n",
       "    </tr>\n",
       "    <tr>\n",
       "      <th>9978</th>\n",
       "      <td>8227203</td>\n",
       "      <td>180331 683975 2268115 190241 717073</td>\n",
       "    </tr>\n",
       "    <tr>\n",
       "      <th>9979</th>\n",
       "      <td>5903507</td>\n",
       "      <td>2863395 210749 3435028 3193037 2103486</td>\n",
       "    </tr>\n",
       "    <tr>\n",
       "      <th>9980</th>\n",
       "      <td>3778920</td>\n",
       "      <td>1253826 2473550 3003808 1349692 2944894</td>\n",
       "    </tr>\n",
       "    <tr>\n",
       "      <th>9981</th>\n",
       "      <td>1061175</td>\n",
       "      <td>864246 3782521 3767807 548066 2525398</td>\n",
       "    </tr>\n",
       "    <tr>\n",
       "      <th>9982</th>\n",
       "      <td>8572406</td>\n",
       "      <td>2322469 1083855 3589233 1233102 3516693</td>\n",
       "    </tr>\n",
       "    <tr>\n",
       "      <th>9983</th>\n",
       "      <td>10413491</td>\n",
       "      <td>2859364 2671 2158601 1437634 2754318</td>\n",
       "    </tr>\n",
       "    <tr>\n",
       "      <th>9984</th>\n",
       "      <td>8868869</td>\n",
       "      <td>2674310 1605476 2744430 1649595 2396540</td>\n",
       "    </tr>\n",
       "    <tr>\n",
       "      <th>9985</th>\n",
       "      <td>8202309</td>\n",
       "      <td>3580817 3548542 1137706 962187 2732766</td>\n",
       "    </tr>\n",
       "    <tr>\n",
       "      <th>9986</th>\n",
       "      <td>7784396</td>\n",
       "      <td>3303143 1707977 810006 3529494 467063</td>\n",
       "    </tr>\n",
       "    <tr>\n",
       "      <th>9987</th>\n",
       "      <td>4622927</td>\n",
       "      <td>3711243 2677111 2845857 525392 3166626</td>\n",
       "    </tr>\n",
       "    <tr>\n",
       "      <th>9988</th>\n",
       "      <td>11542825</td>\n",
       "      <td>251931 1935713 1909084 813943 2274426</td>\n",
       "    </tr>\n",
       "    <tr>\n",
       "      <th>9989</th>\n",
       "      <td>7138440</td>\n",
       "      <td>2008442 2712377 2248261 849916 268373</td>\n",
       "    </tr>\n",
       "    <tr>\n",
       "      <th>9990</th>\n",
       "      <td>5146771</td>\n",
       "      <td>2522691 727440 1936235 307738 1796372</td>\n",
       "    </tr>\n",
       "    <tr>\n",
       "      <th>9991</th>\n",
       "      <td>4506918</td>\n",
       "      <td>2712708 3139246 3598647 163181 2942274</td>\n",
       "    </tr>\n",
       "    <tr>\n",
       "      <th>9992</th>\n",
       "      <td>10337087</td>\n",
       "      <td>3003456 84086 548500 2895494 3021665</td>\n",
       "    </tr>\n",
       "    <tr>\n",
       "      <th>9993</th>\n",
       "      <td>5608217</td>\n",
       "      <td>303222 2847695 2776563 3075922 1439363</td>\n",
       "    </tr>\n",
       "    <tr>\n",
       "      <th>9994</th>\n",
       "      <td>7697108</td>\n",
       "      <td>666692 2537040 403415 263609 3632349</td>\n",
       "    </tr>\n",
       "    <tr>\n",
       "      <th>9995</th>\n",
       "      <td>11616286</td>\n",
       "      <td>3360049 1948409 2981418 3067297 582317</td>\n",
       "    </tr>\n",
       "    <tr>\n",
       "      <th>9996</th>\n",
       "      <td>53201</td>\n",
       "      <td>3051566 3076030 3184131 3337526 962932</td>\n",
       "    </tr>\n",
       "    <tr>\n",
       "      <th>9997</th>\n",
       "      <td>11369546</td>\n",
       "      <td>2827871 2667736 969969 2078842 861186</td>\n",
       "    </tr>\n",
       "    <tr>\n",
       "      <th>9998</th>\n",
       "      <td>7939535</td>\n",
       "      <td>1611073 2374774 3788236 2182989 3053313</td>\n",
       "    </tr>\n",
       "    <tr>\n",
       "      <th>9999</th>\n",
       "      <td>297021</td>\n",
       "      <td>3342838 1729875 1811008 3637072 544749</td>\n",
       "    </tr>\n",
       "  </tbody>\n",
       "</table>\n",
       "<p>10000 rows × 2 columns</p>\n",
       "</div>"
      ],
      "text/plain": [
       "      playlist_id                                track_ids\n",
       "0        10024884  2327471 2730084 2985464 3749918 1425053\n",
       "1        10624787    2016284 3779369 381424 309262 3392560\n",
       "2         4891851   1406862 1371741 1886350 2089117 166570\n",
       "3         4267369   2504992 2575850 290643 2740798 3214480\n",
       "4           65078   3138311 2225630 1210951 3341178 431268\n",
       "5        10637124   2340644 2123901 414791 1120194 3559283\n",
       "6         3223162    2787106 281865 303587 2296339 1510434\n",
       "7         7541503    661053 2086779 585705 2889733 3219595\n",
       "8         6189367    495158 1054050 276186 1195554 1675280\n",
       "9         8459943   3129861 2955950 1070186 826298 1101374\n",
       "10       10138804    3004728 42805 1155458 1767226 3583017\n",
       "11       10562075  2371834 2560279 3159807 1260556 1881344\n",
       "12       10184821     106861 1217213 170797 2950401 377629\n",
       "13        4189678   2829202 2594670 3791664 376309 3261537\n",
       "14        6299524  1527961 1692721 2969236 2730881 3688734\n",
       "15        8515028   3203856 3711077 1959480 4486831 137945\n",
       "16       10631638   2496468 360800 3068522 2931442 1646238\n",
       "17       10947423  3743698 1702828 3664926 3726795 1170541\n",
       "18       11295404    2840867 93919 3621084 1663866 3261304\n",
       "19        3884714  1297735 1527919 1375351 1846977 3334539\n",
       "20       10680851   1563133 495027 3349944 3056917 1911261\n",
       "21        3228268   3173841 1896558 209196 3197875 1969864\n",
       "22        7850055   3426348 1206974 3598647 1127506 143307\n",
       "23       10864017    727440 475411 2522691 2158568 1804337\n",
       "24        5660760   1321053 2110917 723257 4733003 3862221\n",
       "25        4157419   1532492 3534170 2898395 3357942 451881\n",
       "26        3304833   1130644 2423405 1246232 2297555 648467\n",
       "27        1911645    3872219 911131 644831 3075374 1300825\n",
       "28        4902536  2160491 1216683 3581227 3103440 2467218\n",
       "29        1140304   3533742 3669444 258655 2585019 4437543\n",
       "...           ...                                      ...\n",
       "9970     11381473     2586600 854082 166355 2226095 637958\n",
       "9971      3520121    363983 184737 3778293 1205292 1495432\n",
       "9972      6612439    3669733 464546 1935970 899680 2792757\n",
       "9973      6218231   2245140 3530649 2897028 128344 2158033\n",
       "9974      8344678    3570539 3534697 193921 280934 3354374\n",
       "9975      7470841    1058277 1657819 60000 1809419 3034532\n",
       "9976      6423094     519961 3431460 342866 703393 3863551\n",
       "9977      8139437    840796 3515015 1108653 731135 2785990\n",
       "9978      8227203      180331 683975 2268115 190241 717073\n",
       "9979      5903507   2863395 210749 3435028 3193037 2103486\n",
       "9980      3778920  1253826 2473550 3003808 1349692 2944894\n",
       "9981      1061175    864246 3782521 3767807 548066 2525398\n",
       "9982      8572406  2322469 1083855 3589233 1233102 3516693\n",
       "9983     10413491     2859364 2671 2158601 1437634 2754318\n",
       "9984      8868869  2674310 1605476 2744430 1649595 2396540\n",
       "9985      8202309   3580817 3548542 1137706 962187 2732766\n",
       "9986      7784396    3303143 1707977 810006 3529494 467063\n",
       "9987      4622927   3711243 2677111 2845857 525392 3166626\n",
       "9988     11542825    251931 1935713 1909084 813943 2274426\n",
       "9989      7138440    2008442 2712377 2248261 849916 268373\n",
       "9990      5146771    2522691 727440 1936235 307738 1796372\n",
       "9991      4506918   2712708 3139246 3598647 163181 2942274\n",
       "9992     10337087     3003456 84086 548500 2895494 3021665\n",
       "9993      5608217   303222 2847695 2776563 3075922 1439363\n",
       "9994      7697108     666692 2537040 403415 263609 3632349\n",
       "9995     11616286   3360049 1948409 2981418 3067297 582317\n",
       "9996        53201   3051566 3076030 3184131 3337526 962932\n",
       "9997     11369546    2827871 2667736 969969 2078842 861186\n",
       "9998      7939535  1611073 2374774 3788236 2182989 3053313\n",
       "9999       297021   3342838 1729875 1811008 3637072 544749\n",
       "\n",
       "[10000 rows x 2 columns]"
      ]
     },
     "execution_count": 17,
     "metadata": {},
     "output_type": "execute_result"
    }
   ],
   "source": [
    "pred"
   ]
  },
  {
   "cell_type": "markdown",
   "metadata": {},
   "source": [
    "## Prediction #2: min distance"
   ]
  },
  {
   "cell_type": "markdown",
   "metadata": {},
   "source": [
    "Best result so far: \n",
    "\n",
    "- 1.5 0.7 0 0 0.1 0 0.01 --> 0.06\n",
    "- 1.5 0.7 0 0 0.1 0 0 --> 0.0631\n",
    "- 1 0.7 0.01 0 0.3 0 0 --> 0.0628\n",
    "- 1.4 0.7 0.01 0 0.3 0 0.5 --> 0.0639\n",
    "- 1.4 0.7 0.01 0 0.3 0.4 0.01 --> 0.0589\n",
    "- 1.5 0.7 0 0 0.1 0 0 --> 0.06317\n",
    "- 1.5 0.7 0 0 0.1 0 0.02 --> 0.0644\n",
    "- 1.5 0.7 0 0 0.1 0 0.1 --> 0.6441\n",
    "- 1.7 0.7 0 0 0.1 0 0.5 --> 0.6509\n",
    "\n",
    "== dataset 2\n",
    "\n",
    "- 1.5 0.7 0.1 0 0.1 0 0.01 --> 0.0632\n",
    "\n",
    "(restoring tag idf)\n",
    "- 1.5 0.7 0.1 0 0.1 0 0.01 --> 0.06777\n",
    "- 1.5 0.7 0 0 0.3 0 0.01 --> 0.0677\n",
    "- 1.5 0.5 0.01 0.01 0.1 0 0.01 --> 0.06784\n",
    "\n",
    "(using tag IDF log(100000/#tag_freq)\n",
    "\n",
    "== dataset 5\n",
    "- 1.5 0.7 0.1 0.1 0.1 0.1 0.1 --> 0.0704"
   ]
  },
  {
   "cell_type": "code",
   "execution_count": null,
   "metadata": {},
   "outputs": [],
   "source": [
    "S = load_similarity(location)\n",
    "pl2id_map = build_num_to_id_map(playlists, 'playlist_id')\n",
    "tr2id_map = build_num_to_id_map(tracks, 'track_id')\n",
    "pl2num_map = build_id_to_num_map(playlists, 'playlist_id')\n",
    "\n",
    "M = M.tocsr()\n",
    "predictions = {}\n",
    "for pl_id in target_playlists['playlist_id'].values:\n",
    "    pl_num = pl2num_map[pl_id]\n",
    "    \n",
    "    tmp_a = M[pl_num,:].nonzero()[1]\n",
    "    tmp_c = S[tmp_a,:]\n",
    "    tmp_b = tmp_c.data.argsort()\n",
    "    ranking = np.flip(tmp_c.indices[tmp_b], 0)\n",
    "    \n",
    "    count = 0\n",
    "    i = 0\n",
    "    pred = []\n",
    "    while count < 5 and i < len(ranking):\n",
    "        tr_id = tr2id_map[ranking[i]]\n",
    "        if tr_id not in tracks_in_playlist.loc[pl_id]['track_ids']:\n",
    "            pred.append(tr_id)\n",
    "            count +=1\n",
    "        i+=1\n",
    "    i=0\n",
    "    if (len(pred) < 5):\n",
    "        print(\"aaaargh len < 5\")\n",
    "        print(\"{0}\".format(pl_num))\n",
    "    while len(pred) < 5:\n",
    "        pred.append(0)\n",
    "        i+=1\n",
    "    predictions[pl_id] = np.array(pred)\n",
    "pred = pd.DataFrame()\n",
    "pred['playlist_id'] = predictions.keys()\n",
    "pred['track_ids'] = list(predictions.values())\n",
    "evaluate(test, pred)"
   ]
  },
  {
   "cell_type": "code",
   "execution_count": null,
   "metadata": {
    "collapsed": true
   },
   "outputs": [],
   "source": [
    "0.06932"
   ]
  },
  {
   "cell_type": "code",
   "execution_count": null,
   "metadata": {
    "collapsed": true
   },
   "outputs": [],
   "source": []
  }
 ],
 "metadata": {
  "kernelspec": {
   "display_name": "Python 3",
   "language": "python",
   "name": "python3"
  },
  "language_info": {
   "codemirror_mode": {
    "name": "ipython",
    "version": 3
   },
   "file_extension": ".py",
   "mimetype": "text/x-python",
   "name": "python",
   "nbconvert_exporter": "python",
   "pygments_lexer": "ipython3",
   "version": "3.6.0"
  }
 },
 "nbformat": 4,
 "nbformat_minor": 2
}
