{
 "cells": [
  {
   "cell_type": "code",
   "execution_count": 85,
   "metadata": {},
   "outputs": [],
   "source": [
    "import matplotlib.pyplot as plt\n",
    "import seaborn as sns\n",
    "import numpy as np\n",
    "import pandas as pd\n",
    "import scipy as sc\n",
    "from sklearn import preprocessing\n",
    "from sklearn import model_selection\n",
    "\n",
    "RANDOM_STATE = 2342\n",
    "\n",
    "%matplotlib inline"
   ]
  },
  {
   "cell_type": "code",
   "execution_count": 2,
   "metadata": {
    "collapsed": true
   },
   "outputs": [],
   "source": [
    "train = pd.read_csv('data/train_final.csv', delimiter='\\t')\n",
    "playlists = pd.read_csv('data/playlists_final.csv', delimiter='\\t')\n",
    "target_playlists = pd.read_csv('data/target_playlists.csv', delimiter='\\t')\n",
    "target_tracks = pd.read_csv('data/target_tracks.csv', delimiter = '\\t')\n",
    "tracks = pd.read_csv('data/tracks_final.csv', delimiter='\\t')"
   ]
  },
  {
   "cell_type": "code",
   "execution_count": 89,
   "metadata": {
    "collapsed": true
   },
   "outputs": [],
   "source": [
    "train, test = model_selection.train_test_split(train, test_size=0.20, random_state=RANDOM_STATE)"
   ]
  },
  {
   "cell_type": "code",
   "execution_count": 3,
   "metadata": {},
   "outputs": [
    {
     "data": {
      "text/plain": [
       "30"
      ]
     },
     "execution_count": 3,
     "metadata": {},
     "output_type": "execute_result"
    }
   ],
   "source": [
    "playlists.apply(lambda x : len(x['title'].split(',')), axis=1).max()"
   ]
  },
  {
   "cell_type": "code",
   "execution_count": 4,
   "metadata": {},
   "outputs": [
    {
     "data": {
      "text/plain": [
       "45649"
      ]
     },
     "execution_count": 4,
     "metadata": {},
     "output_type": "execute_result"
    }
   ],
   "source": [
    "pd.unique(train['playlist_id']).size"
   ]
  },
  {
   "cell_type": "code",
   "execution_count": 5,
   "metadata": {},
   "outputs": [
    {
     "data": {
      "text/plain": [
       "99999"
      ]
     },
     "execution_count": 5,
     "metadata": {},
     "output_type": "execute_result"
    }
   ],
   "source": [
    "pd.unique(train['track_id']).size"
   ]
  },
  {
   "cell_type": "code",
   "execution_count": 15,
   "metadata": {},
   "outputs": [
    {
     "data": {
      "text/html": [
       "<div>\n",
       "<table border=\"1\" class=\"dataframe\">\n",
       "  <thead>\n",
       "    <tr style=\"text-align: right;\">\n",
       "      <th></th>\n",
       "      <th>created_at</th>\n",
       "      <th>playlist_id</th>\n",
       "      <th>title</th>\n",
       "      <th>numtracks</th>\n",
       "      <th>duration</th>\n",
       "      <th>owner</th>\n",
       "    </tr>\n",
       "  </thead>\n",
       "  <tbody>\n",
       "    <tr>\n",
       "      <th>0</th>\n",
       "      <td>1216545588</td>\n",
       "      <td>644838</td>\n",
       "      <td>[12727]</td>\n",
       "      <td>27</td>\n",
       "      <td>6522</td>\n",
       "      <td>41504</td>\n",
       "    </tr>\n",
       "    <tr>\n",
       "      <th>1</th>\n",
       "      <td>1249326867</td>\n",
       "      <td>7577564</td>\n",
       "      <td>[]</td>\n",
       "      <td>9</td>\n",
       "      <td>2650</td>\n",
       "      <td>41504</td>\n",
       "    </tr>\n",
       "    <tr>\n",
       "      <th>2</th>\n",
       "      <td>1257766688</td>\n",
       "      <td>3120683</td>\n",
       "      <td>[183]</td>\n",
       "      <td>16</td>\n",
       "      <td>3645</td>\n",
       "      <td>44542</td>\n",
       "    </tr>\n",
       "    <tr>\n",
       "      <th>3</th>\n",
       "      <td>1248079275</td>\n",
       "      <td>4278112</td>\n",
       "      <td>[12389, 18698, 18925, 11695, 7117]</td>\n",
       "      <td>15</td>\n",
       "      <td>4151</td>\n",
       "      <td>44542</td>\n",
       "    </tr>\n",
       "    <tr>\n",
       "      <th>4</th>\n",
       "      <td>1175201268</td>\n",
       "      <td>8656823</td>\n",
       "      <td>[12809, 2095, 13257, 12671, 20426, 14448, 18698]</td>\n",
       "      <td>84</td>\n",
       "      <td>18414</td>\n",
       "      <td>44542</td>\n",
       "    </tr>\n",
       "  </tbody>\n",
       "</table>\n",
       "</div>"
      ],
      "text/plain": [
       "   created_at  playlist_id                                             title  \\\n",
       "0  1216545588       644838                                           [12727]   \n",
       "1  1249326867      7577564                                                []   \n",
       "2  1257766688      3120683                                             [183]   \n",
       "3  1248079275      4278112                [12389, 18698, 18925, 11695, 7117]   \n",
       "4  1175201268      8656823  [12809, 2095, 13257, 12671, 20426, 14448, 18698]   \n",
       "\n",
       "   numtracks  duration  owner  \n",
       "0         27      6522  41504  \n",
       "1          9      2650  41504  \n",
       "2         16      3645  44542  \n",
       "3         15      4151  44542  \n",
       "4         84     18414  44542  "
      ]
     },
     "execution_count": 15,
     "metadata": {},
     "output_type": "execute_result"
    }
   ],
   "source": [
    "playlists.head()"
   ]
  },
  {
   "cell_type": "code",
   "execution_count": 16,
   "metadata": {},
   "outputs": [
    {
     "data": {
      "text/html": [
       "<div>\n",
       "<table border=\"1\" class=\"dataframe\">\n",
       "  <thead>\n",
       "    <tr style=\"text-align: right;\">\n",
       "      <th></th>\n",
       "      <th>playlist_id</th>\n",
       "      <th>track_id</th>\n",
       "    </tr>\n",
       "  </thead>\n",
       "  <tbody>\n",
       "    <tr>\n",
       "      <th>0</th>\n",
       "      <td>3271849</td>\n",
       "      <td>2801526</td>\n",
       "    </tr>\n",
       "    <tr>\n",
       "      <th>1</th>\n",
       "      <td>5616275</td>\n",
       "      <td>727878</td>\n",
       "    </tr>\n",
       "    <tr>\n",
       "      <th>2</th>\n",
       "      <td>11267488</td>\n",
       "      <td>2805283</td>\n",
       "    </tr>\n",
       "    <tr>\n",
       "      <th>3</th>\n",
       "      <td>10103900</td>\n",
       "      <td>1515105</td>\n",
       "    </tr>\n",
       "    <tr>\n",
       "      <th>4</th>\n",
       "      <td>3836898</td>\n",
       "      <td>2945623</td>\n",
       "    </tr>\n",
       "  </tbody>\n",
       "</table>\n",
       "</div>"
      ],
      "text/plain": [
       "   playlist_id  track_id\n",
       "0      3271849   2801526\n",
       "1      5616275    727878\n",
       "2     11267488   2805283\n",
       "3     10103900   1515105\n",
       "4      3836898   2945623"
      ]
     },
     "execution_count": 16,
     "metadata": {},
     "output_type": "execute_result"
    }
   ],
   "source": [
    "train.head()"
   ]
  },
  {
   "cell_type": "code",
   "execution_count": 17,
   "metadata": {},
   "outputs": [
    {
     "data": {
      "text/html": [
       "<div>\n",
       "<table border=\"1\" class=\"dataframe\">\n",
       "  <thead>\n",
       "    <tr style=\"text-align: right;\">\n",
       "      <th></th>\n",
       "      <th>playlist_id</th>\n",
       "    </tr>\n",
       "  </thead>\n",
       "  <tbody>\n",
       "    <tr>\n",
       "      <th>0</th>\n",
       "      <td>10024884</td>\n",
       "    </tr>\n",
       "    <tr>\n",
       "      <th>1</th>\n",
       "      <td>10624787</td>\n",
       "    </tr>\n",
       "    <tr>\n",
       "      <th>2</th>\n",
       "      <td>4891851</td>\n",
       "    </tr>\n",
       "    <tr>\n",
       "      <th>3</th>\n",
       "      <td>4267369</td>\n",
       "    </tr>\n",
       "    <tr>\n",
       "      <th>4</th>\n",
       "      <td>65078</td>\n",
       "    </tr>\n",
       "  </tbody>\n",
       "</table>\n",
       "</div>"
      ],
      "text/plain": [
       "   playlist_id\n",
       "0     10024884\n",
       "1     10624787\n",
       "2      4891851\n",
       "3      4267369\n",
       "4        65078"
      ]
     },
     "execution_count": 17,
     "metadata": {},
     "output_type": "execute_result"
    }
   ],
   "source": [
    "target_playlists.head()"
   ]
  },
  {
   "cell_type": "code",
   "execution_count": 18,
   "metadata": {},
   "outputs": [
    {
     "data": {
      "text/html": [
       "<div>\n",
       "<table border=\"1\" class=\"dataframe\">\n",
       "  <thead>\n",
       "    <tr style=\"text-align: right;\">\n",
       "      <th></th>\n",
       "      <th>track_id</th>\n",
       "    </tr>\n",
       "  </thead>\n",
       "  <tbody>\n",
       "    <tr>\n",
       "      <th>0</th>\n",
       "      <td>1316175</td>\n",
       "    </tr>\n",
       "    <tr>\n",
       "      <th>1</th>\n",
       "      <td>3885714</td>\n",
       "    </tr>\n",
       "    <tr>\n",
       "      <th>2</th>\n",
       "      <td>3091270</td>\n",
       "    </tr>\n",
       "    <tr>\n",
       "      <th>3</th>\n",
       "      <td>226759</td>\n",
       "    </tr>\n",
       "    <tr>\n",
       "      <th>4</th>\n",
       "      <td>230596</td>\n",
       "    </tr>\n",
       "  </tbody>\n",
       "</table>\n",
       "</div>"
      ],
      "text/plain": [
       "   track_id\n",
       "0   1316175\n",
       "1   3885714\n",
       "2   3091270\n",
       "3    226759\n",
       "4    230596"
      ]
     },
     "execution_count": 18,
     "metadata": {},
     "output_type": "execute_result"
    }
   ],
   "source": [
    "target_tracks.head()"
   ]
  },
  {
   "cell_type": "code",
   "execution_count": 45,
   "metadata": {},
   "outputs": [
    {
     "data": {
      "text/html": [
       "<div>\n",
       "<table border=\"1\" class=\"dataframe\">\n",
       "  <thead>\n",
       "    <tr style=\"text-align: right;\">\n",
       "      <th></th>\n",
       "      <th>track_id</th>\n",
       "      <th>artist_id</th>\n",
       "      <th>duration</th>\n",
       "      <th>playcount</th>\n",
       "      <th>album</th>\n",
       "      <th>tags</th>\n",
       "    </tr>\n",
       "  </thead>\n",
       "  <tbody>\n",
       "    <tr>\n",
       "      <th>0</th>\n",
       "      <td>2972914</td>\n",
       "      <td>144</td>\n",
       "      <td>224000</td>\n",
       "      <td>49.0</td>\n",
       "      <td>[7]</td>\n",
       "      <td>[54087, 1757, 1718, 116712, 189631]</td>\n",
       "    </tr>\n",
       "    <tr>\n",
       "      <th>1</th>\n",
       "      <td>2750239</td>\n",
       "      <td>246</td>\n",
       "      <td>157000</td>\n",
       "      <td>1.0</td>\n",
       "      <td>[8]</td>\n",
       "      <td>[189631, 3424, 177424, 46208, 205245]</td>\n",
       "    </tr>\n",
       "    <tr>\n",
       "      <th>2</th>\n",
       "      <td>1550729</td>\n",
       "      <td>144</td>\n",
       "      <td>217000</td>\n",
       "      <td>554.0</td>\n",
       "      <td>[9]</td>\n",
       "      <td>[54087, 109806, 46869, 183258, 54337]</td>\n",
       "    </tr>\n",
       "    <tr>\n",
       "      <th>3</th>\n",
       "      <td>2169950</td>\n",
       "      <td>144</td>\n",
       "      <td>207000</td>\n",
       "      <td>200.0</td>\n",
       "      <td>[9]</td>\n",
       "      <td>[54087, 70618, 207003, 109806, 116712]</td>\n",
       "    </tr>\n",
       "    <tr>\n",
       "      <th>4</th>\n",
       "      <td>1903709</td>\n",
       "      <td>144</td>\n",
       "      <td>198000</td>\n",
       "      <td>5.0</td>\n",
       "      <td>[None]</td>\n",
       "      <td>[54087, 81223, 116712, 215342, 71028]</td>\n",
       "    </tr>\n",
       "  </tbody>\n",
       "</table>\n",
       "</div>"
      ],
      "text/plain": [
       "   track_id  artist_id  duration  playcount   album  \\\n",
       "0   2972914        144    224000       49.0     [7]   \n",
       "1   2750239        246    157000        1.0     [8]   \n",
       "2   1550729        144    217000      554.0     [9]   \n",
       "3   2169950        144    207000      200.0     [9]   \n",
       "4   1903709        144    198000        5.0  [None]   \n",
       "\n",
       "                                     tags  \n",
       "0     [54087, 1757, 1718, 116712, 189631]  \n",
       "1   [189631, 3424, 177424, 46208, 205245]  \n",
       "2   [54087, 109806, 46869, 183258, 54337]  \n",
       "3  [54087, 70618, 207003, 109806, 116712]  \n",
       "4   [54087, 81223, 116712, 215342, 71028]  "
      ]
     },
     "execution_count": 45,
     "metadata": {},
     "output_type": "execute_result"
    }
   ],
   "source": [
    "tracks.head()"
   ]
  },
  {
   "cell_type": "code",
   "execution_count": 46,
   "metadata": {},
   "outputs": [],
   "source": [
    "tags = set()"
   ]
  },
  {
   "cell_type": "code",
   "execution_count": 48,
   "metadata": {},
   "outputs": [],
   "source": [
    "for _,row in tracks.iterrows():\n",
    "    t = [int(x) for x in row['tags'][1:-1].split(',') if x != '']\n",
    "    for x in t:\n",
    "        tags.add(x)\n",
    "        "
   ]
  },
  {
   "cell_type": "code",
   "execution_count": 51,
   "metadata": {},
   "outputs": [
    {
     "data": {
      "text/plain": [
       "31900"
      ]
     },
     "execution_count": 51,
     "metadata": {},
     "output_type": "execute_result"
    }
   ],
   "source": [
    "len(tags)"
   ]
  },
  {
   "cell_type": "code",
   "execution_count": 75,
   "metadata": {
    "collapsed": true
   },
   "outputs": [],
   "source": [
    "tags = {}\n",
    "for _,row in tracks.iterrows():\n",
    "    t = list(map(lambda x : x.strip(), row['tags'][1:-1].split(',')))\n",
    "    for x in t:\n",
    "        if x in tags:\n",
    "            tags[x].append(row['track_id'])\n",
    "        else:\n",
    "            tags[x] = [row['track_id']]\n",
    "            "
   ]
  },
  {
   "cell_type": "code",
   "execution_count": 77,
   "metadata": {},
   "outputs": [
    {
     "data": {
      "text/html": [
       "<div>\n",
       "<table border=\"1\" class=\"dataframe\">\n",
       "  <thead>\n",
       "    <tr style=\"text-align: right;\">\n",
       "      <th></th>\n",
       "      <th>track_id</th>\n",
       "      <th>artist_id</th>\n",
       "      <th>duration</th>\n",
       "      <th>playcount</th>\n",
       "      <th>album</th>\n",
       "      <th>tags</th>\n",
       "    </tr>\n",
       "  </thead>\n",
       "  <tbody>\n",
       "    <tr>\n",
       "      <th>0</th>\n",
       "      <td>2972914</td>\n",
       "      <td>144</td>\n",
       "      <td>224000</td>\n",
       "      <td>49.0</td>\n",
       "      <td>[7]</td>\n",
       "      <td>[54087, 1757, 1718, 116712, 189631]</td>\n",
       "    </tr>\n",
       "    <tr>\n",
       "      <th>1</th>\n",
       "      <td>2750239</td>\n",
       "      <td>246</td>\n",
       "      <td>157000</td>\n",
       "      <td>1.0</td>\n",
       "      <td>[8]</td>\n",
       "      <td>[189631, 3424, 177424, 46208, 205245]</td>\n",
       "    </tr>\n",
       "    <tr>\n",
       "      <th>2</th>\n",
       "      <td>1550729</td>\n",
       "      <td>144</td>\n",
       "      <td>217000</td>\n",
       "      <td>554.0</td>\n",
       "      <td>[9]</td>\n",
       "      <td>[54087, 109806, 46869, 183258, 54337]</td>\n",
       "    </tr>\n",
       "    <tr>\n",
       "      <th>3</th>\n",
       "      <td>2169950</td>\n",
       "      <td>144</td>\n",
       "      <td>207000</td>\n",
       "      <td>200.0</td>\n",
       "      <td>[9]</td>\n",
       "      <td>[54087, 70618, 207003, 109806, 116712]</td>\n",
       "    </tr>\n",
       "    <tr>\n",
       "      <th>4</th>\n",
       "      <td>1903709</td>\n",
       "      <td>144</td>\n",
       "      <td>198000</td>\n",
       "      <td>5.0</td>\n",
       "      <td>[None]</td>\n",
       "      <td>[54087, 81223, 116712, 215342, 71028]</td>\n",
       "    </tr>\n",
       "  </tbody>\n",
       "</table>\n",
       "</div>"
      ],
      "text/plain": [
       "   track_id  artist_id  duration  playcount   album  \\\n",
       "0   2972914        144    224000       49.0     [7]   \n",
       "1   2750239        246    157000        1.0     [8]   \n",
       "2   1550729        144    217000      554.0     [9]   \n",
       "3   2169950        144    207000      200.0     [9]   \n",
       "4   1903709        144    198000        5.0  [None]   \n",
       "\n",
       "                                     tags  \n",
       "0     [54087, 1757, 1718, 116712, 189631]  \n",
       "1   [189631, 3424, 177424, 46208, 205245]  \n",
       "2   [54087, 109806, 46869, 183258, 54337]  \n",
       "3  [54087, 70618, 207003, 109806, 116712]  \n",
       "4   [54087, 81223, 116712, 215342, 71028]  "
      ]
     },
     "execution_count": 77,
     "metadata": {},
     "output_type": "execute_result"
    }
   ],
   "source": [
    "tracks.head()"
   ]
  },
  {
   "cell_type": "code",
   "execution_count": 67,
   "metadata": {},
   "outputs": [],
   "source": [
    "album = tracks[(tracks['album'] != '[]') & (tracks['album'] != '[None]')]"
   ]
  },
  {
   "cell_type": "code",
   "execution_count": 68,
   "metadata": {
    "collapsed": true
   },
   "outputs": [],
   "source": [
    "album = tracks['album'].apply(lambda x : x[1:-1])"
   ]
  },
  {
   "cell_type": "code",
   "execution_count": 70,
   "metadata": {},
   "outputs": [],
   "source": [
    "albums = {}\n",
    "for _,row in tracks.iterrows():\n",
    "    album = row['album'][1:-1]\n",
    "    if album != '' and album != 'None':\n",
    "        if album in albums:\n",
    "            albums[album].append(row['track_id'])\n",
    "        else:\n",
    "            albums[album] = []"
   ]
  },
  {
   "cell_type": "code",
   "execution_count": 74,
   "metadata": {
    "scrolled": true
   },
   "outputs": [
    {
     "data": {
      "text/plain": [
       "0        False\n",
       "1        False\n",
       "2        False\n",
       "3        False\n",
       "4        False\n",
       "5        False\n",
       "6        False\n",
       "7        False\n",
       "8        False\n",
       "9        False\n",
       "10       False\n",
       "11       False\n",
       "12       False\n",
       "13       False\n",
       "14       False\n",
       "15       False\n",
       "16       False\n",
       "17       False\n",
       "18       False\n",
       "19       False\n",
       "20       False\n",
       "21       False\n",
       "22       False\n",
       "23       False\n",
       "24       False\n",
       "25       False\n",
       "26       False\n",
       "27       False\n",
       "28       False\n",
       "29       False\n",
       "         ...  \n",
       "57531    False\n",
       "57532    False\n",
       "57533    False\n",
       "57534    False\n",
       "57535    False\n",
       "57536    False\n",
       "57537    False\n",
       "57538    False\n",
       "57539    False\n",
       "57540    False\n",
       "57541    False\n",
       "57542    False\n",
       "57543    False\n",
       "57544    False\n",
       "57545    False\n",
       "57546    False\n",
       "57547    False\n",
       "57548    False\n",
       "57549    False\n",
       "57550    False\n",
       "57551    False\n",
       "57552    False\n",
       "57553    False\n",
       "57554    False\n",
       "57555    False\n",
       "57556    False\n",
       "57557    False\n",
       "57558    False\n",
       "57559    False\n",
       "57560    False\n",
       "Name: owner, dtype: bool"
      ]
     },
     "execution_count": 74,
     "metadata": {},
     "output_type": "execute_result"
    }
   ],
   "source": []
  },
  {
   "cell_type": "code",
   "execution_count": null,
   "metadata": {
    "collapsed": true
   },
   "outputs": [],
   "source": []
  },
  {
   "cell_type": "code",
   "execution_count": null,
   "metadata": {
    "collapsed": true
   },
   "outputs": [],
   "source": []
  },
  {
   "cell_type": "code",
   "execution_count": null,
   "metadata": {
    "collapsed": true
   },
   "outputs": [],
   "source": []
  },
  {
   "cell_type": "code",
   "execution_count": null,
   "metadata": {
    "collapsed": true
   },
   "outputs": [],
   "source": []
  },
  {
   "cell_type": "code",
   "execution_count": null,
   "metadata": {
    "collapsed": true
   },
   "outputs": [],
   "source": []
  },
  {
   "cell_type": "code",
   "execution_count": null,
   "metadata": {
    "collapsed": true
   },
   "outputs": [],
   "source": []
  },
  {
   "cell_type": "code",
   "execution_count": 7,
   "metadata": {
    "collapsed": true
   },
   "outputs": [],
   "source": [
    "density = len(train) / (99999 * 45649)"
   ]
  },
  {
   "cell_type": "code",
   "execution_count": 8,
   "metadata": {},
   "outputs": [
    {
     "data": {
      "text/plain": [
       "0.00022794199332385227"
      ]
     },
     "execution_count": 8,
     "metadata": {},
     "output_type": "execute_result"
    }
   ],
   "source": [
    "density"
   ]
  },
  {
   "cell_type": "code",
   "execution_count": 9,
   "metadata": {},
   "outputs": [
    {
     "data": {
      "text/plain": [
       "100000"
      ]
     },
     "execution_count": 9,
     "metadata": {},
     "output_type": "execute_result"
    }
   ],
   "source": [
    "len(tracks)"
   ]
  },
  {
   "cell_type": "code",
   "execution_count": 10,
   "metadata": {},
   "outputs": [
    {
     "data": {
      "text/plain": [
       "32195"
      ]
     },
     "execution_count": 10,
     "metadata": {},
     "output_type": "execute_result"
    }
   ],
   "source": [
    "len(target_tracks)"
   ]
  },
  {
   "cell_type": "code",
   "execution_count": 44,
   "metadata": {},
   "outputs": [],
   "source": []
  },
  {
   "cell_type": "code",
   "execution_count": 11,
   "metadata": {
    "collapsed": true
   },
   "outputs": [],
   "source": [
    "s = set(target_tracks['track_id'])"
   ]
  },
  {
   "cell_type": "code",
   "execution_count": 12,
   "metadata": {
    "collapsed": true
   },
   "outputs": [],
   "source": [
    "s2 = set(tracks['track_id'])"
   ]
  },
  {
   "cell_type": "code",
   "execution_count": 13,
   "metadata": {
    "collapsed": true
   },
   "outputs": [],
   "source": [
    "pl = set(target_playlists['playlist_id'])"
   ]
  },
  {
   "cell_type": "code",
   "execution_count": 14,
   "metadata": {
    "collapsed": true
   },
   "outputs": [],
   "source": [
    "pl2 = set(playlists['playlist_id'])"
   ]
  },
  {
   "cell_type": "code",
   "execution_count": 47,
   "metadata": {},
   "outputs": [
    {
     "data": {
      "text/plain": [
       "True"
      ]
     },
     "execution_count": 47,
     "metadata": {},
     "output_type": "execute_result"
    }
   ],
   "source": [
    "all(x in pl2 for x in pl)"
   ]
  },
  {
   "cell_type": "code",
   "execution_count": 61,
   "metadata": {
    "collapsed": true
   },
   "outputs": [],
   "source": [
    "playlists['numtrack_token'] = pd.qcut(playlists['numtracks'], 6)"
   ]
  },
  {
   "cell_type": "code",
   "execution_count": 62,
   "metadata": {},
   "outputs": [
    {
     "data": {
      "text/plain": [
       "<matplotlib.axes._subplots.AxesSubplot at 0x12f3176d8>"
      ]
     },
     "execution_count": 62,
     "metadata": {},
     "output_type": "execute_result"
    },
    {
     "data": {
      "image/png": "[encoded data removed]",
      "text/plain": [
       "<matplotlib.figure.Figure at 0x12e8d99b0>"
      ]
     },
     "metadata": {},
     "output_type": "display_data"
    }
   ],
   "source": [
    "sns.countplot(x = 'numtrack_token', data=playlists)"
   ]
  },
  {
   "cell_type": "code",
   "execution_count": 63,
   "metadata": {
    "collapsed": true
   },
   "outputs": [],
   "source": [
    "empty_playlists = playlists[playlists['numtracks'] == 0]"
   ]
  },
  {
   "cell_type": "code",
   "execution_count": 64,
   "metadata": {},
   "outputs": [
    {
     "data": {
      "text/plain": [
       "1173"
      ]
     },
     "execution_count": 64,
     "metadata": {},
     "output_type": "execute_result"
    }
   ],
   "source": [
    "len(empty_playlists)"
   ]
  },
  {
   "cell_type": "code",
   "execution_count": 85,
   "metadata": {},
   "outputs": [
    {
     "ename": "AttributeError",
     "evalue": "'Series' object has no attribute 'val'",
     "output_type": "error",
     "traceback": [
      "\u001b[0;31m---------------------------------------------------------------------------\u001b[0m",
      "\u001b[0;31mAttributeError\u001b[0m                            Traceback (most recent call last)",
      "\u001b[0;32m<ipython-input-85-481c962996d7>\u001b[0m in \u001b[0;36m<module>\u001b[0;34m()\u001b[0m\n\u001b[0;32m----> 1\u001b[0;31m \u001b[0mpd\u001b[0m\u001b[0;34m.\u001b[0m\u001b[0mcrosstab\u001b[0m\u001b[0;34m(\u001b[0m\u001b[0mplaylists\u001b[0m\u001b[0;34m[\u001b[0m\u001b[0;34m'owner'\u001b[0m\u001b[0;34m]\u001b[0m\u001b[0;34m,\u001b[0m\u001b[0;34m''\u001b[0m\u001b[0;34m)\u001b[0m\u001b[0;34m.\u001b[0m\u001b[0mval\u001b[0m\u001b[0;34m\u001b[0m\u001b[0m\n\u001b[0m",
      "\u001b[0;32m/Users/andrea/anaconda/envs/mlenv/lib/python3.5/site-packages/pandas/core/generic.py\u001b[0m in \u001b[0;36m__getattr__\u001b[0;34m(self, name)\u001b[0m\n\u001b[1;32m   2742\u001b[0m             \u001b[0;32mif\u001b[0m \u001b[0mname\u001b[0m \u001b[0;32min\u001b[0m \u001b[0mself\u001b[0m\u001b[0;34m.\u001b[0m\u001b[0m_info_axis\u001b[0m\u001b[0;34m:\u001b[0m\u001b[0;34m\u001b[0m\u001b[0m\n\u001b[1;32m   2743\u001b[0m                 \u001b[0;32mreturn\u001b[0m \u001b[0mself\u001b[0m\u001b[0;34m[\u001b[0m\u001b[0mname\u001b[0m\u001b[0;34m]\u001b[0m\u001b[0;34m\u001b[0m\u001b[0m\n\u001b[0;32m-> 2744\u001b[0;31m             \u001b[0;32mreturn\u001b[0m \u001b[0mobject\u001b[0m\u001b[0;34m.\u001b[0m\u001b[0m__getattribute__\u001b[0m\u001b[0;34m(\u001b[0m\u001b[0mself\u001b[0m\u001b[0;34m,\u001b[0m \u001b[0mname\u001b[0m\u001b[0;34m)\u001b[0m\u001b[0;34m\u001b[0m\u001b[0m\n\u001b[0m\u001b[1;32m   2745\u001b[0m \u001b[0;34m\u001b[0m\u001b[0m\n\u001b[1;32m   2746\u001b[0m     \u001b[0;32mdef\u001b[0m \u001b[0m__setattr__\u001b[0m\u001b[0;34m(\u001b[0m\u001b[0mself\u001b[0m\u001b[0;34m,\u001b[0m \u001b[0mname\u001b[0m\u001b[0;34m,\u001b[0m \u001b[0mvalue\u001b[0m\u001b[0;34m)\u001b[0m\u001b[0;34m:\u001b[0m\u001b[0;34m\u001b[0m\u001b[0m\n",
      "\u001b[0;31mAttributeError\u001b[0m: 'Series' object has no attribute 'val'"
     ]
    }
   ],
   "source": []
  },
  {
   "cell_type": "code",
   "execution_count": 75,
   "metadata": {
    "collapsed": true
   },
   "outputs": [],
   "source": [
    "p2 = p.groupby('numtrack_token').count()"
   ]
  },
  {
   "cell_type": "code",
   "execution_count": 76,
   "metadata": {},
   "outputs": [
    {
     "data": {
      "text/plain": [
       "<matplotlib.axes._subplots.AxesSubplot at 0x1309e5a58>"
      ]
     },
     "execution_count": 76,
     "metadata": {},
     "output_type": "execute_result"
    },
    {
     "data": {
      "image/png": "[encoded data removed]",
      "text/plain": [
       "<matplotlib.figure.Figure at 0x12fa42b38>"
      ]
     },
     "metadata": {},
     "output_type": "display_data"
    }
   ],
   "source": [
    "sns.countplot(x='created_at', data=p2)"
   ]
  },
  {
   "cell_type": "code",
   "execution_count": 22,
   "metadata": {
    "collapsed": true
   },
   "outputs": [],
   "source": [
    "playlists['created_at_hour'] = pd.cut(playlists['created_at'], 71, labels=[str(i) for i in range(71)])"
   ]
  },
  {
   "cell_type": "code",
   "execution_count": 23,
   "metadata": {},
   "outputs": [
    {
     "data": {
      "text/html": [
       "<div>\n",
       "<table border=\"1\" class=\"dataframe\">\n",
       "  <thead>\n",
       "    <tr style=\"text-align: right;\">\n",
       "      <th></th>\n",
       "      <th>created_at</th>\n",
       "      <th>playlist_id</th>\n",
       "      <th>title</th>\n",
       "      <th>numtracks</th>\n",
       "      <th>duration</th>\n",
       "      <th>owner</th>\n",
       "      <th>created_at_hour</th>\n",
       "    </tr>\n",
       "  </thead>\n",
       "  <tbody>\n",
       "    <tr>\n",
       "      <th>0</th>\n",
       "      <td>1216545588</td>\n",
       "      <td>644838</td>\n",
       "      <td>[12727]</td>\n",
       "      <td>27</td>\n",
       "      <td>6522</td>\n",
       "      <td>41504</td>\n",
       "      <td>13</td>\n",
       "    </tr>\n",
       "    <tr>\n",
       "      <th>1</th>\n",
       "      <td>1249326867</td>\n",
       "      <td>7577564</td>\n",
       "      <td>[]</td>\n",
       "      <td>9</td>\n",
       "      <td>2650</td>\n",
       "      <td>41504</td>\n",
       "      <td>22</td>\n",
       "    </tr>\n",
       "    <tr>\n",
       "      <th>2</th>\n",
       "      <td>1257766688</td>\n",
       "      <td>3120683</td>\n",
       "      <td>[183]</td>\n",
       "      <td>16</td>\n",
       "      <td>3645</td>\n",
       "      <td>44542</td>\n",
       "      <td>24</td>\n",
       "    </tr>\n",
       "    <tr>\n",
       "      <th>3</th>\n",
       "      <td>1248079275</td>\n",
       "      <td>4278112</td>\n",
       "      <td>[12389, 18698, 18925, 11695, 7117]</td>\n",
       "      <td>15</td>\n",
       "      <td>4151</td>\n",
       "      <td>44542</td>\n",
       "      <td>21</td>\n",
       "    </tr>\n",
       "    <tr>\n",
       "      <th>4</th>\n",
       "      <td>1175201268</td>\n",
       "      <td>8656823</td>\n",
       "      <td>[12809, 2095, 13257, 12671, 20426, 14448, 18698]</td>\n",
       "      <td>84</td>\n",
       "      <td>18414</td>\n",
       "      <td>44542</td>\n",
       "      <td>1</td>\n",
       "    </tr>\n",
       "  </tbody>\n",
       "</table>\n",
       "</div>"
      ],
      "text/plain": [
       "   created_at  playlist_id                                             title  \\\n",
       "0  1216545588       644838                                           [12727]   \n",
       "1  1249326867      7577564                                                []   \n",
       "2  1257766688      3120683                                             [183]   \n",
       "3  1248079275      4278112                [12389, 18698, 18925, 11695, 7117]   \n",
       "4  1175201268      8656823  [12809, 2095, 13257, 12671, 20426, 14448, 18698]   \n",
       "\n",
       "   numtracks  duration  owner created_at_hour  \n",
       "0         27      6522  41504              13  \n",
       "1          9      2650  41504              22  \n",
       "2         16      3645  44542              24  \n",
       "3         15      4151  44542              21  \n",
       "4         84     18414  44542               1  "
      ]
     },
     "execution_count": 23,
     "metadata": {},
     "output_type": "execute_result"
    }
   ],
   "source": [
    "playlists.head()"
   ]
  },
  {
   "cell_type": "code",
   "execution_count": 27,
   "metadata": {},
   "outputs": [
    {
     "data": {
      "text/plain": [
       "<matplotlib.axes._subplots.AxesSubplot at 0x110b21c18>"
      ]
     },
     "execution_count": 27,
     "metadata": {},
     "output_type": "execute_result"
    },
    {
     "data": {
      "image/png": "[encoded data removed]",
      "text/plain": [
       "<matplotlib.figure.Figure at 0x110b217b8>"
      ]
     },
     "metadata": {},
     "output_type": "display_data"
    }
   ],
   "source": [
    "plt.figure(figsize=(16, 10))\n",
    "sns.countplot(x = 'created_at_hour', data=playlists)"
   ]
  },
  {
   "cell_type": "code",
   "execution_count": null,
   "metadata": {
    "collapsed": true
   },
   "outputs": [],
   "source": []
  },
  {
   "cell_type": "code",
   "execution_count": 86,
   "metadata": {},
   "outputs": [
    {
     "data": {
      "text/plain": [
       "1169657433"
      ]
     },
     "execution_count": 86,
     "metadata": {},
     "output_type": "execute_result"
    }
   ],
   "source": [
    "playlists['created_at'].min()"
   ]
  },
  {
   "cell_type": "code",
   "execution_count": 87,
   "metadata": {},
   "outputs": [
    {
     "data": {
      "text/plain": [
       "1423786569"
      ]
     },
     "execution_count": 87,
     "metadata": {},
     "output_type": "execute_result"
    }
   ],
   "source": [
    "playlists['created_at'].max()"
   ]
  },
  {
   "cell_type": "code",
   "execution_count": 88,
   "metadata": {},
   "outputs": [
    {
     "data": {
      "text/plain": [
       "254129136"
      ]
     },
     "execution_count": 88,
     "metadata": {},
     "output_type": "execute_result"
    }
   ],
   "source": [
    "1423786569 - 1169657433"
   ]
  },
  {
   "cell_type": "code",
   "execution_count": 89,
   "metadata": {},
   "outputs": [
    {
     "data": {
      "text/plain": [
       "70.59142666666666"
      ]
     },
     "execution_count": 89,
     "metadata": {},
     "output_type": "execute_result"
    }
   ],
   "source": [
    "254129136 / 1000 / (60 * 60)"
   ]
  },
  {
   "cell_type": "markdown",
   "metadata": {},
   "source": [
    "70 ore"
   ]
  },
  {
   "cell_type": "code",
   "execution_count": 134,
   "metadata": {},
   "outputs": [
    {
     "data": {
      "text/html": [
       "<div>\n",
       "<table border=\"1\" class=\"dataframe\">\n",
       "  <thead>\n",
       "    <tr style=\"text-align: right;\">\n",
       "      <th></th>\n",
       "      <th>created_at</th>\n",
       "      <th>playlist_id</th>\n",
       "      <th>title</th>\n",
       "      <th>numtracks</th>\n",
       "      <th>duration</th>\n",
       "      <th>owner</th>\n",
       "      <th>numtrack_token</th>\n",
       "    </tr>\n",
       "  </thead>\n",
       "  <tbody>\n",
       "  </tbody>\n",
       "</table>\n",
       "</div>"
      ],
      "text/plain": [
       "Empty DataFrame\n",
       "Columns: [created_at, playlist_id, title, numtracks, duration, owner, numtrack_token]\n",
       "Index: []"
      ]
     },
     "execution_count": 134,
     "metadata": {},
     "output_type": "execute_result"
    }
   ],
   "source": [
    "playlists[playlists['playlist_id'] == 34466]"
   ]
  },
  {
   "cell_type": "code",
   "execution_count": 136,
   "metadata": {
    "collapsed": true
   },
   "outputs": [],
   "source": [
    "a = train[train['playlist_id'] == 11397138]"
   ]
  },
  {
   "cell_type": "code",
   "execution_count": 137,
   "metadata": {
    "collapsed": true
   },
   "outputs": [],
   "source": [
    "b = a['track_id'].values"
   ]
  },
  {
   "cell_type": "code",
   "execution_count": 138,
   "metadata": {},
   "outputs": [
    {
     "data": {
      "text/plain": [
       "4577999"
      ]
     },
     "execution_count": 138,
     "metadata": {},
     "output_type": "execute_result"
    }
   ],
   "source": [
    "sum([x['duration'] for _,x in tracks.iterrows() if x['track_id'] in b])"
   ]
  },
  {
   "cell_type": "code",
   "execution_count": 158,
   "metadata": {
    "collapsed": true
   },
   "outputs": [],
   "source": [
    "def check_playlist(playlist_id):\n",
    "    duration = int(playlists[playlists['playlist_id'] == playlist_id]['duration'])\n",
    "    pl_tracks = train[train['playlist_id'] == playlist_id]\n",
    "    track_ids = pl_tracks['track_id'].values\n",
    "    \n",
    "    sum_duration = sum([x['duration'] for _,x in tracks.iterrows() if x['track_id'] in track_ids])\n",
    "    return sum_duration/1000 <= duration"
   ]
  },
  {
   "cell_type": "code",
   "execution_count": 161,
   "metadata": {},
   "outputs": [
    {
     "data": {
      "text/plain": [
       "True"
      ]
     },
     "execution_count": 161,
     "metadata": {},
     "output_type": "execute_result"
    }
   ],
   "source": [
    "all(check_playlist(t['playlist_id']) for _,t in playlists.sample(10).iterrows())"
   ]
  },
  {
   "cell_type": "code",
   "execution_count": 135,
   "metadata": {},
   "outputs": [
    {
     "data": {
      "text/html": [
       "<div>\n",
       "<table border=\"1\" class=\"dataframe\">\n",
       "  <thead>\n",
       "    <tr style=\"text-align: right;\">\n",
       "      <th></th>\n",
       "      <th>created_at</th>\n",
       "      <th>playlist_id</th>\n",
       "      <th>title</th>\n",
       "      <th>numtracks</th>\n",
       "      <th>duration</th>\n",
       "      <th>owner</th>\n",
       "      <th>numtrack_token</th>\n",
       "    </tr>\n",
       "  </thead>\n",
       "  <tbody>\n",
       "    <tr>\n",
       "      <th>0</th>\n",
       "      <td>1216545588</td>\n",
       "      <td>644838</td>\n",
       "      <td>[12727]</td>\n",
       "      <td>27</td>\n",
       "      <td>6522</td>\n",
       "      <td>41504</td>\n",
       "      <td>(23, 55]</td>\n",
       "    </tr>\n",
       "    <tr>\n",
       "      <th>1</th>\n",
       "      <td>1249326867</td>\n",
       "      <td>7577564</td>\n",
       "      <td>[]</td>\n",
       "      <td>9</td>\n",
       "      <td>2650</td>\n",
       "      <td>41504</td>\n",
       "      <td>(7, 13]</td>\n",
       "    </tr>\n",
       "    <tr>\n",
       "      <th>2</th>\n",
       "      <td>1257766688</td>\n",
       "      <td>3120683</td>\n",
       "      <td>[183]</td>\n",
       "      <td>16</td>\n",
       "      <td>3645</td>\n",
       "      <td>44542</td>\n",
       "      <td>(13, 23]</td>\n",
       "    </tr>\n",
       "    <tr>\n",
       "      <th>3</th>\n",
       "      <td>1248079275</td>\n",
       "      <td>4278112</td>\n",
       "      <td>[12389, 18698, 18925, 11695, 7117]</td>\n",
       "      <td>15</td>\n",
       "      <td>4151</td>\n",
       "      <td>44542</td>\n",
       "      <td>(13, 23]</td>\n",
       "    </tr>\n",
       "    <tr>\n",
       "      <th>4</th>\n",
       "      <td>1175201268</td>\n",
       "      <td>8656823</td>\n",
       "      <td>[12809, 2095, 13257, 12671, 20426, 14448, 18698]</td>\n",
       "      <td>84</td>\n",
       "      <td>18414</td>\n",
       "      <td>44542</td>\n",
       "      <td>(55, 200]</td>\n",
       "    </tr>\n",
       "    <tr>\n",
       "      <th>5</th>\n",
       "      <td>1224952363</td>\n",
       "      <td>10961458</td>\n",
       "      <td>[7194, 3225, 9438, 13502, 11695]</td>\n",
       "      <td>32</td>\n",
       "      <td>6441</td>\n",
       "      <td>44542</td>\n",
       "      <td>(23, 55]</td>\n",
       "    </tr>\n",
       "    <tr>\n",
       "      <th>6</th>\n",
       "      <td>1171573001</td>\n",
       "      <td>5527068</td>\n",
       "      <td>[19505]</td>\n",
       "      <td>44</td>\n",
       "      <td>13776</td>\n",
       "      <td>40796</td>\n",
       "      <td>(23, 55]</td>\n",
       "    </tr>\n",
       "    <tr>\n",
       "      <th>7</th>\n",
       "      <td>1220175946</td>\n",
       "      <td>2940714</td>\n",
       "      <td>[12323]</td>\n",
       "      <td>69</td>\n",
       "      <td>18214</td>\n",
       "      <td>40796</td>\n",
       "      <td>(55, 200]</td>\n",
       "    </tr>\n",
       "    <tr>\n",
       "      <th>8</th>\n",
       "      <td>1181710641</td>\n",
       "      <td>11397138</td>\n",
       "      <td>[]</td>\n",
       "      <td>27</td>\n",
       "      <td>8466</td>\n",
       "      <td>44467</td>\n",
       "      <td>(23, 55]</td>\n",
       "    </tr>\n",
       "    <tr>\n",
       "      <th>9</th>\n",
       "      <td>1181710641</td>\n",
       "      <td>3128020</td>\n",
       "      <td>[12111, 4776, 14448]</td>\n",
       "      <td>89</td>\n",
       "      <td>30451</td>\n",
       "      <td>44467</td>\n",
       "      <td>(55, 200]</td>\n",
       "    </tr>\n",
       "    <tr>\n",
       "      <th>10</th>\n",
       "      <td>1172149901</td>\n",
       "      <td>8373436</td>\n",
       "      <td>[9922, 14448]</td>\n",
       "      <td>89</td>\n",
       "      <td>30451</td>\n",
       "      <td>43704</td>\n",
       "      <td>(55, 200]</td>\n",
       "    </tr>\n",
       "    <tr>\n",
       "      <th>11</th>\n",
       "      <td>1242987126</td>\n",
       "      <td>4809636</td>\n",
       "      <td>[7107, 14343]</td>\n",
       "      <td>2</td>\n",
       "      <td>542</td>\n",
       "      <td>43704</td>\n",
       "      <td>[0, 3]</td>\n",
       "    </tr>\n",
       "    <tr>\n",
       "      <th>12</th>\n",
       "      <td>1294318230</td>\n",
       "      <td>8583262</td>\n",
       "      <td>[2410, 16169]</td>\n",
       "      <td>7</td>\n",
       "      <td>4689</td>\n",
       "      <td>44877</td>\n",
       "      <td>(3, 7]</td>\n",
       "    </tr>\n",
       "    <tr>\n",
       "      <th>13</th>\n",
       "      <td>1294064629</td>\n",
       "      <td>11280190</td>\n",
       "      <td>[3628]</td>\n",
       "      <td>5</td>\n",
       "      <td>1462</td>\n",
       "      <td>44877</td>\n",
       "      <td>(3, 7]</td>\n",
       "    </tr>\n",
       "    <tr>\n",
       "      <th>14</th>\n",
       "      <td>1294064116</td>\n",
       "      <td>5618648</td>\n",
       "      <td>[14888]</td>\n",
       "      <td>11</td>\n",
       "      <td>5826</td>\n",
       "      <td>44877</td>\n",
       "      <td>(7, 13]</td>\n",
       "    </tr>\n",
       "    <tr>\n",
       "      <th>15</th>\n",
       "      <td>1233614137</td>\n",
       "      <td>2995278</td>\n",
       "      <td>[12636, 17985, 660]</td>\n",
       "      <td>4</td>\n",
       "      <td>1301</td>\n",
       "      <td>43028</td>\n",
       "      <td>(3, 7]</td>\n",
       "    </tr>\n",
       "    <tr>\n",
       "      <th>16</th>\n",
       "      <td>1231539219</td>\n",
       "      <td>5720522</td>\n",
       "      <td>[]</td>\n",
       "      <td>7</td>\n",
       "      <td>1859</td>\n",
       "      <td>43028</td>\n",
       "      <td>(3, 7]</td>\n",
       "    </tr>\n",
       "    <tr>\n",
       "      <th>17</th>\n",
       "      <td>1173913081</td>\n",
       "      <td>2594578</td>\n",
       "      <td>[]</td>\n",
       "      <td>151</td>\n",
       "      <td>33518</td>\n",
       "      <td>42600</td>\n",
       "      <td>(55, 200]</td>\n",
       "    </tr>\n",
       "    <tr>\n",
       "      <th>18</th>\n",
       "      <td>1240960210</td>\n",
       "      <td>689943</td>\n",
       "      <td>[19676]</td>\n",
       "      <td>1</td>\n",
       "      <td>207</td>\n",
       "      <td>42600</td>\n",
       "      <td>[0, 3]</td>\n",
       "    </tr>\n",
       "    <tr>\n",
       "      <th>19</th>\n",
       "      <td>1389195386</td>\n",
       "      <td>6851716</td>\n",
       "      <td>[12532]</td>\n",
       "      <td>0</td>\n",
       "      <td>0</td>\n",
       "      <td>41884</td>\n",
       "      <td>[0, 3]</td>\n",
       "    </tr>\n",
       "    <tr>\n",
       "      <th>20</th>\n",
       "      <td>1262873154</td>\n",
       "      <td>4242746</td>\n",
       "      <td>[13864, 16768, 16557]</td>\n",
       "      <td>0</td>\n",
       "      <td>0</td>\n",
       "      <td>41884</td>\n",
       "      <td>[0, 3]</td>\n",
       "    </tr>\n",
       "    <tr>\n",
       "      <th>21</th>\n",
       "      <td>1262873153</td>\n",
       "      <td>10030096</td>\n",
       "      <td>[13864, 16768, 16557]</td>\n",
       "      <td>0</td>\n",
       "      <td>0</td>\n",
       "      <td>41884</td>\n",
       "      <td>[0, 3]</td>\n",
       "    </tr>\n",
       "    <tr>\n",
       "      <th>22</th>\n",
       "      <td>1178653273</td>\n",
       "      <td>7541178</td>\n",
       "      <td>[19676]</td>\n",
       "      <td>0</td>\n",
       "      <td>0</td>\n",
       "      <td>41884</td>\n",
       "      <td>[0, 3]</td>\n",
       "    </tr>\n",
       "    <tr>\n",
       "      <th>23</th>\n",
       "      <td>1256935416</td>\n",
       "      <td>3792227</td>\n",
       "      <td>[7802]</td>\n",
       "      <td>46</td>\n",
       "      <td>21046</td>\n",
       "      <td>41301</td>\n",
       "      <td>(23, 55]</td>\n",
       "    </tr>\n",
       "    <tr>\n",
       "      <th>24</th>\n",
       "      <td>1316608331</td>\n",
       "      <td>3357671</td>\n",
       "      <td>[12210, 15789, 7489]</td>\n",
       "      <td>14</td>\n",
       "      <td>2635</td>\n",
       "      <td>41301</td>\n",
       "      <td>(13, 23]</td>\n",
       "    </tr>\n",
       "    <tr>\n",
       "      <th>25</th>\n",
       "      <td>1313660169</td>\n",
       "      <td>968660</td>\n",
       "      <td>[17427, 3570, 12210]</td>\n",
       "      <td>25</td>\n",
       "      <td>5778</td>\n",
       "      <td>41301</td>\n",
       "      <td>(23, 55]</td>\n",
       "    </tr>\n",
       "    <tr>\n",
       "      <th>26</th>\n",
       "      <td>1312183067</td>\n",
       "      <td>8290378</td>\n",
       "      <td>[15818, 14697, 16484, 12636]</td>\n",
       "      <td>20</td>\n",
       "      <td>7102</td>\n",
       "      <td>41301</td>\n",
       "      <td>(13, 23]</td>\n",
       "    </tr>\n",
       "    <tr>\n",
       "      <th>27</th>\n",
       "      <td>1236442421</td>\n",
       "      <td>6658214</td>\n",
       "      <td>[6728, 18870, 1015, 4963]</td>\n",
       "      <td>157</td>\n",
       "      <td>48279</td>\n",
       "      <td>41444</td>\n",
       "      <td>(55, 200]</td>\n",
       "    </tr>\n",
       "    <tr>\n",
       "      <th>28</th>\n",
       "      <td>1242627338</td>\n",
       "      <td>7692</td>\n",
       "      <td>[10536, 6728]</td>\n",
       "      <td>73</td>\n",
       "      <td>19781</td>\n",
       "      <td>41444</td>\n",
       "      <td>(55, 200]</td>\n",
       "    </tr>\n",
       "    <tr>\n",
       "      <th>29</th>\n",
       "      <td>1278814875</td>\n",
       "      <td>8542111</td>\n",
       "      <td>[16596, 17555, 5188]</td>\n",
       "      <td>3</td>\n",
       "      <td>875</td>\n",
       "      <td>41444</td>\n",
       "      <td>[0, 3]</td>\n",
       "    </tr>\n",
       "    <tr>\n",
       "      <th>...</th>\n",
       "      <td>...</td>\n",
       "      <td>...</td>\n",
       "      <td>...</td>\n",
       "      <td>...</td>\n",
       "      <td>...</td>\n",
       "      <td>...</td>\n",
       "      <td>...</td>\n",
       "    </tr>\n",
       "    <tr>\n",
       "      <th>57531</th>\n",
       "      <td>1204996049</td>\n",
       "      <td>35043</td>\n",
       "      <td>[1813, 18567, 10891, 4776]</td>\n",
       "      <td>70</td>\n",
       "      <td>18759</td>\n",
       "      <td>2919</td>\n",
       "      <td>(55, 200]</td>\n",
       "    </tr>\n",
       "    <tr>\n",
       "      <th>57532</th>\n",
       "      <td>1270225708</td>\n",
       "      <td>10397599</td>\n",
       "      <td>[14687]</td>\n",
       "      <td>140</td>\n",
       "      <td>32882</td>\n",
       "      <td>2923</td>\n",
       "      <td>(55, 200]</td>\n",
       "    </tr>\n",
       "    <tr>\n",
       "      <th>57533</th>\n",
       "      <td>1239016725</td>\n",
       "      <td>3100264</td>\n",
       "      <td>[7934, 12636]</td>\n",
       "      <td>172</td>\n",
       "      <td>51178</td>\n",
       "      <td>2923</td>\n",
       "      <td>(55, 200]</td>\n",
       "    </tr>\n",
       "    <tr>\n",
       "      <th>57534</th>\n",
       "      <td>1270467538</td>\n",
       "      <td>6543501</td>\n",
       "      <td>[20275, 12995]</td>\n",
       "      <td>84</td>\n",
       "      <td>23500</td>\n",
       "      <td>2923</td>\n",
       "      <td>(55, 200]</td>\n",
       "    </tr>\n",
       "    <tr>\n",
       "      <th>57535</th>\n",
       "      <td>1273590994</td>\n",
       "      <td>11757993</td>\n",
       "      <td>[2586]</td>\n",
       "      <td>74</td>\n",
       "      <td>19320</td>\n",
       "      <td>2923</td>\n",
       "      <td>(55, 200]</td>\n",
       "    </tr>\n",
       "    <tr>\n",
       "      <th>57536</th>\n",
       "      <td>1274803605</td>\n",
       "      <td>4753838</td>\n",
       "      <td>[3624]</td>\n",
       "      <td>143</td>\n",
       "      <td>55211</td>\n",
       "      <td>2923</td>\n",
       "      <td>(55, 200]</td>\n",
       "    </tr>\n",
       "    <tr>\n",
       "      <th>57537</th>\n",
       "      <td>1270718249</td>\n",
       "      <td>6410584</td>\n",
       "      <td>[11809]</td>\n",
       "      <td>111</td>\n",
       "      <td>31313</td>\n",
       "      <td>2923</td>\n",
       "      <td>(55, 200]</td>\n",
       "    </tr>\n",
       "    <tr>\n",
       "      <th>57538</th>\n",
       "      <td>1270547059</td>\n",
       "      <td>7923876</td>\n",
       "      <td>[14964]</td>\n",
       "      <td>162</td>\n",
       "      <td>67125</td>\n",
       "      <td>2923</td>\n",
       "      <td>(55, 200]</td>\n",
       "    </tr>\n",
       "    <tr>\n",
       "      <th>57539</th>\n",
       "      <td>1297781895</td>\n",
       "      <td>3110995</td>\n",
       "      <td>[4294]</td>\n",
       "      <td>5</td>\n",
       "      <td>1200</td>\n",
       "      <td>2923</td>\n",
       "      <td>(3, 7]</td>\n",
       "    </tr>\n",
       "    <tr>\n",
       "      <th>57540</th>\n",
       "      <td>1275247249</td>\n",
       "      <td>5523577</td>\n",
       "      <td>[9581]</td>\n",
       "      <td>42</td>\n",
       "      <td>16107</td>\n",
       "      <td>2923</td>\n",
       "      <td>(23, 55]</td>\n",
       "    </tr>\n",
       "    <tr>\n",
       "      <th>57541</th>\n",
       "      <td>1282137260</td>\n",
       "      <td>6959506</td>\n",
       "      <td>[814]</td>\n",
       "      <td>5</td>\n",
       "      <td>1611</td>\n",
       "      <td>2923</td>\n",
       "      <td>(3, 7]</td>\n",
       "    </tr>\n",
       "    <tr>\n",
       "      <th>57542</th>\n",
       "      <td>1272804407</td>\n",
       "      <td>10913081</td>\n",
       "      <td>[15481]</td>\n",
       "      <td>84</td>\n",
       "      <td>19786</td>\n",
       "      <td>2923</td>\n",
       "      <td>(55, 200]</td>\n",
       "    </tr>\n",
       "    <tr>\n",
       "      <th>57543</th>\n",
       "      <td>1273400366</td>\n",
       "      <td>5749903</td>\n",
       "      <td>[11788]</td>\n",
       "      <td>116</td>\n",
       "      <td>37802</td>\n",
       "      <td>2923</td>\n",
       "      <td>(55, 200]</td>\n",
       "    </tr>\n",
       "    <tr>\n",
       "      <th>57544</th>\n",
       "      <td>1274888517</td>\n",
       "      <td>4325130</td>\n",
       "      <td>[471, 446]</td>\n",
       "      <td>100</td>\n",
       "      <td>22828</td>\n",
       "      <td>2923</td>\n",
       "      <td>(55, 200]</td>\n",
       "    </tr>\n",
       "    <tr>\n",
       "      <th>57545</th>\n",
       "      <td>1274774856</td>\n",
       "      <td>7438303</td>\n",
       "      <td>[20337]</td>\n",
       "      <td>32</td>\n",
       "      <td>9845</td>\n",
       "      <td>2923</td>\n",
       "      <td>(23, 55]</td>\n",
       "    </tr>\n",
       "    <tr>\n",
       "      <th>57546</th>\n",
       "      <td>1273398055</td>\n",
       "      <td>11621849</td>\n",
       "      <td>[20629]</td>\n",
       "      <td>35</td>\n",
       "      <td>9637</td>\n",
       "      <td>2923</td>\n",
       "      <td>(23, 55]</td>\n",
       "    </tr>\n",
       "    <tr>\n",
       "      <th>57547</th>\n",
       "      <td>1265578737</td>\n",
       "      <td>4588626</td>\n",
       "      <td>[17432, 14959]</td>\n",
       "      <td>111</td>\n",
       "      <td>32776</td>\n",
       "      <td>2923</td>\n",
       "      <td>(55, 200]</td>\n",
       "    </tr>\n",
       "    <tr>\n",
       "      <th>57548</th>\n",
       "      <td>1274770728</td>\n",
       "      <td>5013977</td>\n",
       "      <td>[15818]</td>\n",
       "      <td>117</td>\n",
       "      <td>32840</td>\n",
       "      <td>2923</td>\n",
       "      <td>(55, 200]</td>\n",
       "    </tr>\n",
       "    <tr>\n",
       "      <th>57549</th>\n",
       "      <td>1286654541</td>\n",
       "      <td>4902863</td>\n",
       "      <td>[19354]</td>\n",
       "      <td>117</td>\n",
       "      <td>32840</td>\n",
       "      <td>4243</td>\n",
       "      <td>(55, 200]</td>\n",
       "    </tr>\n",
       "    <tr>\n",
       "      <th>57550</th>\n",
       "      <td>1180046953</td>\n",
       "      <td>5358724</td>\n",
       "      <td>[4226, 11582, 14448]</td>\n",
       "      <td>23</td>\n",
       "      <td>4542</td>\n",
       "      <td>4243</td>\n",
       "      <td>(13, 23]</td>\n",
       "    </tr>\n",
       "    <tr>\n",
       "      <th>57551</th>\n",
       "      <td>1284243257</td>\n",
       "      <td>4036364</td>\n",
       "      <td>[6514]</td>\n",
       "      <td>3</td>\n",
       "      <td>554</td>\n",
       "      <td>4206</td>\n",
       "      <td>[0, 3]</td>\n",
       "    </tr>\n",
       "    <tr>\n",
       "      <th>57552</th>\n",
       "      <td>1221297698</td>\n",
       "      <td>5319003</td>\n",
       "      <td>[]</td>\n",
       "      <td>39</td>\n",
       "      <td>8478</td>\n",
       "      <td>4206</td>\n",
       "      <td>(23, 55]</td>\n",
       "    </tr>\n",
       "    <tr>\n",
       "      <th>57553</th>\n",
       "      <td>1243938589</td>\n",
       "      <td>10178110</td>\n",
       "      <td>[15558]</td>\n",
       "      <td>2</td>\n",
       "      <td>439</td>\n",
       "      <td>4206</td>\n",
       "      <td>[0, 3]</td>\n",
       "    </tr>\n",
       "    <tr>\n",
       "      <th>57554</th>\n",
       "      <td>1334792180</td>\n",
       "      <td>5719109</td>\n",
       "      <td>[8733]</td>\n",
       "      <td>2</td>\n",
       "      <td>439</td>\n",
       "      <td>4249</td>\n",
       "      <td>[0, 3]</td>\n",
       "    </tr>\n",
       "    <tr>\n",
       "      <th>57555</th>\n",
       "      <td>1327967427</td>\n",
       "      <td>6571160</td>\n",
       "      <td>[19676]</td>\n",
       "      <td>5</td>\n",
       "      <td>1250</td>\n",
       "      <td>4249</td>\n",
       "      <td>(3, 7]</td>\n",
       "    </tr>\n",
       "    <tr>\n",
       "      <th>57556</th>\n",
       "      <td>1327932820</td>\n",
       "      <td>4642498</td>\n",
       "      <td>[]</td>\n",
       "      <td>2</td>\n",
       "      <td>524</td>\n",
       "      <td>4917</td>\n",
       "      <td>[0, 3]</td>\n",
       "    </tr>\n",
       "    <tr>\n",
       "      <th>57557</th>\n",
       "      <td>1238005048</td>\n",
       "      <td>8515234</td>\n",
       "      <td>[19676]</td>\n",
       "      <td>2</td>\n",
       "      <td>524</td>\n",
       "      <td>4917</td>\n",
       "      <td>[0, 3]</td>\n",
       "    </tr>\n",
       "    <tr>\n",
       "      <th>57558</th>\n",
       "      <td>1238014795</td>\n",
       "      <td>4659986</td>\n",
       "      <td>[]</td>\n",
       "      <td>2</td>\n",
       "      <td>524</td>\n",
       "      <td>4917</td>\n",
       "      <td>[0, 3]</td>\n",
       "    </tr>\n",
       "    <tr>\n",
       "      <th>57559</th>\n",
       "      <td>1323726029</td>\n",
       "      <td>10612833</td>\n",
       "      <td>[7250, 6792]</td>\n",
       "      <td>10</td>\n",
       "      <td>2242</td>\n",
       "      <td>4950</td>\n",
       "      <td>(7, 13]</td>\n",
       "    </tr>\n",
       "    <tr>\n",
       "      <th>57560</th>\n",
       "      <td>1323724772</td>\n",
       "      <td>4146222</td>\n",
       "      <td>[19676]</td>\n",
       "      <td>10</td>\n",
       "      <td>2242</td>\n",
       "      <td>4950</td>\n",
       "      <td>(7, 13]</td>\n",
       "    </tr>\n",
       "  </tbody>\n",
       "</table>\n",
       "<p>57561 rows × 7 columns</p>\n",
       "</div>"
      ],
      "text/plain": [
       "       created_at  playlist_id  \\\n",
       "0      1216545588       644838   \n",
       "1      1249326867      7577564   \n",
       "2      1257766688      3120683   \n",
       "3      1248079275      4278112   \n",
       "4      1175201268      8656823   \n",
       "5      1224952363     10961458   \n",
       "6      1171573001      5527068   \n",
       "7      1220175946      2940714   \n",
       "8      1181710641     11397138   \n",
       "9      1181710641      3128020   \n",
       "10     1172149901      8373436   \n",
       "11     1242987126      4809636   \n",
       "12     1294318230      8583262   \n",
       "13     1294064629     11280190   \n",
       "14     1294064116      5618648   \n",
       "15     1233614137      2995278   \n",
       "16     1231539219      5720522   \n",
       "17     1173913081      2594578   \n",
       "18     1240960210       689943   \n",
       "19     1389195386      6851716   \n",
       "20     1262873154      4242746   \n",
       "21     1262873153     10030096   \n",
       "22     1178653273      7541178   \n",
       "23     1256935416      3792227   \n",
       "24     1316608331      3357671   \n",
       "25     1313660169       968660   \n",
       "26     1312183067      8290378   \n",
       "27     1236442421      6658214   \n",
       "28     1242627338         7692   \n",
       "29     1278814875      8542111   \n",
       "...           ...          ...   \n",
       "57531  1204996049        35043   \n",
       "57532  1270225708     10397599   \n",
       "57533  1239016725      3100264   \n",
       "57534  1270467538      6543501   \n",
       "57535  1273590994     11757993   \n",
       "57536  1274803605      4753838   \n",
       "57537  1270718249      6410584   \n",
       "57538  1270547059      7923876   \n",
       "57539  1297781895      3110995   \n",
       "57540  1275247249      5523577   \n",
       "57541  1282137260      6959506   \n",
       "57542  1272804407     10913081   \n",
       "57543  1273400366      5749903   \n",
       "57544  1274888517      4325130   \n",
       "57545  1274774856      7438303   \n",
       "57546  1273398055     11621849   \n",
       "57547  1265578737      4588626   \n",
       "57548  1274770728      5013977   \n",
       "57549  1286654541      4902863   \n",
       "57550  1180046953      5358724   \n",
       "57551  1284243257      4036364   \n",
       "57552  1221297698      5319003   \n",
       "57553  1243938589     10178110   \n",
       "57554  1334792180      5719109   \n",
       "57555  1327967427      6571160   \n",
       "57556  1327932820      4642498   \n",
       "57557  1238005048      8515234   \n",
       "57558  1238014795      4659986   \n",
       "57559  1323726029     10612833   \n",
       "57560  1323724772      4146222   \n",
       "\n",
       "                                                  title  numtracks  duration  \\\n",
       "0                                               [12727]         27      6522   \n",
       "1                                                    []          9      2650   \n",
       "2                                                 [183]         16      3645   \n",
       "3                    [12389, 18698, 18925, 11695, 7117]         15      4151   \n",
       "4      [12809, 2095, 13257, 12671, 20426, 14448, 18698]         84     18414   \n",
       "5                      [7194, 3225, 9438, 13502, 11695]         32      6441   \n",
       "6                                               [19505]         44     13776   \n",
       "7                                               [12323]         69     18214   \n",
       "8                                                    []         27      8466   \n",
       "9                                  [12111, 4776, 14448]         89     30451   \n",
       "10                                        [9922, 14448]         89     30451   \n",
       "11                                        [7107, 14343]          2       542   \n",
       "12                                        [2410, 16169]          7      4689   \n",
       "13                                               [3628]          5      1462   \n",
       "14                                              [14888]         11      5826   \n",
       "15                                  [12636, 17985, 660]          4      1301   \n",
       "16                                                   []          7      1859   \n",
       "17                                                   []        151     33518   \n",
       "18                                              [19676]          1       207   \n",
       "19                                              [12532]          0         0   \n",
       "20                                [13864, 16768, 16557]          0         0   \n",
       "21                                [13864, 16768, 16557]          0         0   \n",
       "22                                              [19676]          0         0   \n",
       "23                                               [7802]         46     21046   \n",
       "24                                 [12210, 15789, 7489]         14      2635   \n",
       "25                                 [17427, 3570, 12210]         25      5778   \n",
       "26                         [15818, 14697, 16484, 12636]         20      7102   \n",
       "27                            [6728, 18870, 1015, 4963]        157     48279   \n",
       "28                                        [10536, 6728]         73     19781   \n",
       "29                                 [16596, 17555, 5188]          3       875   \n",
       "...                                                 ...        ...       ...   \n",
       "57531                        [1813, 18567, 10891, 4776]         70     18759   \n",
       "57532                                           [14687]        140     32882   \n",
       "57533                                     [7934, 12636]        172     51178   \n",
       "57534                                    [20275, 12995]         84     23500   \n",
       "57535                                            [2586]         74     19320   \n",
       "57536                                            [3624]        143     55211   \n",
       "57537                                           [11809]        111     31313   \n",
       "57538                                           [14964]        162     67125   \n",
       "57539                                            [4294]          5      1200   \n",
       "57540                                            [9581]         42     16107   \n",
       "57541                                             [814]          5      1611   \n",
       "57542                                           [15481]         84     19786   \n",
       "57543                                           [11788]        116     37802   \n",
       "57544                                        [471, 446]        100     22828   \n",
       "57545                                           [20337]         32      9845   \n",
       "57546                                           [20629]         35      9637   \n",
       "57547                                    [17432, 14959]        111     32776   \n",
       "57548                                           [15818]        117     32840   \n",
       "57549                                           [19354]        117     32840   \n",
       "57550                              [4226, 11582, 14448]         23      4542   \n",
       "57551                                            [6514]          3       554   \n",
       "57552                                                []         39      8478   \n",
       "57553                                           [15558]          2       439   \n",
       "57554                                            [8733]          2       439   \n",
       "57555                                           [19676]          5      1250   \n",
       "57556                                                []          2       524   \n",
       "57557                                           [19676]          2       524   \n",
       "57558                                                []          2       524   \n",
       "57559                                      [7250, 6792]         10      2242   \n",
       "57560                                           [19676]         10      2242   \n",
       "\n",
       "       owner numtrack_token  \n",
       "0      41504       (23, 55]  \n",
       "1      41504        (7, 13]  \n",
       "2      44542       (13, 23]  \n",
       "3      44542       (13, 23]  \n",
       "4      44542      (55, 200]  \n",
       "5      44542       (23, 55]  \n",
       "6      40796       (23, 55]  \n",
       "7      40796      (55, 200]  \n",
       "8      44467       (23, 55]  \n",
       "9      44467      (55, 200]  \n",
       "10     43704      (55, 200]  \n",
       "11     43704         [0, 3]  \n",
       "12     44877         (3, 7]  \n",
       "13     44877         (3, 7]  \n",
       "14     44877        (7, 13]  \n",
       "15     43028         (3, 7]  \n",
       "16     43028         (3, 7]  \n",
       "17     42600      (55, 200]  \n",
       "18     42600         [0, 3]  \n",
       "19     41884         [0, 3]  \n",
       "20     41884         [0, 3]  \n",
       "21     41884         [0, 3]  \n",
       "22     41884         [0, 3]  \n",
       "23     41301       (23, 55]  \n",
       "24     41301       (13, 23]  \n",
       "25     41301       (23, 55]  \n",
       "26     41301       (13, 23]  \n",
       "27     41444      (55, 200]  \n",
       "28     41444      (55, 200]  \n",
       "29     41444         [0, 3]  \n",
       "...      ...            ...  \n",
       "57531   2919      (55, 200]  \n",
       "57532   2923      (55, 200]  \n",
       "57533   2923      (55, 200]  \n",
       "57534   2923      (55, 200]  \n",
       "57535   2923      (55, 200]  \n",
       "57536   2923      (55, 200]  \n",
       "57537   2923      (55, 200]  \n",
       "57538   2923      (55, 200]  \n",
       "57539   2923         (3, 7]  \n",
       "57540   2923       (23, 55]  \n",
       "57541   2923         (3, 7]  \n",
       "57542   2923      (55, 200]  \n",
       "57543   2923      (55, 200]  \n",
       "57544   2923      (55, 200]  \n",
       "57545   2923       (23, 55]  \n",
       "57546   2923       (23, 55]  \n",
       "57547   2923      (55, 200]  \n",
       "57548   2923      (55, 200]  \n",
       "57549   4243      (55, 200]  \n",
       "57550   4243       (13, 23]  \n",
       "57551   4206         [0, 3]  \n",
       "57552   4206       (23, 55]  \n",
       "57553   4206         [0, 3]  \n",
       "57554   4249         [0, 3]  \n",
       "57555   4249         (3, 7]  \n",
       "57556   4917         [0, 3]  \n",
       "57557   4917         [0, 3]  \n",
       "57558   4917         [0, 3]  \n",
       "57559   4950        (7, 13]  \n",
       "57560   4950        (7, 13]  \n",
       "\n",
       "[57561 rows x 7 columns]"
      ]
     },
     "execution_count": 135,
     "metadata": {},
     "output_type": "execute_result"
    }
   ],
   "source": [
    "playlists"
   ]
  },
  {
   "cell_type": "code",
   "execution_count": 147,
   "metadata": {
    "collapsed": true
   },
   "outputs": [],
   "source": [
    "duration = playlists[playlists['playlist_id'] == 4146222]"
   ]
  },
  {
   "cell_type": "code",
   "execution_count": 148,
   "metadata": {},
   "outputs": [
    {
     "data": {
      "text/html": [
       "<div>\n",
       "<table border=\"1\" class=\"dataframe\">\n",
       "  <thead>\n",
       "    <tr style=\"text-align: right;\">\n",
       "      <th></th>\n",
       "      <th>created_at</th>\n",
       "      <th>playlist_id</th>\n",
       "      <th>title</th>\n",
       "      <th>numtracks</th>\n",
       "      <th>duration</th>\n",
       "      <th>owner</th>\n",
       "      <th>numtrack_token</th>\n",
       "    </tr>\n",
       "  </thead>\n",
       "  <tbody>\n",
       "    <tr>\n",
       "      <th>57560</th>\n",
       "      <td>1323724772</td>\n",
       "      <td>4146222</td>\n",
       "      <td>[19676]</td>\n",
       "      <td>10</td>\n",
       "      <td>2242</td>\n",
       "      <td>4950</td>\n",
       "      <td>(7, 13]</td>\n",
       "    </tr>\n",
       "  </tbody>\n",
       "</table>\n",
       "</div>"
      ],
      "text/plain": [
       "       created_at  playlist_id    title  numtracks  duration  owner  \\\n",
       "57560  1323724772      4146222  [19676]         10      2242   4950   \n",
       "\n",
       "      numtrack_token  \n",
       "57560        (7, 13]  "
      ]
     },
     "execution_count": 148,
     "metadata": {},
     "output_type": "execute_result"
    }
   ],
   "source": [
    "duration"
   ]
  },
  {
   "cell_type": "code",
   "execution_count": 151,
   "metadata": {},
   "outputs": [
    {
     "data": {
      "text/plain": [
       "2242"
      ]
     },
     "execution_count": 151,
     "metadata": {},
     "output_type": "execute_result"
    }
   ],
   "source": []
  },
  {
   "cell_type": "code",
   "execution_count": 79,
   "metadata": {},
   "outputs": [
    {
     "data": {
      "text/plain": [
       "[        playlist_id  track_id\n",
       " 0           3271849   2801526\n",
       " 1           5616275    727878\n",
       " 2          11267488   2805283\n",
       " 3          10103900   1515105\n",
       " 4           3836898   2945623\n",
       " 5           5270369   2821391\n",
       " 6           3794808   1166185\n",
       " 7           7908370   2498280\n",
       " 8          11460733    282687\n",
       " 9            886396    863177\n",
       " 10          5758965    676462\n",
       " 11            12268   1896905\n",
       " 12          3391757   3389845\n",
       " 13          3738258    351130\n",
       " 14          4308838   3377520\n",
       " 15          3296858   3691756\n",
       " 16         10783548   2288999\n",
       " 17          6043192     54520\n",
       " 18          8829360   1818779\n",
       " 19          8965216   3660211\n",
       " 20          6839423   3532650\n",
       " 21         10343825   2226099\n",
       " 22          8000772   1986571\n",
       " 23          8323524   2013612\n",
       " 24          4878824    648387\n",
       " 25          3631223   3114611\n",
       " 26          4144882   1081479\n",
       " 27         10982921    557048\n",
       " 28          8673728   3050270\n",
       " 29          8130908    191353\n",
       " ...             ...       ...\n",
       " 520231      8375436   3616837\n",
       " 520232      5765299   1341110\n",
       " 520233     11049622   3803678\n",
       " 520234      4452027    662637\n",
       " 520235      2032363   4404774\n",
       " 520236     11718721   3785348\n",
       " 520237      6548113    199165\n",
       " 520238     10827834    962912\n",
       " 520239      8038129   2242813\n",
       " 520240      4748099   1044079\n",
       " 520241      4102086   1275241\n",
       " 520242      7101242   2247097\n",
       " 520243      7815506    675430\n",
       " 520244      4311855   2926556\n",
       " 520245      4144707    212269\n",
       " 520246      8480850   3263130\n",
       " 520247      6408150    798801\n",
       " 520248      1230348   4877935\n",
       " 520249      3444977   3701271\n",
       " 520250     11319307    409037\n",
       " 520251      3239922   1893085\n",
       " 520252      5929122   3510368\n",
       " 520253      8522154     87358\n",
       " 520254      6618839   1506100\n",
       " 520255     11219540    622669\n",
       " 520256      7551573   1982164\n",
       " 520257      7541857   2158791\n",
       " 520258      4880207   3526670\n",
       " 520259     10673940   2339150\n",
       " 520260      6107784   2601222\n",
       " \n",
       " [520261 rows x 2 columns],          playlist_id  track_id\n",
       " 520261       7093914   2768113\n",
       " 520262       8983740   2951174\n",
       " 520263       7035635   1821660\n",
       " 520264        208989    164182\n",
       " 520265       3526573   3801835\n",
       " 520266       4524437   1210594\n",
       " 520267       6556573   2587488\n",
       " 520268       2760701   3340899\n",
       " 520269       2291997   1350368\n",
       " 520270       7178082   3463882\n",
       " 520271       7883618   2628582\n",
       " 520272       8025588   2868177\n",
       " 520273       1258021   2919606\n",
       " 520274       3509857   1339031\n",
       " 520275       6717963   1177628\n",
       " 520276       6976411   3031313\n",
       " 520277      10823307   2909295\n",
       " 520278       8865934    187961\n",
       " 520279       8322605   2892957\n",
       " 520280       5088447    229005\n",
       " 520281       2893555   1305955\n",
       " 520282       4223409   3530843\n",
       " 520283       6841676    840943\n",
       " 520284       3611068   1476700\n",
       " 520285       7112259   3706422\n",
       " 520286       3767189    710206\n",
       " 520287      10687820    715549\n",
       " 520288       6713517   3640762\n",
       " 520289       5342532   3787885\n",
       " 520290      11732006    483646\n",
       " ...              ...       ...\n",
       " 1040492     10673940   3794036\n",
       " 1040493     11218577   1522777\n",
       " 1040494     10453739   1167097\n",
       " 1040495     11465171   3204432\n",
       " 1040496     10049400   3604235\n",
       " 1040497     10908617   3515028\n",
       " 1040498      8011348   2847448\n",
       " 1040499      4653894   1818278\n",
       " 1040500      5906992    891389\n",
       " 1040501      4572771   2949008\n",
       " 1040502      8168399   2578712\n",
       " 1040503      8685588   2111123\n",
       " 1040504       790446    245412\n",
       " 1040505      6227505     84509\n",
       " 1040506      6951360   2016984\n",
       " 1040507      2948215   1470148\n",
       " 1040508      4491321   3028383\n",
       " 1040509     11141562   1528758\n",
       " 1040510      4693216   1584218\n",
       " 1040511      8953954    690158\n",
       " 1040512      1002606   3080811\n",
       " 1040513      7608467   1363985\n",
       " 1040514     10855752   1851090\n",
       " 1040515      3656700   1169224\n",
       " 1040516      7272878   1790459\n",
       " 1040517     11024889   1508816\n",
       " 1040518         9444    635594\n",
       " 1040519      2659739   1468602\n",
       " 1040520     10687820   1187581\n",
       " 1040521      4962329   1094523\n",
       " \n",
       " [520261 rows x 2 columns]]"
      ]
     },
     "execution_count": 79,
     "metadata": {},
     "output_type": "execute_result"
    }
   ],
   "source": [
    "sc.split(train, 2)"
   ]
  },
  {
   "cell_type": "code",
   "execution_count": 80,
   "metadata": {
    "collapsed": true
   },
   "outputs": [],
   "source": [
    "sc.split?"
   ]
  },
  {
   "cell_type": "code",
   "execution_count": null,
   "metadata": {
    "collapsed": true
   },
   "outputs": [],
   "source": []
  }
 ],
 "metadata": {
  "kernelspec": {
   "display_name": "Python 3",
   "language": "python",
   "name": "python3"
  },
  "language_info": {
   "codemirror_mode": {
    "name": "ipython",
    "version": 3
   },
   "file_extension": ".py",
   "mimetype": "text/x-python",
   "name": "python",
   "nbconvert_exporter": "python",
   "pygments_lexer": "ipython3",
   "version": "3.5.3"
  }
 },
 "nbformat": 4,
 "nbformat_minor": 2
}
