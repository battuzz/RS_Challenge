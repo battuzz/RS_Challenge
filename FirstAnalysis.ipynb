{
 "cells": [
  {
   "cell_type": "code",
   "execution_count": 1,
   "metadata": {
    "collapsed": true
   },
   "outputs": [],
   "source": [
    "import matplotlib.pyplot as plt\n",
    "import seaborn as sns\n",
    "import numpy as np\n",
    "import pandas as pd\n",
    "import scipy as sc\n",
    "from sklearn import preprocessing\n",
    "from sklearn import model_selection\n",
    "\n",
    "from recsys import preprocess\n",
    "from recsys import utility\n",
    "\n",
    "RANDOM_STATE = 2342\n",
    "\n",
    "%matplotlib inline"
   ]
  },
  {
   "cell_type": "code",
   "execution_count": 2,
   "metadata": {
    "collapsed": true
   },
   "outputs": [],
   "source": [
    "train = pd.read_csv('data/train_final.csv', delimiter='\\t')\n",
    "playlists = pd.read_csv('data/playlists_final.csv', delimiter='\\t')\n",
    "target_playlists = pd.read_csv('data/target_playlists.csv', delimiter='\\t')\n",
    "target_tracks = pd.read_csv('data/target_tracks.csv', delimiter = '\\t')\n",
    "tracks = pd.read_csv('data/tracks_final.csv', delimiter='\\t')"
   ]
  },
  {
   "cell_type": "code",
   "execution_count": 48,
   "metadata": {},
   "outputs": [],
   "source": [
    "x = pd.DataFrame(train['playlist_id'].drop_duplicates())\n",
    "x.index = train['playlist_id'].unique()\n",
    "x['tracks'] = train.groupby('playlist_id').apply(lambda x : x['track_id'].values)"
   ]
  },
  {
   "cell_type": "code",
   "execution_count": 10,
   "metadata": {},
   "outputs": [],
   "source": [
    "df = pd.DataFrame(data = get_target_playlists())\n",
    "df.index = get_target_playlists()['playlist_id']"
   ]
  },
  {
   "cell_type": "code",
   "execution_count": 11,
   "metadata": {},
   "outputs": [],
   "source": [
    "df['x'] = [np.array([]) for i in range(len(df))]"
   ]
  },
  {
   "cell_type": "code",
   "execution_count": 13,
   "metadata": {},
   "outputs": [],
   "source": [
    "df.loc[10024884,('x',)] = np.array([1])"
   ]
  },
  {
   "cell_type": "code",
   "execution_count": 14,
   "metadata": {},
   "outputs": [
    {
     "data": {
      "text/html": [
       "<div>\n",
       "<table border=\"1\" class=\"dataframe\">\n",
       "  <thead>\n",
       "    <tr style=\"text-align: right;\">\n",
       "      <th></th>\n",
       "      <th>playlist_id</th>\n",
       "      <th>x</th>\n",
       "    </tr>\n",
       "    <tr>\n",
       "      <th>playlist_id</th>\n",
       "      <th></th>\n",
       "      <th></th>\n",
       "    </tr>\n",
       "  </thead>\n",
       "  <tbody>\n",
       "    <tr>\n",
       "      <th>10024884</th>\n",
       "      <td>10024884</td>\n",
       "      <td>[1]</td>\n",
       "    </tr>\n",
       "    <tr>\n",
       "      <th>10624787</th>\n",
       "      <td>10624787</td>\n",
       "      <td>[]</td>\n",
       "    </tr>\n",
       "    <tr>\n",
       "      <th>4891851</th>\n",
       "      <td>4891851</td>\n",
       "      <td>[]</td>\n",
       "    </tr>\n",
       "    <tr>\n",
       "      <th>4267369</th>\n",
       "      <td>4267369</td>\n",
       "      <td>[]</td>\n",
       "    </tr>\n",
       "    <tr>\n",
       "      <th>65078</th>\n",
       "      <td>65078</td>\n",
       "      <td>[]</td>\n",
       "    </tr>\n",
       "    <tr>\n",
       "      <th>10637124</th>\n",
       "      <td>10637124</td>\n",
       "      <td>[]</td>\n",
       "    </tr>\n",
       "    <tr>\n",
       "      <th>3223162</th>\n",
       "      <td>3223162</td>\n",
       "      <td>[]</td>\n",
       "    </tr>\n",
       "    <tr>\n",
       "      <th>7541503</th>\n",
       "      <td>7541503</td>\n",
       "      <td>[]</td>\n",
       "    </tr>\n",
       "    <tr>\n",
       "      <th>6189367</th>\n",
       "      <td>6189367</td>\n",
       "      <td>[]</td>\n",
       "    </tr>\n",
       "    <tr>\n",
       "      <th>8459943</th>\n",
       "      <td>8459943</td>\n",
       "      <td>[]</td>\n",
       "    </tr>\n",
       "    <tr>\n",
       "      <th>10138804</th>\n",
       "      <td>10138804</td>\n",
       "      <td>[]</td>\n",
       "    </tr>\n",
       "    <tr>\n",
       "      <th>10562075</th>\n",
       "      <td>10562075</td>\n",
       "      <td>[]</td>\n",
       "    </tr>\n",
       "    <tr>\n",
       "      <th>10184821</th>\n",
       "      <td>10184821</td>\n",
       "      <td>[]</td>\n",
       "    </tr>\n",
       "    <tr>\n",
       "      <th>4189678</th>\n",
       "      <td>4189678</td>\n",
       "      <td>[]</td>\n",
       "    </tr>\n",
       "    <tr>\n",
       "      <th>6299524</th>\n",
       "      <td>6299524</td>\n",
       "      <td>[]</td>\n",
       "    </tr>\n",
       "    <tr>\n",
       "      <th>8515028</th>\n",
       "      <td>8515028</td>\n",
       "      <td>[]</td>\n",
       "    </tr>\n",
       "    <tr>\n",
       "      <th>10631638</th>\n",
       "      <td>10631638</td>\n",
       "      <td>[]</td>\n",
       "    </tr>\n",
       "    <tr>\n",
       "      <th>10947423</th>\n",
       "      <td>10947423</td>\n",
       "      <td>[]</td>\n",
       "    </tr>\n",
       "    <tr>\n",
       "      <th>11295404</th>\n",
       "      <td>11295404</td>\n",
       "      <td>[]</td>\n",
       "    </tr>\n",
       "    <tr>\n",
       "      <th>3884714</th>\n",
       "      <td>3884714</td>\n",
       "      <td>[]</td>\n",
       "    </tr>\n",
       "    <tr>\n",
       "      <th>10680851</th>\n",
       "      <td>10680851</td>\n",
       "      <td>[]</td>\n",
       "    </tr>\n",
       "    <tr>\n",
       "      <th>3228268</th>\n",
       "      <td>3228268</td>\n",
       "      <td>[]</td>\n",
       "    </tr>\n",
       "    <tr>\n",
       "      <th>7850055</th>\n",
       "      <td>7850055</td>\n",
       "      <td>[]</td>\n",
       "    </tr>\n",
       "    <tr>\n",
       "      <th>10864017</th>\n",
       "      <td>10864017</td>\n",
       "      <td>[]</td>\n",
       "    </tr>\n",
       "    <tr>\n",
       "      <th>5660760</th>\n",
       "      <td>5660760</td>\n",
       "      <td>[]</td>\n",
       "    </tr>\n",
       "    <tr>\n",
       "      <th>4157419</th>\n",
       "      <td>4157419</td>\n",
       "      <td>[]</td>\n",
       "    </tr>\n",
       "    <tr>\n",
       "      <th>3304833</th>\n",
       "      <td>3304833</td>\n",
       "      <td>[]</td>\n",
       "    </tr>\n",
       "    <tr>\n",
       "      <th>1911645</th>\n",
       "      <td>1911645</td>\n",
       "      <td>[]</td>\n",
       "    </tr>\n",
       "    <tr>\n",
       "      <th>4902536</th>\n",
       "      <td>4902536</td>\n",
       "      <td>[]</td>\n",
       "    </tr>\n",
       "    <tr>\n",
       "      <th>1140304</th>\n",
       "      <td>1140304</td>\n",
       "      <td>[]</td>\n",
       "    </tr>\n",
       "    <tr>\n",
       "      <th>...</th>\n",
       "      <td>...</td>\n",
       "      <td>...</td>\n",
       "    </tr>\n",
       "    <tr>\n",
       "      <th>11381473</th>\n",
       "      <td>11381473</td>\n",
       "      <td>[]</td>\n",
       "    </tr>\n",
       "    <tr>\n",
       "      <th>3520121</th>\n",
       "      <td>3520121</td>\n",
       "      <td>[]</td>\n",
       "    </tr>\n",
       "    <tr>\n",
       "      <th>6612439</th>\n",
       "      <td>6612439</td>\n",
       "      <td>[]</td>\n",
       "    </tr>\n",
       "    <tr>\n",
       "      <th>6218231</th>\n",
       "      <td>6218231</td>\n",
       "      <td>[]</td>\n",
       "    </tr>\n",
       "    <tr>\n",
       "      <th>8344678</th>\n",
       "      <td>8344678</td>\n",
       "      <td>[]</td>\n",
       "    </tr>\n",
       "    <tr>\n",
       "      <th>7470841</th>\n",
       "      <td>7470841</td>\n",
       "      <td>[]</td>\n",
       "    </tr>\n",
       "    <tr>\n",
       "      <th>6423094</th>\n",
       "      <td>6423094</td>\n",
       "      <td>[]</td>\n",
       "    </tr>\n",
       "    <tr>\n",
       "      <th>8139437</th>\n",
       "      <td>8139437</td>\n",
       "      <td>[]</td>\n",
       "    </tr>\n",
       "    <tr>\n",
       "      <th>8227203</th>\n",
       "      <td>8227203</td>\n",
       "      <td>[]</td>\n",
       "    </tr>\n",
       "    <tr>\n",
       "      <th>5903507</th>\n",
       "      <td>5903507</td>\n",
       "      <td>[]</td>\n",
       "    </tr>\n",
       "    <tr>\n",
       "      <th>3778920</th>\n",
       "      <td>3778920</td>\n",
       "      <td>[]</td>\n",
       "    </tr>\n",
       "    <tr>\n",
       "      <th>1061175</th>\n",
       "      <td>1061175</td>\n",
       "      <td>[]</td>\n",
       "    </tr>\n",
       "    <tr>\n",
       "      <th>8572406</th>\n",
       "      <td>8572406</td>\n",
       "      <td>[]</td>\n",
       "    </tr>\n",
       "    <tr>\n",
       "      <th>10413491</th>\n",
       "      <td>10413491</td>\n",
       "      <td>[]</td>\n",
       "    </tr>\n",
       "    <tr>\n",
       "      <th>8868869</th>\n",
       "      <td>8868869</td>\n",
       "      <td>[]</td>\n",
       "    </tr>\n",
       "    <tr>\n",
       "      <th>8202309</th>\n",
       "      <td>8202309</td>\n",
       "      <td>[]</td>\n",
       "    </tr>\n",
       "    <tr>\n",
       "      <th>7784396</th>\n",
       "      <td>7784396</td>\n",
       "      <td>[]</td>\n",
       "    </tr>\n",
       "    <tr>\n",
       "      <th>4622927</th>\n",
       "      <td>4622927</td>\n",
       "      <td>[]</td>\n",
       "    </tr>\n",
       "    <tr>\n",
       "      <th>11542825</th>\n",
       "      <td>11542825</td>\n",
       "      <td>[]</td>\n",
       "    </tr>\n",
       "    <tr>\n",
       "      <th>7138440</th>\n",
       "      <td>7138440</td>\n",
       "      <td>[]</td>\n",
       "    </tr>\n",
       "    <tr>\n",
       "      <th>5146771</th>\n",
       "      <td>5146771</td>\n",
       "      <td>[]</td>\n",
       "    </tr>\n",
       "    <tr>\n",
       "      <th>4506918</th>\n",
       "      <td>4506918</td>\n",
       "      <td>[]</td>\n",
       "    </tr>\n",
       "    <tr>\n",
       "      <th>10337087</th>\n",
       "      <td>10337087</td>\n",
       "      <td>[]</td>\n",
       "    </tr>\n",
       "    <tr>\n",
       "      <th>5608217</th>\n",
       "      <td>5608217</td>\n",
       "      <td>[]</td>\n",
       "    </tr>\n",
       "    <tr>\n",
       "      <th>7697108</th>\n",
       "      <td>7697108</td>\n",
       "      <td>[]</td>\n",
       "    </tr>\n",
       "    <tr>\n",
       "      <th>11616286</th>\n",
       "      <td>11616286</td>\n",
       "      <td>[]</td>\n",
       "    </tr>\n",
       "    <tr>\n",
       "      <th>53201</th>\n",
       "      <td>53201</td>\n",
       "      <td>[]</td>\n",
       "    </tr>\n",
       "    <tr>\n",
       "      <th>11369546</th>\n",
       "      <td>11369546</td>\n",
       "      <td>[]</td>\n",
       "    </tr>\n",
       "    <tr>\n",
       "      <th>7939535</th>\n",
       "      <td>7939535</td>\n",
       "      <td>[]</td>\n",
       "    </tr>\n",
       "    <tr>\n",
       "      <th>297021</th>\n",
       "      <td>297021</td>\n",
       "      <td>[]</td>\n",
       "    </tr>\n",
       "  </tbody>\n",
       "</table>\n",
       "<p>10000 rows × 2 columns</p>\n",
       "</div>"
      ],
      "text/plain": [
       "             playlist_id    x\n",
       "playlist_id                  \n",
       "10024884        10024884  [1]\n",
       "10624787        10624787   []\n",
       "4891851          4891851   []\n",
       "4267369          4267369   []\n",
       "65078              65078   []\n",
       "10637124        10637124   []\n",
       "3223162          3223162   []\n",
       "7541503          7541503   []\n",
       "6189367          6189367   []\n",
       "8459943          8459943   []\n",
       "10138804        10138804   []\n",
       "10562075        10562075   []\n",
       "10184821        10184821   []\n",
       "4189678          4189678   []\n",
       "6299524          6299524   []\n",
       "8515028          8515028   []\n",
       "10631638        10631638   []\n",
       "10947423        10947423   []\n",
       "11295404        11295404   []\n",
       "3884714          3884714   []\n",
       "10680851        10680851   []\n",
       "3228268          3228268   []\n",
       "7850055          7850055   []\n",
       "10864017        10864017   []\n",
       "5660760          5660760   []\n",
       "4157419          4157419   []\n",
       "3304833          3304833   []\n",
       "1911645          1911645   []\n",
       "4902536          4902536   []\n",
       "1140304          1140304   []\n",
       "...                  ...  ...\n",
       "11381473        11381473   []\n",
       "3520121          3520121   []\n",
       "6612439          6612439   []\n",
       "6218231          6218231   []\n",
       "8344678          8344678   []\n",
       "7470841          7470841   []\n",
       "6423094          6423094   []\n",
       "8139437          8139437   []\n",
       "8227203          8227203   []\n",
       "5903507          5903507   []\n",
       "3778920          3778920   []\n",
       "1061175          1061175   []\n",
       "8572406          8572406   []\n",
       "10413491        10413491   []\n",
       "8868869          8868869   []\n",
       "8202309          8202309   []\n",
       "7784396          7784396   []\n",
       "4622927          4622927   []\n",
       "11542825        11542825   []\n",
       "7138440          7138440   []\n",
       "5146771          5146771   []\n",
       "4506918          4506918   []\n",
       "10337087        10337087   []\n",
       "5608217          5608217   []\n",
       "7697108          7697108   []\n",
       "11616286        11616286   []\n",
       "53201              53201   []\n",
       "11369546        11369546   []\n",
       "7939535          7939535   []\n",
       "297021            297021   []\n",
       "\n",
       "[10000 rows x 2 columns]"
      ]
     },
     "execution_count": 14,
     "metadata": {},
     "output_type": "execute_result"
    }
   ],
   "source": [
    "df"
   ]
  },
  {
   "cell_type": "code",
   "execution_count": null,
   "metadata": {
    "collapsed": true
   },
   "outputs": [],
   "source": []
  },
  {
   "cell_type": "code",
   "execution_count": null,
   "metadata": {
    "collapsed": true
   },
   "outputs": [],
   "source": []
  },
  {
   "cell_type": "code",
   "execution_count": null,
   "metadata": {
    "collapsed": true
   },
   "outputs": [],
   "source": []
  },
  {
   "cell_type": "code",
   "execution_count": 58,
   "metadata": {
    "collapsed": true
   },
   "outputs": [],
   "source": [
    "pd.DataFrame?"
   ]
  },
  {
   "cell_type": "code",
   "execution_count": null,
   "metadata": {
    "collapsed": true
   },
   "outputs": [],
   "source": []
  },
  {
   "cell_type": "code",
   "execution_count": null,
   "metadata": {
    "collapsed": true
   },
   "outputs": [],
   "source": []
  },
  {
   "cell_type": "code",
   "execution_count": 12,
   "metadata": {},
   "outputs": [],
   "source": []
  },
  {
   "cell_type": "code",
   "execution_count": 21,
   "metadata": {},
   "outputs": [
    {
     "name": "stdout",
     "output_type": "stream",
     "text": [
      "CPU times: user 22.4 s, sys: 302 ms, total: 22.7 s\n",
      "Wall time: 22.7 s\n"
     ]
    }
   ],
   "source": [
    "%%time\n",
    "\n",
    "from recsys.preprocess import *\n",
    "from sklearn import model_selection\n",
    "import numpy as np\n",
    "from recsys.utility import *\n",
    "\n",
    "RANDOM_STATE = 42\n",
    "np.random.seed(RANDOM_STATE)\n",
    "\n",
    "train = get_train()\n",
    "target_playlist = get_target_playlists()\n",
    "target_tracks = get_target_tracks()\n",
    "\n",
    "\n",
    "train, test, target_playlist, target_tracks = train_test_split(train, test_size=0.20)\n",
    "\n",
    "most_popular = get_most_popular_tracks(train)\n",
    "tracks_in_playlist = get_playlist_track_list2(train)\n",
    "\n",
    "tracks_to_suggest = most_popular.index.values\n",
    "predictions = []\n",
    "\n",
    "predictions = pd.DataFrame(target_playlist)\n",
    "predictions.index = target_playlist['playlist_id']\n",
    "predictions['track_ids'] = [np.array([]) for i in range(len(predictions))]\n",
    "predictions['track_ids'] = predictions['track_ids'].astype(object)\n",
    "\n",
    "for it,row in target_playlist.iterrows():\n",
    "    count = 0\n",
    "    i = 0\n",
    "    pred = []\n",
    "    while count < 5:\n",
    "        if tracks_to_suggest[i] not in tracks_in_playlist.loc[row['playlist_id']]['track_ids']:\n",
    "            # Predict track i\n",
    "            # IMPORTANT: should we check if the track to suggest is in target_tracks?\n",
    "            pred.append(tracks_to_suggest[i])\n",
    "            count += 1\n",
    "        i += 1\n",
    "    #predictions.loc[row['playlist_id'],'track_ids'] = np.array([])\n",
    "    predictions.loc[row['playlist_id']] = predictions.loc[row['playlist_id']].set_value('track_ids', np.array(pred))\n",
    "    #predictions.append(' '.join(map(str, pred)))\n",
    "\n",
    "#results = pd.DataFrame(np.transpose([target_playlist['playlist_id'].values, predictions]), columns=['playlist_id', 'track_ids'])\n",
    "\n",
    "#results.to_csv('results.csv', index=False)\n"
   ]
  },
  {
   "cell_type": "code",
   "execution_count": 22,
   "metadata": {
    "collapsed": true
   },
   "outputs": [],
   "source": [
    "def evaluate(test, recommendations, should_transform_test=True):\n",
    "    \"\"\"\n",
    "     - \"test\" is:\n",
    "           if should_transform_test == False: a dataframe with columns \"playlist_id\" and \"track_id\".\n",
    "           else: a dict with \"playlist_id\" as key and a list of \"track_id\" as value.\n",
    "     - \"recommendations\" is a dataframe with \"playlist_id\" and \"track_id\" as numpy.ndarray value.\n",
    "    \"\"\"\n",
    "    if should_transform_test:\n",
    "        # Tranform \"test\" in a dict:\n",
    "        #   key: playlist_id\n",
    "        #   value: list of track_ids\n",
    "        test_df = preprocess.get_playlist_track_list2(test)\n",
    "    else:\n",
    "        test_df = test\n",
    "    \n",
    "    print(test_df.iloc[:10])\n",
    "    \n",
    "    mean_ap = 0\n",
    "    for _,row in recommendations.iterrows():\n",
    "        pl_id = row['playlist_id']\n",
    "        tracks = row['track_ids']\n",
    "        correct = 0\n",
    "        ap = 0\n",
    "        for it, t in enumerate(tracks):\n",
    "            if t in test_df.loc[pl_id]['track_ids']:\n",
    "                correct += 1\n",
    "                ap += correct / (it+1)\n",
    "        ap /= len(tracks)\n",
    "        mean_ap += ap\n",
    "\n",
    "    return mean_ap / len(recommendations)"
   ]
  },
  {
   "cell_type": "code",
   "execution_count": 23,
   "metadata": {},
   "outputs": [
    {
     "data": {
      "text/html": [
       "<div>\n",
       "<table border=\"1\" class=\"dataframe\">\n",
       "  <thead>\n",
       "    <tr style=\"text-align: right;\">\n",
       "      <th></th>\n",
       "      <th>playlist_id</th>\n",
       "      <th>track_id</th>\n",
       "    </tr>\n",
       "  </thead>\n",
       "  <tbody>\n",
       "    <tr>\n",
       "      <th>24.0</th>\n",
       "      <td>4878824</td>\n",
       "      <td>648387</td>\n",
       "    </tr>\n",
       "    <tr>\n",
       "      <th>26.0</th>\n",
       "      <td>4144882</td>\n",
       "      <td>1081479</td>\n",
       "    </tr>\n",
       "    <tr>\n",
       "      <th>116.0</th>\n",
       "      <td>10560762</td>\n",
       "      <td>3748363</td>\n",
       "    </tr>\n",
       "    <tr>\n",
       "      <th>120.0</th>\n",
       "      <td>2494890</td>\n",
       "      <td>2677523</td>\n",
       "    </tr>\n",
       "    <tr>\n",
       "      <th>142.0</th>\n",
       "      <td>6441207</td>\n",
       "      <td>1629252</td>\n",
       "    </tr>\n",
       "  </tbody>\n",
       "</table>\n",
       "</div>"
      ],
      "text/plain": [
       "       playlist_id  track_id\n",
       "24.0       4878824    648387\n",
       "26.0       4144882   1081479\n",
       "116.0     10560762   3748363\n",
       "120.0      2494890   2677523\n",
       "142.0      6441207   1629252"
      ]
     },
     "execution_count": 23,
     "metadata": {},
     "output_type": "execute_result"
    }
   ],
   "source": [
    "test.head()"
   ]
  },
  {
   "cell_type": "code",
   "execution_count": 24,
   "metadata": {},
   "outputs": [
    {
     "name": "stdout",
     "output_type": "stream",
     "text": [
      "          playlist_id                                      track_ids\n",
      "4878824       4878824    [648387, 3191548, 720730, 3187360, 1258042]\n",
      "4144882       4144882   [1081479, 1306289, 681191, 3422255, 1855073]\n",
      "10560762     10560762   [3748363, 463561, 3179150, 2547193, 2009544]\n",
      "2494890       2494890   [2677523, 848916, 3221830, 1844060, 3305608]\n",
      "6441207       6441207  [1629252, 1717060, 1842924, 2017173, 3191688]\n",
      "4103126       4103126    [2027988, 200308, 3232697, 3250658, 709079]\n",
      "721037         721037  [2063857, 1254963, 2855946, 3481379, 2956696]\n",
      "8789434       8789434   [3138322, 3214478, 2696008, 2971227, 620395]\n",
      "11222729     11222729   [948134, 2834348, 2149448, 2266763, 1537605]\n",
      "3020491       3020491    [1885450, 910115, 1635000, 1257890, 139306]\n"
     ]
    },
    {
     "data": {
      "text/plain": [
       "0.001113269751560108"
      ]
     },
     "execution_count": 24,
     "metadata": {},
     "output_type": "execute_result"
    }
   ],
   "source": [
    "evaluate(recommendations=predictions, test=test)"
   ]
  },
  {
   "cell_type": "code",
   "execution_count": 25,
   "metadata": {
    "collapsed": true
   },
   "outputs": [],
   "source": [
    "predictions['track_ids'] = predictions['track_ids'].apply(lambda x : ' '.join(map(str, x)))"
   ]
  },
  {
   "cell_type": "code",
   "execution_count": 26,
   "metadata": {},
   "outputs": [
    {
     "data": {
      "text/html": [
       "<div>\n",
       "<table border=\"1\" class=\"dataframe\">\n",
       "  <thead>\n",
       "    <tr style=\"text-align: right;\">\n",
       "      <th></th>\n",
       "      <th>playlist_id</th>\n",
       "      <th>track_ids</th>\n",
       "    </tr>\n",
       "    <tr>\n",
       "      <th>playlist_id</th>\n",
       "      <th></th>\n",
       "      <th></th>\n",
       "    </tr>\n",
       "  </thead>\n",
       "  <tbody>\n",
       "    <tr>\n",
       "      <th>5631546</th>\n",
       "      <td>5631546</td>\n",
       "      <td>1563309 3705881 1363985 1595978 3779477</td>\n",
       "    </tr>\n",
       "    <tr>\n",
       "      <th>8180835</th>\n",
       "      <td>8180835</td>\n",
       "      <td>1563309 3705881 1363985 1595978 3779477</td>\n",
       "    </tr>\n",
       "    <tr>\n",
       "      <th>129558</th>\n",
       "      <td>129558</td>\n",
       "      <td>1563309 3705881 1363985 1595978 3779477</td>\n",
       "    </tr>\n",
       "    <tr>\n",
       "      <th>10048079</th>\n",
       "      <td>10048079</td>\n",
       "      <td>1563309 3705881 1363985 1595978 3779477</td>\n",
       "    </tr>\n",
       "    <tr>\n",
       "      <th>5810002</th>\n",
       "      <td>5810002</td>\n",
       "      <td>1563309 3705881 1363985 3779477 204966</td>\n",
       "    </tr>\n",
       "    <tr>\n",
       "      <th>11497662</th>\n",
       "      <td>11497662</td>\n",
       "      <td>1563309 3705881 1363985 1595978 3779477</td>\n",
       "    </tr>\n",
       "    <tr>\n",
       "      <th>7376648</th>\n",
       "      <td>7376648</td>\n",
       "      <td>1563309 3705881 1363985 1595978 3779477</td>\n",
       "    </tr>\n",
       "    <tr>\n",
       "      <th>10856669</th>\n",
       "      <td>10856669</td>\n",
       "      <td>1563309 3705881 1363985 1595978 3779477</td>\n",
       "    </tr>\n",
       "    <tr>\n",
       "      <th>3023131</th>\n",
       "      <td>3023131</td>\n",
       "      <td>1563309 3705881 1363985 1595978 3779477</td>\n",
       "    </tr>\n",
       "    <tr>\n",
       "      <th>6178128</th>\n",
       "      <td>6178128</td>\n",
       "      <td>1563309 3705881 1363985 1595978 3779477</td>\n",
       "    </tr>\n",
       "    <tr>\n",
       "      <th>26171</th>\n",
       "      <td>26171</td>\n",
       "      <td>1563309 3705881 1363985 1595978 3779477</td>\n",
       "    </tr>\n",
       "    <tr>\n",
       "      <th>4419644</th>\n",
       "      <td>4419644</td>\n",
       "      <td>1563309 3705881 1363985 1595978 3779477</td>\n",
       "    </tr>\n",
       "    <tr>\n",
       "      <th>7141809</th>\n",
       "      <td>7141809</td>\n",
       "      <td>1563309 3705881 1363985 1595978 3779477</td>\n",
       "    </tr>\n",
       "    <tr>\n",
       "      <th>7357967</th>\n",
       "      <td>7357967</td>\n",
       "      <td>1563309 3705881 1363985 1595978 3779477</td>\n",
       "    </tr>\n",
       "    <tr>\n",
       "      <th>5661190</th>\n",
       "      <td>5661190</td>\n",
       "      <td>1563309 3705881 1363985 1595978 3779477</td>\n",
       "    </tr>\n",
       "    <tr>\n",
       "      <th>11180160</th>\n",
       "      <td>11180160</td>\n",
       "      <td>1563309 3705881 1363985 1595978 3779477</td>\n",
       "    </tr>\n",
       "    <tr>\n",
       "      <th>11147724</th>\n",
       "      <td>11147724</td>\n",
       "      <td>1563309 3705881 1363985 1595978 3779477</td>\n",
       "    </tr>\n",
       "    <tr>\n",
       "      <th>10352441</th>\n",
       "      <td>10352441</td>\n",
       "      <td>1563309 3705881 1363985 1595978 3779477</td>\n",
       "    </tr>\n",
       "    <tr>\n",
       "      <th>7397138</th>\n",
       "      <td>7397138</td>\n",
       "      <td>1563309 3705881 1363985 1595978 3779477</td>\n",
       "    </tr>\n",
       "    <tr>\n",
       "      <th>8797133</th>\n",
       "      <td>8797133</td>\n",
       "      <td>1563309 3705881 1363985 1595978 3779477</td>\n",
       "    </tr>\n",
       "    <tr>\n",
       "      <th>8756535</th>\n",
       "      <td>8756535</td>\n",
       "      <td>1563309 3705881 1363985 1595978 3779477</td>\n",
       "    </tr>\n",
       "    <tr>\n",
       "      <th>8591052</th>\n",
       "      <td>8591052</td>\n",
       "      <td>1563309 3705881 1363985 1595978 3779477</td>\n",
       "    </tr>\n",
       "    <tr>\n",
       "      <th>3864475</th>\n",
       "      <td>3864475</td>\n",
       "      <td>1563309 3705881 1363985 1595978 3779477</td>\n",
       "    </tr>\n",
       "    <tr>\n",
       "      <th>716422</th>\n",
       "      <td>716422</td>\n",
       "      <td>1563309 3705881 1363985 1595978 3779477</td>\n",
       "    </tr>\n",
       "    <tr>\n",
       "      <th>4985054</th>\n",
       "      <td>4985054</td>\n",
       "      <td>1563309 3705881 1363985 1595978 3779477</td>\n",
       "    </tr>\n",
       "    <tr>\n",
       "      <th>7177082</th>\n",
       "      <td>7177082</td>\n",
       "      <td>1563309 3705881 1363985 1595978 3779477</td>\n",
       "    </tr>\n",
       "    <tr>\n",
       "      <th>3766874</th>\n",
       "      <td>3766874</td>\n",
       "      <td>1563309 3705881 1363985 1595978 3779477</td>\n",
       "    </tr>\n",
       "    <tr>\n",
       "      <th>7541242</th>\n",
       "      <td>7541242</td>\n",
       "      <td>1563309 3705881 1363985 1595978 3779477</td>\n",
       "    </tr>\n",
       "    <tr>\n",
       "      <th>10759270</th>\n",
       "      <td>10759270</td>\n",
       "      <td>1563309 3705881 1363985 1595978 3779477</td>\n",
       "    </tr>\n",
       "    <tr>\n",
       "      <th>8627328</th>\n",
       "      <td>8627328</td>\n",
       "      <td>1563309 3705881 1363985 1595978 3779477</td>\n",
       "    </tr>\n",
       "    <tr>\n",
       "      <th>...</th>\n",
       "      <td>...</td>\n",
       "      <td>...</td>\n",
       "    </tr>\n",
       "    <tr>\n",
       "      <th>11126679</th>\n",
       "      <td>11126679</td>\n",
       "      <td>1563309 3705881 1363985 1595978 3779477</td>\n",
       "    </tr>\n",
       "    <tr>\n",
       "      <th>10227499</th>\n",
       "      <td>10227499</td>\n",
       "      <td>1563309 3705881 1363985 1595978 3779477</td>\n",
       "    </tr>\n",
       "    <tr>\n",
       "      <th>8311730</th>\n",
       "      <td>8311730</td>\n",
       "      <td>1563309 3705881 1363985 1595978 3779477</td>\n",
       "    </tr>\n",
       "    <tr>\n",
       "      <th>10287305</th>\n",
       "      <td>10287305</td>\n",
       "      <td>1563309 3705881 1363985 1595978 3779477</td>\n",
       "    </tr>\n",
       "    <tr>\n",
       "      <th>7578776</th>\n",
       "      <td>7578776</td>\n",
       "      <td>1563309 3705881 1363985 1595978 3779477</td>\n",
       "    </tr>\n",
       "    <tr>\n",
       "      <th>6676048</th>\n",
       "      <td>6676048</td>\n",
       "      <td>1563309 3705881 1363985 1595978 3779477</td>\n",
       "    </tr>\n",
       "    <tr>\n",
       "      <th>8600793</th>\n",
       "      <td>8600793</td>\n",
       "      <td>1563309 3705881 1363985 1595978 3779477</td>\n",
       "    </tr>\n",
       "    <tr>\n",
       "      <th>4079770</th>\n",
       "      <td>4079770</td>\n",
       "      <td>1563309 3705881 1363985 1595978 3779477</td>\n",
       "    </tr>\n",
       "    <tr>\n",
       "      <th>6232450</th>\n",
       "      <td>6232450</td>\n",
       "      <td>1563309 3705881 1363985 1595978 3779477</td>\n",
       "    </tr>\n",
       "    <tr>\n",
       "      <th>4129138</th>\n",
       "      <td>4129138</td>\n",
       "      <td>1563309 3705881 1363985 1595978 3779477</td>\n",
       "    </tr>\n",
       "    <tr>\n",
       "      <th>6383063</th>\n",
       "      <td>6383063</td>\n",
       "      <td>1563309 3705881 1363985 1595978 3779477</td>\n",
       "    </tr>\n",
       "    <tr>\n",
       "      <th>4859416</th>\n",
       "      <td>4859416</td>\n",
       "      <td>1563309 3705881 1363985 1595978 3779477</td>\n",
       "    </tr>\n",
       "    <tr>\n",
       "      <th>3928456</th>\n",
       "      <td>3928456</td>\n",
       "      <td>1563309 3705881 1363985 1595978 3779477</td>\n",
       "    </tr>\n",
       "    <tr>\n",
       "      <th>8529284</th>\n",
       "      <td>8529284</td>\n",
       "      <td>1563309 3705881 1363985 1595978 3779477</td>\n",
       "    </tr>\n",
       "    <tr>\n",
       "      <th>8416959</th>\n",
       "      <td>8416959</td>\n",
       "      <td>1563309 3705881 1363985 1595978 3779477</td>\n",
       "    </tr>\n",
       "    <tr>\n",
       "      <th>6822185</th>\n",
       "      <td>6822185</td>\n",
       "      <td>1563309 3705881 1363985 1595978 3779477</td>\n",
       "    </tr>\n",
       "    <tr>\n",
       "      <th>5013430</th>\n",
       "      <td>5013430</td>\n",
       "      <td>1563309 3705881 1363985 1595978 3779477</td>\n",
       "    </tr>\n",
       "    <tr>\n",
       "      <th>8246220</th>\n",
       "      <td>8246220</td>\n",
       "      <td>1563309 3705881 1363985 1595978 3779477</td>\n",
       "    </tr>\n",
       "    <tr>\n",
       "      <th>4588626</th>\n",
       "      <td>4588626</td>\n",
       "      <td>1563309 3705881 1363985 1595978 3779477</td>\n",
       "    </tr>\n",
       "    <tr>\n",
       "      <th>11026974</th>\n",
       "      <td>11026974</td>\n",
       "      <td>1563309 3705881 1363985 1595978 3779477</td>\n",
       "    </tr>\n",
       "    <tr>\n",
       "      <th>10353752</th>\n",
       "      <td>10353752</td>\n",
       "      <td>1563309 3705881 1363985 1595978 3779477</td>\n",
       "    </tr>\n",
       "    <tr>\n",
       "      <th>7559969</th>\n",
       "      <td>7559969</td>\n",
       "      <td>1563309 3705881 1363985 1595978 3779477</td>\n",
       "    </tr>\n",
       "    <tr>\n",
       "      <th>10599106</th>\n",
       "      <td>10599106</td>\n",
       "      <td>1563309 3705881 1363985 1595978 3779477</td>\n",
       "    </tr>\n",
       "    <tr>\n",
       "      <th>6596326</th>\n",
       "      <td>6596326</td>\n",
       "      <td>1563309 3705881 1363985 1595978 3779477</td>\n",
       "    </tr>\n",
       "    <tr>\n",
       "      <th>1591348</th>\n",
       "      <td>1591348</td>\n",
       "      <td>1563309 3705881 1363985 1595978 3779477</td>\n",
       "    </tr>\n",
       "    <tr>\n",
       "      <th>10712714</th>\n",
       "      <td>10712714</td>\n",
       "      <td>1563309 3705881 1363985 1595978 3779477</td>\n",
       "    </tr>\n",
       "    <tr>\n",
       "      <th>11325810</th>\n",
       "      <td>11325810</td>\n",
       "      <td>1563309 3705881 1363985 1595978 3779477</td>\n",
       "    </tr>\n",
       "    <tr>\n",
       "      <th>6870281</th>\n",
       "      <td>6870281</td>\n",
       "      <td>1563309 3705881 1363985 1595978 3779477</td>\n",
       "    </tr>\n",
       "    <tr>\n",
       "      <th>11701727</th>\n",
       "      <td>11701727</td>\n",
       "      <td>1563309 3705881 1363985 1595978 3779477</td>\n",
       "    </tr>\n",
       "    <tr>\n",
       "      <th>1797401</th>\n",
       "      <td>1797401</td>\n",
       "      <td>1563309 3705881 1363985 1595978 3779477</td>\n",
       "    </tr>\n",
       "  </tbody>\n",
       "</table>\n",
       "<p>5662 rows × 2 columns</p>\n",
       "</div>"
      ],
      "text/plain": [
       "             playlist_id                                track_ids\n",
       "playlist_id                                                      \n",
       "5631546          5631546  1563309 3705881 1363985 1595978 3779477\n",
       "8180835          8180835  1563309 3705881 1363985 1595978 3779477\n",
       "129558            129558  1563309 3705881 1363985 1595978 3779477\n",
       "10048079        10048079  1563309 3705881 1363985 1595978 3779477\n",
       "5810002          5810002   1563309 3705881 1363985 3779477 204966\n",
       "11497662        11497662  1563309 3705881 1363985 1595978 3779477\n",
       "7376648          7376648  1563309 3705881 1363985 1595978 3779477\n",
       "10856669        10856669  1563309 3705881 1363985 1595978 3779477\n",
       "3023131          3023131  1563309 3705881 1363985 1595978 3779477\n",
       "6178128          6178128  1563309 3705881 1363985 1595978 3779477\n",
       "26171              26171  1563309 3705881 1363985 1595978 3779477\n",
       "4419644          4419644  1563309 3705881 1363985 1595978 3779477\n",
       "7141809          7141809  1563309 3705881 1363985 1595978 3779477\n",
       "7357967          7357967  1563309 3705881 1363985 1595978 3779477\n",
       "5661190          5661190  1563309 3705881 1363985 1595978 3779477\n",
       "11180160        11180160  1563309 3705881 1363985 1595978 3779477\n",
       "11147724        11147724  1563309 3705881 1363985 1595978 3779477\n",
       "10352441        10352441  1563309 3705881 1363985 1595978 3779477\n",
       "7397138          7397138  1563309 3705881 1363985 1595978 3779477\n",
       "8797133          8797133  1563309 3705881 1363985 1595978 3779477\n",
       "8756535          8756535  1563309 3705881 1363985 1595978 3779477\n",
       "8591052          8591052  1563309 3705881 1363985 1595978 3779477\n",
       "3864475          3864475  1563309 3705881 1363985 1595978 3779477\n",
       "716422            716422  1563309 3705881 1363985 1595978 3779477\n",
       "4985054          4985054  1563309 3705881 1363985 1595978 3779477\n",
       "7177082          7177082  1563309 3705881 1363985 1595978 3779477\n",
       "3766874          3766874  1563309 3705881 1363985 1595978 3779477\n",
       "7541242          7541242  1563309 3705881 1363985 1595978 3779477\n",
       "10759270        10759270  1563309 3705881 1363985 1595978 3779477\n",
       "8627328          8627328  1563309 3705881 1363985 1595978 3779477\n",
       "...                  ...                                      ...\n",
       "11126679        11126679  1563309 3705881 1363985 1595978 3779477\n",
       "10227499        10227499  1563309 3705881 1363985 1595978 3779477\n",
       "8311730          8311730  1563309 3705881 1363985 1595978 3779477\n",
       "10287305        10287305  1563309 3705881 1363985 1595978 3779477\n",
       "7578776          7578776  1563309 3705881 1363985 1595978 3779477\n",
       "6676048          6676048  1563309 3705881 1363985 1595978 3779477\n",
       "8600793          8600793  1563309 3705881 1363985 1595978 3779477\n",
       "4079770          4079770  1563309 3705881 1363985 1595978 3779477\n",
       "6232450          6232450  1563309 3705881 1363985 1595978 3779477\n",
       "4129138          4129138  1563309 3705881 1363985 1595978 3779477\n",
       "6383063          6383063  1563309 3705881 1363985 1595978 3779477\n",
       "4859416          4859416  1563309 3705881 1363985 1595978 3779477\n",
       "3928456          3928456  1563309 3705881 1363985 1595978 3779477\n",
       "8529284          8529284  1563309 3705881 1363985 1595978 3779477\n",
       "8416959          8416959  1563309 3705881 1363985 1595978 3779477\n",
       "6822185          6822185  1563309 3705881 1363985 1595978 3779477\n",
       "5013430          5013430  1563309 3705881 1363985 1595978 3779477\n",
       "8246220          8246220  1563309 3705881 1363985 1595978 3779477\n",
       "4588626          4588626  1563309 3705881 1363985 1595978 3779477\n",
       "11026974        11026974  1563309 3705881 1363985 1595978 3779477\n",
       "10353752        10353752  1563309 3705881 1363985 1595978 3779477\n",
       "7559969          7559969  1563309 3705881 1363985 1595978 3779477\n",
       "10599106        10599106  1563309 3705881 1363985 1595978 3779477\n",
       "6596326          6596326  1563309 3705881 1363985 1595978 3779477\n",
       "1591348          1591348  1563309 3705881 1363985 1595978 3779477\n",
       "10712714        10712714  1563309 3705881 1363985 1595978 3779477\n",
       "11325810        11325810  1563309 3705881 1363985 1595978 3779477\n",
       "6870281          6870281  1563309 3705881 1363985 1595978 3779477\n",
       "11701727        11701727  1563309 3705881 1363985 1595978 3779477\n",
       "1797401          1797401  1563309 3705881 1363985 1595978 3779477\n",
       "\n",
       "[5662 rows x 2 columns]"
      ]
     },
     "execution_count": 26,
     "metadata": {},
     "output_type": "execute_result"
    }
   ],
   "source": [
    "predictions"
   ]
  },
  {
   "cell_type": "code",
   "execution_count": 57,
   "metadata": {},
   "outputs": [],
   "source": [
    "from recsys.utility import *"
   ]
  },
  {
   "cell_type": "code",
   "execution_count": null,
   "metadata": {
    "collapsed": true
   },
   "outputs": [],
   "source": [
    "evaluate(recommendations=predictions, test=test)"
   ]
  },
  {
   "cell_type": "code",
   "execution_count": null,
   "metadata": {
    "collapsed": true
   },
   "outputs": [],
   "source": []
  },
  {
   "cell_type": "code",
   "execution_count": null,
   "metadata": {
    "collapsed": true
   },
   "outputs": [],
   "source": []
  },
  {
   "cell_type": "code",
   "execution_count": null,
   "metadata": {
    "collapsed": true
   },
   "outputs": [],
   "source": []
  },
  {
   "cell_type": "code",
   "execution_count": null,
   "metadata": {
    "collapsed": true
   },
   "outputs": [],
   "source": []
  },
  {
   "cell_type": "code",
   "execution_count": null,
   "metadata": {
    "collapsed": true
   },
   "outputs": [],
   "source": []
  },
  {
   "cell_type": "code",
   "execution_count": null,
   "metadata": {
    "collapsed": true
   },
   "outputs": [],
   "source": []
  },
  {
   "cell_type": "code",
   "execution_count": null,
   "metadata": {
    "collapsed": true
   },
   "outputs": [],
   "source": []
  },
  {
   "cell_type": "code",
   "execution_count": null,
   "metadata": {
    "collapsed": true
   },
   "outputs": [],
   "source": []
  },
  {
   "cell_type": "code",
   "execution_count": 41,
   "metadata": {},
   "outputs": [],
   "source": [
    "a = predictions.loc[10024884]"
   ]
  },
  {
   "cell_type": "code",
   "execution_count": 43,
   "metadata": {},
   "outputs": [
    {
     "data": {
      "text/plain": [
       "playlist_id    10024884\n",
       "track_ids       [1, 23]\n",
       "Name: 10024884, dtype: object"
      ]
     },
     "execution_count": 43,
     "metadata": {},
     "output_type": "execute_result"
    }
   ],
   "source": [
    "a.set_value('track_ids', np.array([1, 23]))"
   ]
  },
  {
   "cell_type": "code",
   "execution_count": 51,
   "metadata": {},
   "outputs": [],
   "source": [
    "predictions.loc[10024884] = predictions.loc[10024884].set_value('track_ids', np.array([1, 2, 3]))"
   ]
  },
  {
   "cell_type": "code",
   "execution_count": 52,
   "metadata": {},
   "outputs": [
    {
     "data": {
      "text/html": [
       "<div>\n",
       "<table border=\"1\" class=\"dataframe\">\n",
       "  <thead>\n",
       "    <tr style=\"text-align: right;\">\n",
       "      <th></th>\n",
       "      <th>playlist_id</th>\n",
       "      <th>track_ids</th>\n",
       "    </tr>\n",
       "    <tr>\n",
       "      <th>playlist_id</th>\n",
       "      <th></th>\n",
       "      <th></th>\n",
       "    </tr>\n",
       "  </thead>\n",
       "  <tbody>\n",
       "    <tr>\n",
       "      <th>10024884</th>\n",
       "      <td>10024884</td>\n",
       "      <td>[1, 2, 3]</td>\n",
       "    </tr>\n",
       "    <tr>\n",
       "      <th>10624787</th>\n",
       "      <td>10624787</td>\n",
       "      <td>[]</td>\n",
       "    </tr>\n",
       "    <tr>\n",
       "      <th>4891851</th>\n",
       "      <td>4891851</td>\n",
       "      <td>[]</td>\n",
       "    </tr>\n",
       "    <tr>\n",
       "      <th>4267369</th>\n",
       "      <td>4267369</td>\n",
       "      <td>[]</td>\n",
       "    </tr>\n",
       "    <tr>\n",
       "      <th>65078</th>\n",
       "      <td>65078</td>\n",
       "      <td>[]</td>\n",
       "    </tr>\n",
       "    <tr>\n",
       "      <th>10637124</th>\n",
       "      <td>10637124</td>\n",
       "      <td>[]</td>\n",
       "    </tr>\n",
       "    <tr>\n",
       "      <th>3223162</th>\n",
       "      <td>3223162</td>\n",
       "      <td>[]</td>\n",
       "    </tr>\n",
       "    <tr>\n",
       "      <th>7541503</th>\n",
       "      <td>7541503</td>\n",
       "      <td>[]</td>\n",
       "    </tr>\n",
       "    <tr>\n",
       "      <th>6189367</th>\n",
       "      <td>6189367</td>\n",
       "      <td>[]</td>\n",
       "    </tr>\n",
       "    <tr>\n",
       "      <th>8459943</th>\n",
       "      <td>8459943</td>\n",
       "      <td>[]</td>\n",
       "    </tr>\n",
       "    <tr>\n",
       "      <th>10138804</th>\n",
       "      <td>10138804</td>\n",
       "      <td>[]</td>\n",
       "    </tr>\n",
       "    <tr>\n",
       "      <th>10562075</th>\n",
       "      <td>10562075</td>\n",
       "      <td>[]</td>\n",
       "    </tr>\n",
       "    <tr>\n",
       "      <th>10184821</th>\n",
       "      <td>10184821</td>\n",
       "      <td>[]</td>\n",
       "    </tr>\n",
       "    <tr>\n",
       "      <th>4189678</th>\n",
       "      <td>4189678</td>\n",
       "      <td>[]</td>\n",
       "    </tr>\n",
       "    <tr>\n",
       "      <th>6299524</th>\n",
       "      <td>6299524</td>\n",
       "      <td>[]</td>\n",
       "    </tr>\n",
       "    <tr>\n",
       "      <th>8515028</th>\n",
       "      <td>8515028</td>\n",
       "      <td>[]</td>\n",
       "    </tr>\n",
       "    <tr>\n",
       "      <th>10631638</th>\n",
       "      <td>10631638</td>\n",
       "      <td>[]</td>\n",
       "    </tr>\n",
       "    <tr>\n",
       "      <th>10947423</th>\n",
       "      <td>10947423</td>\n",
       "      <td>[]</td>\n",
       "    </tr>\n",
       "    <tr>\n",
       "      <th>11295404</th>\n",
       "      <td>11295404</td>\n",
       "      <td>[]</td>\n",
       "    </tr>\n",
       "    <tr>\n",
       "      <th>3884714</th>\n",
       "      <td>3884714</td>\n",
       "      <td>[]</td>\n",
       "    </tr>\n",
       "    <tr>\n",
       "      <th>10680851</th>\n",
       "      <td>10680851</td>\n",
       "      <td>[]</td>\n",
       "    </tr>\n",
       "    <tr>\n",
       "      <th>3228268</th>\n",
       "      <td>3228268</td>\n",
       "      <td>[]</td>\n",
       "    </tr>\n",
       "    <tr>\n",
       "      <th>7850055</th>\n",
       "      <td>7850055</td>\n",
       "      <td>[]</td>\n",
       "    </tr>\n",
       "    <tr>\n",
       "      <th>10864017</th>\n",
       "      <td>10864017</td>\n",
       "      <td>[]</td>\n",
       "    </tr>\n",
       "    <tr>\n",
       "      <th>5660760</th>\n",
       "      <td>5660760</td>\n",
       "      <td>[]</td>\n",
       "    </tr>\n",
       "    <tr>\n",
       "      <th>4157419</th>\n",
       "      <td>4157419</td>\n",
       "      <td>[]</td>\n",
       "    </tr>\n",
       "    <tr>\n",
       "      <th>3304833</th>\n",
       "      <td>3304833</td>\n",
       "      <td>[]</td>\n",
       "    </tr>\n",
       "    <tr>\n",
       "      <th>1911645</th>\n",
       "      <td>1911645</td>\n",
       "      <td>[]</td>\n",
       "    </tr>\n",
       "    <tr>\n",
       "      <th>4902536</th>\n",
       "      <td>4902536</td>\n",
       "      <td>[]</td>\n",
       "    </tr>\n",
       "    <tr>\n",
       "      <th>1140304</th>\n",
       "      <td>1140304</td>\n",
       "      <td>[]</td>\n",
       "    </tr>\n",
       "    <tr>\n",
       "      <th>...</th>\n",
       "      <td>...</td>\n",
       "      <td>...</td>\n",
       "    </tr>\n",
       "    <tr>\n",
       "      <th>11381473</th>\n",
       "      <td>11381473</td>\n",
       "      <td>[]</td>\n",
       "    </tr>\n",
       "    <tr>\n",
       "      <th>3520121</th>\n",
       "      <td>3520121</td>\n",
       "      <td>[]</td>\n",
       "    </tr>\n",
       "    <tr>\n",
       "      <th>6612439</th>\n",
       "      <td>6612439</td>\n",
       "      <td>[]</td>\n",
       "    </tr>\n",
       "    <tr>\n",
       "      <th>6218231</th>\n",
       "      <td>6218231</td>\n",
       "      <td>[]</td>\n",
       "    </tr>\n",
       "    <tr>\n",
       "      <th>8344678</th>\n",
       "      <td>8344678</td>\n",
       "      <td>[]</td>\n",
       "    </tr>\n",
       "    <tr>\n",
       "      <th>7470841</th>\n",
       "      <td>7470841</td>\n",
       "      <td>[]</td>\n",
       "    </tr>\n",
       "    <tr>\n",
       "      <th>6423094</th>\n",
       "      <td>6423094</td>\n",
       "      <td>[]</td>\n",
       "    </tr>\n",
       "    <tr>\n",
       "      <th>8139437</th>\n",
       "      <td>8139437</td>\n",
       "      <td>[]</td>\n",
       "    </tr>\n",
       "    <tr>\n",
       "      <th>8227203</th>\n",
       "      <td>8227203</td>\n",
       "      <td>[]</td>\n",
       "    </tr>\n",
       "    <tr>\n",
       "      <th>5903507</th>\n",
       "      <td>5903507</td>\n",
       "      <td>[]</td>\n",
       "    </tr>\n",
       "    <tr>\n",
       "      <th>3778920</th>\n",
       "      <td>3778920</td>\n",
       "      <td>[]</td>\n",
       "    </tr>\n",
       "    <tr>\n",
       "      <th>1061175</th>\n",
       "      <td>1061175</td>\n",
       "      <td>[]</td>\n",
       "    </tr>\n",
       "    <tr>\n",
       "      <th>8572406</th>\n",
       "      <td>8572406</td>\n",
       "      <td>[]</td>\n",
       "    </tr>\n",
       "    <tr>\n",
       "      <th>10413491</th>\n",
       "      <td>10413491</td>\n",
       "      <td>[]</td>\n",
       "    </tr>\n",
       "    <tr>\n",
       "      <th>8868869</th>\n",
       "      <td>8868869</td>\n",
       "      <td>[]</td>\n",
       "    </tr>\n",
       "    <tr>\n",
       "      <th>8202309</th>\n",
       "      <td>8202309</td>\n",
       "      <td>[]</td>\n",
       "    </tr>\n",
       "    <tr>\n",
       "      <th>7784396</th>\n",
       "      <td>7784396</td>\n",
       "      <td>[]</td>\n",
       "    </tr>\n",
       "    <tr>\n",
       "      <th>4622927</th>\n",
       "      <td>4622927</td>\n",
       "      <td>[]</td>\n",
       "    </tr>\n",
       "    <tr>\n",
       "      <th>11542825</th>\n",
       "      <td>11542825</td>\n",
       "      <td>[]</td>\n",
       "    </tr>\n",
       "    <tr>\n",
       "      <th>7138440</th>\n",
       "      <td>7138440</td>\n",
       "      <td>[]</td>\n",
       "    </tr>\n",
       "    <tr>\n",
       "      <th>5146771</th>\n",
       "      <td>5146771</td>\n",
       "      <td>[]</td>\n",
       "    </tr>\n",
       "    <tr>\n",
       "      <th>4506918</th>\n",
       "      <td>4506918</td>\n",
       "      <td>[]</td>\n",
       "    </tr>\n",
       "    <tr>\n",
       "      <th>10337087</th>\n",
       "      <td>10337087</td>\n",
       "      <td>[]</td>\n",
       "    </tr>\n",
       "    <tr>\n",
       "      <th>5608217</th>\n",
       "      <td>5608217</td>\n",
       "      <td>[]</td>\n",
       "    </tr>\n",
       "    <tr>\n",
       "      <th>7697108</th>\n",
       "      <td>7697108</td>\n",
       "      <td>[]</td>\n",
       "    </tr>\n",
       "    <tr>\n",
       "      <th>11616286</th>\n",
       "      <td>11616286</td>\n",
       "      <td>[]</td>\n",
       "    </tr>\n",
       "    <tr>\n",
       "      <th>53201</th>\n",
       "      <td>53201</td>\n",
       "      <td>[]</td>\n",
       "    </tr>\n",
       "    <tr>\n",
       "      <th>11369546</th>\n",
       "      <td>11369546</td>\n",
       "      <td>[]</td>\n",
       "    </tr>\n",
       "    <tr>\n",
       "      <th>7939535</th>\n",
       "      <td>7939535</td>\n",
       "      <td>[]</td>\n",
       "    </tr>\n",
       "    <tr>\n",
       "      <th>297021</th>\n",
       "      <td>297021</td>\n",
       "      <td>[]</td>\n",
       "    </tr>\n",
       "  </tbody>\n",
       "</table>\n",
       "<p>10000 rows × 2 columns</p>\n",
       "</div>"
      ],
      "text/plain": [
       "             playlist_id  track_ids\n",
       "playlist_id                        \n",
       "10024884        10024884  [1, 2, 3]\n",
       "10624787        10624787         []\n",
       "4891851          4891851         []\n",
       "4267369          4267369         []\n",
       "65078              65078         []\n",
       "10637124        10637124         []\n",
       "3223162          3223162         []\n",
       "7541503          7541503         []\n",
       "6189367          6189367         []\n",
       "8459943          8459943         []\n",
       "10138804        10138804         []\n",
       "10562075        10562075         []\n",
       "10184821        10184821         []\n",
       "4189678          4189678         []\n",
       "6299524          6299524         []\n",
       "8515028          8515028         []\n",
       "10631638        10631638         []\n",
       "10947423        10947423         []\n",
       "11295404        11295404         []\n",
       "3884714          3884714         []\n",
       "10680851        10680851         []\n",
       "3228268          3228268         []\n",
       "7850055          7850055         []\n",
       "10864017        10864017         []\n",
       "5660760          5660760         []\n",
       "4157419          4157419         []\n",
       "3304833          3304833         []\n",
       "1911645          1911645         []\n",
       "4902536          4902536         []\n",
       "1140304          1140304         []\n",
       "...                  ...        ...\n",
       "11381473        11381473         []\n",
       "3520121          3520121         []\n",
       "6612439          6612439         []\n",
       "6218231          6218231         []\n",
       "8344678          8344678         []\n",
       "7470841          7470841         []\n",
       "6423094          6423094         []\n",
       "8139437          8139437         []\n",
       "8227203          8227203         []\n",
       "5903507          5903507         []\n",
       "3778920          3778920         []\n",
       "1061175          1061175         []\n",
       "8572406          8572406         []\n",
       "10413491        10413491         []\n",
       "8868869          8868869         []\n",
       "8202309          8202309         []\n",
       "7784396          7784396         []\n",
       "4622927          4622927         []\n",
       "11542825        11542825         []\n",
       "7138440          7138440         []\n",
       "5146771          5146771         []\n",
       "4506918          4506918         []\n",
       "10337087        10337087         []\n",
       "5608217          5608217         []\n",
       "7697108          7697108         []\n",
       "11616286        11616286         []\n",
       "53201              53201         []\n",
       "11369546        11369546         []\n",
       "7939535          7939535         []\n",
       "297021            297021         []\n",
       "\n",
       "[10000 rows x 2 columns]"
      ]
     },
     "execution_count": 52,
     "metadata": {},
     "output_type": "execute_result"
    }
   ],
   "source": [
    "predictions"
   ]
  },
  {
   "cell_type": "code",
   "execution_count": null,
   "metadata": {
    "collapsed": true
   },
   "outputs": [],
   "source": [
    "predictions.loc[10024884].set_value"
   ]
  },
  {
   "cell_type": "code",
   "execution_count": 67,
   "metadata": {},
   "outputs": [],
   "source": [
    "a = df['tracks']"
   ]
  },
  {
   "cell_type": "code",
   "execution_count": 68,
   "metadata": {},
   "outputs": [
    {
     "ename": "AttributeError",
     "evalue": "can't set attribute",
     "output_type": "error",
     "traceback": [
      "\u001b[0;31m---------------------------------------------------------------------------\u001b[0m",
      "\u001b[0;31mAttributeError\u001b[0m                            Traceback (most recent call last)",
      "\u001b[0;32m/Users/andrea/anaconda/envs/mlenv/lib/python3.5/site-packages/pandas/core/generic.py\u001b[0m in \u001b[0;36m__setattr__\u001b[0;34m(self, name, value)\u001b[0m\n\u001b[1;32m   2774\u001b[0m                 \u001b[0;32melse\u001b[0m\u001b[0;34m:\u001b[0m\u001b[0;34m\u001b[0m\u001b[0m\n\u001b[0;32m-> 2775\u001b[0;31m                     \u001b[0mobject\u001b[0m\u001b[0;34m.\u001b[0m\u001b[0m__setattr__\u001b[0m\u001b[0;34m(\u001b[0m\u001b[0mself\u001b[0m\u001b[0;34m,\u001b[0m \u001b[0mname\u001b[0m\u001b[0;34m,\u001b[0m \u001b[0mvalue\u001b[0m\u001b[0;34m)\u001b[0m\u001b[0;34m\u001b[0m\u001b[0m\n\u001b[0m\u001b[1;32m   2776\u001b[0m             \u001b[0;32mexcept\u001b[0m \u001b[0;34m(\u001b[0m\u001b[0mAttributeError\u001b[0m\u001b[0;34m,\u001b[0m \u001b[0mTypeError\u001b[0m\u001b[0;34m)\u001b[0m\u001b[0;34m:\u001b[0m\u001b[0;34m\u001b[0m\u001b[0m\n",
      "\u001b[0;31mAttributeError\u001b[0m: can't set attribute",
      "\nDuring handling of the above exception, another exception occurred:\n",
      "\u001b[0;31mAttributeError\u001b[0m                            Traceback (most recent call last)",
      "\u001b[0;32m<ipython-input-68-c893040a089b>\u001b[0m in \u001b[0;36m<module>\u001b[0;34m()\u001b[0m\n\u001b[0;32m----> 1\u001b[0;31m \u001b[0ma\u001b[0m\u001b[0;34m.\u001b[0m\u001b[0mdtype\u001b[0m \u001b[0;34m=\u001b[0m \u001b[0mnp\u001b[0m\u001b[0;34m.\u001b[0m\u001b[0marray\u001b[0m\u001b[0;34m\u001b[0m\u001b[0m\n\u001b[0m",
      "\u001b[0;32m/Users/andrea/anaconda/envs/mlenv/lib/python3.5/site-packages/pandas/core/generic.py\u001b[0m in \u001b[0;36m__setattr__\u001b[0;34m(self, name, value)\u001b[0m\n\u001b[1;32m   2775\u001b[0m                     \u001b[0mobject\u001b[0m\u001b[0;34m.\u001b[0m\u001b[0m__setattr__\u001b[0m\u001b[0;34m(\u001b[0m\u001b[0mself\u001b[0m\u001b[0;34m,\u001b[0m \u001b[0mname\u001b[0m\u001b[0;34m,\u001b[0m \u001b[0mvalue\u001b[0m\u001b[0;34m)\u001b[0m\u001b[0;34m\u001b[0m\u001b[0m\n\u001b[1;32m   2776\u001b[0m             \u001b[0;32mexcept\u001b[0m \u001b[0;34m(\u001b[0m\u001b[0mAttributeError\u001b[0m\u001b[0;34m,\u001b[0m \u001b[0mTypeError\u001b[0m\u001b[0;34m)\u001b[0m\u001b[0;34m:\u001b[0m\u001b[0;34m\u001b[0m\u001b[0m\n\u001b[0;32m-> 2777\u001b[0;31m                 \u001b[0mobject\u001b[0m\u001b[0;34m.\u001b[0m\u001b[0m__setattr__\u001b[0m\u001b[0;34m(\u001b[0m\u001b[0mself\u001b[0m\u001b[0;34m,\u001b[0m \u001b[0mname\u001b[0m\u001b[0;34m,\u001b[0m \u001b[0mvalue\u001b[0m\u001b[0;34m)\u001b[0m\u001b[0;34m\u001b[0m\u001b[0m\n\u001b[0m\u001b[1;32m   2778\u001b[0m \u001b[0;34m\u001b[0m\u001b[0m\n\u001b[1;32m   2779\u001b[0m     \u001b[0;31m# ----------------------------------------------------------------------\u001b[0m\u001b[0;34m\u001b[0m\u001b[0;34m\u001b[0m\u001b[0m\n",
      "\u001b[0;31mAttributeError\u001b[0m: can't set attribute"
     ]
    }
   ],
   "source": [
    "a.dtype = np.array"
   ]
  },
  {
   "cell_type": "code",
   "execution_count": null,
   "metadata": {
    "collapsed": true
   },
   "outputs": [],
   "source": []
  },
  {
   "cell_type": "code",
   "execution_count": 3,
   "metadata": {
    "collapsed": true
   },
   "outputs": [],
   "source": [
    "train, test = model_selection.train_test_split(train, test_size=0.20, random_state=RANDOM_STATE)"
   ]
  },
  {
   "cell_type": "code",
   "execution_count": 8,
   "metadata": {
    "collapsed": true
   },
   "outputs": [],
   "source": [
    "small_train = train.loc[1:1000,:]"
   ]
  },
  {
   "cell_type": "code",
   "execution_count": 12,
   "metadata": {
    "collapsed": true
   },
   "outputs": [],
   "source": [
    "s = small_train.groupby('track_id')"
   ]
  },
  {
   "cell_type": "code",
   "execution_count": 22,
   "metadata": {
    "collapsed": true
   },
   "outputs": [],
   "source": [
    "a = s.count()"
   ]
  },
  {
   "cell_type": "code",
   "execution_count": 27,
   "metadata": {
    "collapsed": true
   },
   "outputs": [],
   "source": [
    "a.sort_values('playlist_id', ascending=False, inplace=True)"
   ]
  },
  {
   "cell_type": "code",
   "execution_count": 234,
   "metadata": {
    "collapsed": true
   },
   "outputs": [],
   "source": [
    "df.to_csv?"
   ]
  },
  {
   "cell_type": "code",
   "execution_count": 39,
   "metadata": {
    "collapsed": true
   },
   "outputs": [],
   "source": [
    "a = pd.DataFrame(columns=['a', 'b'])"
   ]
  },
  {
   "cell_type": "code",
   "execution_count": null,
   "metadata": {
    "collapsed": true
   },
   "outputs": [],
   "source": [
    "train = get_train()\n",
    "target_playlist = get_target_playlists()\n",
    "target_tracks = get_target_tracks()\n",
    "\n",
    "train, test = model_selection.train_test_split(train, test_size=0.20, random_state=RANDOM_STATE)"
   ]
  },
  {
   "cell_type": "code",
   "execution_count": 29,
   "metadata": {
    "collapsed": true
   },
   "outputs": [],
   "source": [
    "most_popular = get_most_popular_tracks(train)\n",
    "tracks_in_playlist = get_playlist_track_list(train)"
   ]
  },
  {
   "cell_type": "code",
   "execution_count": 32,
   "metadata": {
    "collapsed": true,
    "scrolled": true
   },
   "outputs": [],
   "source": [
    "most_popular = most_popular.index.values"
   ]
  },
  {
   "cell_type": "code",
   "execution_count": 41,
   "metadata": {
    "collapsed": true
   },
   "outputs": [],
   "source": [
    "from recsys.preprocess import *\n",
    "import matplotlib.pyplot as plt\n",
    "import seaborn as sns\n",
    "import numpy as np\n",
    "import pandas as pd\n",
    "import scipy as sc\n",
    "from sklearn import preprocessing\n",
    "from sklearn import model_selection\n",
    "\n",
    "RANDOM_STATE = 42\n",
    "\n",
    "tracks_to_suggest = np.intersect1d(most_popular, target_tracks)\n",
    "predictions = []\n",
    "\n",
    "for it,row in target_playlist.iterrows():\n",
    "    count = 0\n",
    "    i = 0\n",
    "    pred = []\n",
    "    while count < 5:\n",
    "        if tracks_to_suggest[i] not in tracks_in_playlist[row['playlist_id']]:\n",
    "            # Predict track i\n",
    "            pred.append(most_popular[i])\n",
    "            count += 1\n",
    "        i += 1\n",
    "    predictions.append(' '.join(map(str, pred)))"
   ]
  },
  {
   "cell_type": "code",
   "execution_count": 43,
   "metadata": {
    "collapsed": true
   },
   "outputs": [],
   "source": [
    "results = pd.DataFrame(np.transpose([target_playlist['playlist_id'].values, predictions]), columns=['playlist_id', 'track_ids'])"
   ]
  },
  {
   "cell_type": "code",
   "execution_count": null,
   "metadata": {
    "collapsed": true
   },
   "outputs": [],
   "source": []
  },
  {
   "cell_type": "code",
   "execution_count": 46,
   "metadata": {},
   "outputs": [
    {
     "data": {
      "text/plain": [
       "208105"
      ]
     },
     "execution_count": 46,
     "metadata": {},
     "output_type": "execute_result"
    }
   ],
   "source": [
    "len(test)"
   ]
  },
  {
   "cell_type": "code",
   "execution_count": 47,
   "metadata": {
    "collapsed": true
   },
   "outputs": [],
   "source": [
    "from recsys.utility import *"
   ]
  },
  {
   "cell_type": "code",
   "execution_count": 48,
   "metadata": {
    "collapsed": true
   },
   "outputs": [],
   "source": [
    "def evaluate(test, recommendations):\n",
    "    test_good = preprocess.get_playlist_track_list(test)\n",
    "\n",
    "    mean_ap = 0\n",
    "    for pl_id, tracks in recommendations:\n",
    "        correct = 0\n",
    "        ap = 0\n",
    "        for it, t in enumerate(tracks):\n",
    "            if t in test_good[pl_id]:\n",
    "                correct += 1\n",
    "                ap += correct / (it+1)\n",
    "        ap /= len(tracks)\n",
    "        mean_ap += ap\n",
    "\n",
    "    return mean_ap / len(recommendations)\n"
   ]
  },
  {
   "cell_type": "code",
   "execution_count": 80,
   "metadata": {
    "collapsed": true
   },
   "outputs": [],
   "source": [
    "recomm = np.array([list(map(int,x.split(' '))) for x in results['track_ids'].values])"
   ]
  },
  {
   "cell_type": "code",
   "execution_count": 81,
   "metadata": {},
   "outputs": [
    {
     "data": {
      "text/plain": [
       "array([[1563309, 1363985, 3705881, 1595978, 3779477],\n",
       "       [1563309, 1363985, 3705881, 1595978, 3779477],\n",
       "       [1563309, 1363985, 3705881, 1595978, 3779477],\n",
       "       ..., \n",
       "       [1563309, 1363985, 3705881, 1595978, 3779477],\n",
       "       [1563309, 1363985, 3705881, 1595978, 3779477],\n",
       "       [1563309, 1363985, 3705881, 1595978, 3779477]])"
      ]
     },
     "execution_count": 81,
     "metadata": {},
     "output_type": "execute_result"
    }
   ],
   "source": [
    "recomm"
   ]
  },
  {
   "cell_type": "code",
   "execution_count": 82,
   "metadata": {},
   "outputs": [
    {
     "ename": "ValueError",
     "evalue": "too many values to unpack (expected 2)",
     "output_type": "error",
     "traceback": [
      "\u001b[0;31m---------------------------------------------------------------------------\u001b[0m",
      "\u001b[0;31mValueError\u001b[0m                                Traceback (most recent call last)",
      "\u001b[0;32m<ipython-input-82-9a7db1bd3570>\u001b[0m in \u001b[0;36m<module>\u001b[0;34m()\u001b[0m\n\u001b[0;32m----> 1\u001b[0;31m \u001b[0mevaluate\u001b[0m\u001b[0;34m(\u001b[0m\u001b[0mtest\u001b[0m\u001b[0;34m,\u001b[0m \u001b[0mrecomm\u001b[0m\u001b[0;34m)\u001b[0m\u001b[0;34m\u001b[0m\u001b[0m\n\u001b[0m",
      "\u001b[0;32m<ipython-input-48-fdf8cb502d64>\u001b[0m in \u001b[0;36mevaluate\u001b[0;34m(test, recommendations)\u001b[0m\n\u001b[1;32m      3\u001b[0m \u001b[0;34m\u001b[0m\u001b[0m\n\u001b[1;32m      4\u001b[0m     \u001b[0mmean_ap\u001b[0m \u001b[0;34m=\u001b[0m \u001b[0;36m0\u001b[0m\u001b[0;34m\u001b[0m\u001b[0m\n\u001b[0;32m----> 5\u001b[0;31m     \u001b[0;32mfor\u001b[0m \u001b[0mpl_id\u001b[0m\u001b[0;34m,\u001b[0m \u001b[0mtracks\u001b[0m \u001b[0;32min\u001b[0m \u001b[0mrecommendations\u001b[0m\u001b[0;34m:\u001b[0m\u001b[0;34m\u001b[0m\u001b[0m\n\u001b[0m\u001b[1;32m      6\u001b[0m         \u001b[0mcorrect\u001b[0m \u001b[0;34m=\u001b[0m \u001b[0;36m0\u001b[0m\u001b[0;34m\u001b[0m\u001b[0m\n\u001b[1;32m      7\u001b[0m         \u001b[0map\u001b[0m \u001b[0;34m=\u001b[0m \u001b[0;36m0\u001b[0m\u001b[0;34m\u001b[0m\u001b[0m\n",
      "\u001b[0;31mValueError\u001b[0m: too many values to unpack (expected 2)"
     ]
    }
   ],
   "source": [
    "evaluate(test, recomm)"
   ]
  },
  {
   "cell_type": "code",
   "execution_count": null,
   "metadata": {
    "collapsed": true
   },
   "outputs": [],
   "source": []
  },
  {
   "cell_type": "code",
   "execution_count": 225,
   "metadata": {
    "collapsed": true
   },
   "outputs": [],
   "source": [
    "def train_test_split(train, test_size=0.3):\n",
    "    playlists = train.groupby('playlist_id').count()\n",
    "    to_choose_playlists = playlists[playlists['track_id'] > 7].index.values\n",
    "    target_playlists = np.random.choice(to_choose_playlists, replace=False, size=int(test_size * len(to_choose_playlists)))\n",
    "    \n",
    "    target_tracks = np.array([])\n",
    "    indexes = np.array([])\n",
    "    for p in target_playlists:\n",
    "        selected_df = train[train['playlist_id'] == p].sample(5)\n",
    "        selected_tracks = selected_df['track_id'].values\n",
    "        target_tracks = np.union1d(target_tracks, selected_tracks)\n",
    "        indexes = np.union1d(indexes, selected_df.index.values)\n",
    "    \n",
    "    test = df.loc[indexes].copy()\n",
    "    train = train.drop(indexes)\n",
    "    \n",
    "    return train, test, target_playlists, target_tracks\n",
    "    "
   ]
  },
  {
   "cell_type": "code",
   "execution_count": 226,
   "metadata": {
    "collapsed": true,
    "scrolled": true
   },
   "outputs": [],
   "source": [
    "x,y,z,w = train_test_split(train)"
   ]
  },
  {
   "cell_type": "code",
   "execution_count": 227,
   "metadata": {},
   "outputs": [
    {
     "data": {
      "text/plain": [
       "832417"
      ]
     },
     "execution_count": 227,
     "metadata": {},
     "output_type": "execute_result"
    }
   ],
   "source": [
    "len(train)"
   ]
  },
  {
   "cell_type": "code",
   "execution_count": 228,
   "metadata": {},
   "outputs": [
    {
     "data": {
      "text/plain": [
       "798407"
      ]
     },
     "execution_count": 228,
     "metadata": {},
     "output_type": "execute_result"
    }
   ],
   "source": [
    "len(x)"
   ]
  },
  {
   "cell_type": "code",
   "execution_count": 229,
   "metadata": {},
   "outputs": [
    {
     "data": {
      "text/plain": [
       "34010"
      ]
     },
     "execution_count": 229,
     "metadata": {},
     "output_type": "execute_result"
    }
   ],
   "source": [
    "len(y)"
   ]
  },
  {
   "cell_type": "code",
   "execution_count": 230,
   "metadata": {},
   "outputs": [
    {
     "data": {
      "text/plain": [
       "6802"
      ]
     },
     "execution_count": 230,
     "metadata": {},
     "output_type": "execute_result"
    }
   ],
   "source": [
    "len(z)"
   ]
  },
  {
   "cell_type": "code",
   "execution_count": 231,
   "metadata": {},
   "outputs": [
    {
     "data": {
      "text/plain": [
       "24281"
      ]
     },
     "execution_count": 231,
     "metadata": {},
     "output_type": "execute_result"
    }
   ],
   "source": [
    "len(w)"
   ]
  },
  {
   "cell_type": "code",
   "execution_count": 233,
   "metadata": {},
   "outputs": [
    {
     "data": {
      "text/plain": [
       "0.04259732191726776"
      ]
     },
     "execution_count": 233,
     "metadata": {},
     "output_type": "execute_result"
    }
   ],
   "source": [
    "len(y)/len(x)"
   ]
  },
  {
   "cell_type": "code",
   "execution_count": null,
   "metadata": {
    "collapsed": true
   },
   "outputs": [],
   "source": []
  },
  {
   "cell_type": "code",
   "execution_count": 235,
   "metadata": {
    "collapsed": true
   },
   "outputs": [],
   "source": [
    "df.to_csv?"
   ]
  },
  {
   "cell_type": "code",
   "execution_count": 237,
   "metadata": {},
   "outputs": [
    {
     "data": {
      "text/html": [
       "<div>\n",
       "<table border=\"1\" class=\"dataframe\">\n",
       "  <thead>\n",
       "    <tr style=\"text-align: right;\">\n",
       "      <th></th>\n",
       "      <th>playlist_id</th>\n",
       "      <th>track_id</th>\n",
       "    </tr>\n",
       "  </thead>\n",
       "  <tbody>\n",
       "    <tr>\n",
       "      <th>269276</th>\n",
       "      <td>10550126</td>\n",
       "      <td>252</td>\n",
       "    </tr>\n",
       "    <tr>\n",
       "      <th>115607</th>\n",
       "      <td>8283678</td>\n",
       "      <td>252</td>\n",
       "    </tr>\n",
       "    <tr>\n",
       "      <th>999950</th>\n",
       "      <td>4322356</td>\n",
       "      <td>252</td>\n",
       "    </tr>\n",
       "    <tr>\n",
       "      <th>1007372</th>\n",
       "      <td>5554934</td>\n",
       "      <td>252</td>\n",
       "    </tr>\n",
       "    <tr>\n",
       "      <th>477645</th>\n",
       "      <td>1404694</td>\n",
       "      <td>252</td>\n",
       "    </tr>\n",
       "    <tr>\n",
       "      <th>405463</th>\n",
       "      <td>6102596</td>\n",
       "      <td>252</td>\n",
       "    </tr>\n",
       "    <tr>\n",
       "      <th>78094</th>\n",
       "      <td>7996678</td>\n",
       "      <td>252</td>\n",
       "    </tr>\n",
       "    <tr>\n",
       "      <th>701585</th>\n",
       "      <td>3853994</td>\n",
       "      <td>252</td>\n",
       "    </tr>\n",
       "    <tr>\n",
       "      <th>268901</th>\n",
       "      <td>11355891</td>\n",
       "      <td>252</td>\n",
       "    </tr>\n",
       "    <tr>\n",
       "      <th>590443</th>\n",
       "      <td>7333844</td>\n",
       "      <td>252</td>\n",
       "    </tr>\n",
       "    <tr>\n",
       "      <th>724078</th>\n",
       "      <td>7551236</td>\n",
       "      <td>252</td>\n",
       "    </tr>\n",
       "  </tbody>\n",
       "</table>\n",
       "</div>"
      ],
      "text/plain": [
       "         playlist_id  track_id\n",
       "269276      10550126       252\n",
       "115607       8283678       252\n",
       "999950       4322356       252\n",
       "1007372      5554934       252\n",
       "477645       1404694       252\n",
       "405463       6102596       252\n",
       "78094        7996678       252\n",
       "701585       3853994       252\n",
       "268901      11355891       252\n",
       "590443       7333844       252\n",
       "724078       7551236       252"
      ]
     },
     "execution_count": 237,
     "metadata": {},
     "output_type": "execute_result"
    }
   ],
   "source": [
    "train[train['track_id'] == 252]"
   ]
  },
  {
   "cell_type": "code",
   "execution_count": 238,
   "metadata": {
    "collapsed": true
   },
   "outputs": [],
   "source": [
    "most_popular = get_most_popular_tracks(train)"
   ]
  },
  {
   "cell_type": "code",
   "execution_count": 241,
   "metadata": {},
   "outputs": [
    {
     "data": {
      "text/html": [
       "<div>\n",
       "<table border=\"1\" class=\"dataframe\">\n",
       "  <thead>\n",
       "    <tr style=\"text-align: right;\">\n",
       "      <th></th>\n",
       "      <th>playlist_id</th>\n",
       "    </tr>\n",
       "    <tr>\n",
       "      <th>track_id</th>\n",
       "      <th></th>\n",
       "    </tr>\n",
       "  </thead>\n",
       "  <tbody>\n",
       "    <tr>\n",
       "      <th>1563309</th>\n",
       "      <td>383</td>\n",
       "    </tr>\n",
       "    <tr>\n",
       "      <th>1363985</th>\n",
       "      <td>351</td>\n",
       "    </tr>\n",
       "    <tr>\n",
       "      <th>3705881</th>\n",
       "      <td>322</td>\n",
       "    </tr>\n",
       "    <tr>\n",
       "      <th>1595978</th>\n",
       "      <td>322</td>\n",
       "    </tr>\n",
       "    <tr>\n",
       "      <th>3779477</th>\n",
       "      <td>317</td>\n",
       "    </tr>\n",
       "    <tr>\n",
       "      <th>204966</th>\n",
       "      <td>311</td>\n",
       "    </tr>\n",
       "    <tr>\n",
       "      <th>2863395</th>\n",
       "      <td>301</td>\n",
       "    </tr>\n",
       "    <tr>\n",
       "      <th>3166665</th>\n",
       "      <td>292</td>\n",
       "    </tr>\n",
       "    <tr>\n",
       "      <th>1580480</th>\n",
       "      <td>290</td>\n",
       "    </tr>\n",
       "    <tr>\n",
       "      <th>1156143</th>\n",
       "      <td>282</td>\n",
       "    </tr>\n",
       "    <tr>\n",
       "      <th>209196</th>\n",
       "      <td>274</td>\n",
       "    </tr>\n",
       "    <tr>\n",
       "      <th>1321053</th>\n",
       "      <td>271</td>\n",
       "    </tr>\n",
       "    <tr>\n",
       "      <th>675104</th>\n",
       "      <td>270</td>\n",
       "    </tr>\n",
       "    <tr>\n",
       "      <th>276186</th>\n",
       "      <td>256</td>\n",
       "    </tr>\n",
       "    <tr>\n",
       "      <th>3796108</th>\n",
       "      <td>248</td>\n",
       "    </tr>\n",
       "    <tr>\n",
       "      <th>2730084</th>\n",
       "      <td>247</td>\n",
       "    </tr>\n",
       "    <tr>\n",
       "      <th>3862221</th>\n",
       "      <td>245</td>\n",
       "    </tr>\n",
       "    <tr>\n",
       "      <th>1495432</th>\n",
       "      <td>244</td>\n",
       "    </tr>\n",
       "    <tr>\n",
       "      <th>1074579</th>\n",
       "      <td>243</td>\n",
       "    </tr>\n",
       "    <tr>\n",
       "      <th>2339150</th>\n",
       "      <td>240</td>\n",
       "    </tr>\n",
       "    <tr>\n",
       "      <th>1286763</th>\n",
       "      <td>238</td>\n",
       "    </tr>\n",
       "    <tr>\n",
       "      <th>2840855</th>\n",
       "      <td>236</td>\n",
       "    </tr>\n",
       "    <tr>\n",
       "      <th>3498036</th>\n",
       "      <td>235</td>\n",
       "    </tr>\n",
       "    <tr>\n",
       "      <th>363983</th>\n",
       "      <td>233</td>\n",
       "    </tr>\n",
       "    <tr>\n",
       "      <th>3628787</th>\n",
       "      <td>233</td>\n",
       "    </tr>\n",
       "    <tr>\n",
       "      <th>2609171</th>\n",
       "      <td>233</td>\n",
       "    </tr>\n",
       "    <tr>\n",
       "      <th>2981369</th>\n",
       "      <td>232</td>\n",
       "    </tr>\n",
       "    <tr>\n",
       "      <th>4733003</th>\n",
       "      <td>226</td>\n",
       "    </tr>\n",
       "    <tr>\n",
       "      <th>1210884</th>\n",
       "      <td>225</td>\n",
       "    </tr>\n",
       "    <tr>\n",
       "      <th>2967714</th>\n",
       "      <td>223</td>\n",
       "    </tr>\n",
       "    <tr>\n",
       "      <th>...</th>\n",
       "      <td>...</td>\n",
       "    </tr>\n",
       "    <tr>\n",
       "      <th>685975</th>\n",
       "      <td>1</td>\n",
       "    </tr>\n",
       "    <tr>\n",
       "      <th>262998</th>\n",
       "      <td>1</td>\n",
       "    </tr>\n",
       "    <tr>\n",
       "      <th>2441353</th>\n",
       "      <td>1</td>\n",
       "    </tr>\n",
       "    <tr>\n",
       "      <th>74657</th>\n",
       "      <td>1</td>\n",
       "    </tr>\n",
       "    <tr>\n",
       "      <th>263014</th>\n",
       "      <td>1</td>\n",
       "    </tr>\n",
       "    <tr>\n",
       "      <th>2612484</th>\n",
       "      <td>1</td>\n",
       "    </tr>\n",
       "    <tr>\n",
       "      <th>685948</th>\n",
       "      <td>1</td>\n",
       "    </tr>\n",
       "    <tr>\n",
       "      <th>1434623</th>\n",
       "      <td>1</td>\n",
       "    </tr>\n",
       "    <tr>\n",
       "      <th>1401230</th>\n",
       "      <td>1</td>\n",
       "    </tr>\n",
       "    <tr>\n",
       "      <th>491384</th>\n",
       "      <td>1</td>\n",
       "    </tr>\n",
       "    <tr>\n",
       "      <th>3856321</th>\n",
       "      <td>1</td>\n",
       "    </tr>\n",
       "    <tr>\n",
       "      <th>2828628</th>\n",
       "      <td>1</td>\n",
       "    </tr>\n",
       "    <tr>\n",
       "      <th>2360792</th>\n",
       "      <td>1</td>\n",
       "    </tr>\n",
       "    <tr>\n",
       "      <th>1874773</th>\n",
       "      <td>1</td>\n",
       "    </tr>\n",
       "    <tr>\n",
       "      <th>3212397</th>\n",
       "      <td>1</td>\n",
       "    </tr>\n",
       "    <tr>\n",
       "      <th>465014</th>\n",
       "      <td>1</td>\n",
       "    </tr>\n",
       "    <tr>\n",
       "      <th>3364349</th>\n",
       "      <td>1</td>\n",
       "    </tr>\n",
       "    <tr>\n",
       "      <th>1688678</th>\n",
       "      <td>1</td>\n",
       "    </tr>\n",
       "    <tr>\n",
       "      <th>538950</th>\n",
       "      <td>1</td>\n",
       "    </tr>\n",
       "    <tr>\n",
       "      <th>951500</th>\n",
       "      <td>1</td>\n",
       "    </tr>\n",
       "    <tr>\n",
       "      <th>491154</th>\n",
       "      <td>1</td>\n",
       "    </tr>\n",
       "    <tr>\n",
       "      <th>2361753</th>\n",
       "      <td>1</td>\n",
       "    </tr>\n",
       "    <tr>\n",
       "      <th>74655</th>\n",
       "      <td>1</td>\n",
       "    </tr>\n",
       "    <tr>\n",
       "      <th>2169910</th>\n",
       "      <td>1</td>\n",
       "    </tr>\n",
       "    <tr>\n",
       "      <th>2756620</th>\n",
       "      <td>1</td>\n",
       "    </tr>\n",
       "    <tr>\n",
       "      <th>2440933</th>\n",
       "      <td>1</td>\n",
       "    </tr>\n",
       "    <tr>\n",
       "      <th>3731361</th>\n",
       "      <td>1</td>\n",
       "    </tr>\n",
       "    <tr>\n",
       "      <th>341363</th>\n",
       "      <td>1</td>\n",
       "    </tr>\n",
       "    <tr>\n",
       "      <th>1254659</th>\n",
       "      <td>1</td>\n",
       "    </tr>\n",
       "    <tr>\n",
       "      <th>1547216</th>\n",
       "      <td>1</td>\n",
       "    </tr>\n",
       "  </tbody>\n",
       "</table>\n",
       "<p>99789 rows × 1 columns</p>\n",
       "</div>"
      ],
      "text/plain": [
       "          playlist_id\n",
       "track_id             \n",
       "1563309           383\n",
       "1363985           351\n",
       "3705881           322\n",
       "1595978           322\n",
       "3779477           317\n",
       "204966            311\n",
       "2863395           301\n",
       "3166665           292\n",
       "1580480           290\n",
       "1156143           282\n",
       "209196            274\n",
       "1321053           271\n",
       "675104            270\n",
       "276186            256\n",
       "3796108           248\n",
       "2730084           247\n",
       "3862221           245\n",
       "1495432           244\n",
       "1074579           243\n",
       "2339150           240\n",
       "1286763           238\n",
       "2840855           236\n",
       "3498036           235\n",
       "363983            233\n",
       "3628787           233\n",
       "2609171           233\n",
       "2981369           232\n",
       "4733003           226\n",
       "1210884           225\n",
       "2967714           223\n",
       "...               ...\n",
       "685975              1\n",
       "262998              1\n",
       "2441353             1\n",
       "74657               1\n",
       "263014              1\n",
       "2612484             1\n",
       "685948              1\n",
       "1434623             1\n",
       "1401230             1\n",
       "491384              1\n",
       "3856321             1\n",
       "2828628             1\n",
       "2360792             1\n",
       "1874773             1\n",
       "3212397             1\n",
       "465014              1\n",
       "3364349             1\n",
       "1688678             1\n",
       "538950              1\n",
       "951500              1\n",
       "491154              1\n",
       "2361753             1\n",
       "74655               1\n",
       "2169910             1\n",
       "2756620             1\n",
       "2440933             1\n",
       "3731361             1\n",
       "341363              1\n",
       "1254659             1\n",
       "1547216             1\n",
       "\n",
       "[99789 rows x 1 columns]"
      ]
     },
     "execution_count": 241,
     "metadata": {},
     "output_type": "execute_result"
    }
   ],
   "source": [
    "most_popular"
   ]
  },
  {
   "cell_type": "code",
   "execution_count": 243,
   "metadata": {},
   "outputs": [
    {
     "data": {
      "text/plain": [
       "array([1316175, 3885714, 3091270, ..., 2739213, 2228646, 2265463])"
      ]
     },
     "execution_count": 243,
     "metadata": {},
     "output_type": "execute_result"
    }
   ],
   "source": [
    "target_tracks['track_id'].values"
   ]
  },
  {
   "cell_type": "code",
   "execution_count": 251,
   "metadata": {},
   "outputs": [
    {
     "data": {
      "text/plain": [
       "10"
      ]
     },
     "execution_count": 251,
     "metadata": {},
     "output_type": "execute_result"
    }
   ],
   "source": [
    "len(np.intersect1d(most_popular.index.values[:10], target_tracks['track_id'].values))"
   ]
  },
  {
   "cell_type": "code",
   "execution_count": 247,
   "metadata": {},
   "outputs": [
    {
     "data": {
      "text/plain": [
       "32195"
      ]
     },
     "execution_count": 247,
     "metadata": {},
     "output_type": "execute_result"
    }
   ],
   "source": [
    "len(target_tracks['track_id'])"
   ]
  },
  {
   "cell_type": "code",
   "execution_count": 249,
   "metadata": {},
   "outputs": [
    {
     "data": {
      "text/plain": [
       "99789"
      ]
     },
     "execution_count": 249,
     "metadata": {},
     "output_type": "execute_result"
    }
   ],
   "source": [
    "len(most_popular.index)"
   ]
  },
  {
   "cell_type": "code",
   "execution_count": 252,
   "metadata": {},
   "outputs": [
    {
     "data": {
      "text/html": [
       "<div>\n",
       "<table border=\"1\" class=\"dataframe\">\n",
       "  <thead>\n",
       "    <tr style=\"text-align: right;\">\n",
       "      <th></th>\n",
       "      <th>playlist_id</th>\n",
       "    </tr>\n",
       "    <tr>\n",
       "      <th>track_id</th>\n",
       "      <th></th>\n",
       "    </tr>\n",
       "  </thead>\n",
       "  <tbody>\n",
       "    <tr>\n",
       "      <th>1563309</th>\n",
       "      <td>383</td>\n",
       "    </tr>\n",
       "    <tr>\n",
       "      <th>1363985</th>\n",
       "      <td>351</td>\n",
       "    </tr>\n",
       "    <tr>\n",
       "      <th>3705881</th>\n",
       "      <td>322</td>\n",
       "    </tr>\n",
       "    <tr>\n",
       "      <th>1595978</th>\n",
       "      <td>322</td>\n",
       "    </tr>\n",
       "    <tr>\n",
       "      <th>3779477</th>\n",
       "      <td>317</td>\n",
       "    </tr>\n",
       "    <tr>\n",
       "      <th>204966</th>\n",
       "      <td>311</td>\n",
       "    </tr>\n",
       "    <tr>\n",
       "      <th>2863395</th>\n",
       "      <td>301</td>\n",
       "    </tr>\n",
       "    <tr>\n",
       "      <th>3166665</th>\n",
       "      <td>292</td>\n",
       "    </tr>\n",
       "    <tr>\n",
       "      <th>1580480</th>\n",
       "      <td>290</td>\n",
       "    </tr>\n",
       "    <tr>\n",
       "      <th>1156143</th>\n",
       "      <td>282</td>\n",
       "    </tr>\n",
       "    <tr>\n",
       "      <th>209196</th>\n",
       "      <td>274</td>\n",
       "    </tr>\n",
       "    <tr>\n",
       "      <th>1321053</th>\n",
       "      <td>271</td>\n",
       "    </tr>\n",
       "    <tr>\n",
       "      <th>675104</th>\n",
       "      <td>270</td>\n",
       "    </tr>\n",
       "    <tr>\n",
       "      <th>276186</th>\n",
       "      <td>256</td>\n",
       "    </tr>\n",
       "    <tr>\n",
       "      <th>3796108</th>\n",
       "      <td>248</td>\n",
       "    </tr>\n",
       "    <tr>\n",
       "      <th>2730084</th>\n",
       "      <td>247</td>\n",
       "    </tr>\n",
       "    <tr>\n",
       "      <th>3862221</th>\n",
       "      <td>245</td>\n",
       "    </tr>\n",
       "    <tr>\n",
       "      <th>1495432</th>\n",
       "      <td>244</td>\n",
       "    </tr>\n",
       "    <tr>\n",
       "      <th>1074579</th>\n",
       "      <td>243</td>\n",
       "    </tr>\n",
       "    <tr>\n",
       "      <th>2339150</th>\n",
       "      <td>240</td>\n",
       "    </tr>\n",
       "    <tr>\n",
       "      <th>1286763</th>\n",
       "      <td>238</td>\n",
       "    </tr>\n",
       "    <tr>\n",
       "      <th>2840855</th>\n",
       "      <td>236</td>\n",
       "    </tr>\n",
       "    <tr>\n",
       "      <th>3498036</th>\n",
       "      <td>235</td>\n",
       "    </tr>\n",
       "    <tr>\n",
       "      <th>363983</th>\n",
       "      <td>233</td>\n",
       "    </tr>\n",
       "    <tr>\n",
       "      <th>3628787</th>\n",
       "      <td>233</td>\n",
       "    </tr>\n",
       "    <tr>\n",
       "      <th>2609171</th>\n",
       "      <td>233</td>\n",
       "    </tr>\n",
       "    <tr>\n",
       "      <th>2981369</th>\n",
       "      <td>232</td>\n",
       "    </tr>\n",
       "    <tr>\n",
       "      <th>4733003</th>\n",
       "      <td>226</td>\n",
       "    </tr>\n",
       "    <tr>\n",
       "      <th>1210884</th>\n",
       "      <td>225</td>\n",
       "    </tr>\n",
       "    <tr>\n",
       "      <th>2967714</th>\n",
       "      <td>223</td>\n",
       "    </tr>\n",
       "    <tr>\n",
       "      <th>...</th>\n",
       "      <td>...</td>\n",
       "    </tr>\n",
       "    <tr>\n",
       "      <th>685975</th>\n",
       "      <td>1</td>\n",
       "    </tr>\n",
       "    <tr>\n",
       "      <th>262998</th>\n",
       "      <td>1</td>\n",
       "    </tr>\n",
       "    <tr>\n",
       "      <th>2441353</th>\n",
       "      <td>1</td>\n",
       "    </tr>\n",
       "    <tr>\n",
       "      <th>74657</th>\n",
       "      <td>1</td>\n",
       "    </tr>\n",
       "    <tr>\n",
       "      <th>263014</th>\n",
       "      <td>1</td>\n",
       "    </tr>\n",
       "    <tr>\n",
       "      <th>2612484</th>\n",
       "      <td>1</td>\n",
       "    </tr>\n",
       "    <tr>\n",
       "      <th>685948</th>\n",
       "      <td>1</td>\n",
       "    </tr>\n",
       "    <tr>\n",
       "      <th>1434623</th>\n",
       "      <td>1</td>\n",
       "    </tr>\n",
       "    <tr>\n",
       "      <th>1401230</th>\n",
       "      <td>1</td>\n",
       "    </tr>\n",
       "    <tr>\n",
       "      <th>491384</th>\n",
       "      <td>1</td>\n",
       "    </tr>\n",
       "    <tr>\n",
       "      <th>3856321</th>\n",
       "      <td>1</td>\n",
       "    </tr>\n",
       "    <tr>\n",
       "      <th>2828628</th>\n",
       "      <td>1</td>\n",
       "    </tr>\n",
       "    <tr>\n",
       "      <th>2360792</th>\n",
       "      <td>1</td>\n",
       "    </tr>\n",
       "    <tr>\n",
       "      <th>1874773</th>\n",
       "      <td>1</td>\n",
       "    </tr>\n",
       "    <tr>\n",
       "      <th>3212397</th>\n",
       "      <td>1</td>\n",
       "    </tr>\n",
       "    <tr>\n",
       "      <th>465014</th>\n",
       "      <td>1</td>\n",
       "    </tr>\n",
       "    <tr>\n",
       "      <th>3364349</th>\n",
       "      <td>1</td>\n",
       "    </tr>\n",
       "    <tr>\n",
       "      <th>1688678</th>\n",
       "      <td>1</td>\n",
       "    </tr>\n",
       "    <tr>\n",
       "      <th>538950</th>\n",
       "      <td>1</td>\n",
       "    </tr>\n",
       "    <tr>\n",
       "      <th>951500</th>\n",
       "      <td>1</td>\n",
       "    </tr>\n",
       "    <tr>\n",
       "      <th>491154</th>\n",
       "      <td>1</td>\n",
       "    </tr>\n",
       "    <tr>\n",
       "      <th>2361753</th>\n",
       "      <td>1</td>\n",
       "    </tr>\n",
       "    <tr>\n",
       "      <th>74655</th>\n",
       "      <td>1</td>\n",
       "    </tr>\n",
       "    <tr>\n",
       "      <th>2169910</th>\n",
       "      <td>1</td>\n",
       "    </tr>\n",
       "    <tr>\n",
       "      <th>2756620</th>\n",
       "      <td>1</td>\n",
       "    </tr>\n",
       "    <tr>\n",
       "      <th>2440933</th>\n",
       "      <td>1</td>\n",
       "    </tr>\n",
       "    <tr>\n",
       "      <th>3731361</th>\n",
       "      <td>1</td>\n",
       "    </tr>\n",
       "    <tr>\n",
       "      <th>341363</th>\n",
       "      <td>1</td>\n",
       "    </tr>\n",
       "    <tr>\n",
       "      <th>1254659</th>\n",
       "      <td>1</td>\n",
       "    </tr>\n",
       "    <tr>\n",
       "      <th>1547216</th>\n",
       "      <td>1</td>\n",
       "    </tr>\n",
       "  </tbody>\n",
       "</table>\n",
       "<p>99789 rows × 1 columns</p>\n",
       "</div>"
      ],
      "text/plain": [
       "          playlist_id\n",
       "track_id             \n",
       "1563309           383\n",
       "1363985           351\n",
       "3705881           322\n",
       "1595978           322\n",
       "3779477           317\n",
       "204966            311\n",
       "2863395           301\n",
       "3166665           292\n",
       "1580480           290\n",
       "1156143           282\n",
       "209196            274\n",
       "1321053           271\n",
       "675104            270\n",
       "276186            256\n",
       "3796108           248\n",
       "2730084           247\n",
       "3862221           245\n",
       "1495432           244\n",
       "1074579           243\n",
       "2339150           240\n",
       "1286763           238\n",
       "2840855           236\n",
       "3498036           235\n",
       "363983            233\n",
       "3628787           233\n",
       "2609171           233\n",
       "2981369           232\n",
       "4733003           226\n",
       "1210884           225\n",
       "2967714           223\n",
       "...               ...\n",
       "685975              1\n",
       "262998              1\n",
       "2441353             1\n",
       "74657               1\n",
       "263014              1\n",
       "2612484             1\n",
       "685948              1\n",
       "1434623             1\n",
       "1401230             1\n",
       "491384              1\n",
       "3856321             1\n",
       "2828628             1\n",
       "2360792             1\n",
       "1874773             1\n",
       "3212397             1\n",
       "465014              1\n",
       "3364349             1\n",
       "1688678             1\n",
       "538950              1\n",
       "951500              1\n",
       "491154              1\n",
       "2361753             1\n",
       "74655               1\n",
       "2169910             1\n",
       "2756620             1\n",
       "2440933             1\n",
       "3731361             1\n",
       "341363              1\n",
       "1254659             1\n",
       "1547216             1\n",
       "\n",
       "[99789 rows x 1 columns]"
      ]
     },
     "execution_count": 252,
     "metadata": {},
     "output_type": "execute_result"
    }
   ],
   "source": [
    "most_popular"
   ]
  },
  {
   "cell_type": "code",
   "execution_count": null,
   "metadata": {
    "collapsed": true
   },
   "outputs": [],
   "source": []
  },
  {
   "cell_type": "code",
   "execution_count": null,
   "metadata": {
    "collapsed": true
   },
   "outputs": [],
   "source": []
  },
  {
   "cell_type": "code",
   "execution_count": null,
   "metadata": {
    "collapsed": true
   },
   "outputs": [],
   "source": []
  },
  {
   "cell_type": "code",
   "execution_count": 215,
   "metadata": {
    "collapsed": true
   },
   "outputs": [],
   "source": [
    "playlists = train.groupby('playlist_id').count()\n",
    "to_choose_playlists = playlists[playlists['track_id'] > 7].index.values"
   ]
  },
  {
   "cell_type": "code",
   "execution_count": 216,
   "metadata": {},
   "outputs": [
    {
     "data": {
      "text/plain": [
       "22676"
      ]
     },
     "execution_count": 216,
     "metadata": {},
     "output_type": "execute_result"
    }
   ],
   "source": [
    "len(to_choose_playlists)"
   ]
  },
  {
   "cell_type": "code",
   "execution_count": 217,
   "metadata": {},
   "outputs": [
    {
     "data": {
      "text/plain": [
       "44884"
      ]
     },
     "execution_count": 217,
     "metadata": {},
     "output_type": "execute_result"
    }
   ],
   "source": [
    "len(playlists)"
   ]
  },
  {
   "cell_type": "code",
   "execution_count": 185,
   "metadata": {
    "collapsed": true
   },
   "outputs": [],
   "source": [
    "playlists = a.groupby('playlist_id').count()"
   ]
  },
  {
   "cell_type": "code",
   "execution_count": 186,
   "metadata": {},
   "outputs": [
    {
     "data": {
      "text/html": [
       "<div>\n",
       "<table border=\"1\" class=\"dataframe\">\n",
       "  <thead>\n",
       "    <tr style=\"text-align: right;\">\n",
       "      <th></th>\n",
       "      <th>track_id</th>\n",
       "    </tr>\n",
       "    <tr>\n",
       "      <th>playlist_id</th>\n",
       "      <th></th>\n",
       "    </tr>\n",
       "  </thead>\n",
       "  <tbody>\n",
       "    <tr>\n",
       "      <th>10732</th>\n",
       "      <td>1</td>\n",
       "    </tr>\n",
       "    <tr>\n",
       "      <th>18357</th>\n",
       "      <td>1</td>\n",
       "    </tr>\n",
       "    <tr>\n",
       "      <th>18766</th>\n",
       "      <td>1</td>\n",
       "    </tr>\n",
       "    <tr>\n",
       "      <th>21452</th>\n",
       "      <td>1</td>\n",
       "    </tr>\n",
       "    <tr>\n",
       "      <th>21567</th>\n",
       "      <td>1</td>\n",
       "    </tr>\n",
       "    <tr>\n",
       "      <th>22269</th>\n",
       "      <td>1</td>\n",
       "    </tr>\n",
       "    <tr>\n",
       "      <th>35761</th>\n",
       "      <td>1</td>\n",
       "    </tr>\n",
       "    <tr>\n",
       "      <th>35966</th>\n",
       "      <td>1</td>\n",
       "    </tr>\n",
       "    <tr>\n",
       "      <th>41685</th>\n",
       "      <td>1</td>\n",
       "    </tr>\n",
       "    <tr>\n",
       "      <th>45369</th>\n",
       "      <td>1</td>\n",
       "    </tr>\n",
       "    <tr>\n",
       "      <th>48673</th>\n",
       "      <td>1</td>\n",
       "    </tr>\n",
       "    <tr>\n",
       "      <th>57779</th>\n",
       "      <td>1</td>\n",
       "    </tr>\n",
       "    <tr>\n",
       "      <th>59782</th>\n",
       "      <td>1</td>\n",
       "    </tr>\n",
       "    <tr>\n",
       "      <th>68356</th>\n",
       "      <td>1</td>\n",
       "    </tr>\n",
       "    <tr>\n",
       "      <th>91768</th>\n",
       "      <td>1</td>\n",
       "    </tr>\n",
       "    <tr>\n",
       "      <th>93197</th>\n",
       "      <td>1</td>\n",
       "    </tr>\n",
       "    <tr>\n",
       "      <th>99527</th>\n",
       "      <td>1</td>\n",
       "    </tr>\n",
       "    <tr>\n",
       "      <th>101564</th>\n",
       "      <td>1</td>\n",
       "    </tr>\n",
       "    <tr>\n",
       "      <th>104170</th>\n",
       "      <td>1</td>\n",
       "    </tr>\n",
       "    <tr>\n",
       "      <th>105214</th>\n",
       "      <td>1</td>\n",
       "    </tr>\n",
       "    <tr>\n",
       "      <th>130313</th>\n",
       "      <td>1</td>\n",
       "    </tr>\n",
       "    <tr>\n",
       "      <th>147902</th>\n",
       "      <td>1</td>\n",
       "    </tr>\n",
       "    <tr>\n",
       "      <th>157945</th>\n",
       "      <td>1</td>\n",
       "    </tr>\n",
       "    <tr>\n",
       "      <th>160277</th>\n",
       "      <td>1</td>\n",
       "    </tr>\n",
       "    <tr>\n",
       "      <th>162361</th>\n",
       "      <td>1</td>\n",
       "    </tr>\n",
       "    <tr>\n",
       "      <th>171627</th>\n",
       "      <td>1</td>\n",
       "    </tr>\n",
       "    <tr>\n",
       "      <th>183174</th>\n",
       "      <td>1</td>\n",
       "    </tr>\n",
       "    <tr>\n",
       "      <th>218161</th>\n",
       "      <td>1</td>\n",
       "    </tr>\n",
       "    <tr>\n",
       "      <th>231290</th>\n",
       "      <td>1</td>\n",
       "    </tr>\n",
       "    <tr>\n",
       "      <th>232716</th>\n",
       "      <td>1</td>\n",
       "    </tr>\n",
       "    <tr>\n",
       "      <th>...</th>\n",
       "      <td>...</td>\n",
       "    </tr>\n",
       "    <tr>\n",
       "      <th>11469334</th>\n",
       "      <td>1</td>\n",
       "    </tr>\n",
       "    <tr>\n",
       "      <th>11472176</th>\n",
       "      <td>1</td>\n",
       "    </tr>\n",
       "    <tr>\n",
       "      <th>11486284</th>\n",
       "      <td>1</td>\n",
       "    </tr>\n",
       "    <tr>\n",
       "      <th>11493428</th>\n",
       "      <td>1</td>\n",
       "    </tr>\n",
       "    <tr>\n",
       "      <th>11493454</th>\n",
       "      <td>1</td>\n",
       "    </tr>\n",
       "    <tr>\n",
       "      <th>11496463</th>\n",
       "      <td>1</td>\n",
       "    </tr>\n",
       "    <tr>\n",
       "      <th>11544982</th>\n",
       "      <td>1</td>\n",
       "    </tr>\n",
       "    <tr>\n",
       "      <th>11547027</th>\n",
       "      <td>1</td>\n",
       "    </tr>\n",
       "    <tr>\n",
       "      <th>11555313</th>\n",
       "      <td>1</td>\n",
       "    </tr>\n",
       "    <tr>\n",
       "      <th>11556647</th>\n",
       "      <td>1</td>\n",
       "    </tr>\n",
       "    <tr>\n",
       "      <th>11557834</th>\n",
       "      <td>1</td>\n",
       "    </tr>\n",
       "    <tr>\n",
       "      <th>11558644</th>\n",
       "      <td>1</td>\n",
       "    </tr>\n",
       "    <tr>\n",
       "      <th>11561106</th>\n",
       "      <td>1</td>\n",
       "    </tr>\n",
       "    <tr>\n",
       "      <th>11565972</th>\n",
       "      <td>1</td>\n",
       "    </tr>\n",
       "    <tr>\n",
       "      <th>11576495</th>\n",
       "      <td>1</td>\n",
       "    </tr>\n",
       "    <tr>\n",
       "      <th>11591591</th>\n",
       "      <td>1</td>\n",
       "    </tr>\n",
       "    <tr>\n",
       "      <th>11592809</th>\n",
       "      <td>1</td>\n",
       "    </tr>\n",
       "    <tr>\n",
       "      <th>11625977</th>\n",
       "      <td>1</td>\n",
       "    </tr>\n",
       "    <tr>\n",
       "      <th>11649880</th>\n",
       "      <td>1</td>\n",
       "    </tr>\n",
       "    <tr>\n",
       "      <th>11659485</th>\n",
       "      <td>1</td>\n",
       "    </tr>\n",
       "    <tr>\n",
       "      <th>11666281</th>\n",
       "      <td>1</td>\n",
       "    </tr>\n",
       "    <tr>\n",
       "      <th>11668696</th>\n",
       "      <td>1</td>\n",
       "    </tr>\n",
       "    <tr>\n",
       "      <th>11673294</th>\n",
       "      <td>1</td>\n",
       "    </tr>\n",
       "    <tr>\n",
       "      <th>11674427</th>\n",
       "      <td>1</td>\n",
       "    </tr>\n",
       "    <tr>\n",
       "      <th>11689669</th>\n",
       "      <td>1</td>\n",
       "    </tr>\n",
       "    <tr>\n",
       "      <th>11710395</th>\n",
       "      <td>1</td>\n",
       "    </tr>\n",
       "    <tr>\n",
       "      <th>11710677</th>\n",
       "      <td>1</td>\n",
       "    </tr>\n",
       "    <tr>\n",
       "      <th>11722623</th>\n",
       "      <td>1</td>\n",
       "    </tr>\n",
       "    <tr>\n",
       "      <th>11745369</th>\n",
       "      <td>1</td>\n",
       "    </tr>\n",
       "    <tr>\n",
       "      <th>11763546</th>\n",
       "      <td>1</td>\n",
       "    </tr>\n",
       "  </tbody>\n",
       "</table>\n",
       "<p>968 rows × 1 columns</p>\n",
       "</div>"
      ],
      "text/plain": [
       "             track_id\n",
       "playlist_id          \n",
       "10732               1\n",
       "18357               1\n",
       "18766               1\n",
       "21452               1\n",
       "21567               1\n",
       "22269               1\n",
       "35761               1\n",
       "35966               1\n",
       "41685               1\n",
       "45369               1\n",
       "48673               1\n",
       "57779               1\n",
       "59782               1\n",
       "68356               1\n",
       "91768               1\n",
       "93197               1\n",
       "99527               1\n",
       "101564              1\n",
       "104170              1\n",
       "105214              1\n",
       "130313              1\n",
       "147902              1\n",
       "157945              1\n",
       "160277              1\n",
       "162361              1\n",
       "171627              1\n",
       "183174              1\n",
       "218161              1\n",
       "231290              1\n",
       "232716              1\n",
       "...               ...\n",
       "11469334            1\n",
       "11472176            1\n",
       "11486284            1\n",
       "11493428            1\n",
       "11493454            1\n",
       "11496463            1\n",
       "11544982            1\n",
       "11547027            1\n",
       "11555313            1\n",
       "11556647            1\n",
       "11557834            1\n",
       "11558644            1\n",
       "11561106            1\n",
       "11565972            1\n",
       "11576495            1\n",
       "11591591            1\n",
       "11592809            1\n",
       "11625977            1\n",
       "11649880            1\n",
       "11659485            1\n",
       "11666281            1\n",
       "11668696            1\n",
       "11673294            1\n",
       "11674427            1\n",
       "11689669            1\n",
       "11710395            1\n",
       "11710677            1\n",
       "11722623            1\n",
       "11745369            1\n",
       "11763546            1\n",
       "\n",
       "[968 rows x 1 columns]"
      ]
     },
     "execution_count": 186,
     "metadata": {},
     "output_type": "execute_result"
    }
   ],
   "source": []
  },
  {
   "cell_type": "code",
   "execution_count": 173,
   "metadata": {},
   "outputs": [
    {
     "data": {
      "text/html": [
       "<div>\n",
       "<table border=\"1\" class=\"dataframe\">\n",
       "  <thead>\n",
       "    <tr style=\"text-align: right;\">\n",
       "      <th></th>\n",
       "      <th>playlist_id</th>\n",
       "      <th>track_id</th>\n",
       "    </tr>\n",
       "  </thead>\n",
       "  <tbody>\n",
       "    <tr>\n",
       "      <th>518209</th>\n",
       "      <td>4546088</td>\n",
       "      <td>2285993</td>\n",
       "    </tr>\n",
       "    <tr>\n",
       "      <th>598021</th>\n",
       "      <td>4685686</td>\n",
       "      <td>3133472</td>\n",
       "    </tr>\n",
       "  </tbody>\n",
       "</table>\n",
       "</div>"
      ],
      "text/plain": [
       "        playlist_id  track_id\n",
       "518209      4546088   2285993\n",
       "598021      4685686   3133472"
      ]
     },
     "execution_count": 173,
     "metadata": {},
     "output_type": "execute_result"
    }
   ],
   "source": [
    "df.loc[[518209,598021]]"
   ]
  },
  {
   "cell_type": "code",
   "execution_count": null,
   "metadata": {
    "collapsed": true
   },
   "outputs": [],
   "source": []
  },
  {
   "cell_type": "code",
   "execution_count": 131,
   "metadata": {
    "collapsed": true
   },
   "outputs": [],
   "source": [
    "a = np.array([1, 2, 3, 4, 5])"
   ]
  },
  {
   "cell_type": "code",
   "execution_count": 139,
   "metadata": {},
   "outputs": [
    {
     "data": {
      "text/plain": [
       "array([      3,       4,       5,       6,       7,       8,  252429,\n",
       "       1952325])"
      ]
     },
     "execution_count": 139,
     "metadata": {},
     "output_type": "execute_result"
    }
   ],
   "source": [
    "np.union1d(a,b)"
   ]
  },
  {
   "cell_type": "code",
   "execution_count": 152,
   "metadata": {
    "collapsed": true
   },
   "outputs": [],
   "source": [
    "a = df.loc[[518209, 598021]]"
   ]
  },
  {
   "cell_type": "code",
   "execution_count": 157,
   "metadata": {},
   "outputs": [
    {
     "data": {
      "text/plain": [
       "832416"
      ]
     },
     "execution_count": 157,
     "metadata": {},
     "output_type": "execute_result"
    }
   ],
   "source": [
    "len(df.drop([518209]))"
   ]
  },
  {
   "cell_type": "code",
   "execution_count": 158,
   "metadata": {},
   "outputs": [
    {
     "data": {
      "text/plain": [
       "832417"
      ]
     },
     "execution_count": 158,
     "metadata": {},
     "output_type": "execute_result"
    }
   ],
   "source": [
    "len(df)"
   ]
  },
  {
   "cell_type": "code",
   "execution_count": null,
   "metadata": {
    "collapsed": true
   },
   "outputs": [],
   "source": []
  },
  {
   "cell_type": "code",
   "execution_count": 128,
   "metadata": {},
   "outputs": [
    {
     "data": {
      "text/plain": [
       "array([3667257, 2765634, 3001336, 3477637, 1277686])"
      ]
     },
     "execution_count": 128,
     "metadata": {},
     "output_type": "execute_result"
    }
   ],
   "source": [
    "train[train['playlist_id'] == 6226465].sample(5)['track_id'].values"
   ]
  },
  {
   "cell_type": "code",
   "execution_count": 117,
   "metadata": {},
   "outputs": [
    {
     "data": {
      "text/plain": [
       "18337"
      ]
     },
     "execution_count": 117,
     "metadata": {},
     "output_type": "execute_result"
    }
   ],
   "source": [
    "len(to_choose_playlists)"
   ]
  },
  {
   "cell_type": "code",
   "execution_count": null,
   "metadata": {
    "collapsed": true
   },
   "outputs": [],
   "source": []
  },
  {
   "cell_type": "code",
   "execution_count": 92,
   "metadata": {
    "collapsed": true
   },
   "outputs": [],
   "source": [
    "a = (train.groupby('playlist_id').count())"
   ]
  },
  {
   "cell_type": "code",
   "execution_count": 101,
   "metadata": {},
   "outputs": [
    {
     "data": {
      "text/plain": [
       "array([    7692,     7816,     7912, ..., 11764165, 11764751, 11764851])"
      ]
     },
     "execution_count": 101,
     "metadata": {},
     "output_type": "execute_result"
    }
   ],
   "source": [
    "a[a['track_id'] > 10].index.values"
   ]
  },
  {
   "cell_type": "code",
   "execution_count": null,
   "metadata": {
    "collapsed": true
   },
   "outputs": [],
   "source": []
  },
  {
   "cell_type": "code",
   "execution_count": 5,
   "metadata": {
    "collapsed": true
   },
   "outputs": [],
   "source": [
    "pd.Series?"
   ]
  },
  {
   "cell_type": "code",
   "execution_count": null,
   "metadata": {
    "collapsed": true
   },
   "outputs": [],
   "source": []
  },
  {
   "cell_type": "code",
   "execution_count": null,
   "metadata": {
    "collapsed": true
   },
   "outputs": [],
   "source": []
  },
  {
   "cell_type": "code",
   "execution_count": 24,
   "metadata": {},
   "outputs": [],
   "source": [
    "a = pd.Series(dtype=np.ndarray)"
   ]
  },
  {
   "cell_type": "code",
   "execution_count": 28,
   "metadata": {},
   "outputs": [
    {
     "data": {
      "text/plain": [
       "Index([], dtype='object')"
      ]
     },
     "execution_count": 28,
     "metadata": {},
     "output_type": "execute_result"
    }
   ],
   "source": []
  },
  {
   "cell_type": "code",
   "execution_count": 14,
   "metadata": {},
   "outputs": [
    {
     "data": {
      "text/plain": [
       "0      column\n",
       "100       342\n",
       "dtype: object"
      ]
     },
     "execution_count": 14,
     "metadata": {},
     "output_type": "execute_result"
    }
   ],
   "source": [
    "a"
   ]
  },
  {
   "cell_type": "code",
   "execution_count": null,
   "metadata": {
    "collapsed": true
   },
   "outputs": [],
   "source": []
  },
  {
   "cell_type": "code",
   "execution_count": null,
   "metadata": {
    "collapsed": true
   },
   "outputs": [],
   "source": []
  },
  {
   "cell_type": "code",
   "execution_count": null,
   "metadata": {
    "collapsed": true
   },
   "outputs": [],
   "source": []
  },
  {
   "cell_type": "code",
   "execution_count": 38,
   "metadata": {},
   "outputs": [
    {
     "data": {
      "text/plain": [
       "32195"
      ]
     },
     "execution_count": 38,
     "metadata": {},
     "output_type": "execute_result"
    }
   ],
   "source": [
    "len(target_tracks)"
   ]
  },
  {
   "cell_type": "code",
   "execution_count": 39,
   "metadata": {},
   "outputs": [
    {
     "data": {
      "text/plain": [
       "99789"
      ]
     },
     "execution_count": 39,
     "metadata": {},
     "output_type": "execute_result"
    }
   ],
   "source": [
    "len(most_popular)"
   ]
  },
  {
   "cell_type": "code",
   "execution_count": 40,
   "metadata": {},
   "outputs": [
    {
     "data": {
      "text/plain": [
       "32074"
      ]
     },
     "execution_count": 40,
     "metadata": {},
     "output_type": "execute_result"
    }
   ],
   "source": [
    "len(np.intersect1d(target_tracks, most_popular))"
   ]
  },
  {
   "cell_type": "code",
   "execution_count": null,
   "metadata": {
    "collapsed": true
   },
   "outputs": [],
   "source": []
  }
 ],
 "metadata": {
  "kernelspec": {
   "display_name": "Python 3",
   "language": "python",
   "name": "python3"
  },
  "language_info": {
   "codemirror_mode": {
    "name": "ipython",
    "version": 3
   },
   "file_extension": ".py",
   "mimetype": "text/x-python",
   "name": "python",
   "nbconvert_exporter": "python",
   "pygments_lexer": "ipython3",
   "version": "3.5.3"
  }
 },
 "nbformat": 4,
 "nbformat_minor": 2
}
