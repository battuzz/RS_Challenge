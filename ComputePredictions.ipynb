{
 "cells": [
  {
   "cell_type": "code",
   "execution_count": 1,
   "metadata": {
    "collapsed": true
   },
   "outputs": [],
   "source": [
    "from scipy.sparse import *\n",
    "import numpy as np\n",
    "import pandas as pd\n",
    "import sys\n",
    "import math\n",
    "import recsys.recommenders as recommenders\n",
    "import recsys.utility as utils\n",
    "import recsys.builders as builders\n",
    "import imp\n",
    "import functools"
   ]
  },
  {
   "cell_type": "code",
   "execution_count": 2,
   "metadata": {
    "collapsed": true
   },
   "outputs": [],
   "source": [
    "utils = imp.reload(utils)\n",
    "builders = imp.reload(builders)\n",
    "recommenders = imp.reload(recommenders)"
   ]
  },
  {
   "cell_type": "code",
   "execution_count": 3,
   "metadata": {},
   "outputs": [
    {
     "name": "stdout",
     "output_type": "stream",
     "text": [
      "CPU times: user 1min 32s, sys: 714 ms, total: 1min 32s\n",
      "Wall time: 1min 32s\n"
     ]
    }
   ],
   "source": [
    "%%time\n",
    "dataset = utils.Dataset.load()\n",
    "dataset.split_holdout(test_size=1, min_playlist_tracks=13)\n",
    "dataset.normalize()\n",
    "dataset.build_urm()"
   ]
  },
  {
   "cell_type": "code",
   "execution_count": 4,
   "metadata": {
    "collapsed": true
   },
   "outputs": [],
   "source": [
    "class WeightedAverage(object):\n",
    "    def __init__(self, weights):\n",
    "        self.weights = weights\n",
    "    def __call__(self, predictions):\n",
    "        res = csr_matrix(predictions[0].shape)\n",
    "        \n",
    "        for w,p in zip(self.weights, predictions):\n",
    "            res += w*p\n",
    "        \n",
    "        return res"
   ]
  },
  {
   "cell_type": "code",
   "execution_count": 5,
   "metadata": {
    "collapsed": true
   },
   "outputs": [],
   "source": [
    "class WeightedAverageExp(object):\n",
    "    def __init__(self, weights, exp_weights):\n",
    "        self.weights = weights\n",
    "        self.exp_weights = exp_weights\n",
    "        \n",
    "    def __call__(self, predictions):\n",
    "        res = csr_matrix(predictions[0].shape)\n",
    "        \n",
    "        for w,p,e in zip(self.weights, predictions, self.exp_weights):\n",
    "            p_copy = p.copy()\n",
    "            p_copy.data = np.power(p_copy.data, e)\n",
    "            res += w*p_copy\n",
    "        \n",
    "        return res"
   ]
  },
  {
   "cell_type": "code",
   "execution_count": 6,
   "metadata": {
    "collapsed": true
   },
   "outputs": [],
   "source": [
    "def sum_reducer(x):\n",
    "    return functools.reduce(lambda a,b: a + b, x)"
   ]
  },
  {
   "cell_type": "markdown",
   "metadata": {},
   "source": [
    "# Compute predictions"
   ]
  },
  {
   "cell_type": "code",
   "execution_count": 7,
   "metadata": {
    "collapsed": true
   },
   "outputs": [],
   "source": [
    "dataset = utils.Dataset.load()\n",
    "dataset.split_holdout(test_size=1, min_playlist_tracks=13)\n",
    "dataset.normalize()\n",
    "dataset.build_urm()"
   ]
  },
  {
   "cell_type": "code",
   "execution_count": 8,
   "metadata": {
    "collapsed": true
   },
   "outputs": [],
   "source": [
    "POW_urm_builder = builders.URMBuilder(norm=\"pow\", pow_base=500, pow_exp=0.15)\n",
    "\n",
    "TTM_dot_rec = recommenders.SimilarityRecommender('TTM_dot', 'TTM_dot', POW_urm_builder)\n",
    "TTM_cosine_rec = recommenders.SimilarityRecommender('TTM_cosine', 'TTM_cosine', POW_urm_builder)\n",
    "TTM_UUM_cosine_rec = recommenders.SimilarityRecommender('TTM_UUM_cosine', 'TTM_UUM_cosine', POW_urm_builder)\n",
    "SYM_ARTIST_rec = recommenders.SimilarityRecommender('SYM_ARTIST', 'SYM_ARTIST', POW_urm_builder)\n",
    "SYM_ALBUM_rec = recommenders.SimilarityRecommender('SYM_ALBUM', 'SYM_ALBUM', POW_urm_builder)\n",
    "SYM_OWNER_rec = recommenders.SimilarityRecommender('SYM_OWNER', 'SYM_OWNER', POW_urm_builder)\n",
    "BPR_rec = recommenders.BPRRecommender(name='bpr', urm_builder=POW_urm_builder)"
   ]
  },
  {
   "cell_type": "code",
   "execution_count": 9,
   "metadata": {
    "collapsed": true
   },
   "outputs": [],
   "source": [
    "recoms = [TTM_dot_rec, TTM_cosine_rec, TTM_UUM_cosine_rec, SYM_ARTIST_rec, SYM_ALBUM_rec, SYM_OWNER_rec]"
   ]
  },
  {
   "cell_type": "code",
   "execution_count": 10,
   "metadata": {
    "scrolled": true
   },
   "outputs": [
    {
     "name": "stdout",
     "output_type": "stream",
     "text": [
      "10000\n",
      "20000\n",
      "30000\n",
      "40000\n",
      "50000\n",
      "60000\n",
      "70000\n",
      "80000\n",
      "90000\n",
      "100000\n",
      "10000\n",
      "20000\n",
      "30000\n",
      "40000\n",
      "50000\n",
      "60000\n",
      "70000\n",
      "80000\n",
      "90000\n",
      "100000\n",
      "10000\n",
      "20000\n",
      "30000\n",
      "40000\n",
      "50000\n",
      "60000\n",
      "10000\n",
      "20000\n",
      "30000\n",
      "40000\n",
      "50000\n",
      "60000\n",
      "10000\n",
      "20000\n",
      "30000\n",
      "40000\n",
      "50000\n",
      "60000\n",
      "70000\n",
      "80000\n",
      "90000\n",
      "100000\n",
      "10000\n",
      "20000\n",
      "30000\n",
      "40000\n",
      "50000\n",
      "60000\n",
      "70000\n",
      "80000\n",
      "90000\n",
      "100000\n"
     ]
    }
   ],
   "source": [
    "for r in recoms:\n",
    "    r.fit(dataset)"
   ]
  },
  {
   "cell_type": "markdown",
   "metadata": {},
   "source": [
    "# Evaluation of the ensemble"
   ]
  },
  {
   "cell_type": "code",
   "execution_count": 11,
   "metadata": {
    "scrolled": true
   },
   "outputs": [
    {
     "name": "stdout",
     "output_type": "stream",
     "text": [
      "TTM_dot: 0-1000 --> 0.05555000000000013\n",
      "TTM_dot: 1000-2000 --> 0.05685499999999997\n",
      "TTM_dot: 2000-3000 --> 0.05757555555555526\n",
      "TTM_dot: 3000-4000 --> 0.05814666666666623\n",
      "TTM_dot: 4000-5000 --> 0.060656666666666297\n",
      "TTM_dot: 5000-6000 --> 0.060152222222222065\n",
      "TTM_dot: 6000-6658 --> 0.06058726344247516\n",
      "TTM_cosine: 0-1000 --> 0.052236666666666765\n",
      "TTM_cosine: 1000-2000 --> 0.054293333333333374\n",
      "TTM_cosine: 2000-3000 --> 0.05617444444444422\n",
      "TTM_cosine: 3000-4000 --> 0.05735583333333289\n",
      "TTM_cosine: 4000-5000 --> 0.059749333333333016\n",
      "TTM_cosine: 5000-6000 --> 0.05961444444444431\n",
      "TTM_cosine: 6000-6658 --> 0.059973465505156705\n",
      "TTM_UUM_cosine: 0-1000 --> 0.053080000000000065\n",
      "TTM_UUM_cosine: 1000-2000 --> 0.05444833333333336\n",
      "TTM_UUM_cosine: 2000-3000 --> 0.055259999999999795\n",
      "TTM_UUM_cosine: 3000-4000 --> 0.056445833333332994\n",
      "TTM_UUM_cosine: 4000-5000 --> 0.05871133333333308\n",
      "TTM_UUM_cosine: 5000-6000 --> 0.05945611111111103\n",
      "TTM_UUM_cosine: 6000-6658 --> 0.0601436867928307\n",
      "SYM_ARTIST: 0-1000 --> 0.0551550000000001\n",
      "SYM_ARTIST: 1000-2000 --> 0.06016583333333338\n",
      "SYM_ARTIST: 2000-3000 --> 0.05918444444444422\n",
      "SYM_ARTIST: 3000-4000 --> 0.05828791666666633\n",
      "SYM_ARTIST: 4000-5000 --> 0.0597287777777776\n",
      "SYM_ARTIST: 5000-6000 --> 0.059469537037037015\n",
      "SYM_ARTIST: 6000-6658 --> 0.059527469043089414\n",
      "SYM_ALBUM: 0-1000 --> 0.0627416666666668\n",
      "SYM_ALBUM: 1000-2000 --> 0.06367833333333332\n",
      "SYM_ALBUM: 2000-3000 --> 0.06305777777777746\n",
      "SYM_ALBUM: 3000-4000 --> 0.06283333333333292\n",
      "SYM_ALBUM: 4000-5000 --> 0.06478266666666647\n",
      "SYM_ALBUM: 5000-6000 --> 0.06374189814814811\n",
      "SYM_ALBUM: 6000-6658 --> 0.06395376489436272\n",
      "SYM_OWNER: 0-1000 --> 0.03916666666666668\n",
      "SYM_OWNER: 1000-2000 --> 0.04177833333333336\n",
      "SYM_OWNER: 2000-3000 --> 0.042344444444444476\n",
      "SYM_OWNER: 3000-4000 --> 0.04297499999999981\n",
      "SYM_OWNER: 4000-5000 --> 0.04475933333333297\n",
      "SYM_OWNER: 5000-6000 --> 0.044565555555555164\n",
      "SYM_OWNER: 6000-6658 --> 0.04501251627115225\n"
     ]
    }
   ],
   "source": [
    "recoms = [recommenders.SimilarityRecommender(name=r.name, similarity=r.similarity, urm_builder=r.urm_builder) for r in recoms]\n",
    "for r in recoms:\n",
    "    r.fit(dataset)\n",
    "    r.evaluate()"
   ]
  },
  {
   "cell_type": "code",
   "execution_count": 12,
   "metadata": {},
   "outputs": [
    {
     "name": "stdout",
     "output_type": "stream",
     "text": [
      "Using cached predictions for TTM_dot\n",
      "Using cached predictions for TTM_cosine\n",
      "Using cached predictions for TTM_UUM_cosine\n",
      "Using cached predictions for SYM_ARTIST\n",
      "Using cached predictions for SYM_ALBUM\n",
      "Using cached predictions for SYM_OWNER\n",
      "ensemble: 0-1000 --> 0.07819000000000015\n",
      "ensemble: 1000-2000 --> 0.08179666666666657\n",
      "ensemble: 2000-3000 --> 0.08183666666666631\n",
      "ensemble: 3000-4000 --> 0.08064833333333318\n",
      "ensemble: 4000-5000 --> 0.0832679999999999\n",
      "ensemble: 5000-6000 --> 0.08323833333333337\n",
      "ensemble: 6000-6658 --> 0.08365324922399138\n"
     ]
    },
    {
     "data": {
      "text/plain": [
       "0.08365324922399138"
      ]
     },
     "execution_count": 12,
     "metadata": {},
     "output_type": "execute_result"
    }
   ],
   "source": [
    "ens_rec = recommenders.EnsembleRecommender('ensemble', recommenders=recoms, reducer=sum_reducer)\n",
    "ens_rec.fit(dataset)\n",
    "ens_rec.evaluate()"
   ]
  },
  {
   "cell_type": "code",
   "execution_count": null,
   "metadata": {
    "collapsed": true
   },
   "outputs": [],
   "source": []
  },
  {
   "cell_type": "markdown",
   "metadata": {},
   "source": [
    "# Evaluate prediction"
   ]
  },
  {
   "cell_type": "code",
   "execution_count": 13,
   "metadata": {
    "collapsed": true
   },
   "outputs": [],
   "source": [
    "dataset = utils.Dataset.load()\n",
    "dataset.normalize()\n",
    "dataset.build_urm()"
   ]
  },
  {
   "cell_type": "code",
   "execution_count": 14,
   "metadata": {
    "collapsed": true
   },
   "outputs": [],
   "source": [
    "POW_urm_builder = builders.URMBuilder(norm=\"pow\", pow_base=500, pow_exp=0.15)\n",
    "\n",
    "TTM_dot_rec = recommenders.SimilarityRecommender('TTM_dot', 'TTM_dot', POW_urm_builder)\n",
    "TTM_cosine_rec = recommenders.SimilarityRecommender('TTM_cosine', 'TTM_cosine', POW_urm_builder)\n",
    "TTM_UUM_cosine_rec = recommenders.SimilarityRecommender('TTM_UUM_cosine', 'TTM_UUM_cosine', POW_urm_builder)\n",
    "SYM_ARTIST_rec = recommenders.SimilarityRecommender('SYM_ARTIST', 'SYM_ARTIST', POW_urm_builder)\n",
    "SYM_ALBUM_rec = recommenders.SimilarityRecommender('SYM_ALBUM', 'SYM_ALBUM', POW_urm_builder)\n",
    "SYM_OWNER_rec = recommenders.SimilarityRecommender('SYM_OWNER', 'SYM_OWNER', POW_urm_builder)\n",
    "BPR_rec = recommenders.BPRRecommender(name='bpr', urm_builder=POW_urm_builder)"
   ]
  },
  {
   "cell_type": "code",
   "execution_count": 15,
   "metadata": {
    "collapsed": true
   },
   "outputs": [],
   "source": [
    "recoms = [TTM_dot_rec, TTM_cosine_rec, TTM_UUM_cosine_rec, SYM_ARTIST_rec, SYM_ALBUM_rec, SYM_OWNER_rec]"
   ]
  },
  {
   "cell_type": "code",
   "execution_count": 16,
   "metadata": {
    "scrolled": true
   },
   "outputs": [
    {
     "name": "stdout",
     "output_type": "stream",
     "text": [
      "Evaluating TTM_dot\n",
      "10000\n",
      "20000\n",
      "30000\n",
      "40000\n",
      "50000\n",
      "60000\n",
      "70000\n",
      "80000\n",
      "90000\n",
      "100000\n",
      "Evaluating TTM_cosine\n",
      "10000\n",
      "20000\n",
      "30000\n",
      "40000\n",
      "50000\n",
      "60000\n",
      "70000\n",
      "80000\n",
      "90000\n",
      "100000\n",
      "Evaluating TTM_UUM_cosine\n",
      "10000\n",
      "20000\n",
      "30000\n",
      "40000\n",
      "50000\n",
      "60000\n",
      "10000\n",
      "20000\n",
      "30000\n",
      "40000\n",
      "50000\n",
      "60000\n",
      "10000\n",
      "20000\n",
      "30000\n",
      "40000\n",
      "50000\n",
      "60000\n",
      "70000\n",
      "80000\n",
      "90000\n",
      "100000\n",
      "Evaluating SYM_ARTIST\n",
      "Evaluating SYM_ALBUM\n",
      "Evaluating SYM_OWNER\n",
      "10000\n",
      "20000\n",
      "30000\n",
      "40000\n",
      "50000\n",
      "60000\n",
      "70000\n",
      "80000\n",
      "90000\n",
      "100000\n"
     ]
    }
   ],
   "source": [
    "for r in recoms:\n",
    "    print(\"Evaluating {}\".format(r))\n",
    "    r.fit(dataset)\n",
    "    r.evaluate()"
   ]
  },
  {
   "cell_type": "code",
   "execution_count": 17,
   "metadata": {},
   "outputs": [
    {
     "name": "stdout",
     "output_type": "stream",
     "text": [
      "Using cached predictions for TTM_dot\n",
      "Using cached predictions for TTM_cosine\n",
      "Using cached predictions for TTM_UUM_cosine\n",
      "Using cached predictions for SYM_ARTIST\n",
      "Using cached predictions for SYM_ALBUM\n",
      "Using cached predictions for SYM_OWNER\n"
     ]
    },
    {
     "data": {
      "text/plain": [
       "0"
      ]
     },
     "execution_count": 17,
     "metadata": {},
     "output_type": "execute_result"
    }
   ],
   "source": [
    "ens_rec = recommenders.EnsembleRecommender('ensemble', recommenders=recoms, reducer=WeightedAverage([1.1, 1, 1.1, 1.45, 1.2, 1.3]))\n",
    "ens_rec.fit(dataset)\n",
    "ens_rec.evaluate()"
   ]
  },
  {
   "cell_type": "markdown",
   "metadata": {},
   "source": [
    "## Output the result"
   ]
  },
  {
   "cell_type": "code",
   "execution_count": 18,
   "metadata": {
    "collapsed": true
   },
   "outputs": [],
   "source": [
    "predictions_df = utils.from_prediction_matrix_to_dataframe(ens_rec.predictions, dataset, keep_best=5, map_tracks=True)\n",
    "predictions_df['playlist_id'] = predictions_df['playlist_id_tmp']\n",
    "predictions_df = predictions_df.drop(\"playlist_id_tmp\", axis=1)"
   ]
  },
  {
   "cell_type": "code",
   "execution_count": 19,
   "metadata": {
    "collapsed": true
   },
   "outputs": [],
   "source": [
    "predictions_df['track_ids'] = predictions_df['track_ids'].apply(lambda x : ' '.join(map(str, x)))\n",
    "predictions_df.to_csv('result.csv', index=False)"
   ]
  },
  {
   "cell_type": "code",
   "execution_count": null,
   "metadata": {
    "collapsed": true
   },
   "outputs": [],
   "source": []
  },
  {
   "cell_type": "code",
   "execution_count": null,
   "metadata": {
    "collapsed": true
   },
   "outputs": [],
   "source": []
  }
 ],
 "metadata": {
  "kernelspec": {
   "display_name": "Python 3",
   "language": "python",
   "name": "python3"
  },
  "language_info": {
   "codemirror_mode": {
    "name": "ipython",
    "version": 3
   },
   "file_extension": ".py",
   "mimetype": "text/x-python",
   "name": "python",
   "nbconvert_exporter": "python",
   "pygments_lexer": "ipython3",
   "version": "3.5.3"
  }
 },
 "nbformat": 4,
 "nbformat_minor": 2
}
