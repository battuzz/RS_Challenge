{
 "cells": [
  {
   "cell_type": "code",
   "execution_count": 1,
   "metadata": {
    "collapsed": false
   },
   "outputs": [],
   "source": [
    "import matplotlib.pyplot as plt\n",
    "import seaborn as sns\n",
    "import numpy as np\n",
    "import pandas as pd\n",
    "import scipy as sc\n",
    "from sklearn import preprocessing\n",
    "from sklearn import model_selection\n",
    "import functools\n",
    "\n",
    "from recsys.preprocess import *\n",
    "from recsys.utility import *\n",
    "from scipy.sparse import *\n",
    "\n",
    "from sklearn.neighbors import NearestNeighbors\n",
    "\n",
    "RANDOM_STATE = 2342\n",
    "\n",
    "%matplotlib inline"
   ]
  },
  {
   "cell_type": "code",
   "execution_count": 2,
   "metadata": {
    "collapsed": true
   },
   "outputs": [],
   "source": [
    "train = pd.read_csv('data/train_final.csv', delimiter='\\t')\n",
    "playlists = pd.read_csv('data/playlists_final.csv', delimiter='\\t')\n",
    "tracks = pd.read_csv('data/tracks_final.csv', delimiter='\\t')\n",
    "tracks['tags'] = tracks['tags'].apply(lambda x: np.array(eval(x)))\n",
    "tracks.index = tracks.track_id\n",
    "\n",
    "#target_playlists = pd.read_csv('data/target_playlists.csv', delimiter='\\t')\n",
    "#target_tracks = pd.read_csv('data/target_tracks.csv', delimiter = '\\t')"
   ]
  },
  {
   "cell_type": "code",
   "execution_count": 3,
   "metadata": {
    "collapsed": true
   },
   "outputs": [],
   "source": [
    "train, test, target_playlists, target_tracks = train_test_split(train, test_size=0.3, min_playlist_tracks=8)"
   ]
  },
  {
   "cell_type": "code",
   "execution_count": 4,
   "metadata": {
    "collapsed": true
   },
   "outputs": [],
   "source": [
    "tracks_in_playlist = get_playlist_track_list2(train)"
   ]
  },
  {
   "cell_type": "code",
   "execution_count": 52,
   "metadata": {
    "collapsed": true
   },
   "outputs": [],
   "source": [
    "def from_row_num_to_track_id(df, row_num):\n",
    "    \"\"\" df must have a 'track_id' column \"\"\"\n",
    "    return df.iloc[row_num].track_id\n",
    "\n",
    "def from_track_id_to_row_num(df, tr_id):\n",
    "    \"\"\" df must have a 'track_id' column \"\"\"\n",
    "    return np.where(df.track_id.values == tr_id)[0][0]"
   ]
  },
  {
   "cell_type": "markdown",
   "metadata": {},
   "source": [
    "## Create similarity matrix"
   ]
  },
  {
   "cell_type": "code",
   "execution_count": 120,
   "metadata": {
    "collapsed": true
   },
   "outputs": [],
   "source": [
    "S = lil_matrix((len(tracks), len(target_tracks)))"
   ]
  },
  {
   "cell_type": "code",
   "execution_count": 121,
   "metadata": {
    "collapsed": false
   },
   "outputs": [
    {
     "data": {
      "text/plain": [
       "array([1563309, 1363985, 3705881, 1595978, 3779477])"
      ]
     },
     "execution_count": 121,
     "metadata": {},
     "output_type": "execute_result"
    }
   ],
   "source": [
    "most_popular = get_most_popular_tracks(train)\n",
    "most_popular_tr_ids_5 = most_popular[most_popular.track_id.isin(target_tracks.track_id.values)].track_id[:5].values\n",
    "most_popular_tr_ids_5"
   ]
  },
  {
   "cell_type": "code",
   "execution_count": 122,
   "metadata": {
    "collapsed": false,
    "scrolled": true
   },
   "outputs": [
    {
     "name": "stdout",
     "output_type": "stream",
     "text": [
      "CPU times: user 7min 54s, sys: 3.12 s, total: 7min 57s\n",
      "Wall time: 8min 4s\n"
     ]
    }
   ],
   "source": [
    "%%time\n",
    "\n",
    "same_artist_param = 1\n",
    "same_album_param = 1\n",
    "common_tag_param = 0.2\n",
    "most_popular_param = 1\n",
    "\n",
    "r = 0\n",
    "for _,r1 in tracks.iterrows():\n",
    "    for _,r2 in tracks_target_only[tracks_target_only.artist_id == r1.artist_id].iterrows():\n",
    "        c = from_track_id_to_row_num(tracks_target_only, r2.track_id)\n",
    "        same_artist = 1 # since having the same artist is a requesite for being similar\n",
    "        same_album = 1*(r1.album == r2.album)\n",
    "        common_tags = len(np.intersect1d(r1.tags, r2.tags))\n",
    "        S[r,c] += same_artist_param*same_artist + same_album_param*same_album + common_tag_param*common_tags\n",
    "    for tr_id in most_popular_tr_ids_5:\n",
    "        c = from_track_id_to_row_num(tracks_target_only, tr_id)\n",
    "        S[r,c] += most_popular_param\n",
    "    r += 1\n",
    "\n",
    "# Indexes of S:\n",
    "#   - r: row number in 'tracks'\n",
    "#   - c: row number in 'tracks_target_only'\n",
    "#\n",
    "# S is:\n",
    "#        tracks_target_only\n",
    "#          __________\n",
    "#         |          |\n",
    "# tracks  |          |   \n",
    "#         |          |\n",
    "#         |          |\n",
    "#         |__________|"
   ]
  },
  {
   "cell_type": "code",
   "execution_count": 135,
   "metadata": {
    "collapsed": false
   },
   "outputs": [],
   "source": [
    "# from lil_matrix to csr matrix for fast row access\n",
    "S_csr = S.tocsr()"
   ]
  },
  {
   "cell_type": "markdown",
   "metadata": {},
   "source": [
    "## Do predictions"
   ]
  },
  {
   "cell_type": "code",
   "execution_count": 162,
   "metadata": {
    "collapsed": false
   },
   "outputs": [
    {
     "name": "stdout",
     "output_type": "stream",
     "text": [
      "CPU times: user 22min 1s, sys: 9.75 s, total: 22min 10s\n",
      "Wall time: 22min 38s\n"
     ]
    }
   ],
   "source": [
    "%%time\n",
    "\n",
    "def predict_for_playlist(pl_id, target_tracks):\n",
    "    suggested_tracks = {}\n",
    "    for tr_id in tracks_in_playlist.loc[pl_id]['track_ids']:\n",
    "        row_S = from_track_id_to_row_num(tracks, tr_id)\n",
    "        r_start = S_csr.indptr[row_S]\n",
    "        r_end = S_csr.indptr[row_S + 1]\n",
    "        r_indices = S_csr.indices[r_start:r_end]\n",
    "        r_data = S_csr.data[r_start:r_end]\n",
    "        for i,c in enumerate(r_indices):\n",
    "            c_track_id = from_row_num_to_track_id(tracks_target_only, c)\n",
    "            if c_track_id not in suggested_tracks:\n",
    "                suggested_tracks[c_track_id] = r_data[i]\n",
    "            else:\n",
    "                suggested_tracks[c_track_id] += r_data[i]\n",
    "    suggested_tracks = [k for k,v in sorted([(k, v) for k, v in suggested_tracks.items()], key=lambda tup: tup[1], reverse=True)]\n",
    "    i = 0\n",
    "    count = 0\n",
    "    pred = []\n",
    "    while count < 5:\n",
    "        if suggested_tracks[i] not in tracks_in_playlist.loc[pl_id]['track_ids']:\n",
    "            # Predict track i\n",
    "            pred.append(suggested_tracks[i])\n",
    "            count += 1\n",
    "        i += 1\n",
    "    return np.array(pred)\n",
    "\n",
    "def make_predictions(target_playlists, target_tracks):\n",
    "    predictions = pd.DataFrame(target_playlists)\n",
    "    predictions.index = target_playlists['playlist_id']\n",
    "    \n",
    "    predictions['track_ids'] = predictions['playlist_id'].apply(lambda pl_id: predict_for_playlist(pl_id, target_tracks))\n",
    "    \n",
    "    return predictions\n",
    "\n",
    "predictions = make_predictions(target_playlists, target_tracks)"
   ]
  },
  {
   "cell_type": "code",
   "execution_count": 163,
   "metadata": {
    "collapsed": false
   },
   "outputs": [
    {
     "data": {
      "text/html": [
       "<div>\n",
       "<style>\n",
       "    .dataframe thead tr:only-child th {\n",
       "        text-align: right;\n",
       "    }\n",
       "\n",
       "    .dataframe thead th {\n",
       "        text-align: left;\n",
       "    }\n",
       "\n",
       "    .dataframe tbody tr th {\n",
       "        vertical-align: top;\n",
       "    }\n",
       "</style>\n",
       "<table border=\"1\" class=\"dataframe\">\n",
       "  <thead>\n",
       "    <tr style=\"text-align: right;\">\n",
       "      <th></th>\n",
       "      <th>playlist_id</th>\n",
       "      <th>track_ids</th>\n",
       "    </tr>\n",
       "    <tr>\n",
       "      <th>playlist_id</th>\n",
       "      <th></th>\n",
       "      <th></th>\n",
       "    </tr>\n",
       "  </thead>\n",
       "  <tbody>\n",
       "    <tr>\n",
       "      <th>7300857</th>\n",
       "      <td>7300857</td>\n",
       "      <td>[1563309, 1595978, 3779477, 3705881, 1363985]</td>\n",
       "    </tr>\n",
       "    <tr>\n",
       "      <th>3541849</th>\n",
       "      <td>3541849</td>\n",
       "      <td>[1563309, 3779477, 3705881, 2307089, 1736550]</td>\n",
       "    </tr>\n",
       "    <tr>\n",
       "      <th>11707709</th>\n",
       "      <td>11707709</td>\n",
       "      <td>[3393053, 3554522, 2374638, 3357341, 1261712]</td>\n",
       "    </tr>\n",
       "    <tr>\n",
       "      <th>3988629</th>\n",
       "      <td>3988629</td>\n",
       "      <td>[1595978, 3062339, 196594, 1563309, 3779477]</td>\n",
       "    </tr>\n",
       "    <tr>\n",
       "      <th>11567665</th>\n",
       "      <td>11567665</td>\n",
       "      <td>[1563309, 1595978, 3779477, 3705881, 1363985]</td>\n",
       "    </tr>\n",
       "  </tbody>\n",
       "</table>\n",
       "</div>"
      ],
      "text/plain": [
       "             playlist_id                                      track_ids\n",
       "playlist_id                                                            \n",
       "7300857          7300857  [1563309, 1595978, 3779477, 3705881, 1363985]\n",
       "3541849          3541849  [1563309, 3779477, 3705881, 2307089, 1736550]\n",
       "11707709        11707709  [3393053, 3554522, 2374638, 3357341, 1261712]\n",
       "3988629          3988629   [1595978, 3062339, 196594, 1563309, 3779477]\n",
       "11567665        11567665  [1563309, 1595978, 3779477, 3705881, 1363985]"
      ]
     },
     "execution_count": 163,
     "metadata": {},
     "output_type": "execute_result"
    }
   ],
   "source": [
    "predictions.tail()"
   ]
  },
  {
   "cell_type": "code",
   "execution_count": 164,
   "metadata": {
    "collapsed": true
   },
   "outputs": [],
   "source": [
    "test_good = get_playlist_track_list2(test)"
   ]
  },
  {
   "cell_type": "code",
   "execution_count": 165,
   "metadata": {
    "collapsed": false
   },
   "outputs": [
    {
     "data": {
      "text/plain": [
       "0.04153846153846152"
      ]
     },
     "execution_count": 165,
     "metadata": {},
     "output_type": "execute_result"
    }
   ],
   "source": [
    "evaluate(test_good, predictions, should_transform_test=False)"
   ]
  }
 ],
 "metadata": {
  "kernelspec": {
   "display_name": "Python 3",
   "language": "python",
   "name": "python3"
  },
  "language_info": {
   "codemirror_mode": {
    "name": "ipython",
    "version": 3
   },
   "file_extension": ".py",
   "mimetype": "text/x-python",
   "name": "python",
   "nbconvert_exporter": "python",
   "pygments_lexer": "ipython3",
   "version": "3.6.0"
  }
 },
 "nbformat": 4,
 "nbformat_minor": 2
}
