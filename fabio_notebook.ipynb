{
 "cells": [
  {
   "cell_type": "code",
   "execution_count": 95,
   "metadata": {
    "collapsed": false
   },
   "outputs": [],
   "source": [
    "import matplotlib.pyplot as plt\n",
    "import seaborn as sns\n",
    "import numpy as np\n",
    "import pandas as pd\n",
    "import scipy as sc\n",
    "from sklearn import preprocessing\n",
    "from sklearn import model_selection\n",
    "import pickle\n",
    "\n",
    "RANDOM_STATE = 2342\n",
    "\n",
    "import utility\n",
    "\n",
    "%matplotlib inline"
   ]
  },
  {
   "cell_type": "code",
   "execution_count": 2,
   "metadata": {
    "collapsed": false
   },
   "outputs": [],
   "source": [
    "train = pd.read_csv('data/train_final.csv', delimiter='\\t')\n",
    "train, test = model_selection.train_test_split(train, test_size=0.20, random_state=RANDOM_STATE)\n",
    "\n",
    "playlists = pd.read_csv('data/playlists_final.csv', delimiter='\\t')\n",
    "target_playlists = pd.read_csv('data/target_playlists.csv', delimiter='\\t')\n",
    "target_tracks = pd.read_csv('data/target_tracks.csv', delimiter = '\\t')\n",
    "tracks = pd.read_csv('data/tracks_final.csv', delimiter='\\t')"
   ]
  },
  {
   "cell_type": "code",
   "execution_count": 98,
   "metadata": {
    "collapsed": true
   },
   "outputs": [],
   "source": [
    "albums = pickle.load(open(\"data/albums.dat\", \"rb\"))\n",
    "artists = pickle.load(open(\"data/artists.dat\", \"rb\"))\n",
    "owners = pickle.load(open(\"data/owners.dat\", \"rb\"))\n",
    "playlist_content = pickle.load(open(\"data/playlist_content.dat\", \"rb\"))"
   ]
  },
  {
   "cell_type": "code",
   "execution_count": 3,
   "metadata": {
    "collapsed": false
   },
   "outputs": [
    {
     "data": {
      "text/html": [
       "<div>\n",
       "<table border=\"1\" class=\"dataframe\">\n",
       "  <thead>\n",
       "    <tr style=\"text-align: right;\">\n",
       "      <th></th>\n",
       "      <th>playlist_id</th>\n",
       "      <th>track_id</th>\n",
       "    </tr>\n",
       "  </thead>\n",
       "  <tbody>\n",
       "    <tr>\n",
       "      <th>311724</th>\n",
       "      <td>1611401</td>\n",
       "      <td>4587</td>\n",
       "    </tr>\n",
       "    <tr>\n",
       "      <th>905178</th>\n",
       "      <td>4745427</td>\n",
       "      <td>1064050</td>\n",
       "    </tr>\n",
       "    <tr>\n",
       "      <th>961334</th>\n",
       "      <td>10804857</td>\n",
       "      <td>2802723</td>\n",
       "    </tr>\n",
       "    <tr>\n",
       "      <th>120554</th>\n",
       "      <td>5517911</td>\n",
       "      <td>2739334</td>\n",
       "    </tr>\n",
       "    <tr>\n",
       "      <th>328489</th>\n",
       "      <td>11317703</td>\n",
       "      <td>2630594</td>\n",
       "    </tr>\n",
       "  </tbody>\n",
       "</table>\n",
       "</div>"
      ],
      "text/plain": [
       "        playlist_id  track_id\n",
       "311724      1611401      4587\n",
       "905178      4745427   1064050\n",
       "961334     10804857   2802723\n",
       "120554      5517911   2739334\n",
       "328489     11317703   2630594"
      ]
     },
     "execution_count": 3,
     "metadata": {},
     "output_type": "execute_result"
    }
   ],
   "source": [
    "train.head()"
   ]
  },
  {
   "cell_type": "code",
   "execution_count": 4,
   "metadata": {
    "collapsed": false,
    "scrolled": true
   },
   "outputs": [
    {
     "data": {
      "text/html": [
       "<div>\n",
       "<table border=\"1\" class=\"dataframe\">\n",
       "  <thead>\n",
       "    <tr style=\"text-align: right;\">\n",
       "      <th></th>\n",
       "      <th>created_at</th>\n",
       "      <th>playlist_id</th>\n",
       "      <th>title</th>\n",
       "      <th>numtracks</th>\n",
       "      <th>duration</th>\n",
       "      <th>owner</th>\n",
       "    </tr>\n",
       "  </thead>\n",
       "  <tbody>\n",
       "    <tr>\n",
       "      <th>0</th>\n",
       "      <td>1216545588</td>\n",
       "      <td>644838</td>\n",
       "      <td>[12727]</td>\n",
       "      <td>27</td>\n",
       "      <td>6522</td>\n",
       "      <td>41504</td>\n",
       "    </tr>\n",
       "    <tr>\n",
       "      <th>1</th>\n",
       "      <td>1249326867</td>\n",
       "      <td>7577564</td>\n",
       "      <td>[]</td>\n",
       "      <td>9</td>\n",
       "      <td>2650</td>\n",
       "      <td>41504</td>\n",
       "    </tr>\n",
       "    <tr>\n",
       "      <th>2</th>\n",
       "      <td>1257766688</td>\n",
       "      <td>3120683</td>\n",
       "      <td>[183]</td>\n",
       "      <td>16</td>\n",
       "      <td>3645</td>\n",
       "      <td>44542</td>\n",
       "    </tr>\n",
       "    <tr>\n",
       "      <th>3</th>\n",
       "      <td>1248079275</td>\n",
       "      <td>4278112</td>\n",
       "      <td>[12389, 18698, 18925, 11695, 7117]</td>\n",
       "      <td>15</td>\n",
       "      <td>4151</td>\n",
       "      <td>44542</td>\n",
       "    </tr>\n",
       "    <tr>\n",
       "      <th>4</th>\n",
       "      <td>1175201268</td>\n",
       "      <td>8656823</td>\n",
       "      <td>[12809, 2095, 13257, 12671, 20426, 14448, 18698]</td>\n",
       "      <td>84</td>\n",
       "      <td>18414</td>\n",
       "      <td>44542</td>\n",
       "    </tr>\n",
       "  </tbody>\n",
       "</table>\n",
       "</div>"
      ],
      "text/plain": [
       "   created_at  playlist_id                                             title  \\\n",
       "0  1216545588       644838                                           [12727]   \n",
       "1  1249326867      7577564                                                []   \n",
       "2  1257766688      3120683                                             [183]   \n",
       "3  1248079275      4278112                [12389, 18698, 18925, 11695, 7117]   \n",
       "4  1175201268      8656823  [12809, 2095, 13257, 12671, 20426, 14448, 18698]   \n",
       "\n",
       "   numtracks  duration  owner  \n",
       "0         27      6522  41504  \n",
       "1          9      2650  41504  \n",
       "2         16      3645  44542  \n",
       "3         15      4151  44542  \n",
       "4         84     18414  44542  "
      ]
     },
     "execution_count": 4,
     "metadata": {},
     "output_type": "execute_result"
    }
   ],
   "source": [
    "playlists.head()"
   ]
  },
  {
   "cell_type": "code",
   "execution_count": 5,
   "metadata": {
    "collapsed": false
   },
   "outputs": [
    {
     "data": {
      "text/plain": [
       "count    57561.000000\n",
       "mean        30.738816\n",
       "std         42.731612\n",
       "min          0.000000\n",
       "25%          5.000000\n",
       "50%         13.000000\n",
       "75%         36.000000\n",
       "max        200.000000\n",
       "Name: numtracks, dtype: float64"
      ]
     },
     "execution_count": 5,
     "metadata": {},
     "output_type": "execute_result"
    }
   ],
   "source": [
    "playlists.numtracks.describe()"
   ]
  },
  {
   "cell_type": "code",
   "execution_count": 6,
   "metadata": {
    "collapsed": false
   },
   "outputs": [
    {
     "data": {
      "text/plain": [
       "count     57561.000000\n",
       "mean       8079.101075\n",
       "std       11852.823672\n",
       "min           0.000000\n",
       "25%        1260.000000\n",
       "50%        3359.000000\n",
       "75%        9224.000000\n",
       "max      439332.000000\n",
       "Name: duration, dtype: float64"
      ]
     },
     "execution_count": 6,
     "metadata": {},
     "output_type": "execute_result"
    }
   ],
   "source": [
    "playlists.duration.describe()"
   ]
  },
  {
   "cell_type": "code",
   "execution_count": 7,
   "metadata": {
    "collapsed": false
   },
   "outputs": [
    {
     "data": {
      "text/plain": [
       "count    15264.000000\n",
       "mean         3.771030\n",
       "std         11.327855\n",
       "min          1.000000\n",
       "25%          2.000000\n",
       "50%          2.000000\n",
       "75%          3.000000\n",
       "max       1158.000000\n",
       "Name: created_at, dtype: float64"
      ]
     },
     "execution_count": 7,
     "metadata": {},
     "output_type": "execute_result"
    }
   ],
   "source": [
    "playlists.groupby('owner').count()['created_at'].describe()"
   ]
  },
  {
   "cell_type": "code",
   "execution_count": 8,
   "metadata": {
    "collapsed": false
   },
   "outputs": [
    {
     "data": {
      "text/html": [
       "<div>\n",
       "<table border=\"1\" class=\"dataframe\">\n",
       "  <thead>\n",
       "    <tr style=\"text-align: right;\">\n",
       "      <th></th>\n",
       "      <th>track_id</th>\n",
       "      <th>artist_id</th>\n",
       "      <th>duration</th>\n",
       "      <th>playcount</th>\n",
       "      <th>album</th>\n",
       "      <th>tags</th>\n",
       "    </tr>\n",
       "  </thead>\n",
       "  <tbody>\n",
       "    <tr>\n",
       "      <th>0</th>\n",
       "      <td>2972914</td>\n",
       "      <td>144</td>\n",
       "      <td>224000</td>\n",
       "      <td>49.0</td>\n",
       "      <td>[7]</td>\n",
       "      <td>[54087, 1757, 1718, 116712, 189631]</td>\n",
       "    </tr>\n",
       "    <tr>\n",
       "      <th>1</th>\n",
       "      <td>2750239</td>\n",
       "      <td>246</td>\n",
       "      <td>157000</td>\n",
       "      <td>1.0</td>\n",
       "      <td>[8]</td>\n",
       "      <td>[189631, 3424, 177424, 46208, 205245]</td>\n",
       "    </tr>\n",
       "    <tr>\n",
       "      <th>2</th>\n",
       "      <td>1550729</td>\n",
       "      <td>144</td>\n",
       "      <td>217000</td>\n",
       "      <td>554.0</td>\n",
       "      <td>[9]</td>\n",
       "      <td>[54087, 109806, 46869, 183258, 54337]</td>\n",
       "    </tr>\n",
       "    <tr>\n",
       "      <th>3</th>\n",
       "      <td>2169950</td>\n",
       "      <td>144</td>\n",
       "      <td>207000</td>\n",
       "      <td>200.0</td>\n",
       "      <td>[9]</td>\n",
       "      <td>[54087, 70618, 207003, 109806, 116712]</td>\n",
       "    </tr>\n",
       "    <tr>\n",
       "      <th>4</th>\n",
       "      <td>1903709</td>\n",
       "      <td>144</td>\n",
       "      <td>198000</td>\n",
       "      <td>5.0</td>\n",
       "      <td>[None]</td>\n",
       "      <td>[54087, 81223, 116712, 215342, 71028]</td>\n",
       "    </tr>\n",
       "  </tbody>\n",
       "</table>\n",
       "</div>"
      ],
      "text/plain": [
       "   track_id  artist_id  duration  playcount   album  \\\n",
       "0   2972914        144    224000       49.0     [7]   \n",
       "1   2750239        246    157000        1.0     [8]   \n",
       "2   1550729        144    217000      554.0     [9]   \n",
       "3   2169950        144    207000      200.0     [9]   \n",
       "4   1903709        144    198000        5.0  [None]   \n",
       "\n",
       "                                     tags  \n",
       "0     [54087, 1757, 1718, 116712, 189631]  \n",
       "1   [189631, 3424, 177424, 46208, 205245]  \n",
       "2   [54087, 109806, 46869, 183258, 54337]  \n",
       "3  [54087, 70618, 207003, 109806, 116712]  \n",
       "4   [54087, 81223, 116712, 215342, 71028]  "
      ]
     },
     "execution_count": 8,
     "metadata": {},
     "output_type": "execute_result"
    }
   ],
   "source": [
    "tracks.head()"
   ]
  },
  {
   "cell_type": "code",
   "execution_count": 9,
   "metadata": {
    "collapsed": false
   },
   "outputs": [
    {
     "data": {
      "text/plain": [
       "27606"
      ]
     },
     "execution_count": 9,
     "metadata": {},
     "output_type": "execute_result"
    }
   ],
   "source": [
    "len(tracks.album.unique())"
   ]
  },
  {
   "cell_type": "code",
   "execution_count": 10,
   "metadata": {
    "collapsed": false
   },
   "outputs": [
    {
     "data": {
      "text/plain": [
       "count    1.000000e+05\n",
       "mean     2.620218e+05\n",
       "std      9.864639e+05\n",
       "min     -1.000000e+00\n",
       "25%      1.970000e+05\n",
       "50%      2.400000e+05\n",
       "75%      2.970000e+05\n",
       "max      2.195850e+08\n",
       "Name: duration, dtype: float64"
      ]
     },
     "execution_count": 10,
     "metadata": {},
     "output_type": "execute_result"
    }
   ],
   "source": [
    "tracks['duration'].describe()"
   ]
  },
  {
   "cell_type": "code",
   "execution_count": 11,
   "metadata": {
    "collapsed": false
   },
   "outputs": [
    {
     "data": {
      "text/plain": [
       "count    9.910600e+04\n",
       "mean     2.494978e+03\n",
       "std      1.083555e+04\n",
       "min      0.000000e+00\n",
       "25%      7.300000e+01\n",
       "50%      4.910000e+02\n",
       "75%      2.067000e+03\n",
       "max      1.918184e+06\n",
       "Name: playcount, dtype: float64"
      ]
     },
     "execution_count": 11,
     "metadata": {},
     "output_type": "execute_result"
    }
   ],
   "source": [
    "tracks['playcount'].describe()"
   ]
  },
  {
   "cell_type": "code",
   "execution_count": 12,
   "metadata": {
    "collapsed": false
   },
   "outputs": [
    {
     "data": {
      "text/plain": [
       "count    17536.000000\n",
       "mean         5.702555\n",
       "std         10.732867\n",
       "min          1.000000\n",
       "25%          1.000000\n",
       "50%          2.000000\n",
       "75%          6.000000\n",
       "max        221.000000\n",
       "Name: track_id, dtype: float64"
      ]
     },
     "execution_count": 12,
     "metadata": {},
     "output_type": "execute_result"
    }
   ],
   "source": [
    "tracks.groupby('artist_id').count()['track_id'].describe()"
   ]
  },
  {
   "cell_type": "code",
   "execution_count": null,
   "metadata": {
    "collapsed": true
   },
   "outputs": [],
   "source": []
  },
  {
   "cell_type": "code",
   "execution_count": 13,
   "metadata": {
    "collapsed": false
   },
   "outputs": [
    {
     "data": {
      "text/plain": [
       "count    9.910600e+04\n",
       "mean     2.494978e+03\n",
       "std      1.083555e+04\n",
       "min      0.000000e+00\n",
       "25%      7.300000e+01\n",
       "50%      4.910000e+02\n",
       "75%      2.067000e+03\n",
       "max      1.918184e+06\n",
       "Name: playcount, dtype: float64"
      ]
     },
     "execution_count": 13,
     "metadata": {},
     "output_type": "execute_result"
    }
   ],
   "source": [
    "tracks['playcount'].describe()"
   ]
  },
  {
   "cell_type": "code",
   "execution_count": 14,
   "metadata": {
    "collapsed": false
   },
   "outputs": [
    {
     "data": {
      "text/html": [
       "<div>\n",
       "<table border=\"1\" class=\"dataframe\">\n",
       "  <thead>\n",
       "    <tr style=\"text-align: right;\">\n",
       "      <th></th>\n",
       "      <th>playlist_id</th>\n",
       "    </tr>\n",
       "  </thead>\n",
       "  <tbody>\n",
       "    <tr>\n",
       "      <th>0</th>\n",
       "      <td>10024884</td>\n",
       "    </tr>\n",
       "    <tr>\n",
       "      <th>1</th>\n",
       "      <td>10624787</td>\n",
       "    </tr>\n",
       "    <tr>\n",
       "      <th>2</th>\n",
       "      <td>4891851</td>\n",
       "    </tr>\n",
       "    <tr>\n",
       "      <th>3</th>\n",
       "      <td>4267369</td>\n",
       "    </tr>\n",
       "    <tr>\n",
       "      <th>4</th>\n",
       "      <td>65078</td>\n",
       "    </tr>\n",
       "  </tbody>\n",
       "</table>\n",
       "</div>"
      ],
      "text/plain": [
       "   playlist_id\n",
       "0     10024884\n",
       "1     10624787\n",
       "2      4891851\n",
       "3      4267369\n",
       "4        65078"
      ]
     },
     "execution_count": 14,
     "metadata": {},
     "output_type": "execute_result"
    }
   ],
   "source": [
    "target_playlists.head()"
   ]
  },
  {
   "cell_type": "code",
   "execution_count": 15,
   "metadata": {
    "collapsed": false
   },
   "outputs": [
    {
     "data": {
      "text/html": [
       "<div>\n",
       "<table border=\"1\" class=\"dataframe\">\n",
       "  <thead>\n",
       "    <tr style=\"text-align: right;\">\n",
       "      <th></th>\n",
       "      <th>track_id</th>\n",
       "    </tr>\n",
       "  </thead>\n",
       "  <tbody>\n",
       "    <tr>\n",
       "      <th>0</th>\n",
       "      <td>1316175</td>\n",
       "    </tr>\n",
       "    <tr>\n",
       "      <th>1</th>\n",
       "      <td>3885714</td>\n",
       "    </tr>\n",
       "    <tr>\n",
       "      <th>2</th>\n",
       "      <td>3091270</td>\n",
       "    </tr>\n",
       "    <tr>\n",
       "      <th>3</th>\n",
       "      <td>226759</td>\n",
       "    </tr>\n",
       "    <tr>\n",
       "      <th>4</th>\n",
       "      <td>230596</td>\n",
       "    </tr>\n",
       "  </tbody>\n",
       "</table>\n",
       "</div>"
      ],
      "text/plain": [
       "   track_id\n",
       "0   1316175\n",
       "1   3885714\n",
       "2   3091270\n",
       "3    226759\n",
       "4    230596"
      ]
     },
     "execution_count": 15,
     "metadata": {},
     "output_type": "execute_result"
    }
   ],
   "source": [
    "target_tracks.head()"
   ]
  },
  {
   "cell_type": "code",
   "execution_count": 16,
   "metadata": {
    "collapsed": true
   },
   "outputs": [],
   "source": [
    "playlists['numtrack_token'] = pd.qcut(playlists['numtracks'], 6)"
   ]
  },
  {
   "cell_type": "code",
   "execution_count": 17,
   "metadata": {
    "collapsed": false
   },
   "outputs": [
    {
     "data": {
      "text/plain": [
       "<matplotlib.axes._subplots.AxesSubplot at 0x116738630>"
      ]
     },
     "execution_count": 17,
     "metadata": {},
     "output_type": "execute_result"
    },
    {
     "data": {
      "image/png": "[encoded data removed]",
      "text/plain": [
       "<matplotlib.figure.Figure at 0x10c0ef748>"
      ]
     },
     "metadata": {},
     "output_type": "display_data"
    }
   ],
   "source": [
    "sns.countplot(x = 'numtrack_token', data=playlists)"
   ]
  },
  {
   "cell_type": "code",
   "execution_count": null,
   "metadata": {
    "collapsed": false
   },
   "outputs": [],
   "source": []
  },
  {
   "cell_type": "markdown",
   "metadata": {
    "collapsed": true
   },
   "source": [
    "## Model training and algorithm evaluation"
   ]
  },
  {
   "cell_type": "code",
   "execution_count": 18,
   "metadata": {
    "collapsed": false
   },
   "outputs": [
    {
     "data": {
      "text/html": [
       "<div>\n",
       "<table border=\"1\" class=\"dataframe\">\n",
       "  <thead>\n",
       "    <tr style=\"text-align: right;\">\n",
       "      <th></th>\n",
       "      <th>playlist_id</th>\n",
       "      <th>track_id</th>\n",
       "    </tr>\n",
       "  </thead>\n",
       "  <tbody>\n",
       "    <tr>\n",
       "      <th>1008820</th>\n",
       "      <td>6911566</td>\n",
       "      <td>3557507</td>\n",
       "    </tr>\n",
       "    <tr>\n",
       "      <th>980327</th>\n",
       "      <td>11061424</td>\n",
       "      <td>2180906</td>\n",
       "    </tr>\n",
       "    <tr>\n",
       "      <th>1024318</th>\n",
       "      <td>4933403</td>\n",
       "      <td>3091541</td>\n",
       "    </tr>\n",
       "    <tr>\n",
       "      <th>860126</th>\n",
       "      <td>10804506</td>\n",
       "      <td>2974385</td>\n",
       "    </tr>\n",
       "    <tr>\n",
       "      <th>138165</th>\n",
       "      <td>11288476</td>\n",
       "      <td>611551</td>\n",
       "    </tr>\n",
       "  </tbody>\n",
       "</table>\n",
       "</div>"
      ],
      "text/plain": [
       "         playlist_id  track_id\n",
       "1008820      6911566   3557507\n",
       "980327      11061424   2180906\n",
       "1024318      4933403   3091541\n",
       "860126      10804506   2974385\n",
       "138165      11288476    611551"
      ]
     },
     "execution_count": 18,
     "metadata": {},
     "output_type": "execute_result"
    }
   ],
   "source": [
    "test.head()"
   ]
  },
  {
   "cell_type": "code",
   "execution_count": 19,
   "metadata": {
    "collapsed": false
   },
   "outputs": [
    {
     "data": {
      "text/html": [
       "<div>\n",
       "<table border=\"1\" class=\"dataframe\">\n",
       "  <thead>\n",
       "    <tr style=\"text-align: right;\">\n",
       "      <th></th>\n",
       "      <th>playlist_id</th>\n",
       "      <th>track_id</th>\n",
       "    </tr>\n",
       "  </thead>\n",
       "  <tbody>\n",
       "    <tr>\n",
       "      <th>1008820</th>\n",
       "      <td>6911566</td>\n",
       "      <td>3557507</td>\n",
       "    </tr>\n",
       "    <tr>\n",
       "      <th>980327</th>\n",
       "      <td>11061424</td>\n",
       "      <td>2180906</td>\n",
       "    </tr>\n",
       "    <tr>\n",
       "      <th>1024318</th>\n",
       "      <td>4933403</td>\n",
       "      <td>3091541</td>\n",
       "    </tr>\n",
       "    <tr>\n",
       "      <th>860126</th>\n",
       "      <td>10804506</td>\n",
       "      <td>2974385</td>\n",
       "    </tr>\n",
       "    <tr>\n",
       "      <th>138165</th>\n",
       "      <td>11288476</td>\n",
       "      <td>611551</td>\n",
       "    </tr>\n",
       "  </tbody>\n",
       "</table>\n",
       "</div>"
      ],
      "text/plain": [
       "         playlist_id  track_id\n",
       "1008820      6911566   3557507\n",
       "980327      11061424   2180906\n",
       "1024318      4933403   3091541\n",
       "860126      10804506   2974385\n",
       "138165      11288476    611551"
      ]
     },
     "execution_count": 19,
     "metadata": {},
     "output_type": "execute_result"
    }
   ],
   "source": [
    "test.head()"
   ]
  },
  {
   "cell_type": "code",
   "execution_count": 90,
   "metadata": {
    "collapsed": false
   },
   "outputs": [
    {
     "data": {
      "text/html": [
       "<div>\n",
       "<table border=\"1\" class=\"dataframe\">\n",
       "  <thead>\n",
       "    <tr style=\"text-align: right;\">\n",
       "      <th></th>\n",
       "      <th>playlist_id</th>\n",
       "    </tr>\n",
       "    <tr>\n",
       "      <th>track_id</th>\n",
       "      <th></th>\n",
       "    </tr>\n",
       "  </thead>\n",
       "  <tbody>\n",
       "    <tr>\n",
       "      <th>3779477</th>\n",
       "      <td>311</td>\n",
       "    </tr>\n",
       "  </tbody>\n",
       "</table>\n",
       "</div>"
      ],
      "text/plain": [
       "          playlist_id\n",
       "track_id             \n",
       "3779477           311"
      ]
     },
     "execution_count": 90,
     "metadata": {},
     "output_type": "execute_result"
    }
   ],
   "source": [
    "a = train.groupby('track_id').count()\n",
    "382\n",
    "353\n",
    "352\n",
    "326\n",
    "311\n",
    "a[a['playlist_id'] == 311]"
   ]
  },
  {
   "cell_type": "code",
   "execution_count": 84,
   "metadata": {
    "collapsed": false
   },
   "outputs": [
    {
     "data": {
      "text/plain": [
       "Index(['playlist_id'], dtype='object')"
      ]
     },
     "execution_count": 84,
     "metadata": {},
     "output_type": "execute_result"
    }
   ],
   "source": [
    "a[a['playlist_id'] == 382].keys()"
   ]
  },
  {
   "cell_type": "code",
   "execution_count": 91,
   "metadata": {
    "collapsed": false
   },
   "outputs": [
    {
     "name": "stdout",
     "output_type": "stream",
     "text": [
      "208105\n",
      "35285\n"
     ]
    }
   ],
   "source": [
    "temp = test.copy()\n",
    "print(len(temp))\n",
    "recommendations = temp.drop_duplicates('playlist_id').drop('track_id', axis=1)\n",
    "print(len(recommendations))\n",
    "recommendations['recommendations'] = 0\n",
    "recommendations['recommendations'] = recommendations['recommendations'].apply(lambda e: [1563309,3705881,1363985,1595978,3779477])"
   ]
  },
  {
   "cell_type": "code",
   "execution_count": 92,
   "metadata": {
    "collapsed": false
   },
   "outputs": [
    {
     "data": {
      "text/html": [
       "<div>\n",
       "<table border=\"1\" class=\"dataframe\">\n",
       "  <thead>\n",
       "    <tr style=\"text-align: right;\">\n",
       "      <th></th>\n",
       "      <th>playlist_id</th>\n",
       "      <th>recommendations</th>\n",
       "    </tr>\n",
       "  </thead>\n",
       "  <tbody>\n",
       "    <tr>\n",
       "      <th>1008820</th>\n",
       "      <td>6911566</td>\n",
       "      <td>[1563309, 3705881, 1363985, 1595978, 3779477]</td>\n",
       "    </tr>\n",
       "    <tr>\n",
       "      <th>980327</th>\n",
       "      <td>11061424</td>\n",
       "      <td>[1563309, 3705881, 1363985, 1595978, 3779477]</td>\n",
       "    </tr>\n",
       "    <tr>\n",
       "      <th>1024318</th>\n",
       "      <td>4933403</td>\n",
       "      <td>[1563309, 3705881, 1363985, 1595978, 3779477]</td>\n",
       "    </tr>\n",
       "    <tr>\n",
       "      <th>860126</th>\n",
       "      <td>10804506</td>\n",
       "      <td>[1563309, 3705881, 1363985, 1595978, 3779477]</td>\n",
       "    </tr>\n",
       "    <tr>\n",
       "      <th>138165</th>\n",
       "      <td>11288476</td>\n",
       "      <td>[1563309, 3705881, 1363985, 1595978, 3779477]</td>\n",
       "    </tr>\n",
       "    <tr>\n",
       "      <th>295173</th>\n",
       "      <td>5973090</td>\n",
       "      <td>[1563309, 3705881, 1363985, 1595978, 3779477]</td>\n",
       "    </tr>\n",
       "    <tr>\n",
       "      <th>843449</th>\n",
       "      <td>5978436</td>\n",
       "      <td>[1563309, 3705881, 1363985, 1595978, 3779477]</td>\n",
       "    </tr>\n",
       "    <tr>\n",
       "      <th>169844</th>\n",
       "      <td>8290343</td>\n",
       "      <td>[1563309, 3705881, 1363985, 1595978, 3779477]</td>\n",
       "    </tr>\n",
       "    <tr>\n",
       "      <th>928863</th>\n",
       "      <td>8375145</td>\n",
       "      <td>[1563309, 3705881, 1363985, 1595978, 3779477]</td>\n",
       "    </tr>\n",
       "    <tr>\n",
       "      <th>165008</th>\n",
       "      <td>11644519</td>\n",
       "      <td>[1563309, 3705881, 1363985, 1595978, 3779477]</td>\n",
       "    </tr>\n",
       "    <tr>\n",
       "      <th>894671</th>\n",
       "      <td>5434530</td>\n",
       "      <td>[1563309, 3705881, 1363985, 1595978, 3779477]</td>\n",
       "    </tr>\n",
       "    <tr>\n",
       "      <th>673888</th>\n",
       "      <td>11579046</td>\n",
       "      <td>[1563309, 3705881, 1363985, 1595978, 3779477]</td>\n",
       "    </tr>\n",
       "    <tr>\n",
       "      <th>1016399</th>\n",
       "      <td>7793851</td>\n",
       "      <td>[1563309, 3705881, 1363985, 1595978, 3779477]</td>\n",
       "    </tr>\n",
       "    <tr>\n",
       "      <th>812104</th>\n",
       "      <td>11619063</td>\n",
       "      <td>[1563309, 3705881, 1363985, 1595978, 3779477]</td>\n",
       "    </tr>\n",
       "    <tr>\n",
       "      <th>199913</th>\n",
       "      <td>7541996</td>\n",
       "      <td>[1563309, 3705881, 1363985, 1595978, 3779477]</td>\n",
       "    </tr>\n",
       "    <tr>\n",
       "      <th>3358</th>\n",
       "      <td>6299170</td>\n",
       "      <td>[1563309, 3705881, 1363985, 1595978, 3779477]</td>\n",
       "    </tr>\n",
       "    <tr>\n",
       "      <th>86325</th>\n",
       "      <td>4432135</td>\n",
       "      <td>[1563309, 3705881, 1363985, 1595978, 3779477]</td>\n",
       "    </tr>\n",
       "    <tr>\n",
       "      <th>436997</th>\n",
       "      <td>1141416</td>\n",
       "      <td>[1563309, 3705881, 1363985, 1595978, 3779477]</td>\n",
       "    </tr>\n",
       "    <tr>\n",
       "      <th>886810</th>\n",
       "      <td>8749004</td>\n",
       "      <td>[1563309, 3705881, 1363985, 1595978, 3779477]</td>\n",
       "    </tr>\n",
       "    <tr>\n",
       "      <th>648376</th>\n",
       "      <td>4449643</td>\n",
       "      <td>[1563309, 3705881, 1363985, 1595978, 3779477]</td>\n",
       "    </tr>\n",
       "    <tr>\n",
       "      <th>934464</th>\n",
       "      <td>4909837</td>\n",
       "      <td>[1563309, 3705881, 1363985, 1595978, 3779477]</td>\n",
       "    </tr>\n",
       "    <tr>\n",
       "      <th>349837</th>\n",
       "      <td>10993312</td>\n",
       "      <td>[1563309, 3705881, 1363985, 1595978, 3779477]</td>\n",
       "    </tr>\n",
       "    <tr>\n",
       "      <th>685389</th>\n",
       "      <td>4812680</td>\n",
       "      <td>[1563309, 3705881, 1363985, 1595978, 3779477]</td>\n",
       "    </tr>\n",
       "    <tr>\n",
       "      <th>33370</th>\n",
       "      <td>3227961</td>\n",
       "      <td>[1563309, 3705881, 1363985, 1595978, 3779477]</td>\n",
       "    </tr>\n",
       "    <tr>\n",
       "      <th>617101</th>\n",
       "      <td>4095941</td>\n",
       "      <td>[1563309, 3705881, 1363985, 1595978, 3779477]</td>\n",
       "    </tr>\n",
       "    <tr>\n",
       "      <th>1025277</th>\n",
       "      <td>7529014</td>\n",
       "      <td>[1563309, 3705881, 1363985, 1595978, 3779477]</td>\n",
       "    </tr>\n",
       "    <tr>\n",
       "      <th>534673</th>\n",
       "      <td>7541771</td>\n",
       "      <td>[1563309, 3705881, 1363985, 1595978, 3779477]</td>\n",
       "    </tr>\n",
       "    <tr>\n",
       "      <th>718063</th>\n",
       "      <td>11098056</td>\n",
       "      <td>[1563309, 3705881, 1363985, 1595978, 3779477]</td>\n",
       "    </tr>\n",
       "    <tr>\n",
       "      <th>1006427</th>\n",
       "      <td>10769232</td>\n",
       "      <td>[1563309, 3705881, 1363985, 1595978, 3779477]</td>\n",
       "    </tr>\n",
       "    <tr>\n",
       "      <th>241755</th>\n",
       "      <td>7808573</td>\n",
       "      <td>[1563309, 3705881, 1363985, 1595978, 3779477]</td>\n",
       "    </tr>\n",
       "    <tr>\n",
       "      <th>...</th>\n",
       "      <td>...</td>\n",
       "      <td>...</td>\n",
       "    </tr>\n",
       "    <tr>\n",
       "      <th>634022</th>\n",
       "      <td>10170118</td>\n",
       "      <td>[1563309, 3705881, 1363985, 1595978, 3779477]</td>\n",
       "    </tr>\n",
       "    <tr>\n",
       "      <th>916764</th>\n",
       "      <td>4071250</td>\n",
       "      <td>[1563309, 3705881, 1363985, 1595978, 3779477]</td>\n",
       "    </tr>\n",
       "    <tr>\n",
       "      <th>103048</th>\n",
       "      <td>4293743</td>\n",
       "      <td>[1563309, 3705881, 1363985, 1595978, 3779477]</td>\n",
       "    </tr>\n",
       "    <tr>\n",
       "      <th>621597</th>\n",
       "      <td>7542186</td>\n",
       "      <td>[1563309, 3705881, 1363985, 1595978, 3779477]</td>\n",
       "    </tr>\n",
       "    <tr>\n",
       "      <th>914400</th>\n",
       "      <td>5539995</td>\n",
       "      <td>[1563309, 3705881, 1363985, 1595978, 3779477]</td>\n",
       "    </tr>\n",
       "    <tr>\n",
       "      <th>943607</th>\n",
       "      <td>6025127</td>\n",
       "      <td>[1563309, 3705881, 1363985, 1595978, 3779477]</td>\n",
       "    </tr>\n",
       "    <tr>\n",
       "      <th>582583</th>\n",
       "      <td>10058764</td>\n",
       "      <td>[1563309, 3705881, 1363985, 1595978, 3779477]</td>\n",
       "    </tr>\n",
       "    <tr>\n",
       "      <th>114887</th>\n",
       "      <td>4522799</td>\n",
       "      <td>[1563309, 3705881, 1363985, 1595978, 3779477]</td>\n",
       "    </tr>\n",
       "    <tr>\n",
       "      <th>988195</th>\n",
       "      <td>7740013</td>\n",
       "      <td>[1563309, 3705881, 1363985, 1595978, 3779477]</td>\n",
       "    </tr>\n",
       "    <tr>\n",
       "      <th>154802</th>\n",
       "      <td>6788850</td>\n",
       "      <td>[1563309, 3705881, 1363985, 1595978, 3779477]</td>\n",
       "    </tr>\n",
       "    <tr>\n",
       "      <th>939872</th>\n",
       "      <td>10759297</td>\n",
       "      <td>[1563309, 3705881, 1363985, 1595978, 3779477]</td>\n",
       "    </tr>\n",
       "    <tr>\n",
       "      <th>212565</th>\n",
       "      <td>5771001</td>\n",
       "      <td>[1563309, 3705881, 1363985, 1595978, 3779477]</td>\n",
       "    </tr>\n",
       "    <tr>\n",
       "      <th>659376</th>\n",
       "      <td>4120578</td>\n",
       "      <td>[1563309, 3705881, 1363985, 1595978, 3779477]</td>\n",
       "    </tr>\n",
       "    <tr>\n",
       "      <th>885768</th>\n",
       "      <td>5183890</td>\n",
       "      <td>[1563309, 3705881, 1363985, 1595978, 3779477]</td>\n",
       "    </tr>\n",
       "    <tr>\n",
       "      <th>559690</th>\n",
       "      <td>11386699</td>\n",
       "      <td>[1563309, 3705881, 1363985, 1595978, 3779477]</td>\n",
       "    </tr>\n",
       "    <tr>\n",
       "      <th>870843</th>\n",
       "      <td>7146586</td>\n",
       "      <td>[1563309, 3705881, 1363985, 1595978, 3779477]</td>\n",
       "    </tr>\n",
       "    <tr>\n",
       "      <th>441827</th>\n",
       "      <td>3665333</td>\n",
       "      <td>[1563309, 3705881, 1363985, 1595978, 3779477]</td>\n",
       "    </tr>\n",
       "    <tr>\n",
       "      <th>579175</th>\n",
       "      <td>6856957</td>\n",
       "      <td>[1563309, 3705881, 1363985, 1595978, 3779477]</td>\n",
       "    </tr>\n",
       "    <tr>\n",
       "      <th>77042</th>\n",
       "      <td>10590424</td>\n",
       "      <td>[1563309, 3705881, 1363985, 1595978, 3779477]</td>\n",
       "    </tr>\n",
       "    <tr>\n",
       "      <th>219992</th>\n",
       "      <td>10466860</td>\n",
       "      <td>[1563309, 3705881, 1363985, 1595978, 3779477]</td>\n",
       "    </tr>\n",
       "    <tr>\n",
       "      <th>728076</th>\n",
       "      <td>7645689</td>\n",
       "      <td>[1563309, 3705881, 1363985, 1595978, 3779477]</td>\n",
       "    </tr>\n",
       "    <tr>\n",
       "      <th>987002</th>\n",
       "      <td>10550071</td>\n",
       "      <td>[1563309, 3705881, 1363985, 1595978, 3779477]</td>\n",
       "    </tr>\n",
       "    <tr>\n",
       "      <th>651210</th>\n",
       "      <td>8938599</td>\n",
       "      <td>[1563309, 3705881, 1363985, 1595978, 3779477]</td>\n",
       "    </tr>\n",
       "    <tr>\n",
       "      <th>369455</th>\n",
       "      <td>3792636</td>\n",
       "      <td>[1563309, 3705881, 1363985, 1595978, 3779477]</td>\n",
       "    </tr>\n",
       "    <tr>\n",
       "      <th>22022</th>\n",
       "      <td>6639482</td>\n",
       "      <td>[1563309, 3705881, 1363985, 1595978, 3779477]</td>\n",
       "    </tr>\n",
       "    <tr>\n",
       "      <th>989133</th>\n",
       "      <td>6031041</td>\n",
       "      <td>[1563309, 3705881, 1363985, 1595978, 3779477]</td>\n",
       "    </tr>\n",
       "    <tr>\n",
       "      <th>132075</th>\n",
       "      <td>8970095</td>\n",
       "      <td>[1563309, 3705881, 1363985, 1595978, 3779477]</td>\n",
       "    </tr>\n",
       "    <tr>\n",
       "      <th>353879</th>\n",
       "      <td>10924089</td>\n",
       "      <td>[1563309, 3705881, 1363985, 1595978, 3779477]</td>\n",
       "    </tr>\n",
       "    <tr>\n",
       "      <th>901562</th>\n",
       "      <td>6091687</td>\n",
       "      <td>[1563309, 3705881, 1363985, 1595978, 3779477]</td>\n",
       "    </tr>\n",
       "    <tr>\n",
       "      <th>479109</th>\n",
       "      <td>8560405</td>\n",
       "      <td>[1563309, 3705881, 1363985, 1595978, 3779477]</td>\n",
       "    </tr>\n",
       "  </tbody>\n",
       "</table>\n",
       "<p>35285 rows × 2 columns</p>\n",
       "</div>"
      ],
      "text/plain": [
       "         playlist_id                                recommendations\n",
       "1008820      6911566  [1563309, 3705881, 1363985, 1595978, 3779477]\n",
       "980327      11061424  [1563309, 3705881, 1363985, 1595978, 3779477]\n",
       "1024318      4933403  [1563309, 3705881, 1363985, 1595978, 3779477]\n",
       "860126      10804506  [1563309, 3705881, 1363985, 1595978, 3779477]\n",
       "138165      11288476  [1563309, 3705881, 1363985, 1595978, 3779477]\n",
       "295173       5973090  [1563309, 3705881, 1363985, 1595978, 3779477]\n",
       "843449       5978436  [1563309, 3705881, 1363985, 1595978, 3779477]\n",
       "169844       8290343  [1563309, 3705881, 1363985, 1595978, 3779477]\n",
       "928863       8375145  [1563309, 3705881, 1363985, 1595978, 3779477]\n",
       "165008      11644519  [1563309, 3705881, 1363985, 1595978, 3779477]\n",
       "894671       5434530  [1563309, 3705881, 1363985, 1595978, 3779477]\n",
       "673888      11579046  [1563309, 3705881, 1363985, 1595978, 3779477]\n",
       "1016399      7793851  [1563309, 3705881, 1363985, 1595978, 3779477]\n",
       "812104      11619063  [1563309, 3705881, 1363985, 1595978, 3779477]\n",
       "199913       7541996  [1563309, 3705881, 1363985, 1595978, 3779477]\n",
       "3358         6299170  [1563309, 3705881, 1363985, 1595978, 3779477]\n",
       "86325        4432135  [1563309, 3705881, 1363985, 1595978, 3779477]\n",
       "436997       1141416  [1563309, 3705881, 1363985, 1595978, 3779477]\n",
       "886810       8749004  [1563309, 3705881, 1363985, 1595978, 3779477]\n",
       "648376       4449643  [1563309, 3705881, 1363985, 1595978, 3779477]\n",
       "934464       4909837  [1563309, 3705881, 1363985, 1595978, 3779477]\n",
       "349837      10993312  [1563309, 3705881, 1363985, 1595978, 3779477]\n",
       "685389       4812680  [1563309, 3705881, 1363985, 1595978, 3779477]\n",
       "33370        3227961  [1563309, 3705881, 1363985, 1595978, 3779477]\n",
       "617101       4095941  [1563309, 3705881, 1363985, 1595978, 3779477]\n",
       "1025277      7529014  [1563309, 3705881, 1363985, 1595978, 3779477]\n",
       "534673       7541771  [1563309, 3705881, 1363985, 1595978, 3779477]\n",
       "718063      11098056  [1563309, 3705881, 1363985, 1595978, 3779477]\n",
       "1006427     10769232  [1563309, 3705881, 1363985, 1595978, 3779477]\n",
       "241755       7808573  [1563309, 3705881, 1363985, 1595978, 3779477]\n",
       "...              ...                                            ...\n",
       "634022      10170118  [1563309, 3705881, 1363985, 1595978, 3779477]\n",
       "916764       4071250  [1563309, 3705881, 1363985, 1595978, 3779477]\n",
       "103048       4293743  [1563309, 3705881, 1363985, 1595978, 3779477]\n",
       "621597       7542186  [1563309, 3705881, 1363985, 1595978, 3779477]\n",
       "914400       5539995  [1563309, 3705881, 1363985, 1595978, 3779477]\n",
       "943607       6025127  [1563309, 3705881, 1363985, 1595978, 3779477]\n",
       "582583      10058764  [1563309, 3705881, 1363985, 1595978, 3779477]\n",
       "114887       4522799  [1563309, 3705881, 1363985, 1595978, 3779477]\n",
       "988195       7740013  [1563309, 3705881, 1363985, 1595978, 3779477]\n",
       "154802       6788850  [1563309, 3705881, 1363985, 1595978, 3779477]\n",
       "939872      10759297  [1563309, 3705881, 1363985, 1595978, 3779477]\n",
       "212565       5771001  [1563309, 3705881, 1363985, 1595978, 3779477]\n",
       "659376       4120578  [1563309, 3705881, 1363985, 1595978, 3779477]\n",
       "885768       5183890  [1563309, 3705881, 1363985, 1595978, 3779477]\n",
       "559690      11386699  [1563309, 3705881, 1363985, 1595978, 3779477]\n",
       "870843       7146586  [1563309, 3705881, 1363985, 1595978, 3779477]\n",
       "441827       3665333  [1563309, 3705881, 1363985, 1595978, 3779477]\n",
       "579175       6856957  [1563309, 3705881, 1363985, 1595978, 3779477]\n",
       "77042       10590424  [1563309, 3705881, 1363985, 1595978, 3779477]\n",
       "219992      10466860  [1563309, 3705881, 1363985, 1595978, 3779477]\n",
       "728076       7645689  [1563309, 3705881, 1363985, 1595978, 3779477]\n",
       "987002      10550071  [1563309, 3705881, 1363985, 1595978, 3779477]\n",
       "651210       8938599  [1563309, 3705881, 1363985, 1595978, 3779477]\n",
       "369455       3792636  [1563309, 3705881, 1363985, 1595978, 3779477]\n",
       "22022        6639482  [1563309, 3705881, 1363985, 1595978, 3779477]\n",
       "989133       6031041  [1563309, 3705881, 1363985, 1595978, 3779477]\n",
       "132075       8970095  [1563309, 3705881, 1363985, 1595978, 3779477]\n",
       "353879      10924089  [1563309, 3705881, 1363985, 1595978, 3779477]\n",
       "901562       6091687  [1563309, 3705881, 1363985, 1595978, 3779477]\n",
       "479109       8560405  [1563309, 3705881, 1363985, 1595978, 3779477]\n",
       "\n",
       "[35285 rows x 2 columns]"
      ]
     },
     "execution_count": 92,
     "metadata": {},
     "output_type": "execute_result"
    }
   ],
   "source": [
    "recommendations"
   ]
  },
  {
   "cell_type": "code",
   "execution_count": 93,
   "metadata": {
    "collapsed": false
   },
   "outputs": [
    {
     "name": "stdout",
     "output_type": "stream",
     "text": [
      "6911566\n",
      "[1563309, 3705881, 1363985, 1595978, 3779477]\n",
      "11061424\n",
      "[1563309, 3705881, 1363985, 1595978, 3779477]\n",
      "4933403\n",
      "[1563309, 3705881, 1363985, 1595978, 3779477]\n",
      "10804506\n",
      "[1563309, 3705881, 1363985, 1595978, 3779477]\n",
      "11288476\n",
      "[1563309, 3705881, 1363985, 1595978, 3779477]\n"
     ]
    }
   ],
   "source": [
    "for it, row in recommendations.head().iterrows():\n",
    "    print(row['playlist_id'])\n",
    "    print(row['recommendations'])"
   ]
  },
  {
   "cell_type": "code",
   "execution_count": 94,
   "metadata": {
    "collapsed": false
   },
   "outputs": [
    {
     "data": {
      "text/plain": [
       "0.0011078361910160127"
      ]
     },
     "execution_count": 94,
     "metadata": {},
     "output_type": "execute_result"
    }
   ],
   "source": [
    "utility.evaluate(test, recommendations)"
   ]
  }
 ],
 "metadata": {
  "kernelspec": {
   "display_name": "Python 3",
   "language": "python",
   "name": "python3"
  },
  "language_info": {
   "codemirror_mode": {
    "name": "ipython",
    "version": 3
   },
   "file_extension": ".py",
   "mimetype": "text/x-python",
   "name": "python",
   "nbconvert_exporter": "python",
   "pygments_lexer": "ipython3",
   "version": "3.6.0"
  }
 },
 "nbformat": 4,
 "nbformat_minor": 2
}
